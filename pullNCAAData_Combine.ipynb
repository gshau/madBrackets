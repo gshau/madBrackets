{
 "cells": [
  {
   "cell_type": "markdown",
   "metadata": {},
   "source": [
    "# Combine Sports Reference and Kenpom data into one dataframe"
   ]
  },
  {
   "cell_type": "code",
   "execution_count": 5,
   "metadata": {
    "ExecuteTime": {
     "end_time": "2018-01-17T20:51:32.666647Z",
     "start_time": "2018-01-17T20:51:32.638314Z"
    },
    "collapsed": true
   },
   "outputs": [],
   "source": [
    "import numpy as np\n",
    "import pandas as pd\n",
    "import requests\n",
    "from bs4 import BeautifulSoup\n",
    "from sklearn.preprocessing import MinMaxScaler\n",
    "from sklearn.model_selection import train_test_split\n",
    "from sklearn.ensemble import RandomForestClassifier\n",
    "from sklearn.linear_model import LogisticRegression\n",
    "from sklearn.svm import SVC\n",
    "import warnings\n",
    "warnings.filterwarnings('ignore')\n",
    "\n",
    "# head_names = ['School', 'W-L%', 'SRS', 'SOS', 'TmPts', 'OppPts', \n",
    "#               'Pace', 'ORtg', 'FTr', '3PAr', 'TS%', 'TRB%', 'AST%', \n",
    "#               'STL%', 'BLK%', 'eFG%', 'TOV%', 'ORB%', 'FT/FGA']\n",
    "\n",
    "kpHeadNames=['Rank','School','Conf','WL','AdjEM','AdjO','AdjD','AdjT','Luck','AdjEM','OppO','OppD','NCSOS_AdjEM','junk']\n",
    "\n",
    "def num(s):\n",
    "    try:\n",
    "        return int(s)\n",
    "    except ValueError:\n",
    "        return float(s)\n",
    "\n",
    "\n",
    "years = ['2017', '2016', '2015', '2014', '2013', '2012', '2011', '2010']\n"
   ]
  },
  {
   "cell_type": "code",
   "execution_count": 58,
   "metadata": {
    "ExecuteTime": {
     "end_time": "2018-01-17T22:24:03.457270Z",
     "start_time": "2018-01-17T22:24:03.442093Z"
    }
   },
   "outputs": [],
   "source": [
    "kpData=pd.read_csv('data/kp/kp-2003.csv',names=kpHeadNames).drop('junk',axis=1)\n",
    "teamNamesKP=kpData.School.values\n",
    "\n",
    "newTeamList=[]\n",
    "for t in teamNamesKP:\n",
    "    newTeamList.append(t.lower().replace(\" \",\"-\").replace(\"st.\",\"state\"))\n",
    "teamNamesKP=newTeamList\n",
    "\n",
    "kpKeys=kpData.keys()\n",
    "# kpKeys"
   ]
  },
  {
   "cell_type": "code",
   "execution_count": 59,
   "metadata": {
    "ExecuteTime": {
     "end_time": "2018-01-17T22:24:03.675554Z",
     "start_time": "2018-01-17T22:24:03.666444Z"
    },
    "collapsed": true
   },
   "outputs": [],
   "source": [
    "srData=pd.read_csv('data/team/team_stats_2017.csv')\n",
    "teamNamesBR=srData.School"
   ]
  },
  {
   "cell_type": "markdown",
   "metadata": {},
   "source": [
    "Matchup all names for consistency"
   ]
  },
  {
   "cell_type": "code",
   "execution_count": 60,
   "metadata": {
    "ExecuteTime": {
     "end_time": "2018-01-17T22:24:04.099836Z",
     "start_time": "2018-01-17T22:24:04.094047Z"
    }
   },
   "outputs": [
    {
     "name": "stdout",
     "output_type": "stream",
     "text": [
      "351\n",
      "327\n"
     ]
    }
   ],
   "source": [
    "print(len(teamNamesBR))\n",
    "print(len(teamNamesKP))"
   ]
  },
  {
   "cell_type": "code",
   "execution_count": 61,
   "metadata": {
    "ExecuteTime": {
     "end_time": "2018-01-17T22:24:04.324025Z",
     "start_time": "2018-01-17T22:24:04.297545Z"
    }
   },
   "outputs": [
    {
     "data": {
      "text/plain": [
       "48"
      ]
     },
     "execution_count": 61,
     "metadata": {},
     "output_type": "execute_result"
    }
   ],
   "source": [
    "teamNameMismatch=[]\n",
    "for teamName in teamNamesKP:\n",
    "    if teamName not in set(list(teamNamesBR)):\n",
    "        teamNameMismatch.append(teamName)\n",
    "len(teamNameMismatch)"
   ]
  },
  {
   "cell_type": "code",
   "execution_count": 89,
   "metadata": {
    "ExecuteTime": {
     "end_time": "2018-01-17T22:28:09.381944Z",
     "start_time": "2018-01-17T22:28:09.324502Z"
    },
    "collapsed": true
   },
   "outputs": [],
   "source": [
    "teamNameConversionKP2BR={\n",
    "'smu': 'southern-methodist',\n",
    " \"saint-mary's\": \"saint-mary's-(ca)\",\n",
    " 'tcu': 'texas-christian',\n",
    " 'miami-fl': 'miami-(fl)',\n",
    " 'vcu': 'virginia-commonwealth',\n",
    " 'usc': 'southern-california',\n",
    " 'unc-wilmington': 'north-carolina-wilmington',\n",
    " 'california': 'university-of-california',\n",
    " 'ucf': 'central-florida',\n",
    " 'ut-arlington': 'texas-arlington',\n",
    " 'byu': 'brigham-young',\n",
    " 'state-bonaventure': 'st.-bonaventure',\n",
    " 'loyola-chicago': 'loyola-(il)',\n",
    " \"state-john's\": \"st.-john's-(ny)\",\n",
    " 'unc-asheville': 'north-carolina-asheville',\n",
    " 'unc-greensboro': 'north-carolina-greensboro',\n",
    " 'albany': 'albany-(ny)',\n",
    " 'fort-wayne': 'ipfw',\n",
    " 'penn': 'pennsylvania',\n",
    " 'lsu': 'louisiana-state',\n",
    " 'texas-a&m-corpus-chris': 'texas-a&m-corpus-christi',\n",
    " 'uab': 'alabama-birmingham',\n",
    " 'utep': 'texas-el-paso',\n",
    " 'umbc': 'maryland-baltimore-county',\n",
    " \"mount-state-mary's\": \"mount-st.-mary's\",\n",
    " 'umkc': 'missouri-kansas-city',\n",
    " 'loyola-md': 'loyola-(md)',\n",
    " 'usc-upstate': 'south-carolina-upstate',\n",
    " 'little-rock': 'arkansas-little-rock',\n",
    " 'unlv': 'nevada-las-vegas',\n",
    " 'bowling-green': 'bowling-green-state',\n",
    " 'utsa': 'texas-san-antonio',\n",
    " 'liu-brooklyn': 'long-island-university',\n",
    " 'state-francis-pa': 'saint-francis-(pa)',\n",
    " 'fiu': 'florida-international',\n",
    " 'miami-oh': 'miami-(oh)',\n",
    " 'the-citadel': 'citadel',\n",
    " 'umass-lowell': 'massachusetts-lowell',\n",
    " 'ut-rio-grande-valley': 'texas-rio-grande-valley',\n",
    " 'detroit': 'detroit-mercy',\n",
    " 'prairie-view-a&m': 'prairie-view',\n",
    " 'southern-miss': 'southern-mississippi',\n",
    " 'grambling-state': 'grambling',\n",
    " 'central-connecticut': 'central-connecticut-state',\n",
    " 'state-francis-ny': 'st.-francis-(ny)',\n",
    " 'troy-state': 'troy',\n",
    "#  'southwest-missouri-state',\n",
    " 'middle-tennessee-state': 'middle-tennessee',\n",
    " 'southwest-texas-state': 'texas-state',\n",
    " 'birmingham-southern': 'alabama-birmingham',\n",
    " 'centenary': 'centenary-(la)',\n",
    "#  'texas-pan-american',\n",
    "#  'morris-brown'\n",
    "}"
   ]
  },
  {
   "cell_type": "code",
   "execution_count": 90,
   "metadata": {
    "ExecuteTime": {
     "end_time": "2018-01-17T22:28:10.053716Z",
     "start_time": "2018-01-17T22:28:10.043534Z"
    }
   },
   "outputs": [
    {
     "data": {
      "text/plain": [
       "327"
      ]
     },
     "execution_count": 90,
     "metadata": {},
     "output_type": "execute_result"
    }
   ],
   "source": [
    "teamNamesKPConverted=[]\n",
    "for teamName in teamNamesKP:\n",
    "    if teamName in teamNameConversionKP2BR.keys():\n",
    "        teamNamesKPConverted.append(teamNameConversionKP2BR[teamName])\n",
    "    else:\n",
    "        teamNamesKPConverted.append(teamName)\n",
    "len(teamNamesKPConverted)"
   ]
  },
  {
   "cell_type": "markdown",
   "metadata": {},
   "source": [
    "Remaining number of mismatches"
   ]
  },
  {
   "cell_type": "code",
   "execution_count": 91,
   "metadata": {
    "ExecuteTime": {
     "end_time": "2018-01-17T22:28:10.477827Z",
     "start_time": "2018-01-17T22:28:10.450077Z"
    }
   },
   "outputs": [
    {
     "data": {
      "text/plain": [
       "4"
      ]
     },
     "execution_count": 91,
     "metadata": {},
     "output_type": "execute_result"
    }
   ],
   "source": [
    "teamNameMismatch=[]\n",
    "for teamName in teamNamesKPConverted:\n",
    "    if teamName not in set(list(teamNamesBR)):\n",
    "        teamNameMismatch.append(teamName)\n",
    "len(teamNameMismatch)"
   ]
  },
  {
   "cell_type": "code",
   "execution_count": 92,
   "metadata": {
    "ExecuteTime": {
     "end_time": "2018-01-17T22:28:10.835412Z",
     "start_time": "2018-01-17T22:28:10.830386Z"
    }
   },
   "outputs": [
    {
     "data": {
      "text/plain": [
       "['southwest-missouri-state',\n",
       " 'centenary-(la)',\n",
       " 'texas-pan-american',\n",
       " 'morris-brown']"
      ]
     },
     "execution_count": 92,
     "metadata": {},
     "output_type": "execute_result"
    }
   ],
   "source": [
    "\n",
    "teamNameMismatch"
   ]
  },
  {
   "cell_type": "code",
   "execution_count": 93,
   "metadata": {
    "ExecuteTime": {
     "end_time": "2018-01-17T22:28:11.105395Z",
     "start_time": "2018-01-17T22:28:11.100136Z"
    },
    "collapsed": true
   },
   "outputs": [],
   "source": [
    "tquery='california-davis'\n",
    "for teamName in teamNamesBR:\n",
    "    if tquery in teamName:\n",
    "        print(tquery, ' is in')\n",
    "        "
   ]
  },
  {
   "cell_type": "markdown",
   "metadata": {},
   "source": [
    "# Combine dataframes"
   ]
  },
  {
   "cell_type": "code",
   "execution_count": 94,
   "metadata": {
    "ExecuteTime": {
     "end_time": "2018-01-17T22:28:11.985949Z",
     "start_time": "2018-01-17T22:28:11.978136Z"
    },
    "collapsed": true
   },
   "outputs": [],
   "source": [
    "%matplotlib inline\n",
    "import matplotlib\n",
    "import matplotlib.pyplot as plt\n"
   ]
  },
  {
   "cell_type": "code",
   "execution_count": 98,
   "metadata": {
    "ExecuteTime": {
     "end_time": "2018-01-17T22:38:01.106777Z",
     "start_time": "2018-01-17T22:38:00.178286Z"
    },
    "scrolled": false
   },
   "outputs": [
    {
     "name": "stdout",
     "output_type": "stream",
     "text": [
      "2017\n",
      "2016\n",
      "2015\n",
      "2014\n",
      "2013\n",
      "2012\n",
      "2011\n",
      "2010\n",
      "2009\n",
      "2008\n",
      "2007\n",
      "2006\n",
      "2005\n",
      "2004\n",
      "2003\n",
      "2002\n",
      "2001\n",
      "2000\n",
      "1999\n",
      "1998\n",
      "1997\n",
      "1996\n",
      "1995\n",
      "1994\n",
      "1993\n"
     ]
    }
   ],
   "source": [
    "for yr in np.arange(2017,1992,-1):\n",
    "    # pull kenpom data\n",
    "    print(yr)\n",
    "    try:\n",
    "        kpData=pd.read_csv('data/kp/kp-'+str(yr)+'.csv',names=kpHeadNames).drop('junk',axis=1)\n",
    "    except:\n",
    "        for key in kpKeys:\n",
    "            try:\n",
    "                kpData[key]=kpData[key]*np.nan\n",
    "            except:\n",
    "                pass\n",
    "    teamNamesKP=kpData.School.values\n",
    "\n",
    "    #basic formatting of school names\n",
    "    newTeamList=[]\n",
    "    for t in teamNamesKP:\n",
    "        newTeamList.append(t.lower().replace(\" \",\"-\").replace(\"st.\",\"state\"))\n",
    "    teamNamesKP=newTeamList\n",
    "\n",
    "    # convert remaining names\n",
    "    teamNamesKPConverted=[]\n",
    "    for teamName in teamNamesKP:\n",
    "        if teamName in teamNameConversionKP2BR.keys():\n",
    "            teamNamesKPConverted.append(teamNameConversionKP2BR[teamName])\n",
    "        else:\n",
    "            teamNamesKPConverted.append(teamName)\n",
    "\n",
    "    kpData.School=teamNamesKPConverted\n",
    "    \n",
    "\n",
    "    srData=pd.read_csv('data/team/team_stats_'+str(yr)+'.csv')\n",
    "    teamNamesBR=srData.School\n",
    "\n",
    "    if yr <= 2003:\n",
    "        allData = srData\n",
    "        for key in kpKeys:\n",
    "            allData[key]=''\n",
    "    else:\n",
    "    \n",
    "        allData=srData.merge(kpData,how='inner',on='School')\n",
    "        allData=allData.rename(columns={'W%': 'wpct'})\n",
    "    \n",
    "    allData.to_csv(\"data/combined_team_stats_\" + str(yr) + \".csv\")\n",
    "    \n",
    "    \n",
    "    \n",
    "#     break\n",
    "    # allData.sort_values(by='W-L%',ascending=False)\n",
    "#     wpct=[]\n",
    "#     for r in allData.itertuples():\n",
    "#         w,l = r.WL.split('-')\n",
    "#         wpct.append(float(w)/(float(w)+float(l)))\n",
    "#     allData['wpct2']=wpct\n",
    "#     #     print()\n",
    "#     plt.figure()\n",
    "#     plt.title(yr)\n",
    "#     allData[['wpct','wpct2']]\n",
    "#     plt.hist((allData['wpct']-allData['wpct2']));"
   ]
  },
  {
   "cell_type": "code",
   "execution_count": null,
   "metadata": {
    "collapsed": true
   },
   "outputs": [],
   "source": []
  }
 ],
 "metadata": {
  "kernelspec": {
   "display_name": "Python 3",
   "language": "python",
   "name": "python3"
  },
  "language_info": {
   "codemirror_mode": {
    "name": "ipython",
    "version": 3
   },
   "file_extension": ".py",
   "mimetype": "text/x-python",
   "name": "python",
   "nbconvert_exporter": "python",
   "pygments_lexer": "ipython3",
   "version": "3.6.3"
  },
  "toc": {
   "nav_menu": {},
   "number_sections": true,
   "sideBar": true,
   "skip_h1_title": false,
   "toc_cell": false,
   "toc_position": {},
   "toc_section_display": "block",
   "toc_window_display": false
  }
 },
 "nbformat": 4,
 "nbformat_minor": 2
}
