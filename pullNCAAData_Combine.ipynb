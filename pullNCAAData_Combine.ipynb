{
 "cells": [
  {
   "cell_type": "markdown",
   "metadata": {},
   "source": [
    "# Combine Sports Reference and Kenpom data into one dataframe"
   ]
  },
  {
   "cell_type": "code",
   "execution_count": 8,
   "metadata": {
    "ExecuteTime": {
     "end_time": "2018-01-17T18:52:57.515340Z",
     "start_time": "2018-01-17T18:52:57.486836Z"
    },
    "collapsed": true
   },
   "outputs": [],
   "source": [
    "import numpy as np\n",
    "import pandas as pd\n",
    "import requests\n",
    "from bs4 import BeautifulSoup\n",
    "from sklearn.preprocessing import MinMaxScaler\n",
    "from sklearn.model_selection import train_test_split\n",
    "from sklearn.ensemble import RandomForestClassifier\n",
    "from sklearn.linear_model import LogisticRegression\n",
    "from sklearn.svm import SVC\n",
    "import warnings\n",
    "warnings.filterwarnings('ignore')\n",
    "\n",
    "# head_names = ['School', 'W-L%', 'SRS', 'SOS', 'TmPts', 'OppPts', \n",
    "#               'Pace', 'ORtg', 'FTr', '3PAr', 'TS%', 'TRB%', 'AST%', \n",
    "#               'STL%', 'BLK%', 'eFG%', 'TOV%', 'ORB%', 'FT/FGA']\n",
    "\n",
    "kpHeadNames=['Rank','School','Conf','WL','AdjEM','AdjO','AdjD','AdjT','Luck','AdjEM','OppO','OppD','NCSOS_AdjEM','junk']\n",
    "\n",
    "def num(s):\n",
    "    try:\n",
    "        return int(s)\n",
    "    except ValueError:\n",
    "        return float(s)\n",
    "\n",
    "\n",
    "years = ['2017', '2016', '2015', '2014', '2013', '2012', '2011', '2010']\n"
   ]
  },
  {
   "cell_type": "code",
   "execution_count": 9,
   "metadata": {
    "ExecuteTime": {
     "end_time": "2018-01-17T18:52:59.297958Z",
     "start_time": "2018-01-17T18:52:59.284592Z"
    },
    "collapsed": true
   },
   "outputs": [],
   "source": [
    "kpData=pd.read_csv('data/kp/kp-2017.csv',names=kpHeadNames).drop('junk',axis=1)\n",
    "teamNamesKP=kpData.School.values\n",
    "\n",
    "newTeamList=[]\n",
    "for t in teamNamesKP:\n",
    "    newTeamList.append(t.lower().replace(\" \",\"-\").replace(\"st.\",\"state\"))\n",
    "teamNamesKP=newTeamList"
   ]
  },
  {
   "cell_type": "code",
   "execution_count": 10,
   "metadata": {
    "ExecuteTime": {
     "end_time": "2018-01-17T18:53:00.281858Z",
     "start_time": "2018-01-17T18:53:00.275084Z"
    }
   },
   "outputs": [
    {
     "data": {
      "text/plain": [
       "array(['abilene-christian', 'air-force', 'akron', 'alabama-a&m',\n",
       "       'alabama-birmingham', 'alabama-state', 'alabama', 'albany-(ny)',\n",
       "       'alcorn-state', 'american', 'appalachian-state', 'arizona-state',\n",
       "       'arizona', 'arkansas-little-rock', 'arkansas-pine-bluff',\n",
       "       'arkansas-state', 'arkansas', 'army', 'auburn', 'austin-peay',\n",
       "       'ball-state', 'baylor', 'belmont', 'bethune-cookman', 'binghamton',\n",
       "       'boise-state', 'boston-college', 'boston-university',\n",
       "       'bowling-green-state', 'bradley', 'brigham-young', 'brown',\n",
       "       'bryant', 'bucknell', 'buffalo', 'butler', 'cal-poly',\n",
       "       'cal-state-bakersfield', 'cal-state-fullerton',\n",
       "       'cal-state-northridge', 'uc-davis', 'uc-irvine', 'uc-riverside',\n",
       "       'uc-santa-barbara', 'university-of-california', 'campbell',\n",
       "       'canisius', 'central-arkansas', 'central-connecticut-state',\n",
       "       'central-florida', 'central-michigan', 'charleston-southern',\n",
       "       'charlotte', 'chattanooga', 'chicago-state', 'cincinnati',\n",
       "       'citadel', 'clemson', 'cleveland-state', 'coastal-carolina',\n",
       "       'colgate', 'college-of-charleston', 'colorado-state', 'colorado',\n",
       "       'columbia', 'connecticut', 'coppin-state', 'cornell', 'creighton',\n",
       "       'dartmouth', 'davidson', 'dayton', 'delaware-state', 'delaware',\n",
       "       'denver', 'depaul', 'detroit-mercy', 'drake', 'drexel', 'duke',\n",
       "       'duquesne', 'east-carolina', 'east-tennessee-state',\n",
       "       'eastern-illinois', 'eastern-kentucky', 'eastern-michigan',\n",
       "       'eastern-washington', 'elon', 'evansville', 'fairfield',\n",
       "       'fairleigh-dickinson', 'florida-a&m', 'florida-atlantic',\n",
       "       'florida-gulf-coast', 'florida-international', 'florida-state',\n",
       "       'florida', 'fordham', 'fresno-state', 'furman', 'gardner-webb',\n",
       "       'george-mason', 'george-washington', 'georgetown',\n",
       "       'georgia-southern', 'georgia-state', 'georgia-tech', 'georgia',\n",
       "       'gonzaga', 'grambling', 'grand-canyon', 'green-bay', 'hampton',\n",
       "       'hartford', 'harvard', 'hawaii', 'high-point', 'hofstra',\n",
       "       'holy-cross', 'houston-baptist', 'houston', 'howard', 'idaho-state',\n",
       "       'idaho', 'illinois-chicago', 'illinois-state', 'illinois',\n",
       "       'incarnate-word', 'indiana-state', 'indiana', 'iona', 'iowa-state',\n",
       "       'iowa', 'ipfw', 'iupui', 'jackson-state', 'jacksonville-state',\n",
       "       'jacksonville', 'james-madison', 'kansas-state', 'kansas',\n",
       "       'kennesaw-state', 'kent-state', 'kentucky', 'la-salle', 'lafayette',\n",
       "       'lamar', 'lehigh', 'liberty', 'lipscomb', 'long-beach-state',\n",
       "       'long-island-university', 'longwood', 'louisiana-lafayette',\n",
       "       'louisiana-monroe', 'louisiana-state', 'louisiana-tech',\n",
       "       'louisville', 'loyola-(il)', 'loyola-marymount', 'loyola-(md)',\n",
       "       'maine', 'manhattan', 'marist', 'marquette', 'marshall',\n",
       "       'maryland-baltimore-county', 'maryland-eastern-shore', 'maryland',\n",
       "       'massachusetts-lowell', 'massachusetts', 'mcneese-state', 'memphis',\n",
       "       'mercer', 'miami-(fl)', 'miami-(oh)', 'michigan-state', 'michigan',\n",
       "       'middle-tennessee', 'milwaukee', 'minnesota', 'mississippi-state',\n",
       "       'mississippi-valley-state', 'mississippi', 'missouri-kansas-city',\n",
       "       'missouri-state', 'missouri', 'monmouth', 'montana-state',\n",
       "       'montana', 'morehead-state', 'morgan-state', \"mount-st.-mary's\",\n",
       "       'murray-state', 'navy', 'nebraska-omaha', 'nebraska',\n",
       "       'nevada-las-vegas', 'nevada', 'new-hampshire', 'new-mexico-state',\n",
       "       'new-mexico', 'new-orleans', 'niagara', 'nicholls-state', 'njit',\n",
       "       'norfolk-state', 'north-carolina-asheville', 'north-carolina-a&t',\n",
       "       'north-carolina-central', 'north-carolina-greensboro',\n",
       "       'north-carolina-state', 'north-carolina-wilmington',\n",
       "       'north-carolina', 'north-dakota-state', 'north-dakota',\n",
       "       'north-florida', 'north-texas', 'northeastern', 'northern-arizona',\n",
       "       'northern-colorado', 'northern-illinois', 'northern-iowa',\n",
       "       'northern-kentucky', 'northwestern-state', 'northwestern',\n",
       "       'notre-dame', 'oakland', 'ohio-state', 'ohio', 'oklahoma-state',\n",
       "       'oklahoma', 'old-dominion', 'oral-roberts', 'oregon-state',\n",
       "       'oregon', 'pacific', 'penn-state', 'pennsylvania', 'pepperdine',\n",
       "       'pittsburgh', 'portland-state', 'portland', 'prairie-view',\n",
       "       'presbyterian', 'princeton', 'providence', 'purdue', 'quinnipiac',\n",
       "       'radford', 'rhode-island', 'rice', 'richmond', 'rider',\n",
       "       'robert-morris', 'rutgers', 'sacramento-state', 'sacred-heart',\n",
       "       'saint-francis-(pa)', \"saint-joseph's\", 'saint-louis',\n",
       "       \"saint-mary's-(ca)\", \"saint-peter's\", 'sam-houston-state',\n",
       "       'samford', 'san-diego-state', 'san-diego', 'san-francisco',\n",
       "       'san-jose-state', 'santa-clara', 'savannah-state', 'seattle',\n",
       "       'seton-hall', 'siena', 'south-alabama', 'south-carolina-state',\n",
       "       'south-carolina-upstate', 'south-carolina', 'south-dakota-state',\n",
       "       'south-dakota', 'south-florida', 'southeast-missouri-state',\n",
       "       'southeastern-louisiana', 'southern-california', 'siu-edwardsville',\n",
       "       'southern-illinois', 'southern-methodist', 'southern-mississippi',\n",
       "       'southern-utah', 'southern', 'st.-bonaventure', 'st.-francis-(ny)',\n",
       "       \"st.-john's-(ny)\", 'stanford', 'stephen-f.-austin', 'stetson',\n",
       "       'stony-brook', 'syracuse', 'temple', 'tennessee-martin',\n",
       "       'tennessee-state', 'tennessee-tech', 'tennessee',\n",
       "       'texas-a&m-corpus-christi', 'texas-a&m', 'texas-arlington',\n",
       "       'texas-christian', 'texas-el-paso', 'texas-rio-grande-valley',\n",
       "       'texas-san-antonio', 'texas-southern', 'texas-state', 'texas-tech',\n",
       "       'texas', 'toledo', 'towson', 'troy', 'tulane', 'tulsa', 'ucla',\n",
       "       'utah-state', 'utah-valley', 'utah', 'valparaiso', 'vanderbilt',\n",
       "       'vermont', 'villanova', 'virginia-commonwealth', 'vmi',\n",
       "       'virginia-tech', 'virginia', 'wagner', 'wake-forest',\n",
       "       'washington-state', 'washington', 'weber-state', 'west-virginia',\n",
       "       'western-carolina', 'western-illinois', 'western-kentucky',\n",
       "       'western-michigan', 'wichita-state', 'william-&-mary', 'winthrop',\n",
       "       'wisconsin', 'wofford', 'wright-state', 'wyoming', 'xavier', 'yale',\n",
       "       'youngstown-state'], dtype=object)"
      ]
     },
     "execution_count": 10,
     "metadata": {},
     "output_type": "execute_result"
    }
   ],
   "source": [
    "srData.School.values"
   ]
  },
  {
   "cell_type": "code",
   "execution_count": 11,
   "metadata": {
    "ExecuteTime": {
     "end_time": "2018-01-17T18:53:01.408036Z",
     "start_time": "2018-01-17T18:53:01.398769Z"
    },
    "collapsed": true
   },
   "outputs": [],
   "source": [
    "srData=pd.read_csv('data/team/team_stats_2017.csv')\n",
    "teamNamesBR=srData.School"
   ]
  },
  {
   "cell_type": "markdown",
   "metadata": {},
   "source": [
    "Matchup all names for consistency"
   ]
  },
  {
   "cell_type": "code",
   "execution_count": 12,
   "metadata": {
    "ExecuteTime": {
     "end_time": "2018-01-17T18:53:02.462685Z",
     "start_time": "2018-01-17T18:53:02.456572Z"
    }
   },
   "outputs": [
    {
     "name": "stdout",
     "output_type": "stream",
     "text": [
      "351\n",
      "351\n"
     ]
    }
   ],
   "source": [
    "print(len(teamNamesBR))\n",
    "print(len(teamNamesKP))"
   ]
  },
  {
   "cell_type": "code",
   "execution_count": 13,
   "metadata": {
    "ExecuteTime": {
     "end_time": "2018-01-17T18:53:02.850749Z",
     "start_time": "2018-01-17T18:53:02.817750Z"
    }
   },
   "outputs": [
    {
     "data": {
      "text/plain": [
       "45"
      ]
     },
     "execution_count": 13,
     "metadata": {},
     "output_type": "execute_result"
    }
   ],
   "source": [
    "teamNameMismatch=[]\n",
    "for teamName in teamNamesKP:\n",
    "    if teamName not in set(list(teamNamesBR)):\n",
    "        teamNameMismatch.append(teamName)\n",
    "len(teamNameMismatch)"
   ]
  },
  {
   "cell_type": "code",
   "execution_count": 14,
   "metadata": {
    "ExecuteTime": {
     "end_time": "2018-01-17T18:53:03.366710Z",
     "start_time": "2018-01-17T18:53:03.356642Z"
    }
   },
   "outputs": [
    {
     "data": {
      "text/plain": [
       "['gonzaga',\n",
       " 'villanova',\n",
       " 'north-carolina',\n",
       " 'kentucky',\n",
       " 'florida',\n",
       " 'kansas',\n",
       " 'west-virginia',\n",
       " 'wichita-state',\n",
       " 'louisville',\n",
       " 'oregon',\n",
       " 'smu',\n",
       " 'virginia',\n",
       " 'baylor',\n",
       " 'duke',\n",
       " \"saint-mary's\",\n",
       " 'ucla',\n",
       " 'iowa-state',\n",
       " 'arizona',\n",
       " 'purdue',\n",
       " 'michigan',\n",
       " 'wisconsin',\n",
       " 'oklahoma-state',\n",
       " 'cincinnati',\n",
       " 'south-carolina',\n",
       " 'butler',\n",
       " 'florida-state',\n",
       " 'notre-dame',\n",
       " 'creighton',\n",
       " 'tcu',\n",
       " 'kansas-state',\n",
       " 'xavier',\n",
       " 'marquette',\n",
       " 'vanderbilt',\n",
       " 'rhode-island',\n",
       " 'arkansas',\n",
       " 'wake-forest',\n",
       " 'minnesota',\n",
       " 'northwestern',\n",
       " 'dayton',\n",
       " 'michigan-state',\n",
       " 'texas-tech',\n",
       " 'miami-fl',\n",
       " 'middle-tennessee',\n",
       " 'indiana',\n",
       " 'clemson',\n",
       " 'maryland',\n",
       " 'utah',\n",
       " 'vcu',\n",
       " 'illinois-state',\n",
       " 'virginia-tech',\n",
       " 'seton-hall',\n",
       " 'houston',\n",
       " 'usc',\n",
       " 'nevada',\n",
       " 'syracuse',\n",
       " 'alabama',\n",
       " 'tennessee',\n",
       " 'princeton',\n",
       " 'unc-wilmington',\n",
       " 'providence',\n",
       " 'georgia',\n",
       " 'california',\n",
       " 'vermont',\n",
       " 'texas-a&m',\n",
       " 'oklahoma',\n",
       " 'illinois',\n",
       " 'east-tennessee-state',\n",
       " 'ucf',\n",
       " 'georgetown',\n",
       " 'texas',\n",
       " 'iowa',\n",
       " 'colorado',\n",
       " 'ohio-state',\n",
       " 'mississippi',\n",
       " 'ut-arlington',\n",
       " 'bucknell',\n",
       " 'georgia-tech',\n",
       " 'san-diego-state',\n",
       " 'pittsburgh',\n",
       " 'byu',\n",
       " 'monmouth',\n",
       " 'auburn',\n",
       " 'belmont',\n",
       " 'new-mexico-state',\n",
       " 'davidson',\n",
       " 'colorado-state',\n",
       " 'penn-state',\n",
       " 'mississippi-state',\n",
       " 'college-of-charleston',\n",
       " 'cal-state-bakersfield',\n",
       " 'state-bonaventure',\n",
       " 'richmond',\n",
       " 'louisiana-tech',\n",
       " 'boise-state',\n",
       " \"saint-peter's\",\n",
       " 'connecticut',\n",
       " 'loyola-chicago',\n",
       " 'fresno-state',\n",
       " \"state-john's\",\n",
       " 'akron',\n",
       " 'memphis',\n",
       " 'stanford',\n",
       " 'oakland',\n",
       " 'valparaiso',\n",
       " 'ohio',\n",
       " 'furman',\n",
       " 'nebraska',\n",
       " 'florida-gulf-coast',\n",
       " 'north-carolina-state',\n",
       " 'unc-asheville',\n",
       " 'san-francisco',\n",
       " 'harvard',\n",
       " 'winthrop',\n",
       " 'chattanooga',\n",
       " 'lehigh',\n",
       " 'towson',\n",
       " 'iona',\n",
       " 'temple',\n",
       " 'new-mexico',\n",
       " 'old-dominion',\n",
       " 'unc-greensboro',\n",
       " 'buffalo',\n",
       " 'george-mason',\n",
       " 'arkansas-state',\n",
       " 'santa-clara',\n",
       " 'arizona-state',\n",
       " 'wyoming',\n",
       " 'toledo',\n",
       " 'albany',\n",
       " 'utah-state',\n",
       " 'georgia-state',\n",
       " 'george-washington',\n",
       " 'william-&-mary',\n",
       " 'missouri-state',\n",
       " 'rutgers',\n",
       " 'elon',\n",
       " 'troy',\n",
       " 'northern-kentucky',\n",
       " 'uc-irvine',\n",
       " 'la-salle',\n",
       " 'kent-state',\n",
       " 'wofford',\n",
       " 'south-dakota',\n",
       " 'tulsa',\n",
       " 'mercer',\n",
       " 'louisiana-lafayette',\n",
       " 'utah-valley',\n",
       " 'eastern-michigan',\n",
       " 'marshall',\n",
       " 'southern-illinois',\n",
       " 'yale',\n",
       " 'grand-canyon',\n",
       " 'fort-wayne',\n",
       " 'evansville',\n",
       " 'rice',\n",
       " 'missouri',\n",
       " 'jacksonville-state',\n",
       " 'massachusetts',\n",
       " 'northeastern',\n",
       " 'tennessee-state',\n",
       " 'north-carolina-central',\n",
       " 'western-michigan',\n",
       " 'washington',\n",
       " 'wright-state',\n",
       " 'lipscomb',\n",
       " 'samford',\n",
       " 'north-dakota-state',\n",
       " 'north-dakota',\n",
       " 'northern-iowa',\n",
       " 'siena',\n",
       " 'penn',\n",
       " 'lsu',\n",
       " 'boston-college',\n",
       " 'texas-state',\n",
       " 'loyola-marymount',\n",
       " 'nebraska-omaha',\n",
       " 'texas-a&m-corpus-chris',\n",
       " 'new-orleans',\n",
       " 'weber-state',\n",
       " 'ball-state',\n",
       " 'gardner-webb',\n",
       " 'new-hampshire',\n",
       " 'depaul',\n",
       " \"saint-joseph's\",\n",
       " 'south-dakota-state',\n",
       " 'eastern-washington',\n",
       " 'canisius',\n",
       " 'hofstra',\n",
       " 'denver',\n",
       " 'green-bay',\n",
       " 'east-carolina',\n",
       " 'boston-university',\n",
       " 'washington-state',\n",
       " 'montana',\n",
       " 'georgia-southern',\n",
       " 'uab',\n",
       " 'murray-state',\n",
       " 'iupui',\n",
       " 'indiana-state',\n",
       " 'utep',\n",
       " 'umbc',\n",
       " 'fordham',\n",
       " 'morehead-state',\n",
       " 'fairfield',\n",
       " 'northern-illinois',\n",
       " 'navy',\n",
       " 'coastal-carolina',\n",
       " 'rider',\n",
       " \"mount-state-mary's\",\n",
       " 'tennessee-martin',\n",
       " 'liberty',\n",
       " 'texas-southern',\n",
       " 'stony-brook',\n",
       " 'san-jose-state',\n",
       " 'holy-cross',\n",
       " 'idaho',\n",
       " 'bradley',\n",
       " 'uc-davis',\n",
       " 'umkc',\n",
       " 'eastern-illinois',\n",
       " 'houston-baptist',\n",
       " 'air-force',\n",
       " 'james-madison',\n",
       " 'duquesne',\n",
       " 'long-beach-state',\n",
       " 'lamar',\n",
       " 'loyola-md',\n",
       " 'southeast-missouri-state',\n",
       " 'central-michigan',\n",
       " 'army',\n",
       " 'southeastern-louisiana',\n",
       " 'western-kentucky',\n",
       " 'stephen-f.-austin',\n",
       " 'sam-houston-state',\n",
       " 'columbia',\n",
       " 'oral-roberts',\n",
       " 'charlotte',\n",
       " 'illinois-chicago',\n",
       " 'portland-state',\n",
       " 'montana-state',\n",
       " 'tulane',\n",
       " 'cleveland-state',\n",
       " 'south-alabama',\n",
       " 'usc-upstate',\n",
       " 'little-rock',\n",
       " 'pacific',\n",
       " 'wagner',\n",
       " 'unlv',\n",
       " 'bowling-green',\n",
       " 'drexel',\n",
       " 'utsa',\n",
       " 'kennesaw-state',\n",
       " 'liu-brooklyn',\n",
       " 'state-francis-pa',\n",
       " 'north-florida',\n",
       " 'niagara',\n",
       " 'tennessee-tech',\n",
       " 'drake',\n",
       " 'milwaukee',\n",
       " 'san-diego',\n",
       " 'cal-state-fullerton',\n",
       " 'louisiana-monroe',\n",
       " 'cornell',\n",
       " 'oregon-state',\n",
       " 'seattle',\n",
       " 'robert-morris',\n",
       " 'fairleigh-dickinson',\n",
       " 'colgate',\n",
       " 'hawaii',\n",
       " 'high-point',\n",
       " 'florida-atlantic',\n",
       " 'eastern-kentucky',\n",
       " 'saint-louis',\n",
       " 'appalachian-state',\n",
       " 'jacksonville',\n",
       " 'fiu',\n",
       " 'brown',\n",
       " 'campbell',\n",
       " 'miami-oh',\n",
       " 'portland',\n",
       " 'bryant',\n",
       " 'youngstown-state',\n",
       " 'northern-colorado',\n",
       " 'cal-state-northridge',\n",
       " 'alcorn-state',\n",
       " 'njit',\n",
       " 'manhattan',\n",
       " 'the-citadel',\n",
       " 'austin-peay',\n",
       " 'delaware',\n",
       " 'sacramento-state',\n",
       " 'south-florida',\n",
       " 'northwestern-state',\n",
       " 'quinnipiac',\n",
       " 'umass-lowell',\n",
       " 'radford',\n",
       " 'western-illinois',\n",
       " 'abilene-christian',\n",
       " 'norfolk-state',\n",
       " 'ut-rio-grande-valley',\n",
       " 'sacred-heart',\n",
       " 'detroit',\n",
       " 'pepperdine',\n",
       " 'incarnate-word',\n",
       " 'dartmouth',\n",
       " 'cal-poly',\n",
       " 'american',\n",
       " 'central-arkansas',\n",
       " 'charleston-southern',\n",
       " 'hampton',\n",
       " 'uc-riverside',\n",
       " 'marist',\n",
       " 'prairie-view-a&m',\n",
       " 'binghamton',\n",
       " 'nicholls-state',\n",
       " 'mcneese-state',\n",
       " 'savannah-state',\n",
       " 'siu-edwardsville',\n",
       " 'stetson',\n",
       " 'north-texas',\n",
       " 'maryland-eastern-shore',\n",
       " 'western-carolina',\n",
       " 'northern-arizona',\n",
       " 'morgan-state',\n",
       " 'southern-miss',\n",
       " 'southern',\n",
       " 'grambling-state',\n",
       " 'vmi',\n",
       " 'jackson-state',\n",
       " 'lafayette',\n",
       " 'uc-santa-barbara',\n",
       " 'idaho-state',\n",
       " 'southern-utah',\n",
       " 'hartford',\n",
       " 'chicago-state',\n",
       " 'south-carolina-state',\n",
       " 'maine',\n",
       " 'howard',\n",
       " 'delaware-state',\n",
       " 'bethune-cookman',\n",
       " 'central-connecticut',\n",
       " 'alabama-state',\n",
       " 'coppin-state',\n",
       " 'mississippi-valley-state',\n",
       " 'florida-a&m',\n",
       " 'state-francis-ny',\n",
       " 'longwood',\n",
       " 'arkansas-pine-bluff',\n",
       " 'north-carolina-a&t',\n",
       " 'presbyterian',\n",
       " 'alabama-a&m']"
      ]
     },
     "execution_count": 14,
     "metadata": {},
     "output_type": "execute_result"
    }
   ],
   "source": [
    "teamNamesKP"
   ]
  },
  {
   "cell_type": "code",
   "execution_count": 15,
   "metadata": {
    "ExecuteTime": {
     "end_time": "2018-01-17T18:53:04.273103Z",
     "start_time": "2018-01-17T18:53:04.216102Z"
    },
    "collapsed": true
   },
   "outputs": [],
   "source": [
    "teamNameConversionKP2BR={\n",
    "'smu': 'southern-methodist',\n",
    " \"saint-mary's\": \"saint-mary's-(ca)\",\n",
    " 'tcu': 'texas-christian',\n",
    " 'miami-fl': 'miami-(fl)',\n",
    " 'vcu': 'virginia-commonwealth',\n",
    " 'usc': 'southern-california',\n",
    " 'unc-wilmington': 'north-carolina-wilmington',\n",
    " 'california': 'university-of-california',\n",
    " 'ucf': 'central-florida',\n",
    " 'ut-arlington': 'texas-arlington',\n",
    " 'byu': 'brigham-young',\n",
    " 'state-bonaventure': 'st.-bonaventure',\n",
    " 'loyola-chicago': 'loyola-(il)',\n",
    " \"state-john's\": \"st.-john's-(ny)\",\n",
    " 'unc-asheville': 'north-carolina-asheville',\n",
    " 'unc-greensboro': 'north-carolina-greensboro',\n",
    " 'albany': 'albany-(ny)',\n",
    " 'fort-wayne': 'ipfw',\n",
    " 'penn': 'pennsylvania',\n",
    " 'lsu': 'louisiana-state',\n",
    " 'texas-a&m-corpus-chris': 'texas-a&m-corpus-christi',\n",
    " 'uab': 'alabama-birmingham',\n",
    " 'utep': 'texas-el-paso',\n",
    " 'umbc': 'maryland-baltimore-county',\n",
    " \"mount-state-mary's\": \"mount-st.-mary's\",\n",
    " 'umkc': 'missouri-kansas-city',\n",
    " 'loyola-md': 'loyola-(md)',\n",
    " 'usc-upstate': 'south-carolina-upstate',\n",
    " 'little-rock': 'arkansas-little-rock',\n",
    " 'unlv': 'nevada-las-vegas',\n",
    " 'bowling-green': 'bowling-green-state',\n",
    " 'utsa': 'texas-san-antonio',\n",
    " 'liu-brooklyn': 'long-island-university',\n",
    " 'state-francis-pa': 'saint-francis-(pa)',\n",
    " 'fiu': 'florida-international',\n",
    " 'miami-oh': 'miami-(oh)',\n",
    " 'the-citadel': 'citadel',\n",
    " 'umass-lowell': 'massachusetts-lowell',\n",
    " 'ut-rio-grande-valley': 'texas-rio-grande-valley',\n",
    " 'detroit': 'detroit-mercy',\n",
    " 'prairie-view-a&m': 'prairie-view',\n",
    " 'southern-miss': 'southern-mississippi',\n",
    " 'grambling-state': 'grambling',\n",
    " 'central-connecticut': 'central-connecticut-state',\n",
    " 'state-francis-ny': 'st.-francis-(ny)'\n",
    "}"
   ]
  },
  {
   "cell_type": "code",
   "execution_count": 16,
   "metadata": {
    "ExecuteTime": {
     "end_time": "2018-01-17T18:53:04.808222Z",
     "start_time": "2018-01-17T18:53:04.797313Z"
    }
   },
   "outputs": [
    {
     "data": {
      "text/plain": [
       "351"
      ]
     },
     "execution_count": 16,
     "metadata": {},
     "output_type": "execute_result"
    }
   ],
   "source": [
    "teamNamesKPConverted=[]\n",
    "for teamName in teamNamesKP:\n",
    "    if teamName in teamNameConversionKP2BR.keys():\n",
    "        teamNamesKPConverted.append(teamNameConversionKP2BR[teamName])\n",
    "    else:\n",
    "        teamNamesKPConverted.append(teamName)\n",
    "len(teamNamesKPConverted)"
   ]
  },
  {
   "cell_type": "markdown",
   "metadata": {},
   "source": [
    "Remaining number of mismatches"
   ]
  },
  {
   "cell_type": "code",
   "execution_count": 17,
   "metadata": {
    "ExecuteTime": {
     "end_time": "2018-01-17T18:53:05.612700Z",
     "start_time": "2018-01-17T18:53:05.583767Z"
    }
   },
   "outputs": [
    {
     "data": {
      "text/plain": [
       "0"
      ]
     },
     "execution_count": 17,
     "metadata": {},
     "output_type": "execute_result"
    }
   ],
   "source": [
    "teamNameMismatch=[]\n",
    "for teamName in teamNamesKPConverted:\n",
    "    if teamName not in set(list(teamNamesBR)):\n",
    "        teamNameMismatch.append(teamName)\n",
    "len(teamNameMismatch)"
   ]
  },
  {
   "cell_type": "code",
   "execution_count": 18,
   "metadata": {
    "ExecuteTime": {
     "end_time": "2018-01-17T18:53:06.196438Z",
     "start_time": "2018-01-17T18:53:06.191375Z"
    }
   },
   "outputs": [
    {
     "data": {
      "text/plain": [
       "[]"
      ]
     },
     "execution_count": 18,
     "metadata": {},
     "output_type": "execute_result"
    }
   ],
   "source": [
    "\n",
    "teamNameMismatch"
   ]
  },
  {
   "cell_type": "code",
   "execution_count": 19,
   "metadata": {
    "ExecuteTime": {
     "end_time": "2018-01-17T18:53:06.625231Z",
     "start_time": "2018-01-17T18:53:06.620253Z"
    },
    "collapsed": true
   },
   "outputs": [],
   "source": [
    "tquery='california-davis'\n",
    "for teamName in teamNamesBR:\n",
    "    if tquery in teamName:\n",
    "        print(tquery, ' is in')\n",
    "        "
   ]
  },
  {
   "cell_type": "markdown",
   "metadata": {},
   "source": [
    "# Combine dataframes"
   ]
  },
  {
   "cell_type": "code",
   "execution_count": 20,
   "metadata": {
    "ExecuteTime": {
     "end_time": "2018-01-17T18:53:09.529580Z",
     "start_time": "2018-01-17T18:53:09.318476Z"
    },
    "collapsed": true
   },
   "outputs": [],
   "source": [
    "%matplotlib inline\n",
    "import matplotlib\n",
    "import matplotlib.pyplot as plt\n"
   ]
  },
  {
   "cell_type": "code",
   "execution_count": 21,
   "metadata": {
    "ExecuteTime": {
     "end_time": "2018-01-17T18:53:09.842646Z",
     "start_time": "2018-01-17T18:53:09.836121Z"
    }
   },
   "outputs": [
    {
     "data": {
      "text/plain": [
       "array(['Gonzaga', 'Villanova', 'North Carolina', 'Kentucky', 'Florida',\n",
       "       'Kansas', 'West Virginia', 'Wichita St.', 'Louisville', 'Oregon',\n",
       "       'SMU', 'Virginia', 'Baylor', 'Duke', \"Saint Mary's\", 'UCLA',\n",
       "       'Iowa St.', 'Arizona', 'Purdue', 'Michigan', 'Wisconsin',\n",
       "       'Oklahoma St.', 'Cincinnati', 'South Carolina', 'Butler',\n",
       "       'Florida St.', 'Notre Dame', 'Creighton', 'TCU', 'Kansas St.',\n",
       "       'Xavier', 'Marquette', 'Vanderbilt', 'Rhode Island', 'Arkansas',\n",
       "       'Wake Forest', 'Minnesota', 'Northwestern', 'Dayton',\n",
       "       'Michigan St.', 'Texas Tech', 'Miami FL', 'Middle Tennessee',\n",
       "       'Indiana', 'Clemson', 'Maryland', 'Utah', 'VCU', 'Illinois St.',\n",
       "       'Virginia Tech', 'Seton Hall', 'Houston', 'USC', 'Nevada',\n",
       "       'Syracuse', 'Alabama', 'Tennessee', 'Princeton', 'UNC Wilmington',\n",
       "       'Providence', 'Georgia', 'California', 'Vermont', 'Texas A&M',\n",
       "       'Oklahoma', 'Illinois', 'East Tennessee St.', 'UCF', 'Georgetown',\n",
       "       'Texas', 'Iowa', 'Colorado', 'Ohio St.', 'Mississippi',\n",
       "       'UT Arlington', 'Bucknell', 'Georgia Tech', 'San Diego St.',\n",
       "       'Pittsburgh', 'BYU', 'Monmouth', 'Auburn', 'Belmont',\n",
       "       'New Mexico St.', 'Davidson', 'Colorado St.', 'Penn St.',\n",
       "       'Mississippi St.', 'College of Charleston', 'Cal St. Bakersfield',\n",
       "       'St. Bonaventure', 'Richmond', 'Louisiana Tech', 'Boise St.',\n",
       "       \"Saint Peter's\", 'Connecticut', 'Loyola Chicago', 'Fresno St.',\n",
       "       \"St. John's\", 'Akron', 'Memphis', 'Stanford', 'Oakland',\n",
       "       'Valparaiso', 'Ohio', 'Furman', 'Nebraska', 'Florida Gulf Coast',\n",
       "       'North Carolina St.', 'UNC Asheville', 'San Francisco', 'Harvard',\n",
       "       'Winthrop', 'Chattanooga', 'Lehigh', 'Towson', 'Iona', 'Temple',\n",
       "       'New Mexico', 'Old Dominion', 'UNC Greensboro', 'Buffalo',\n",
       "       'George Mason', 'Arkansas St.', 'Santa Clara', 'Arizona St.',\n",
       "       'Wyoming', 'Toledo', 'Albany', 'Utah St.', 'Georgia St.',\n",
       "       'George Washington', 'William & Mary', 'Missouri St.', 'Rutgers',\n",
       "       'Elon', 'Troy', 'Northern Kentucky', 'UC Irvine', 'La Salle',\n",
       "       'Kent St.', 'Wofford', 'South Dakota', 'Tulsa', 'Mercer',\n",
       "       'Louisiana Lafayette', 'Utah Valley', 'Eastern Michigan',\n",
       "       'Marshall', 'Southern Illinois', 'Yale', 'Grand Canyon',\n",
       "       'Fort Wayne', 'Evansville', 'Rice', 'Missouri', 'Jacksonville St.',\n",
       "       'Massachusetts', 'Northeastern', 'Tennessee St.',\n",
       "       'North Carolina Central', 'Western Michigan', 'Washington',\n",
       "       'Wright St.', 'Lipscomb', 'Samford', 'North Dakota St.',\n",
       "       'North Dakota', 'Northern Iowa', 'Siena', 'Penn', 'LSU',\n",
       "       'Boston College', 'Texas St.', 'Loyola Marymount', 'Nebraska Omaha',\n",
       "       'Texas A&M Corpus Chris', 'New Orleans', 'Weber St.', 'Ball St.',\n",
       "       'Gardner Webb', 'New Hampshire', 'DePaul', \"Saint Joseph's\",\n",
       "       'South Dakota St.', 'Eastern Washington', 'Canisius', 'Hofstra',\n",
       "       'Denver', 'Green Bay', 'East Carolina', 'Boston University',\n",
       "       'Washington St.', 'Montana', 'Georgia Southern', 'UAB',\n",
       "       'Murray St.', 'IUPUI', 'Indiana St.', 'UTEP', 'UMBC', 'Fordham',\n",
       "       'Morehead St.', 'Fairfield', 'Northern Illinois', 'Navy',\n",
       "       'Coastal Carolina', 'Rider', \"Mount St. Mary's\", 'Tennessee Martin',\n",
       "       'Liberty', 'Texas Southern', 'Stony Brook', 'San Jose St.',\n",
       "       'Holy Cross', 'Idaho', 'Bradley', 'UC Davis', 'UMKC',\n",
       "       'Eastern Illinois', 'Houston Baptist', 'Air Force', 'James Madison',\n",
       "       'Duquesne', 'Long Beach St.', 'Lamar', 'Loyola MD',\n",
       "       'Southeast Missouri St.', 'Central Michigan', 'Army',\n",
       "       'Southeastern Louisiana', 'Western Kentucky', 'Stephen F. Austin',\n",
       "       'Sam Houston St.', 'Columbia', 'Oral Roberts', 'Charlotte',\n",
       "       'Illinois Chicago', 'Portland St.', 'Montana St.', 'Tulane',\n",
       "       'Cleveland St.', 'South Alabama', 'USC Upstate', 'Little Rock',\n",
       "       'Pacific', 'Wagner', 'UNLV', 'Bowling Green', 'Drexel', 'UTSA',\n",
       "       'Kennesaw St.', 'LIU Brooklyn', 'St. Francis PA', 'North Florida',\n",
       "       'Niagara', 'Tennessee Tech', 'Drake', 'Milwaukee', 'San Diego',\n",
       "       'Cal St. Fullerton', 'Louisiana Monroe', 'Cornell', 'Oregon St.',\n",
       "       'Seattle', 'Robert Morris', 'Fairleigh Dickinson', 'Colgate',\n",
       "       'Hawaii', 'High Point', 'Florida Atlantic', 'Eastern Kentucky',\n",
       "       'Saint Louis', 'Appalachian St.', 'Jacksonville', 'FIU', 'Brown',\n",
       "       'Campbell', 'Miami OH', 'Portland', 'Bryant', 'Youngstown St.',\n",
       "       'Northern Colorado', 'Cal St. Northridge', 'Alcorn St.', 'NJIT',\n",
       "       'Manhattan', 'The Citadel', 'Austin Peay', 'Delaware',\n",
       "       'Sacramento St.', 'South Florida', 'Northwestern St.', 'Quinnipiac',\n",
       "       'UMass Lowell', 'Radford', 'Western Illinois', 'Abilene Christian',\n",
       "       'Norfolk St.', 'UT Rio Grande Valley', 'Sacred Heart', 'Detroit',\n",
       "       'Pepperdine', 'Incarnate Word', 'Dartmouth', 'Cal Poly', 'American',\n",
       "       'Central Arkansas', 'Charleston Southern', 'Hampton',\n",
       "       'UC Riverside', 'Marist', 'Prairie View A&M', 'Binghamton',\n",
       "       'Nicholls St.', 'McNeese St.', 'Savannah St.', 'SIU Edwardsville',\n",
       "       'Stetson', 'North Texas', 'Maryland Eastern Shore',\n",
       "       'Western Carolina', 'Northern Arizona', 'Morgan St.',\n",
       "       'Southern Miss', 'Southern', 'Grambling St.', 'VMI', 'Jackson St.',\n",
       "       'Lafayette', 'UC Santa Barbara', 'Idaho St.', 'Southern Utah',\n",
       "       'Hartford', 'Chicago St.', 'South Carolina St.', 'Maine', 'Howard',\n",
       "       'Delaware St.', 'Bethune Cookman', 'Central Connecticut',\n",
       "       'Alabama St.', 'Coppin St.', 'Mississippi Valley St.',\n",
       "       'Florida A&M', 'St. Francis NY', 'Longwood', 'Arkansas Pine Bluff',\n",
       "       'North Carolina A&T', 'Presbyterian', 'Alabama A&M'], dtype=object)"
      ]
     },
     "execution_count": 21,
     "metadata": {},
     "output_type": "execute_result"
    }
   ],
   "source": [
    "kpData.School.values"
   ]
  },
  {
   "cell_type": "code",
   "execution_count": 22,
   "metadata": {
    "ExecuteTime": {
     "end_time": "2018-01-17T18:53:17.121774Z",
     "start_time": "2018-01-17T18:53:16.497788Z"
    },
    "scrolled": false
   },
   "outputs": [
    {
     "name": "stdout",
     "output_type": "stream",
     "text": [
      "2017\n",
      "2016\n",
      "2015\n",
      "2014\n",
      "2013\n",
      "2012\n",
      "2011\n",
      "2010\n",
      "2009\n",
      "2008\n",
      "2007\n",
      "2006\n",
      "2005\n",
      "2004\n",
      "2003\n",
      "2002\n"
     ]
    }
   ],
   "source": [
    "for yr in np.arange(2017,2001,-1):\n",
    "    # pull kenpom data\n",
    "    print(yr)\n",
    "    kpData=pd.read_csv('data/kp/kp-'+str(yr)+'.csv',names=kpHeadNames).drop('junk',axis=1)\n",
    "    teamNamesKP=kpData.School.values\n",
    "\n",
    "    #basic formatting of school names\n",
    "    newTeamList=[]\n",
    "    for t in teamNamesKP:\n",
    "        newTeamList.append(t.lower().replace(\" \",\"-\").replace(\"st.\",\"state\"))\n",
    "    teamNamesKP=newTeamList\n",
    "\n",
    "    # convert remaining names\n",
    "    teamNamesKPConverted=[]\n",
    "    for teamName in teamNamesKP:\n",
    "        if teamName in teamNameConversionKP2BR.keys():\n",
    "            teamNamesKPConverted.append(teamNameConversionKP2BR[teamName])\n",
    "        else:\n",
    "            teamNamesKPConverted.append(teamName)\n",
    "\n",
    "    kpData.School=teamNamesKPConverted\n",
    "    \n",
    "    \n",
    "\n",
    "    srData=pd.read_csv('data/team/team_stats_'+str(yr)+'.csv')\n",
    "    teamNamesBR=srData.School\n",
    "\n",
    "    allData=srData.merge(kpData,how='inner',on='School')\n",
    "    allData=allData.rename(columns={'W%': 'wpct'})\n",
    "    \n",
    "    allData.to_csv(\"data/combined_team_stats_\" + str(yr) + \".csv\")\n",
    "    \n",
    "#     break\n",
    "    # allData.sort_values(by='W-L%',ascending=False)\n",
    "#     wpct=[]\n",
    "#     for r in allData.itertuples():\n",
    "#         w,l = r.WL.split('-')\n",
    "#         wpct.append(float(w)/(float(w)+float(l)))\n",
    "#     allData['wpct2']=wpct\n",
    "#     #     print()\n",
    "#     plt.figure()\n",
    "#     plt.title(yr)\n",
    "#     allData[['wpct','wpct2']]\n",
    "#     plt.hist((allData['wpct']-allData['wpct2']));"
   ]
  },
  {
   "cell_type": "code",
   "execution_count": null,
   "metadata": {
    "collapsed": true
   },
   "outputs": [],
   "source": []
  }
 ],
 "metadata": {
  "kernelspec": {
   "display_name": "Python 3",
   "language": "python",
   "name": "python3"
  },
  "language_info": {
   "codemirror_mode": {
    "name": "ipython",
    "version": 3
   },
   "file_extension": ".py",
   "mimetype": "text/x-python",
   "name": "python",
   "nbconvert_exporter": "python",
   "pygments_lexer": "ipython3",
   "version": "3.6.3"
  },
  "toc": {
   "nav_menu": {},
   "number_sections": true,
   "sideBar": true,
   "skip_h1_title": false,
   "toc_cell": false,
   "toc_position": {},
   "toc_section_display": "block",
   "toc_window_display": false
  }
 },
 "nbformat": 4,
 "nbformat_minor": 2
}
