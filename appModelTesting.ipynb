{
 "cells": [
  {
   "cell_type": "code",
   "execution_count": 1,
   "metadata": {
    "ExecuteTime": {
     "end_time": "2018-01-24T15:43:09.354927Z",
     "start_time": "2018-01-24T15:43:07.849584Z"
    }
   },
   "outputs": [],
   "source": [
    "%matplotlib inline\n",
    "import matplotlib\n",
    "import matplotlib.pyplot as plt\n",
    "matplotlib.rcParams['figure.figsize'] = (12.0, 8.0)\n",
    "\n",
    "import numpy as np\n",
    "import pandas as pd\n",
    "import requests\n",
    "import urllib.request\n",
    "from bs4 import BeautifulSoup\n",
    "from sklearn.preprocessing import MinMaxScaler\n",
    "from sklearn.model_selection import train_test_split\n",
    "from sklearn.ensemble import RandomForestClassifier\n",
    "from sklearn.linear_model import LogisticRegression\n",
    "from sklearn.svm import SVC\n",
    "import warnings\n",
    "from sklearn import metrics\n",
    "\n",
    "warnings.filterwarnings('ignore')\n",
    "\n",
    "\n",
    "from sklearn import model_selection\n",
    "from sklearn.model_selection import cross_val_score\n",
    "\n",
    "\n",
    "from sqlalchemy import create_engine\n",
    "from sqlalchemy_utils import database_exists, create_database\n",
    "import psycopg2\n",
    "\n",
    "import pickle\n",
    "from sklearn.externals import joblib\n",
    "\n",
    "%load_ext line_profiler"
   ]
  },
  {
   "cell_type": "code",
   "execution_count": 2,
   "metadata": {
    "ExecuteTime": {
     "end_time": "2018-01-24T15:43:09.366071Z",
     "start_time": "2018-01-24T15:43:09.357525Z"
    }
   },
   "outputs": [],
   "source": [
    "from app import model"
   ]
  },
  {
   "cell_type": "code",
   "execution_count": 3,
   "metadata": {
    "ExecuteTime": {
     "end_time": "2018-01-24T15:43:09.411477Z",
     "start_time": "2018-01-24T15:43:09.369132Z"
    },
    "collapsed": true
   },
   "outputs": [],
   "source": [
    "user='gshau'\n",
    "host='localhost'\n",
    "dbname='birth_db'\n",
    "\n",
    "dbname = 'ncaabb'\n",
    "username = 'gshau' # change this to your username\n",
    "engine = create_engine('postgres://%s@localhost/%s'%(username,dbname))\n",
    "\n",
    "years = model.getYears()\n",
    "year=2017\n",
    "pointsByRound=[1,2,4,8,16,32]\n",
    "# pointsByRound=[1,2,4,8,12,16]"
   ]
  },
  {
   "cell_type": "code",
   "execution_count": 4,
   "metadata": {
    "ExecuteTime": {
     "end_time": "2018-01-24T15:41:48.437383Z",
     "start_time": "2018-01-24T15:41:48.432822Z"
    }
   },
   "outputs": [],
   "source": [
    "# for year in np.arange(2017,2003,-1):\n",
    "#     t=model.Tournament(year)\n",
    "\n",
    "#     pool=model.Pool(t,poolSize=25,pointSystem=dict([(i+2, pointsByRound[i]) for i in np.arange(6)]))\n",
    "#     pool.getTourneySets(ntourney=1000,scaleFactor=0.579)\n"
   ]
  },
  {
   "cell_type": "code",
   "execution_count": 5,
   "metadata": {
    "ExecuteTime": {
     "end_time": "2018-01-24T15:41:48.447016Z",
     "start_time": "2018-01-24T15:41:48.440267Z"
    }
   },
   "outputs": [],
   "source": [
    "# # year=2017\n",
    "# # t=model.Tournament(year)\n",
    "\n",
    "# # pool=model.Pool(t,poolSize=25,pointSystem=dict([(i+2, pointsByRound[i]) for i in np.arange(6)]))\n",
    "# # pool.getTourneySets(ntourney=100,scaleFactor=0.58)\n",
    "# # pool.loadTourneySets()\n",
    "# x=[]\n",
    "# for ibkt in range(20):\n",
    "#     tx=pool.tourneys[ibkt]\n",
    "#     pt=model.compareBrackets(t.bracketOutcome,tx,\n",
    "#                           pointsByRound=dict([(i+2, pointsByRound[i]) for i in np.arange(6)]))\n",
    "#     x.append(pt)\n",
    "# plt.hist(x,bins=range(192));"
   ]
  },
  {
   "cell_type": "code",
   "execution_count": 6,
   "metadata": {
    "ExecuteTime": {
     "end_time": "2018-01-24T15:41:48.456895Z",
     "start_time": "2018-01-24T15:41:48.453049Z"
    }
   },
   "outputs": [],
   "source": [
    "# %lprun -f pool.simulatePool pool.simulatePool(useRealBracket=False)"
   ]
  },
  {
   "cell_type": "code",
   "execution_count": null,
   "metadata": {
    "collapsed": true
   },
   "outputs": [],
   "source": []
  },
  {
   "cell_type": "code",
   "execution_count": null,
   "metadata": {
    "ExecuteTime": {
     "end_time": "2018-01-24T15:20:58.367708Z",
     "start_time": "2018-01-24T15:20:58.362080Z"
    },
    "collapsed": true
   },
   "outputs": [],
   "source": []
  },
  {
   "cell_type": "code",
   "execution_count": 4,
   "metadata": {
    "ExecuteTime": {
     "end_time": "2018-01-24T15:43:11.106326Z",
     "start_time": "2018-01-24T15:43:11.065824Z"
    },
    "collapsed": true
   },
   "outputs": [],
   "source": [
    "def doIt(year=2017,risk=0.3):\n",
    "    t=model.Tournament(year)\n",
    "    pool=model.Pool(t,poolSize=25,pointSystem=dict([(i+2, pointsByRound[i]) for i in np.arange(6)]),risk=risk)\n",
    "    pool.loadTourneySets()\n",
    "    print('----', year, '----')\n",
    "    sim=[]\n",
    "    simrank=[]\n",
    "    real=[]\n",
    "    realrank=[]\n",
    "    poolList=[]\n",
    "    for rep in range(20):\n",
    "    #         print('Simulated bracket: ')\n",
    "        pool.simulatePool(useRealBracket=False,verbose=False,nrep=20)\n",
    "#         sim.append(list(pool.payouts))\n",
    "#         simrank.append(pool.ranks)\n",
    "        poolList.append(pool)\n",
    "# #         pool.simulatePool(useRealBracket=True,verbose=False,nrep=20)\n",
    "# #         real.append(list(pool.payouts))\n",
    "# #         realrank.append(pool.ranks)\n",
    "#     print(np.argmax(np.array(sim).sum(axis=1)))\n",
    "        \n",
    "#     return (np.array(sim),np.array(simrank),np.array(real),np.array(realrank),poolList)\n",
    "    return poolList\n"
   ]
  },
  {
   "cell_type": "code",
   "execution_count": 5,
   "metadata": {
    "ExecuteTime": {
     "end_time": "2018-01-24T15:43:12.857504Z",
     "start_time": "2018-01-24T15:43:11.744980Z"
    }
   },
   "outputs": [
    {
     "name": "stdout",
     "output_type": "stream",
     "text": [
      "Load: Tournament length:  1000\n",
      "---- 2008 ----\n",
      "CPU times: user 1.07 s, sys: 28.3 ms, total: 1.1 s\n",
      "Wall time: 1.11 s\n"
     ]
    }
   ],
   "source": [
    "%time poolList=doIt(year=2008)"
   ]
  },
  {
   "cell_type": "code",
   "execution_count": 13,
   "metadata": {
    "ExecuteTime": {
     "end_time": "2018-01-24T15:43:46.803681Z",
     "start_time": "2018-01-24T15:43:46.797381Z"
    }
   },
   "outputs": [
    {
     "data": {
      "text/plain": [
       "dict_keys(['favBracket', 'newBracket', 'expPayout', 'expPlace', 'ranks'])"
      ]
     },
     "execution_count": 13,
     "metadata": {},
     "output_type": "execute_result"
    }
   ],
   "source": [
    "p=poolList[0]\n",
    "p.summary.keys()\n",
    "# p.summary['ranks']"
   ]
  },
  {
   "cell_type": "code",
   "execution_count": 14,
   "metadata": {
    "ExecuteTime": {
     "end_time": "2018-01-24T15:44:01.384869Z",
     "start_time": "2018-01-24T15:44:01.377034Z"
    }
   },
   "outputs": [
    {
     "data": {
      "text/plain": [
       "array([ 0.  ,  0.2 ,  0.05,  0.  ,  0.2 ,  0.1 ,  0.2 ,  0.  ,  0.05,\n",
       "        0.  ,  0.05,  0.  ,  0.05,  0.05,  0.05,  0.  ,  0.  ,  0.  ,\n",
       "        0.  ,  0.  ,  0.  ,  0.  ,  0.  ,  0.  ,  0.  ,  0.  ,  0.  ])"
      ]
     },
     "execution_count": 14,
     "metadata": {},
     "output_type": "execute_result"
    }
   ],
   "source": [
    "norm=p.summary['ranks'].sum()\n",
    "p.summary['ranks'].sum(axis=1)/norm"
   ]
  },
  {
   "cell_type": "code",
   "execution_count": 15,
   "metadata": {
    "ExecuteTime": {
     "end_time": "2018-01-24T15:44:14.703737Z",
     "start_time": "2018-01-24T15:44:14.696824Z"
    }
   },
   "outputs": [
    {
     "data": {
      "text/plain": [
       "array([[ 0.  ,  0.1 ],\n",
       "       [ 0.2 ,  0.05],\n",
       "       [ 0.05,  0.05],\n",
       "       [ 0.  ,  0.  ],\n",
       "       [ 0.2 ,  0.1 ],\n",
       "       [ 0.1 ,  0.1 ],\n",
       "       [ 0.2 ,  0.  ],\n",
       "       [ 0.  ,  0.1 ],\n",
       "       [ 0.05,  0.1 ],\n",
       "       [ 0.  ,  0.2 ],\n",
       "       [ 0.05,  0.05],\n",
       "       [ 0.  ,  0.  ],\n",
       "       [ 0.05,  0.  ],\n",
       "       [ 0.05,  0.05],\n",
       "       [ 0.05,  0.  ],\n",
       "       [ 0.  ,  0.05],\n",
       "       [ 0.  ,  0.  ],\n",
       "       [ 0.  ,  0.  ],\n",
       "       [ 0.  ,  0.05],\n",
       "       [ 0.  ,  0.  ],\n",
       "       [ 0.  ,  0.  ],\n",
       "       [ 0.  ,  0.  ],\n",
       "       [ 0.  ,  0.  ],\n",
       "       [ 0.  ,  0.  ]])"
      ]
     },
     "execution_count": 15,
     "metadata": {},
     "output_type": "execute_result"
    }
   ],
   "source": [
    "p.summary['expPlace']"
   ]
  },
  {
   "cell_type": "code",
   "execution_count": 162,
   "metadata": {
    "ExecuteTime": {
     "end_time": "2018-01-24T15:25:22.936637Z",
     "start_time": "2018-01-24T15:25:22.739808Z"
    }
   },
   "outputs": [
    {
     "name": "stdout",
     "output_type": "stream",
     "text": [
      "0.259459459459\n",
      "0.286486486486\n",
      "0.464864864865\n"
     ]
    },
    {
     "data": {
      "image/png": "[encoded data removed]",
      "text/plain": [
       "<matplotlib.figure.Figure at 0x108830e48>"
      ]
     },
     "metadata": {},
     "output_type": "display_data"
    }
   ],
   "source": [
    "plt.imshow(simrank[13,:,:].T,origin='lower')\n",
    "\n",
    "norm=simrank[13,:,:].sum()\n",
    "print(simrank[13,:3,:].sum()/norm)\n",
    "print(simrank[13,:,:3].sum()/norm)\n",
    "print(simrank[13,3:,3:].sum()/norm)\n"
   ]
  },
  {
   "cell_type": "code",
   "execution_count": 156,
   "metadata": {
    "ExecuteTime": {
     "end_time": "2018-01-24T15:23:53.133891Z",
     "start_time": "2018-01-24T15:23:52.939395Z"
    }
   },
   "outputs": [
    {
     "data": {
      "text/plain": [
       "<matplotlib.image.AxesImage at 0x1a1f4b8828>"
      ]
     },
     "execution_count": 156,
     "metadata": {},
     "output_type": "execute_result"
    },
    {
     "data": {
      "image/png": "[encoded data removed]",
      "text/plain": [
       "<matplotlib.figure.Figure at 0x10ed68278>"
      ]
     },
     "metadata": {},
     "output_type": "display_data"
    }
   ],
   "source": [
    "plt.imshow(simrank.sum(axis=0).T,origin='lower')"
   ]
  },
  {
   "cell_type": "code",
   "execution_count": 99,
   "metadata": {
    "ExecuteTime": {
     "end_time": "2018-01-24T15:13:28.781393Z",
     "start_time": "2018-01-24T15:13:17.785163Z"
    }
   },
   "outputs": [
    {
     "name": "stdout",
     "output_type": "stream",
     "text": [
      "Load: Tournament length:  1000\n",
      "---- 2017 ----\n"
     ]
    }
   ],
   "source": [
    "%lprun -f pool.simulatePool doIt()"
   ]
  },
  {
   "cell_type": "code",
   "execution_count": 24,
   "metadata": {
    "ExecuteTime": {
     "end_time": "2018-01-24T15:47:19.946265Z",
     "start_time": "2018-01-24T15:47:19.942564Z"
    },
    "collapsed": true
   },
   "outputs": [],
   "source": [
    "yearList=np.arange(2017,2003,-1)"
   ]
  },
  {
   "cell_type": "code",
   "execution_count": 25,
   "metadata": {
    "ExecuteTime": {
     "end_time": "2018-01-24T15:54:03.293451Z",
     "start_time": "2018-01-24T15:47:22.011172Z"
    },
    "scrolled": true
   },
   "outputs": [
    {
     "name": "stdout",
     "output_type": "stream",
     "text": [
      "Load: Tournament length:  1000\n",
      "---- 2017 ----\n",
      "Load: Tournament length:  1000\n",
      "---- 2016 ----\n",
      "Load: Tournament length:  1000\n",
      "---- 2015 ----\n",
      "Load: Tournament length:  1000\n",
      "---- 2014 ----\n",
      "Load: Tournament length:  1000\n",
      "---- 2013 ----\n",
      "Load: Tournament length:  1000\n",
      "---- 2012 ----\n",
      "Load: Tournament length:  1000\n",
      "---- 2011 ----\n",
      "Load: Tournament length:  1000\n",
      "---- 2010 ----\n",
      "Load: Tournament length:  1000\n",
      "---- 2009 ----\n",
      "Load: Tournament length:  1000\n",
      "---- 2008 ----\n",
      "Load: Tournament length:  1000\n",
      "---- 2007 ----\n",
      "Load: Tournament length:  1000\n",
      "---- 2006 ----\n",
      "Load: Tournament length:  1000\n",
      "---- 2005 ----\n",
      "Load: Tournament length:  1000\n",
      "---- 2004 ----\n",
      "Load: Tournament length:  1000\n",
      "---- 2017 ----\n",
      "Load: Tournament length:  1000\n",
      "---- 2016 ----\n",
      "Load: Tournament length:  1000\n",
      "---- 2015 ----\n",
      "Load: Tournament length:  1000\n",
      "---- 2014 ----\n",
      "Load: Tournament length:  1000\n",
      "---- 2013 ----\n",
      "Load: Tournament length:  1000\n",
      "---- 2012 ----\n",
      "Load: Tournament length:  1000\n",
      "---- 2011 ----\n",
      "Load: Tournament length:  1000\n",
      "---- 2010 ----\n",
      "Load: Tournament length:  1000\n",
      "---- 2009 ----\n",
      "Load: Tournament length:  1000\n",
      "---- 2008 ----\n",
      "Load: Tournament length:  1000\n",
      "---- 2007 ----\n",
      "Load: Tournament length:  1000\n",
      "---- 2006 ----\n",
      "Load: Tournament length:  1000\n",
      "---- 2005 ----\n",
      "Load: Tournament length:  1000\n",
      "---- 2004 ----\n",
      "Load: Tournament length:  1000\n",
      "---- 2017 ----\n",
      "Load: Tournament length:  1000\n",
      "---- 2016 ----\n",
      "Load: Tournament length:  1000\n",
      "---- 2015 ----\n",
      "Load: Tournament length:  1000\n",
      "---- 2014 ----\n",
      "Load: Tournament length:  1000\n",
      "---- 2013 ----\n",
      "Load: Tournament length:  1000\n",
      "---- 2012 ----\n",
      "Load: Tournament length:  1000\n",
      "---- 2011 ----\n",
      "Load: Tournament length:  1000\n",
      "---- 2010 ----\n",
      "Load: Tournament length:  1000\n",
      "---- 2009 ----\n",
      "Load: Tournament length:  1000\n",
      "---- 2008 ----\n",
      "Load: Tournament length:  1000\n",
      "---- 2007 ----\n",
      "Load: Tournament length:  1000\n",
      "---- 2006 ----\n",
      "Load: Tournament length:  1000\n",
      "---- 2005 ----\n",
      "Load: Tournament length:  1000\n",
      "---- 2004 ----\n",
      "Load: Tournament length:  1000\n",
      "---- 2017 ----\n",
      "Load: Tournament length:  1000\n",
      "---- 2016 ----\n",
      "Load: Tournament length:  1000\n",
      "---- 2015 ----\n",
      "Load: Tournament length:  1000\n",
      "---- 2014 ----\n",
      "Load: Tournament length:  1000\n",
      "---- 2013 ----\n",
      "Load: Tournament length:  1000\n",
      "---- 2012 ----\n",
      "Load: Tournament length:  1000\n",
      "---- 2011 ----\n",
      "Load: Tournament length:  1000\n",
      "---- 2010 ----\n",
      "Load: Tournament length:  1000\n",
      "---- 2009 ----\n",
      "Load: Tournament length:  1000\n",
      "---- 2008 ----\n",
      "Load: Tournament length:  1000\n",
      "---- 2007 ----\n",
      "Load: Tournament length:  1000\n",
      "---- 2006 ----\n",
      "Load: Tournament length:  1000\n",
      "---- 2005 ----\n",
      "Load: Tournament length:  1000\n",
      "---- 2004 ----\n",
      "Load: Tournament length:  1000\n",
      "---- 2017 ----\n",
      "Load: Tournament length:  1000\n",
      "---- 2016 ----\n",
      "Load: Tournament length:  1000\n",
      "---- 2015 ----\n",
      "Load: Tournament length:  1000\n",
      "---- 2014 ----\n",
      "Load: Tournament length:  1000\n",
      "---- 2013 ----\n",
      "Load: Tournament length:  1000\n",
      "---- 2012 ----\n",
      "Load: Tournament length:  1000\n",
      "---- 2011 ----\n",
      "Load: Tournament length:  1000\n",
      "---- 2010 ----\n",
      "Load: Tournament length:  1000\n",
      "---- 2009 ----\n",
      "Load: Tournament length:  1000\n",
      "---- 2008 ----\n",
      "Load: Tournament length:  1000\n",
      "---- 2007 ----\n",
      "Load: Tournament length:  1000\n",
      "---- 2006 ----\n",
      "Load: Tournament length:  1000\n",
      "---- 2005 ----\n",
      "Load: Tournament length:  1000\n",
      "---- 2004 ----\n"
     ]
    }
   ],
   "source": [
    "real={}\n",
    "sim={}\n",
    "realrank={}\n",
    "simrank={}\n",
    "riskList=[0.2,0.4,0.6,0.8,1.]\n",
    "# riskList=[0.4]\n",
    "for risk in riskList:\n",
    "    real[risk]={}\n",
    "    sim[risk]={}\n",
    "    realrank[risk]={}\n",
    "    simrank[risk]={}\n",
    "    for year in yearList:\n",
    "        real[risk][year]=[]\n",
    "        sim[risk][year]=[]\n",
    "        realrank[risk][year]=[]\n",
    "        simrank[risk][year]=[]\n",
    "        t=model.Tournament(year)\n",
    "        pool=model.Pool(t,poolSize=25,pointSystem=dict([(i+2, pointsByRound[i]) for i in np.arange(6)]),risk=risk)\n",
    "        pool.loadTourneySets()\n",
    "        print('----', year, '----')\n",
    "\n",
    "        for rep in range(100):\n",
    "    #         print('Simulated bracket: ')\n",
    "            pool.simulatePool(useRealBracket=False,verbose=False,nrep=20)\n",
    "            sim[risk][year].append(list(pool.summary['expPayout']))\n",
    "            simrank[risk][year].append(pool.summary['ranks'])\n",
    "    #         print('Real bracket: ')\n",
    "            pool.simulatePool(useRealBracket=True,verbose=False,nrep=20)\n",
    "            real[risk][year].append(list(pool.summary['expPayout']))\n",
    "            realrank[risk][year].append(pool.summary['ranks'])\n",
    "\n",
    "            "
   ]
  },
  {
   "cell_type": "code",
   "execution_count": 22,
   "metadata": {
    "ExecuteTime": {
     "end_time": "2018-01-24T15:46:47.521273Z",
     "start_time": "2018-01-24T15:46:47.517733Z"
    }
   },
   "outputs": [],
   "source": [
    "# # riskValue=1.\n",
    "# # norm=np.array(realrank[riskValue][year]).sum()\n",
    "# # plt.plot(np.array(realrank[riskValue][year]).sum(axis=0).sum(axis=0)/norm,'b')\n",
    "# riskValue=0.4\n",
    "# norm=np.array(realrank[riskValue][year]).sum()\n",
    "# plt.plot(np.array(realrank[riskValue][year]).sum(axis=0).sum(axis=0)/norm,'r')"
   ]
  },
  {
   "cell_type": "code",
   "execution_count": 23,
   "metadata": {
    "ExecuteTime": {
     "end_time": "2018-01-24T15:46:49.388081Z",
     "start_time": "2018-01-24T15:46:49.384459Z"
    },
    "collapsed": true
   },
   "outputs": [],
   "source": []
  },
  {
   "cell_type": "code",
   "execution_count": 27,
   "metadata": {
    "ExecuteTime": {
     "end_time": "2018-01-24T15:54:59.913818Z",
     "start_time": "2018-01-24T15:54:59.867906Z"
    }
   },
   "outputs": [
    {
     "data": {
      "text/plain": [
       "{2004: [0.58050000000000002,\n",
       "  0.55500000000000005,\n",
       "  0.55100000000000005,\n",
       "  0.55700000000000005,\n",
       "  0.55200000000000005],\n",
       " 2005: [0.53849999999999998,\n",
       "  0.53049999999999997,\n",
       "  0.54100000000000004,\n",
       "  0.53700000000000003,\n",
       "  0.54500000000000004],\n",
       " 2006: [0.56000000000000005,\n",
       "  0.51500000000000001,\n",
       "  0.52400000000000002,\n",
       "  0.51449999999999996,\n",
       "  0.52449999999999997],\n",
       " 2007: [0.58299999999999996,\n",
       "  0.55500000000000005,\n",
       "  0.52600000000000002,\n",
       "  0.5605,\n",
       "  0.56100000000000005],\n",
       " 2008: [0.58999999999999997,\n",
       "  0.54849999999999999,\n",
       "  0.55449999999999999,\n",
       "  0.5595,\n",
       "  0.58750000000000002],\n",
       " 2009: [0.61450000000000005,\n",
       "  0.56000000000000005,\n",
       "  0.54700000000000004,\n",
       "  0.58899999999999997,\n",
       "  0.58750000000000002],\n",
       " 2010: [0.52049999999999996,\n",
       "  0.51500000000000001,\n",
       "  0.4955,\n",
       "  0.49299999999999999,\n",
       "  0.505],\n",
       " 2011: [0.56699999999999995,\n",
       "  0.53100000000000003,\n",
       "  0.50649999999999995,\n",
       "  0.502,\n",
       "  0.4995],\n",
       " 2012: [0.51049999999999995,\n",
       "  0.49099999999999999,\n",
       "  0.50949999999999995,\n",
       "  0.51549999999999996,\n",
       "  0.50849999999999995],\n",
       " 2013: [0.58799999999999997,\n",
       "  0.53349999999999997,\n",
       "  0.54249999999999998,\n",
       "  0.55400000000000005,\n",
       "  0.57399999999999995],\n",
       " 2014: [0.55700000000000005,\n",
       "  0.53549999999999998,\n",
       "  0.52649999999999997,\n",
       "  0.51849999999999996,\n",
       "  0.54500000000000004],\n",
       " 2015: [0.57299999999999995,\n",
       "  0.51749999999999996,\n",
       "  0.53100000000000003,\n",
       "  0.54649999999999999,\n",
       "  0.54500000000000004],\n",
       " 2016: [0.57799999999999996,\n",
       "  0.5645,\n",
       "  0.55700000000000005,\n",
       "  0.54049999999999998,\n",
       "  0.58750000000000002],\n",
       " 2017: [0.54549999999999998,\n",
       "  0.52549999999999997,\n",
       "  0.53049999999999997,\n",
       "  0.53100000000000003,\n",
       "  0.52900000000000003]}"
      ]
     },
     "execution_count": 27,
     "metadata": {},
     "output_type": "execute_result"
    }
   ],
   "source": [
    "riskValue=1\n",
    "# year=201\n",
    "bustPct=dict((yr,[]) for yr in yearList)\n",
    "for year in yearList:\n",
    "    for riskValue in [0.2,0.4,0.6,0.8,1]:\n",
    "        norm=np.array(simrank[riskValue][year]).sum(axis=0).sum()\n",
    "        bustPct[year].append(np.array(simrank[riskValue][year]).sum(axis=0)[3:,3:].sum()/norm)\n",
    "        \n",
    "bustPct"
   ]
  },
  {
   "cell_type": "code",
   "execution_count": 35,
   "metadata": {
    "ExecuteTime": {
     "end_time": "2018-01-24T16:09:19.068033Z",
     "start_time": "2018-01-24T16:09:19.011163Z"
    },
    "collapsed": true
   },
   "outputs": [],
   "source": [
    "LogisticRegression?"
   ]
  },
  {
   "cell_type": "code",
   "execution_count": 34,
   "metadata": {
    "ExecuteTime": {
     "end_time": "2018-01-24T15:57:37.334932Z",
     "start_time": "2018-01-24T15:57:15.206977Z"
    },
    "scrolled": false
   },
   "outputs": [
    {
     "data": {
      "text/plain": [
       "<matplotlib.figure.Figure at 0x1a18b26390>"
      ]
     },
     "metadata": {},
     "output_type": "display_data"
    },
    {
     "data": {
      "text/plain": [
       "<matplotlib.figure.Figure at 0x1a175caf98>"
      ]
     },
     "metadata": {},
     "output_type": "display_data"
    },
    {
     "data": {
      "text/plain": [
       "<matplotlib.figure.Figure at 0x1a175705c0>"
      ]
     },
     "metadata": {},
     "output_type": "display_data"
    },
    {
     "data": {
      "text/plain": [
       "<matplotlib.figure.Figure at 0x1a175a4828>"
      ]
     },
     "metadata": {},
     "output_type": "display_data"
    },
    {
     "data": {
      "text/plain": [
       "<matplotlib.figure.Figure at 0x1a1763a4e0>"
      ]
     },
     "metadata": {},
     "output_type": "display_data"
    },
    {
     "data": {
      "text/plain": [
       "<matplotlib.figure.Figure at 0x1a14662358>"
      ]
     },
     "metadata": {},
     "output_type": "display_data"
    },
    {
     "data": {
      "text/plain": [
       "<matplotlib.figure.Figure at 0x1a14614710>"
      ]
     },
     "metadata": {},
     "output_type": "display_data"
    },
    {
     "data": {
      "text/plain": [
       "<matplotlib.figure.Figure at 0x1a175ca470>"
      ]
     },
     "metadata": {},
     "output_type": "display_data"
    },
    {
     "data": {
      "text/plain": [
       "<matplotlib.figure.Figure at 0x1a17d9d710>"
      ]
     },
     "metadata": {},
     "output_type": "display_data"
    },
    {
     "data": {
      "text/plain": [
       "<matplotlib.figure.Figure at 0x1a177d8780>"
      ]
     },
     "metadata": {},
     "output_type": "display_data"
    },
    {
     "data": {
      "text/plain": [
       "<matplotlib.figure.Figure at 0x1a17c2dcc0>"
      ]
     },
     "metadata": {},
     "output_type": "display_data"
    },
    {
     "data": {
      "text/plain": [
       "<matplotlib.figure.Figure at 0x1a195e7e10>"
      ]
     },
     "metadata": {},
     "output_type": "display_data"
    },
    {
     "data": {
      "text/plain": [
       "<matplotlib.figure.Figure at 0x1a175790f0>"
      ]
     },
     "metadata": {},
     "output_type": "display_data"
    },
    {
     "data": {
      "text/plain": [
       "<matplotlib.figure.Figure at 0x1a179e3320>"
      ]
     },
     "metadata": {},
     "output_type": "display_data"
    },
    {
     "data": {
      "text/plain": [
       "<matplotlib.figure.Figure at 0x1a1979d320>"
      ]
     },
     "metadata": {},
     "output_type": "display_data"
    },
    {
     "data": {
      "text/plain": [
       "<matplotlib.figure.Figure at 0x1a17d0cd30>"
      ]
     },
     "metadata": {},
     "output_type": "display_data"
    },
    {
     "data": {
      "text/plain": [
       "<matplotlib.figure.Figure at 0x1a17e19898>"
      ]
     },
     "metadata": {},
     "output_type": "display_data"
    },
    {
     "data": {
      "text/plain": [
       "<matplotlib.figure.Figure at 0x1a17e0a160>"
      ]
     },
     "metadata": {},
     "output_type": "display_data"
    },
    {
     "data": {
      "text/plain": [
       "<matplotlib.figure.Figure at 0x1a19620208>"
      ]
     },
     "metadata": {},
     "output_type": "display_data"
    },
    {
     "data": {
      "text/plain": [
       "<matplotlib.figure.Figure at 0x1a179e3630>"
      ]
     },
     "metadata": {},
     "output_type": "display_data"
    },
    {
     "data": {
      "text/plain": [
       "<matplotlib.figure.Figure at 0x1a14979fd0>"
      ]
     },
     "metadata": {},
     "output_type": "display_data"
    },
    {
     "data": {
      "text/plain": [
       "<matplotlib.figure.Figure at 0x1a17c4cba8>"
      ]
     },
     "metadata": {},
     "output_type": "display_data"
    },
    {
     "data": {
      "text/plain": [
       "<matplotlib.figure.Figure at 0x1a17196b70>"
      ]
     },
     "metadata": {},
     "output_type": "display_data"
    },
    {
     "data": {
      "text/plain": [
       "<matplotlib.figure.Figure at 0x1a1791c9b0>"
      ]
     },
     "metadata": {},
     "output_type": "display_data"
    },
    {
     "data": {
      "text/plain": [
       "<matplotlib.figure.Figure at 0x1a17563b00>"
      ]
     },
     "metadata": {},
     "output_type": "display_data"
    },
    {
     "data": {
      "text/plain": [
       "<matplotlib.figure.Figure at 0x1a1460c518>"
      ]
     },
     "metadata": {},
     "output_type": "display_data"
    },
    {
     "data": {
      "text/plain": [
       "<matplotlib.figure.Figure at 0x1a174f0da0>"
      ]
     },
     "metadata": {},
     "output_type": "display_data"
    },
    {
     "data": {
      "text/plain": [
       "<matplotlib.figure.Figure at 0x1a17e29ba8>"
      ]
     },
     "metadata": {},
     "output_type": "display_data"
    },
    {
     "data": {
      "text/plain": [
       "<matplotlib.figure.Figure at 0x1a179976d8>"
      ]
     },
     "metadata": {},
     "output_type": "display_data"
    },
    {
     "data": {
      "text/plain": [
       "<matplotlib.figure.Figure at 0x1a1758e7b8>"
      ]
     },
     "metadata": {},
     "output_type": "display_data"
    },
    {
     "data": {
      "text/plain": [
       "<matplotlib.figure.Figure at 0x1a179556d8>"
      ]
     },
     "metadata": {},
     "output_type": "display_data"
    },
    {
     "data": {
      "text/plain": [
       "<matplotlib.figure.Figure at 0x1a174e4828>"
      ]
     },
     "metadata": {},
     "output_type": "display_data"
    },
    {
     "data": {
      "text/plain": [
       "<matplotlib.figure.Figure at 0x1a175565c0>"
      ]
     },
     "metadata": {},
     "output_type": "display_data"
    },
    {
     "data": {
      "text/plain": [
       "<matplotlib.figure.Figure at 0x1a187e9b00>"
      ]
     },
     "metadata": {},
     "output_type": "display_data"
    },
    {
     "data": {
      "text/plain": [
       "<matplotlib.figure.Figure at 0x1a179e1cc0>"
      ]
     },
     "metadata": {},
     "output_type": "display_data"
    },
    {
     "data": {
      "text/plain": [
       "<matplotlib.figure.Figure at 0x1a17971550>"
      ]
     },
     "metadata": {},
     "output_type": "display_data"
    },
    {
     "data": {
      "text/plain": [
       "<matplotlib.figure.Figure at 0x1a175ac048>"
      ]
     },
     "metadata": {},
     "output_type": "display_data"
    },
    {
     "data": {
      "text/plain": [
       "<matplotlib.figure.Figure at 0x1a17df1e80>"
      ]
     },
     "metadata": {},
     "output_type": "display_data"
    },
    {
     "data": {
      "text/plain": [
       "<matplotlib.figure.Figure at 0x1a17158ac8>"
      ]
     },
     "metadata": {},
     "output_type": "display_data"
    },
    {
     "data": {
      "text/plain": [
       "<matplotlib.figure.Figure at 0x1a1460c860>"
      ]
     },
     "metadata": {},
     "output_type": "display_data"
    },
    {
     "data": {
      "text/plain": [
       "<matplotlib.figure.Figure at 0x1a148d6eb8>"
      ]
     },
     "metadata": {},
     "output_type": "display_data"
    },
    {
     "data": {
      "text/plain": [
       "<matplotlib.figure.Figure at 0x1a19abd588>"
      ]
     },
     "metadata": {},
     "output_type": "display_data"
    },
    {
     "data": {
      "text/plain": [
       "<matplotlib.figure.Figure at 0x1a176ccb00>"
      ]
     },
     "metadata": {},
     "output_type": "display_data"
    },
    {
     "data": {
      "text/plain": [
       "<matplotlib.figure.Figure at 0x1a17e636d8>"
      ]
     },
     "metadata": {},
     "output_type": "display_data"
    },
    {
     "data": {
      "text/plain": [
       "<matplotlib.figure.Figure at 0x1a17c92c50>"
      ]
     },
     "metadata": {},
     "output_type": "display_data"
    },
    {
     "data": {
      "text/plain": [
       "<matplotlib.figure.Figure at 0x1a146cf0b8>"
      ]
     },
     "metadata": {},
     "output_type": "display_data"
    },
    {
     "data": {
      "text/plain": [
       "<matplotlib.figure.Figure at 0x1a18cbedd8>"
      ]
     },
     "metadata": {},
     "output_type": "display_data"
    },
    {
     "data": {
      "text/plain": [
       "<matplotlib.figure.Figure at 0x1a17d430f0>"
      ]
     },
     "metadata": {},
     "output_type": "display_data"
    },
    {
     "data": {
      "text/plain": [
       "<matplotlib.figure.Figure at 0x1a17a590b8>"
      ]
     },
     "metadata": {},
     "output_type": "display_data"
    },
    {
     "data": {
      "text/plain": [
       "<matplotlib.figure.Figure at 0x1a17d913c8>"
      ]
     },
     "metadata": {},
     "output_type": "display_data"
    },
    {
     "data": {
      "text/plain": [
       "<matplotlib.figure.Figure at 0x1a17e02470>"
      ]
     },
     "metadata": {},
     "output_type": "display_data"
    },
    {
     "data": {
      "text/plain": [
       "<matplotlib.figure.Figure at 0x1a146ef518>"
      ]
     },
     "metadata": {},
     "output_type": "display_data"
    },
    {
     "data": {
      "text/plain": [
       "<matplotlib.figure.Figure at 0x1a17b966a0>"
      ]
     },
     "metadata": {},
     "output_type": "display_data"
    },
    {
     "data": {
      "text/plain": [
       "<matplotlib.figure.Figure at 0x1a19b07ef0>"
      ]
     },
     "metadata": {},
     "output_type": "display_data"
    },
    {
     "data": {
      "text/plain": [
       "<matplotlib.figure.Figure at 0x1a1778f4e0>"
      ]
     },
     "metadata": {},
     "output_type": "display_data"
    },
    {
     "data": {
      "text/plain": [
       "<matplotlib.figure.Figure at 0x1a18aff5c0>"
      ]
     },
     "metadata": {},
     "output_type": "display_data"
    },
    {
     "data": {
      "text/plain": [
       "<matplotlib.figure.Figure at 0x1a17aec898>"
      ]
     },
     "metadata": {},
     "output_type": "display_data"
    },
    {
     "data": {
      "text/plain": [
       "<matplotlib.figure.Figure at 0x1a19b58940>"
      ]
     },
     "metadata": {},
     "output_type": "display_data"
    },
    {
     "data": {
      "text/plain": [
       "<matplotlib.figure.Figure at 0x1a17c95208>"
      ]
     },
     "metadata": {},
     "output_type": "display_data"
    },
    {
     "data": {
      "text/plain": [
       "<matplotlib.figure.Figure at 0x1a17c28278>"
      ]
     },
     "metadata": {},
     "output_type": "display_data"
    },
    {
     "data": {
      "text/plain": [
       "<matplotlib.figure.Figure at 0x1a17903e80>"
      ]
     },
     "metadata": {},
     "output_type": "display_data"
    },
    {
     "data": {
      "text/plain": [
       "<matplotlib.figure.Figure at 0x1a149035c0>"
      ]
     },
     "metadata": {},
     "output_type": "display_data"
    },
    {
     "data": {
      "text/plain": [
       "<matplotlib.figure.Figure at 0x1a17a63278>"
      ]
     },
     "metadata": {},
     "output_type": "display_data"
    },
    {
     "data": {
      "text/plain": [
       "<matplotlib.figure.Figure at 0x1a17d31be0>"
      ]
     },
     "metadata": {},
     "output_type": "display_data"
    },
    {
     "data": {
      "text/plain": [
       "<matplotlib.figure.Figure at 0x1a17ac15c0>"
      ]
     },
     "metadata": {},
     "output_type": "display_data"
    },
    {
     "data": {
      "text/plain": [
       "<matplotlib.figure.Figure at 0x1a17cde898>"
      ]
     },
     "metadata": {},
     "output_type": "display_data"
    },
    {
     "data": {
      "text/plain": [
       "<matplotlib.figure.Figure at 0x1a17d6a438>"
      ]
     },
     "metadata": {},
     "output_type": "display_data"
    },
    {
     "data": {
      "text/plain": [
       "<matplotlib.figure.Figure at 0x1a17955e48>"
      ]
     },
     "metadata": {},
     "output_type": "display_data"
    },
    {
     "data": {
      "text/plain": [
       "<matplotlib.figure.Figure at 0x1a18b27c18>"
      ]
     },
     "metadata": {},
     "output_type": "display_data"
    },
    {
     "data": {
      "text/plain": [
       "<matplotlib.figure.Figure at 0x1a17c85eb8>"
      ]
     },
     "metadata": {},
     "output_type": "display_data"
    }
   ],
   "source": [
    "for year in yearList:\n",
    "    for riskValue in [0.2,0.4,0.6,0.8,1]:\n",
    "        rankingArray=np.array(realrank[riskValue][year]).sum(axis=0).T\n",
    "        plt.figure()\n",
    "        plt.imshow(rankingArray,origin='lower')\n",
    "        plt.colorbar()\n",
    "        plt.title('Back-testing '+str(year)+ ', risk = '+str(riskValue))\n",
    "        plt.xlabel('First bracket ranking')\n",
    "        plt.ylabel('Second bracket ranking')\n",
    "        plt.savefig('backtest-'+str(year)+'-r_'+str(riskValue*10).zfill(2)+'.png')\n",
    "        plt.clf()"
   ]
  },
  {
   "cell_type": "code",
   "execution_count": 40,
   "metadata": {
    "ExecuteTime": {
     "end_time": "2018-01-25T04:58:22.935492Z",
     "start_time": "2018-01-25T04:58:22.929585Z"
    }
   },
   "outputs": [
    {
     "data": {
      "text/plain": [
       "array([ 5, 10, 15, 20, 25, 30, 35, 40, 45, 50])"
      ]
     },
     "execution_count": 40,
     "metadata": {},
     "output_type": "execute_result"
    }
   ],
   "source": [
    "np.arange(5,51,5)"
   ]
  },
  {
   "cell_type": "code",
   "execution_count": 86,
   "metadata": {
    "ExecuteTime": {
     "end_time": "2018-01-24T02:28:33.007048Z",
     "start_time": "2018-01-24T02:28:32.975172Z"
    }
   },
   "outputs": [
    {
     "ename": "KeyError",
     "evalue": "2017",
     "output_type": "error",
     "traceback": [
      "\u001b[0;31m---------------------------------------------------------------------------\u001b[0m",
      "\u001b[0;31mKeyError\u001b[0m                                  Traceback (most recent call last)",
      "\u001b[0;32m<ipython-input-86-d58b72dce8cc>\u001b[0m in \u001b[0;36m<module>\u001b[0;34m()\u001b[0m\n\u001b[1;32m      1\u001b[0m \u001b[0myear\u001b[0m\u001b[0;34m=\u001b[0m\u001b[0;36m2017\u001b[0m\u001b[0;34m\u001b[0m\u001b[0m\n\u001b[0;32m----> 2\u001b[0;31m \u001b[0mprint\u001b[0m\u001b[0;34m(\u001b[0m\u001b[0mnp\u001b[0m\u001b[0;34m.\u001b[0m\u001b[0marray\u001b[0m\u001b[0;34m(\u001b[0m\u001b[0;34m[\u001b[0m\u001b[0mnp\u001b[0m\u001b[0;34m.\u001b[0m\u001b[0marray\u001b[0m\u001b[0;34m(\u001b[0m\u001b[0mreal\u001b[0m\u001b[0;34m[\u001b[0m\u001b[0myear\u001b[0m\u001b[0;34m]\u001b[0m\u001b[0;34m)\u001b[0m\u001b[0;34m[\u001b[0m\u001b[0;34m:\u001b[0m\u001b[0;34m,\u001b[0m\u001b[0;36m0\u001b[0m\u001b[0;34m]\u001b[0m\u001b[0;34m.\u001b[0m\u001b[0mmean\u001b[0m\u001b[0;34m(\u001b[0m\u001b[0;34m)\u001b[0m \u001b[0;32mfor\u001b[0m \u001b[0myear\u001b[0m \u001b[0;32min\u001b[0m \u001b[0myearList\u001b[0m\u001b[0;34m]\u001b[0m\u001b[0;34m)\u001b[0m\u001b[0;34m.\u001b[0m\u001b[0mmean\u001b[0m\u001b[0;34m(\u001b[0m\u001b[0;34m)\u001b[0m\u001b[0;34m)\u001b[0m\u001b[0;34m\u001b[0m\u001b[0m\n\u001b[0m\u001b[1;32m      3\u001b[0m \u001b[0mprint\u001b[0m\u001b[0;34m(\u001b[0m\u001b[0mnp\u001b[0m\u001b[0;34m.\u001b[0m\u001b[0marray\u001b[0m\u001b[0;34m(\u001b[0m\u001b[0;34m[\u001b[0m\u001b[0mnp\u001b[0m\u001b[0;34m.\u001b[0m\u001b[0marray\u001b[0m\u001b[0;34m(\u001b[0m\u001b[0msim\u001b[0m\u001b[0;34m[\u001b[0m\u001b[0myear\u001b[0m\u001b[0;34m]\u001b[0m\u001b[0;34m)\u001b[0m\u001b[0;34m[\u001b[0m\u001b[0;34m:\u001b[0m\u001b[0;34m,\u001b[0m\u001b[0;36m0\u001b[0m\u001b[0;34m]\u001b[0m\u001b[0;34m.\u001b[0m\u001b[0mmean\u001b[0m\u001b[0;34m(\u001b[0m\u001b[0;34m)\u001b[0m \u001b[0;32mfor\u001b[0m \u001b[0myear\u001b[0m \u001b[0;32min\u001b[0m \u001b[0myearList\u001b[0m\u001b[0;34m]\u001b[0m\u001b[0;34m)\u001b[0m\u001b[0;34m.\u001b[0m\u001b[0mmean\u001b[0m\u001b[0;34m(\u001b[0m\u001b[0;34m)\u001b[0m\u001b[0;34m)\u001b[0m\u001b[0;34m\u001b[0m\u001b[0m\n\u001b[1;32m      4\u001b[0m \u001b[0;34m\u001b[0m\u001b[0m\n\u001b[1;32m      5\u001b[0m \u001b[0mprint\u001b[0m\u001b[0;34m(\u001b[0m\u001b[0mnp\u001b[0m\u001b[0;34m.\u001b[0m\u001b[0marray\u001b[0m\u001b[0;34m(\u001b[0m\u001b[0;34m[\u001b[0m\u001b[0mnp\u001b[0m\u001b[0;34m.\u001b[0m\u001b[0marray\u001b[0m\u001b[0;34m(\u001b[0m\u001b[0mreal\u001b[0m\u001b[0;34m[\u001b[0m\u001b[0myear\u001b[0m\u001b[0;34m]\u001b[0m\u001b[0;34m)\u001b[0m\u001b[0;34m[\u001b[0m\u001b[0;34m:\u001b[0m\u001b[0;34m,\u001b[0m\u001b[0;36m1\u001b[0m\u001b[0;34m]\u001b[0m\u001b[0;34m.\u001b[0m\u001b[0mmean\u001b[0m\u001b[0;34m(\u001b[0m\u001b[0;34m)\u001b[0m \u001b[0;32mfor\u001b[0m \u001b[0myear\u001b[0m \u001b[0;32min\u001b[0m \u001b[0myearList\u001b[0m\u001b[0;34m]\u001b[0m\u001b[0;34m)\u001b[0m\u001b[0;34m.\u001b[0m\u001b[0mmean\u001b[0m\u001b[0;34m(\u001b[0m\u001b[0;34m)\u001b[0m\u001b[0;34m)\u001b[0m\u001b[0;34m\u001b[0m\u001b[0m\n",
      "\u001b[0;32m<ipython-input-86-d58b72dce8cc>\u001b[0m in \u001b[0;36m<listcomp>\u001b[0;34m(.0)\u001b[0m\n\u001b[1;32m      1\u001b[0m \u001b[0myear\u001b[0m\u001b[0;34m=\u001b[0m\u001b[0;36m2017\u001b[0m\u001b[0;34m\u001b[0m\u001b[0m\n\u001b[0;32m----> 2\u001b[0;31m \u001b[0mprint\u001b[0m\u001b[0;34m(\u001b[0m\u001b[0mnp\u001b[0m\u001b[0;34m.\u001b[0m\u001b[0marray\u001b[0m\u001b[0;34m(\u001b[0m\u001b[0;34m[\u001b[0m\u001b[0mnp\u001b[0m\u001b[0;34m.\u001b[0m\u001b[0marray\u001b[0m\u001b[0;34m(\u001b[0m\u001b[0mreal\u001b[0m\u001b[0;34m[\u001b[0m\u001b[0myear\u001b[0m\u001b[0;34m]\u001b[0m\u001b[0;34m)\u001b[0m\u001b[0;34m[\u001b[0m\u001b[0;34m:\u001b[0m\u001b[0;34m,\u001b[0m\u001b[0;36m0\u001b[0m\u001b[0;34m]\u001b[0m\u001b[0;34m.\u001b[0m\u001b[0mmean\u001b[0m\u001b[0;34m(\u001b[0m\u001b[0;34m)\u001b[0m \u001b[0;32mfor\u001b[0m \u001b[0myear\u001b[0m \u001b[0;32min\u001b[0m \u001b[0myearList\u001b[0m\u001b[0;34m]\u001b[0m\u001b[0;34m)\u001b[0m\u001b[0;34m.\u001b[0m\u001b[0mmean\u001b[0m\u001b[0;34m(\u001b[0m\u001b[0;34m)\u001b[0m\u001b[0;34m)\u001b[0m\u001b[0;34m\u001b[0m\u001b[0m\n\u001b[0m\u001b[1;32m      3\u001b[0m \u001b[0mprint\u001b[0m\u001b[0;34m(\u001b[0m\u001b[0mnp\u001b[0m\u001b[0;34m.\u001b[0m\u001b[0marray\u001b[0m\u001b[0;34m(\u001b[0m\u001b[0;34m[\u001b[0m\u001b[0mnp\u001b[0m\u001b[0;34m.\u001b[0m\u001b[0marray\u001b[0m\u001b[0;34m(\u001b[0m\u001b[0msim\u001b[0m\u001b[0;34m[\u001b[0m\u001b[0myear\u001b[0m\u001b[0;34m]\u001b[0m\u001b[0;34m)\u001b[0m\u001b[0;34m[\u001b[0m\u001b[0;34m:\u001b[0m\u001b[0;34m,\u001b[0m\u001b[0;36m0\u001b[0m\u001b[0;34m]\u001b[0m\u001b[0;34m.\u001b[0m\u001b[0mmean\u001b[0m\u001b[0;34m(\u001b[0m\u001b[0;34m)\u001b[0m \u001b[0;32mfor\u001b[0m \u001b[0myear\u001b[0m \u001b[0;32min\u001b[0m \u001b[0myearList\u001b[0m\u001b[0;34m]\u001b[0m\u001b[0;34m)\u001b[0m\u001b[0;34m.\u001b[0m\u001b[0mmean\u001b[0m\u001b[0;34m(\u001b[0m\u001b[0;34m)\u001b[0m\u001b[0;34m)\u001b[0m\u001b[0;34m\u001b[0m\u001b[0m\n\u001b[1;32m      4\u001b[0m \u001b[0;34m\u001b[0m\u001b[0m\n\u001b[1;32m      5\u001b[0m \u001b[0mprint\u001b[0m\u001b[0;34m(\u001b[0m\u001b[0mnp\u001b[0m\u001b[0;34m.\u001b[0m\u001b[0marray\u001b[0m\u001b[0;34m(\u001b[0m\u001b[0;34m[\u001b[0m\u001b[0mnp\u001b[0m\u001b[0;34m.\u001b[0m\u001b[0marray\u001b[0m\u001b[0;34m(\u001b[0m\u001b[0mreal\u001b[0m\u001b[0;34m[\u001b[0m\u001b[0myear\u001b[0m\u001b[0;34m]\u001b[0m\u001b[0;34m)\u001b[0m\u001b[0;34m[\u001b[0m\u001b[0;34m:\u001b[0m\u001b[0;34m,\u001b[0m\u001b[0;36m1\u001b[0m\u001b[0;34m]\u001b[0m\u001b[0;34m.\u001b[0m\u001b[0mmean\u001b[0m\u001b[0;34m(\u001b[0m\u001b[0;34m)\u001b[0m \u001b[0;32mfor\u001b[0m \u001b[0myear\u001b[0m \u001b[0;32min\u001b[0m \u001b[0myearList\u001b[0m\u001b[0;34m]\u001b[0m\u001b[0;34m)\u001b[0m\u001b[0;34m.\u001b[0m\u001b[0mmean\u001b[0m\u001b[0;34m(\u001b[0m\u001b[0;34m)\u001b[0m\u001b[0;34m)\u001b[0m\u001b[0;34m\u001b[0m\u001b[0m\n",
      "\u001b[0;31mKeyError\u001b[0m: 2017"
     ]
    }
   ],
   "source": [
    "year=2017\n",
    "print(np.array([np.array(real[year])[:,0].mean() for year in yearList]).mean())\n",
    "print(np.array([np.array(sim[year])[:,0].mean() for year in yearList]).mean())\n",
    "\n",
    "print(np.array([np.array(real[year])[:,1].mean() for year in yearList]).mean())\n",
    "print(np.array([np.array(sim[year])[:,1].mean() for year in yearList]).mean())\n"
   ]
  },
  {
   "cell_type": "code",
   "execution_count": 47,
   "metadata": {
    "ExecuteTime": {
     "end_time": "2018-01-23T23:45:36.114678Z",
     "start_time": "2018-01-23T23:45:35.517393Z"
    }
   },
   "outputs": [
    {
     "data": {
      "image/png": "[encoded data removed]",
      "text/plain": [
       "<matplotlib.figure.Figure at 0x1a21e2cba8>"
      ]
     },
     "metadata": {},
     "output_type": "display_data"
    }
   ],
   "source": [
    "ymax=10\n",
    "\n",
    "yearList=np.arange(2017,2003,-1)\n",
    "plt.subplot(2,2,1)\n",
    "plt.plot(np.array([np.array(real[year])[:,0].cumsum()/(np.arange(len(sim[year]))+1) \n",
    "                   for year in yearList]).mean(axis=0))\n",
    "plt.ylim(0,ymax)\n",
    "plt.title('First bracket real')\n",
    "\n",
    "plt.subplot(2,2,2)\n",
    "plt.plot(np.array([np.array(sim[year])[:,0].cumsum()/(np.arange(len(sim[year]))+1) \n",
    "                   for year in yearList]).mean(axis=0))\n",
    "plt.ylim(0,ymax)\n",
    "plt.title('First bracket sim')\n",
    "\n",
    "\n",
    "plt.subplot(2,2,3)\n",
    "plt.plot(np.array([np.array(real[year])[:,1].cumsum()/(np.arange(len(sim[year]))+1) \n",
    "                   for year in yearList]).mean(axis=0))\n",
    "plt.ylim(0,ymax)\n",
    "plt.title('Second bracket real')\n",
    "\n",
    "plt.subplot(2,2,4)\n",
    "plt.plot(np.array([np.array(sim[year])[:,1].cumsum()/(np.arange(len(sim[year]))+1) \n",
    "                   for year in yearList]).mean(axis=0))\n",
    "plt.ylim(0,ymax)\n",
    "plt.title('Second bracket sim')\n",
    "plt.tight_layout()\n",
    "\n"
   ]
  },
  {
   "cell_type": "code",
   "execution_count": 36,
   "metadata": {
    "ExecuteTime": {
     "end_time": "2018-01-23T22:06:32.559250Z",
     "start_time": "2018-01-23T22:06:32.042881Z"
    }
   },
   "outputs": [
    {
     "data": {
      "image/png": "[encoded data removed]",
      "text/plain": [
       "<matplotlib.figure.Figure at 0x1a17127f60>"
      ]
     },
     "metadata": {},
     "output_type": "display_data"
    }
   ],
   "source": [
    "plt.subplot(1,2,1)\n",
    "plt.hist(np.array([np.array(sim[year])[:,0] for year in np.arange(2017,2003,-1)]).flatten(),bins=range(20),color=[1,0,0,0.5]);\n",
    "plt.hist(np.array([np.array(sim[year])[:,1] for year in np.arange(2017,2003,-1)]).flatten(),bins=range(20),color=[0,0,1,0.5]);\n",
    "plt.subplot(1,2,2)\n",
    "\n",
    "plt.hist(np.array([np.array(real[year])[:,0] for year in np.arange(2017,2003,-1)]).flatten(),bins=range(20),color=[1,0,0,0.5]);\n",
    "plt.hist(np.array([np.array(real[year])[:,1] for year in np.arange(2017,2003,-1)]).flatten(),bins=range(20),color=[0,0,1,0.5]);"
   ]
  },
  {
   "cell_type": "code",
   "execution_count": 23,
   "metadata": {
    "ExecuteTime": {
     "end_time": "2018-01-23T21:59:28.078772Z",
     "start_time": "2018-01-23T21:59:28.069316Z"
    }
   },
   "outputs": [
    {
     "name": "stdout",
     "output_type": "stream",
     "text": [
      "5.58893571429\n",
      "2.82238075158\n"
     ]
    }
   ],
   "source": [
    "print(np.array([np.array(real[year])[:,0].mean() for year in np.arange(2017,2003,-1)]).mean())\n",
    "print(np.array([np.array(sim[year])[:,0].mean() for year in np.arange(2017,2003,-1)]).mean())"
   ]
  },
  {
   "cell_type": "code",
   "execution_count": 24,
   "metadata": {
    "ExecuteTime": {
     "end_time": "2018-01-23T21:59:31.093664Z",
     "start_time": "2018-01-23T21:59:31.084317Z"
    }
   },
   "outputs": [
    {
     "name": "stdout",
     "output_type": "stream",
     "text": [
      "3.33245\n",
      "2.02247991328\n"
     ]
    }
   ],
   "source": [
    "print(np.array([np.array(real[year])[:,1].mean() for year in np.arange(2017,2003,-1)]).mean())\n",
    "print(np.array([np.array(sim[year])[:,1].mean() for year in np.arange(2017,2003,-1)]).mean())"
   ]
  }
 ],
 "metadata": {
  "kernelspec": {
   "display_name": "Python 3",
   "language": "python",
   "name": "python3"
  },
  "language_info": {
   "codemirror_mode": {
    "name": "ipython",
    "version": 3
   },
   "file_extension": ".py",
   "mimetype": "text/x-python",
   "name": "python",
   "nbconvert_exporter": "python",
   "pygments_lexer": "ipython3",
   "version": "3.6.3"
  },
  "toc": {
   "nav_menu": {},
   "number_sections": true,
   "sideBar": true,
   "skip_h1_title": false,
   "toc_cell": false,
   "toc_position": {
    "height": "1219px",
    "left": "0px",
    "right": "1431.34px",
    "top": "107px",
    "width": "212px"
   },
   "toc_section_display": "block",
   "toc_window_display": true
  }
 },
 "nbformat": 4,
 "nbformat_minor": 2
}
