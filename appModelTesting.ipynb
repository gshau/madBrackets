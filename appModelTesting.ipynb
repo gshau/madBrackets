{
 "cells": [
  {
   "cell_type": "code",
   "execution_count": 1,
   "metadata": {
    "ExecuteTime": {
     "end_time": "2018-01-30T15:22:26.834288Z",
     "start_time": "2018-01-30T15:22:25.759085Z"
    },
    "collapsed": true
   },
   "outputs": [],
   "source": [
    "%matplotlib inline\n",
    "import matplotlib\n",
    "import matplotlib.pyplot as plt\n",
    "matplotlib.rcParams['figure.figsize'] = (16.0, 12.0)\n",
    "matplotlib.rcParams['font.size']=18\n",
    "matplotlib.rcParams['xtick.labelsize']=18\n",
    "matplotlib.rcParams['ytick.labelsize']=18\n",
    "\n",
    "import numpy as np\n",
    "import pandas as pd\n",
    "\n",
    "from sqlalchemy import create_engine\n",
    "\n",
    "%load_ext line_profiler"
   ]
  },
  {
   "cell_type": "code",
   "execution_count": 4,
   "metadata": {
    "ExecuteTime": {
     "end_time": "2018-01-30T15:22:50.607303Z",
     "start_time": "2018-01-30T15:22:50.125632Z"
    },
    "collapsed": true
   },
   "outputs": [],
   "source": [
    "from server.app import model"
   ]
  },
  {
   "cell_type": "code",
   "execution_count": 5,
   "metadata": {
    "ExecuteTime": {
     "end_time": "2018-01-30T15:22:54.806550Z",
     "start_time": "2018-01-30T15:22:54.759528Z"
    },
    "collapsed": true
   },
   "outputs": [],
   "source": [
    "user='gshau'\n",
    "host='localhost'\n",
    "dbname='birth_db'\n",
    "\n",
    "dbname = 'ncaabb'\n",
    "username = 'gshau' # change this to your username\n",
    "engine = create_engine('postgres://%s@localhost/%s'%(username,dbname))\n",
    "\n",
    "years = model.getYears()\n",
    "year=2017\n",
    "pointsByRound=[1,2,4,8,16,32]"
   ]
  },
  {
   "cell_type": "code",
   "execution_count": 6,
   "metadata": {
    "ExecuteTime": {
     "end_time": "2018-01-30T15:22:56.020756Z",
     "start_time": "2018-01-30T15:22:55.997091Z"
    },
    "collapsed": true
   },
   "outputs": [],
   "source": [
    "def runPoolSim(year=2017,risk=0.3):\n",
    "    t=model.Tournament(year)\n",
    "    pool=model.Pool(t,poolSize=25,pointSystem=dict([(i+2, pointsByRound[i]) for i in np.arange(6)]),risk=risk)\n",
    "    pool.loadTourneySets()\n",
    "    print('----', year, '----')\n",
    "    sim=[]\n",
    "    simrank=[]\n",
    "    real=[]\n",
    "    realrank=[]\n",
    "    poolList=[]\n",
    "    for rep in range(20):\n",
    "        pool.simulatePool(useRealBracket=False,verbose=False,nrep=20)\n",
    "        poolList.append(pool)\n",
    "    return poolList\n"
   ]
  },
  {
   "cell_type": "code",
   "execution_count": 7,
   "metadata": {
    "ExecuteTime": {
     "end_time": "2018-01-30T15:22:58.617954Z",
     "start_time": "2018-01-30T15:22:56.514522Z"
    }
   },
   "outputs": [
    {
     "name": "stdout",
     "output_type": "stream",
     "text": [
      "Load: Tournament length:  1000\n",
      "---- 2008 ----\n",
      "CPU times: user 1.88 s, sys: 92.4 ms, total: 1.97 s\n",
      "Wall time: 2.1 s\n"
     ]
    }
   ],
   "source": [
    "%time poolList=runPoolSim(year=2008)"
   ]
  },
  {
   "cell_type": "code",
   "execution_count": 8,
   "metadata": {
    "ExecuteTime": {
     "end_time": "2018-01-25T22:59:52.811939Z",
     "start_time": "2018-01-25T22:55:50.817829Z"
    }
   },
   "outputs": [
    {
     "name": "stdout",
     "output_type": "stream",
     "text": [
      "2017\n",
      "Save: Tournament length:  1000\n",
      "2016\n",
      "Save: Tournament length:  1000\n",
      "2015\n",
      "Save: Tournament length:  1000\n",
      "2014\n",
      "Save: Tournament length:  1000\n",
      "2013\n",
      "Save: Tournament length:  1000\n",
      "2012\n",
      "Save: Tournament length:  1000\n",
      "2011\n",
      "Save: Tournament length:  1000\n",
      "2010\n",
      "Save: Tournament length:  1000\n",
      "2009\n",
      "Save: Tournament length:  1000\n",
      "2008\n",
      "Save: Tournament length:  1000\n",
      "2007\n",
      "Save: Tournament length:  1000\n",
      "2006\n",
      "Save: Tournament length:  1000\n",
      "2005\n",
      "Save: Tournament length:  1000\n",
      "2004\n",
      "Save: Tournament length:  1000\n"
     ]
    }
   ],
   "source": [
    "yearList=np.arange(2017,2003,-1)\n",
    "for yr in yearList:\n",
    "    print(yr)\n",
    "    t=model.Tournament(yr)\n",
    "    pool=model.Pool(t,poolSize=25,pointSystem=dict([(i+2, pointsByRound[i]) for i in np.arange(6)]))\n",
    "    pool.getTourneySets(ntourney=1000,scaleFactor=0.481)  "
   ]
  },
  {
   "cell_type": "markdown",
   "metadata": {},
   "source": [
    "Check performance of function"
   ]
  },
  {
   "cell_type": "code",
   "execution_count": 11,
   "metadata": {
    "ExecuteTime": {
     "end_time": "2018-01-30T15:24:02.149535Z",
     "start_time": "2018-01-30T15:23:58.390264Z"
    }
   },
   "outputs": [
    {
     "name": "stdout",
     "output_type": "stream",
     "text": [
      "Load: Tournament length:  1000\n",
      "---- 2017 ----\n"
     ]
    }
   ],
   "source": [
    "t=model.Tournament(2015)\n",
    "pool=model.Pool(t,poolSize=25,pointSystem=dict([(i+2, pointsByRound[i]) for i in np.arange(6)]))\n",
    "%lprun -f pool.simulatePool runPoolSim()"
   ]
  },
  {
   "cell_type": "code",
   "execution_count": 15,
   "metadata": {
    "ExecuteTime": {
     "end_time": "2018-01-30T15:25:08.621717Z",
     "start_time": "2018-01-30T15:25:06.093230Z"
    },
    "collapsed": true
   },
   "outputs": [],
   "source": [
    "# pool.loadTourneySets()\n",
    "%lprun -f model.compareBrackets pool.getGoodBracket()"
   ]
  },
  {
   "cell_type": "markdown",
   "metadata": {},
   "source": [
    "Run back-testing vs. previous 13 years.  Vary the risk level to check against expected payouts and ranks."
   ]
  },
  {
   "cell_type": "code",
   "execution_count": 16,
   "metadata": {
    "ExecuteTime": {
     "end_time": "2018-01-30T15:37:12.877726Z",
     "start_time": "2018-01-30T15:25:24.637653Z"
    }
   },
   "outputs": [
    {
     "name": "stdout",
     "output_type": "stream",
     "text": [
      "Load: Tournament length:  1000\n",
      "---- 2017 ----\n",
      "Load: Tournament length:  1000\n",
      "---- 2016 ----\n",
      "Load: Tournament length:  1000\n",
      "---- 2015 ----\n",
      "Load: Tournament length:  1000\n",
      "---- 2014 ----\n",
      "Load: Tournament length:  1000\n",
      "---- 2013 ----\n",
      "Load: Tournament length:  1000\n",
      "---- 2012 ----\n",
      "Load: Tournament length:  1000\n",
      "---- 2011 ----\n",
      "Load: Tournament length:  1000\n",
      "---- 2010 ----\n",
      "Load: Tournament length:  1000\n",
      "---- 2009 ----\n",
      "Load: Tournament length:  1000\n",
      "---- 2008 ----\n",
      "Load: Tournament length:  1000\n",
      "---- 2007 ----\n",
      "Load: Tournament length:  1000\n",
      "---- 2006 ----\n",
      "Load: Tournament length:  1000\n",
      "---- 2005 ----\n",
      "Load: Tournament length:  1000\n",
      "---- 2004 ----\n",
      "Load: Tournament length:  1000\n",
      "---- 2017 ----\n",
      "Load: Tournament length:  1000\n",
      "---- 2016 ----\n",
      "Load: Tournament length:  1000\n",
      "---- 2015 ----\n",
      "Load: Tournament length:  1000\n",
      "---- 2014 ----\n",
      "Load: Tournament length:  1000\n",
      "---- 2013 ----\n",
      "Load: Tournament length:  1000\n",
      "---- 2012 ----\n",
      "Load: Tournament length:  1000\n",
      "---- 2011 ----\n",
      "Load: Tournament length:  1000\n",
      "---- 2010 ----\n",
      "Load: Tournament length:  1000\n",
      "---- 2009 ----\n",
      "Load: Tournament length:  1000\n",
      "---- 2008 ----\n",
      "Load: Tournament length:  1000\n",
      "---- 2007 ----\n",
      "Load: Tournament length:  1000\n",
      "---- 2006 ----\n",
      "Load: Tournament length:  1000\n",
      "---- 2005 ----\n",
      "Load: Tournament length:  1000\n",
      "---- 2004 ----\n",
      "Load: Tournament length:  1000\n",
      "---- 2017 ----\n",
      "Load: Tournament length:  1000\n",
      "---- 2016 ----\n",
      "Load: Tournament length:  1000\n",
      "---- 2015 ----\n",
      "Load: Tournament length:  1000\n",
      "---- 2014 ----\n",
      "Load: Tournament length:  1000\n",
      "---- 2013 ----\n",
      "Load: Tournament length:  1000\n",
      "---- 2012 ----\n",
      "Load: Tournament length:  1000\n",
      "---- 2011 ----\n",
      "Load: Tournament length:  1000\n",
      "---- 2010 ----\n",
      "Load: Tournament length:  1000\n",
      "---- 2009 ----\n",
      "Load: Tournament length:  1000\n",
      "---- 2008 ----\n",
      "Load: Tournament length:  1000\n",
      "---- 2007 ----\n",
      "Load: Tournament length:  1000\n",
      "---- 2006 ----\n",
      "Load: Tournament length:  1000\n",
      "---- 2005 ----\n",
      "Load: Tournament length:  1000\n",
      "---- 2004 ----\n",
      "Load: Tournament length:  1000\n",
      "---- 2017 ----\n",
      "Load: Tournament length:  1000\n",
      "---- 2016 ----\n",
      "Load: Tournament length:  1000\n",
      "---- 2015 ----\n",
      "Load: Tournament length:  1000\n",
      "---- 2014 ----\n",
      "Load: Tournament length:  1000\n",
      "---- 2013 ----\n",
      "Load: Tournament length:  1000\n",
      "---- 2012 ----\n",
      "Load: Tournament length:  1000\n",
      "---- 2011 ----\n",
      "Load: Tournament length:  1000\n",
      "---- 2010 ----\n",
      "Load: Tournament length:  1000\n",
      "---- 2009 ----\n",
      "Load: Tournament length:  1000\n",
      "---- 2008 ----\n",
      "Load: Tournament length:  1000\n",
      "---- 2007 ----\n",
      "Load: Tournament length:  1000\n",
      "---- 2006 ----\n",
      "Load: Tournament length:  1000\n",
      "---- 2005 ----\n",
      "Load: Tournament length:  1000\n",
      "---- 2004 ----\n",
      "Load: Tournament length:  1000\n",
      "---- 2017 ----\n",
      "Load: Tournament length:  1000\n",
      "---- 2016 ----\n",
      "Load: Tournament length:  1000\n",
      "---- 2015 ----\n",
      "Load: Tournament length:  1000\n",
      "---- 2014 ----\n",
      "Load: Tournament length:  1000\n",
      "---- 2013 ----\n",
      "Load: Tournament length:  1000\n",
      "---- 2012 ----\n",
      "Load: Tournament length:  1000\n",
      "---- 2011 ----\n",
      "Load: Tournament length:  1000\n",
      "---- 2010 ----\n",
      "Load: Tournament length:  1000\n",
      "---- 2009 ----\n",
      "Load: Tournament length:  1000\n",
      "---- 2008 ----\n",
      "Load: Tournament length:  1000\n",
      "---- 2007 ----\n",
      "Load: Tournament length:  1000\n",
      "---- 2006 ----\n",
      "Load: Tournament length:  1000\n",
      "---- 2005 ----\n",
      "Load: Tournament length:  1000\n",
      "---- 2004 ----\n"
     ]
    }
   ],
   "source": [
    "yearList=np.arange(2017,2003,-1)\n",
    "nPools=100\n",
    "real={}\n",
    "sim={}\n",
    "realrank={}\n",
    "simrank={}\n",
    "riskList=[0.2,0.4,0.6,0.8,1.]\n",
    "# riskList=[0.4]\n",
    "for risk in riskList:\n",
    "    real[risk]={}\n",
    "    sim[risk]={}\n",
    "    realrank[risk]={}\n",
    "    simrank[risk]={}\n",
    "    for year in yearList:\n",
    "        real[risk][year]=[]\n",
    "        sim[risk][year]=[]\n",
    "        realrank[risk][year]=[]\n",
    "        simrank[risk][year]=[]\n",
    "        t=model.Tournament(year)\n",
    "        pool=model.Pool(t,poolSize=25,pointSystem=dict([(i+2, pointsByRound[i]) for i in np.arange(6)]),risk=risk)\n",
    "        pool.loadTourneySets()\n",
    "        print('----', year, '----')\n",
    "\n",
    "        for rep in range(nPools):\n",
    "            pool.simulatePool(useRealBracket=False,verbose=False,nrep=20)\n",
    "            sim[risk][year].append(list(pool.summary['expPayout']))\n",
    "            simrank[risk][year].append(pool.summary['ranks'])\n",
    "            pool.simulatePool(useRealBracket=True,verbose=False,nrep=20)\n",
    "            real[risk][year].append(list(pool.summary['expPayout']))\n",
    "            realrank[risk][year].append(pool.summary['ranks'])\n",
    "\n",
    "            "
   ]
  },
  {
   "cell_type": "markdown",
   "metadata": {},
   "source": [
    "Output final rank heatmap from back-testing to images"
   ]
  },
  {
   "cell_type": "code",
   "execution_count": 173,
   "metadata": {
    "ExecuteTime": {
     "end_time": "2018-01-30T16:23:59.701701Z",
     "start_time": "2018-01-30T16:23:59.022052Z"
    }
   },
   "outputs": [
    {
     "data": {
      "text/plain": [
       "Text(0.5,1,'test')"
      ]
     },
     "execution_count": 173,
     "metadata": {},
     "output_type": "execute_result"
    },
    {
     "data": {
      "image/png": "[encoded data removed]",
      "text/plain": [
       "<matplotlib.figure.Figure at 0x1a244f7b70>"
      ]
     },
     "metadata": {},
     "output_type": "display_data"
    }
   ],
   "source": [
    "\n",
    "H=rankingArray.T\n",
    "xbins=range(H.shape[0])\n",
    "ybins=range(H.shape[1])\n",
    "\n",
    "fig = plt.figure(figsize=(16, 16))\n",
    "\n",
    "# define axes\n",
    "ax_Pxy = plt.axes((0.2, 0.34, 0.5, 0.5))\n",
    "ax_Px = plt.axes((0.2, 0.24, 0.5, 0.1))\n",
    "ax_Py = plt.axes((0.1, 0.34, 0.1, 0.5))\n",
    "ax_cb = plt.axes((0.72, 0.34, 0.01, 0.5))\n",
    "plt.axes(ax_Pxy)\n",
    "\n",
    "plt.imshow(H/H.sum(), interpolation='nearest', origin='lower', aspect='auto',\n",
    "           extent=[0, 2, 0, 2], cmap='coolwarm')\n",
    "plt.tick_params(axis='both', which='both', bottom='off', top='off', labelbottom='off', right='off', left='off', labelleft='off')\n",
    "\n",
    "cb = plt.colorbar(cax=ax_cb)\n",
    "cb.set_label('Probability')\n",
    "# cb.set_ticklabels(rotation=90)\n",
    "# plt.text(0, 1.02, r'$\\times 10^{-3}$',\n",
    "#          transform=ax_cb.transAxes)\n",
    "\n",
    "# draw p(x) distribution\n",
    "ax_Px.plot(xbins, H.sum(0)/H.sum(), '-k', drawstyle='steps')\n",
    "ax_Px.tick_params(axis='both', which='both', bottom='on', top='off', labelbottom='on', \n",
    "                  right='on', labelright='on', left='off', labelleft='off')\n",
    "ax_Px.set_xlabel('Bracket 1 Pool Rank')\n",
    "ax_Px.set_xlim(0,len(H.sum(0))-1)\n",
    "ax_Px.margins(x=0)\n",
    "\n",
    "# draw p(y) distribution\n",
    "# ax_Px.yaxis.set_ticks([0])\n",
    "ax_Py.plot(H.sum(1)/H.sum(), ybins, '-k', drawstyle='steps')\n",
    "# ax_Py.tick_params(axis='y', which='both', bottom='off', top='off', labelbottom='off', right='off', left='off', labelleft='off')\n",
    "ax_Py.tick_params(axis='both', which='both', bottom='off', top='on', labeltop='on', labelbottom='off', right='off', left='on', labelleft='on')\n",
    "# ax_Py.xaxis.set_ticks([0])\n",
    "ax_Py.set_ylabel('Bracket 2 Pool Rank')\n",
    "ax_Py.set_ylim(0,len(H.sum(1))-1)\n",
    "ax_Py.margins(y=0)\n",
    "\n",
    "plt.title('Joint Probability, Backtest '+str(year))\n"
   ]
  },
  {
   "cell_type": "code",
   "execution_count": 195,
   "metadata": {
    "ExecuteTime": {
     "end_time": "2018-01-31T04:43:17.827980Z",
     "start_time": "2018-01-31T04:43:17.821272Z"
    },
    "collapsed": true
   },
   "outputs": [],
   "source": [
    "year=2014\n",
    "riskValue=0.8\n",
    "norm=np.array(realrank[riskValue][year]).sum()\n",
    "rankingArray=np.array(realrank[riskValue][year]).sum(axis=0)/norm\n",
    "H=rankingArray.T\n"
   ]
  },
  {
   "cell_type": "code",
   "execution_count": 206,
   "metadata": {
    "ExecuteTime": {
     "end_time": "2018-01-31T04:44:46.142198Z",
     "start_time": "2018-01-31T04:44:46.136586Z"
    }
   },
   "outputs": [
    {
     "data": {
      "text/plain": [
       "0.6885"
      ]
     },
     "execution_count": 206,
     "metadata": {},
     "output_type": "execute_result"
    }
   ],
   "source": [
    "1-H[:3,:].sum()"
   ]
  },
  {
   "cell_type": "code",
   "execution_count": 205,
   "metadata": {
    "ExecuteTime": {
     "end_time": "2018-01-31T04:44:42.157639Z",
     "start_time": "2018-01-31T04:44:42.151516Z"
    }
   },
   "outputs": [
    {
     "data": {
      "text/plain": [
       "0.70450000000000002"
      ]
     },
     "execution_count": 205,
     "metadata": {},
     "output_type": "execute_result"
    }
   ],
   "source": [
    "1-H[:,:3].sum()"
   ]
  },
  {
   "cell_type": "code",
   "execution_count": 204,
   "metadata": {
    "ExecuteTime": {
     "end_time": "2018-01-31T04:44:40.757164Z",
     "start_time": "2018-01-31T04:44:40.751484Z"
    }
   },
   "outputs": [
    {
     "data": {
      "text/plain": [
       "0.53149999999999986"
      ]
     },
     "execution_count": 204,
     "metadata": {},
     "output_type": "execute_result"
    }
   ],
   "source": [
    "1-H[3:,3:].sum()"
   ]
  },
  {
   "cell_type": "code",
   "execution_count": null,
   "metadata": {
    "collapsed": true
   },
   "outputs": [],
   "source": []
  },
  {
   "cell_type": "code",
   "execution_count": null,
   "metadata": {
    "collapsed": true
   },
   "outputs": [],
   "source": [
    "norm=np.array(realrank[riskValue][year]).sum()\n",
    "rankingArray=np.array(realrank[riskValue][year]).sum(axis=0)/norm\n",
    "\n",
    "plt.imshow(rankingArray.T,origin='lower',cmap='coolwarm')\n",
    "plt.colorbar()\n",
    "plt.title('Back-testing '+str(year)+ ', risk = '+str(riskValue))\n",
    "plt.xlabel('First bracket ranking')\n",
    "plt.ylabel('Second bracket ranking')\n",
    "\n",
    "\n",
    "# plt.savefig('backtest_heatmaps/backtest_heatmaps-'+str(year)+'-r_'+str(riskValue*10).zfill(2)+'.png')\n"
   ]
  },
  {
   "cell_type": "code",
   "execution_count": 182,
   "metadata": {
    "ExecuteTime": {
     "end_time": "2018-01-30T16:28:28.872873Z",
     "start_time": "2018-01-30T16:27:49.332276Z"
    }
   },
   "outputs": [
    {
     "name": "stderr",
     "output_type": "stream",
     "text": [
      "/Users/gshau/anaconda3/lib/python3.6/site-packages/matplotlib/pyplot.py:523: RuntimeWarning: More than 20 figures have been opened. Figures created through the pyplot interface (`matplotlib.pyplot.figure`) are retained until explicitly closed and may consume too much memory. (To control this warning, see the rcParam `figure.max_open_warning`).\n",
      "  max_open_warning, RuntimeWarning)\n"
     ]
    },
    {
     "data": {
      "text/plain": [
       "<matplotlib.figure.Figure at 0x1a2964f898>"
      ]
     },
     "metadata": {},
     "output_type": "display_data"
    },
    {
     "data": {
      "text/plain": [
       "<matplotlib.figure.Figure at 0x1a2964fac8>"
      ]
     },
     "metadata": {},
     "output_type": "display_data"
    },
    {
     "data": {
      "text/plain": [
       "<matplotlib.figure.Figure at 0x1a1fabe4e0>"
      ]
     },
     "metadata": {},
     "output_type": "display_data"
    },
    {
     "data": {
      "text/plain": [
       "<matplotlib.figure.Figure at 0x1a2481add8>"
      ]
     },
     "metadata": {},
     "output_type": "display_data"
    },
    {
     "data": {
      "text/plain": [
       "<matplotlib.figure.Figure at 0x1a26b529e8>"
      ]
     },
     "metadata": {},
     "output_type": "display_data"
    },
    {
     "data": {
      "text/plain": [
       "<matplotlib.figure.Figure at 0x1a2835a240>"
      ]
     },
     "metadata": {},
     "output_type": "display_data"
    },
    {
     "data": {
      "text/plain": [
       "<matplotlib.figure.Figure at 0x1a2833c908>"
      ]
     },
     "metadata": {},
     "output_type": "display_data"
    },
    {
     "data": {
      "text/plain": [
       "<matplotlib.figure.Figure at 0x1a28b633c8>"
      ]
     },
     "metadata": {},
     "output_type": "display_data"
    },
    {
     "data": {
      "text/plain": [
       "<matplotlib.figure.Figure at 0x1a1fb4da58>"
      ]
     },
     "metadata": {},
     "output_type": "display_data"
    },
    {
     "data": {
      "text/plain": [
       "<matplotlib.figure.Figure at 0x1a282e7198>"
      ]
     },
     "metadata": {},
     "output_type": "display_data"
    },
    {
     "data": {
      "text/plain": [
       "<matplotlib.figure.Figure at 0x1a1e8a3e10>"
      ]
     },
     "metadata": {},
     "output_type": "display_data"
    },
    {
     "data": {
      "text/plain": [
       "<matplotlib.figure.Figure at 0x1a22f77048>"
      ]
     },
     "metadata": {},
     "output_type": "display_data"
    },
    {
     "data": {
      "text/plain": [
       "<matplotlib.figure.Figure at 0x1a22f40fd0>"
      ]
     },
     "metadata": {},
     "output_type": "display_data"
    },
    {
     "data": {
      "text/plain": [
       "<matplotlib.figure.Figure at 0x1a24e14128>"
      ]
     },
     "metadata": {},
     "output_type": "display_data"
    },
    {
     "data": {
      "text/plain": [
       "<matplotlib.figure.Figure at 0x1a29c80400>"
      ]
     },
     "metadata": {},
     "output_type": "display_data"
    },
    {
     "data": {
      "text/plain": [
       "<matplotlib.figure.Figure at 0x1a28323898>"
      ]
     },
     "metadata": {},
     "output_type": "display_data"
    },
    {
     "data": {
      "text/plain": [
       "<matplotlib.figure.Figure at 0x1a2877f4e0>"
      ]
     },
     "metadata": {},
     "output_type": "display_data"
    },
    {
     "data": {
      "text/plain": [
       "<matplotlib.figure.Figure at 0x1a27b75208>"
      ]
     },
     "metadata": {},
     "output_type": "display_data"
    },
    {
     "data": {
      "text/plain": [
       "<matplotlib.figure.Figure at 0x1a29423a58>"
      ]
     },
     "metadata": {},
     "output_type": "display_data"
    },
    {
     "data": {
      "text/plain": [
       "<matplotlib.figure.Figure at 0x1a26bed400>"
      ]
     },
     "metadata": {},
     "output_type": "display_data"
    },
    {
     "data": {
      "text/plain": [
       "<matplotlib.figure.Figure at 0x1a2a7b2f98>"
      ]
     },
     "metadata": {},
     "output_type": "display_data"
    },
    {
     "data": {
      "text/plain": [
       "<matplotlib.figure.Figure at 0x1a26b40438>"
      ]
     },
     "metadata": {},
     "output_type": "display_data"
    },
    {
     "data": {
      "text/plain": [
       "<matplotlib.figure.Figure at 0x1a1b9367f0>"
      ]
     },
     "metadata": {},
     "output_type": "display_data"
    },
    {
     "data": {
      "text/plain": [
       "<matplotlib.figure.Figure at 0x1a2a588a58>"
      ]
     },
     "metadata": {},
     "output_type": "display_data"
    },
    {
     "data": {
      "text/plain": [
       "<matplotlib.figure.Figure at 0x1a1e45ab00>"
      ]
     },
     "metadata": {},
     "output_type": "display_data"
    },
    {
     "data": {
      "text/plain": [
       "<matplotlib.figure.Figure at 0x1a1e8c5390>"
      ]
     },
     "metadata": {},
     "output_type": "display_data"
    },
    {
     "data": {
      "text/plain": [
       "<matplotlib.figure.Figure at 0x1a27f87080>"
      ]
     },
     "metadata": {},
     "output_type": "display_data"
    },
    {
     "data": {
      "text/plain": [
       "<matplotlib.figure.Figure at 0x1a235cab00>"
      ]
     },
     "metadata": {},
     "output_type": "display_data"
    },
    {
     "data": {
      "text/plain": [
       "<matplotlib.figure.Figure at 0x1a1e24d710>"
      ]
     },
     "metadata": {},
     "output_type": "display_data"
    },
    {
     "data": {
      "text/plain": [
       "<matplotlib.figure.Figure at 0x1a24d0f5f8>"
      ]
     },
     "metadata": {},
     "output_type": "display_data"
    },
    {
     "data": {
      "text/plain": [
       "<matplotlib.figure.Figure at 0x1a1b953a58>"
      ]
     },
     "metadata": {},
     "output_type": "display_data"
    },
    {
     "data": {
      "text/plain": [
       "<matplotlib.figure.Figure at 0x1a1b8e0c18>"
      ]
     },
     "metadata": {},
     "output_type": "display_data"
    },
    {
     "data": {
      "text/plain": [
       "<matplotlib.figure.Figure at 0x1a2a103320>"
      ]
     },
     "metadata": {},
     "output_type": "display_data"
    },
    {
     "data": {
      "text/plain": [
       "<matplotlib.figure.Figure at 0x1a1e57fb38>"
      ]
     },
     "metadata": {},
     "output_type": "display_data"
    },
    {
     "data": {
      "text/plain": [
       "<matplotlib.figure.Figure at 0x1a28af6208>"
      ]
     },
     "metadata": {},
     "output_type": "display_data"
    },
    {
     "data": {
      "text/plain": [
       "<matplotlib.figure.Figure at 0x1a29d80f60>"
      ]
     },
     "metadata": {},
     "output_type": "display_data"
    },
    {
     "data": {
      "text/plain": [
       "<matplotlib.figure.Figure at 0x1a29d783c8>"
      ]
     },
     "metadata": {},
     "output_type": "display_data"
    },
    {
     "data": {
      "text/plain": [
       "<matplotlib.figure.Figure at 0x1a287ae6d8>"
      ]
     },
     "metadata": {},
     "output_type": "display_data"
    },
    {
     "data": {
      "text/plain": [
       "<matplotlib.figure.Figure at 0x1a26c70c50>"
      ]
     },
     "metadata": {},
     "output_type": "display_data"
    },
    {
     "data": {
      "text/plain": [
       "<matplotlib.figure.Figure at 0x1a26bac828>"
      ]
     },
     "metadata": {},
     "output_type": "display_data"
    },
    {
     "data": {
      "text/plain": [
       "<matplotlib.figure.Figure at 0x1a24e60a20>"
      ]
     },
     "metadata": {},
     "output_type": "display_data"
    },
    {
     "data": {
      "text/plain": [
       "<matplotlib.figure.Figure at 0x1a27f71a58>"
      ]
     },
     "metadata": {},
     "output_type": "display_data"
    },
    {
     "data": {
      "text/plain": [
       "<matplotlib.figure.Figure at 0x1a26ae29b0>"
      ]
     },
     "metadata": {},
     "output_type": "display_data"
    },
    {
     "data": {
      "text/plain": [
       "<matplotlib.figure.Figure at 0x1a2835aac8>"
      ]
     },
     "metadata": {},
     "output_type": "display_data"
    },
    {
     "data": {
      "text/plain": [
       "<matplotlib.figure.Figure at 0x1a286debe0>"
      ]
     },
     "metadata": {},
     "output_type": "display_data"
    },
    {
     "data": {
      "text/plain": [
       "<matplotlib.figure.Figure at 0x1a1e60b518>"
      ]
     },
     "metadata": {},
     "output_type": "display_data"
    },
    {
     "data": {
      "text/plain": [
       "<matplotlib.figure.Figure at 0x1a1b8bb940>"
      ]
     },
     "metadata": {},
     "output_type": "display_data"
    },
    {
     "data": {
      "text/plain": [
       "<matplotlib.figure.Figure at 0x1a1fbba198>"
      ]
     },
     "metadata": {},
     "output_type": "display_data"
    },
    {
     "data": {
      "text/plain": [
       "<matplotlib.figure.Figure at 0x1a283d6128>"
      ]
     },
     "metadata": {},
     "output_type": "display_data"
    },
    {
     "data": {
      "text/plain": [
       "<matplotlib.figure.Figure at 0x1a2a7c22b0>"
      ]
     },
     "metadata": {},
     "output_type": "display_data"
    },
    {
     "data": {
      "text/plain": [
       "<matplotlib.figure.Figure at 0x1a26b407b8>"
      ]
     },
     "metadata": {},
     "output_type": "display_data"
    },
    {
     "data": {
      "text/plain": [
       "<matplotlib.figure.Figure at 0x1a1e3d2978>"
      ]
     },
     "metadata": {},
     "output_type": "display_data"
    },
    {
     "data": {
      "text/plain": [
       "<matplotlib.figure.Figure at 0x1a28ae65f8>"
      ]
     },
     "metadata": {},
     "output_type": "display_data"
    },
    {
     "data": {
      "text/plain": [
       "<matplotlib.figure.Figure at 0x1a296813c8>"
      ]
     },
     "metadata": {},
     "output_type": "display_data"
    },
    {
     "data": {
      "text/plain": [
       "<matplotlib.figure.Figure at 0x1a2a7cccf8>"
      ]
     },
     "metadata": {},
     "output_type": "display_data"
    },
    {
     "data": {
      "text/plain": [
       "<matplotlib.figure.Figure at 0x1a26054320>"
      ]
     },
     "metadata": {},
     "output_type": "display_data"
    },
    {
     "data": {
      "text/plain": [
       "<matplotlib.figure.Figure at 0x1a1b8b4278>"
      ]
     },
     "metadata": {},
     "output_type": "display_data"
    },
    {
     "data": {
      "text/plain": [
       "<matplotlib.figure.Figure at 0x1a2a55c240>"
      ]
     },
     "metadata": {},
     "output_type": "display_data"
    },
    {
     "data": {
      "text/plain": [
       "<matplotlib.figure.Figure at 0x1a26e12898>"
      ]
     },
     "metadata": {},
     "output_type": "display_data"
    },
    {
     "data": {
      "text/plain": [
       "<matplotlib.figure.Figure at 0x1a1e243f60>"
      ]
     },
     "metadata": {},
     "output_type": "display_data"
    },
    {
     "data": {
      "text/plain": [
       "<matplotlib.figure.Figure at 0x1a26c8c780>"
      ]
     },
     "metadata": {},
     "output_type": "display_data"
    },
    {
     "data": {
      "text/plain": [
       "<matplotlib.figure.Figure at 0x1a1e45ac88>"
      ]
     },
     "metadata": {},
     "output_type": "display_data"
    },
    {
     "data": {
      "text/plain": [
       "<matplotlib.figure.Figure at 0x1a2995ee48>"
      ]
     },
     "metadata": {},
     "output_type": "display_data"
    },
    {
     "data": {
      "text/plain": [
       "<matplotlib.figure.Figure at 0x1a1e471f98>"
      ]
     },
     "metadata": {},
     "output_type": "display_data"
    },
    {
     "data": {
      "text/plain": [
       "<matplotlib.figure.Figure at 0x1a26b8bf98>"
      ]
     },
     "metadata": {},
     "output_type": "display_data"
    },
    {
     "data": {
      "text/plain": [
       "<matplotlib.figure.Figure at 0x1a287223c8>"
      ]
     },
     "metadata": {},
     "output_type": "display_data"
    },
    {
     "data": {
      "text/plain": [
       "<matplotlib.figure.Figure at 0x1a1b981748>"
      ]
     },
     "metadata": {},
     "output_type": "display_data"
    },
    {
     "data": {
      "text/plain": [
       "<matplotlib.figure.Figure at 0x1a1e211b70>"
      ]
     },
     "metadata": {},
     "output_type": "display_data"
    },
    {
     "data": {
      "text/plain": [
       "<matplotlib.figure.Figure at 0x1a294c2d68>"
      ]
     },
     "metadata": {},
     "output_type": "display_data"
    },
    {
     "data": {
      "text/plain": [
       "<matplotlib.figure.Figure at 0x1a1f9fd080>"
      ]
     },
     "metadata": {},
     "output_type": "display_data"
    }
   ],
   "source": [
    "for year in yearList:\n",
    "    for riskValue in [0.2,0.4,0.6,0.8,1]:\n",
    "        norm=np.array(realrank[riskValue][year]).sum()\n",
    "        rankingArray=np.array(realrank[riskValue][year]).sum(axis=0)/norm\n",
    "        H=rankingArray.T\n",
    "        xbins=range(H.shape[0])\n",
    "        ybins=range(H.shape[1])\n",
    "\n",
    "        fig = plt.figure(figsize=(16, 16))\n",
    "\n",
    "        # define axes\n",
    "        ax_Pxy = plt.axes((0.2, 0.34, 0.5, 0.5))\n",
    "        ax_Px = plt.axes((0.2, 0.24, 0.5, 0.1))\n",
    "        ax_Py = plt.axes((0.1, 0.34, 0.1, 0.5))\n",
    "        ax_cb = plt.axes((0.72, 0.34, 0.01, 0.5))\n",
    "        plt.axes(ax_Pxy)\n",
    "\n",
    "        plt.imshow(H/H.sum(), interpolation='nearest', origin='lower', aspect='auto',\n",
    "                   extent=[0, 2, 0, 2], cmap='coolwarm')\n",
    "        plt.tick_params(axis='both', which='both', bottom='off', top='off', labelbottom='off', right='off', left='off', labelleft='off')\n",
    "\n",
    "        cb = plt.colorbar(cax=ax_cb)\n",
    "        cb.set_label('Probability')\n",
    "        # cb.set_ticklabels(rotation=90)\n",
    "        # plt.text(0, 1.02, r'$\\times 10^{-3}$',\n",
    "        #          transform=ax_cb.transAxes)\n",
    "\n",
    "        # draw p(x) distribution\n",
    "        ax_Px.plot(xbins, H.sum(0)/H.sum(), '-k', drawstyle='steps')\n",
    "        ax_Px.tick_params(axis='both', which='both', bottom='on', top='off', labelbottom='on', \n",
    "                          right='on', labelright='on', left='off', labelleft='off')\n",
    "        ax_Px.set_xlabel('Bracket 1 Pool Rank')\n",
    "        ax_Px.set_xlim(0,len(H.sum(0))-1)\n",
    "        ax_Px.margins(x=0)\n",
    "\n",
    "        # draw p(y) distribution\n",
    "        # ax_Px.yaxis.set_ticks([0])\n",
    "        ax_Py.plot(H.sum(1)/H.sum(), ybins, '-k', drawstyle='steps')\n",
    "        # ax_Py.tick_params(axis='y', which='both', bottom='off', top='off', labelbottom='off', right='off', left='off', labelleft='off')\n",
    "        ax_Py.tick_params(axis='both', which='both', bottom='off', top='on', labeltop='on', labelbottom='off', right='off', left='on', labelleft='on')\n",
    "        # ax_Py.xaxis.set_ticks([0])\n",
    "        ax_Py.set_ylabel('Bracket 2 Pool Rank')\n",
    "        ax_Py.set_ylim(0,len(H.sum(1))-1)\n",
    "        ax_Py.margins(y=0)\n",
    "\n",
    "        plt.title('Joint Probability, Backtest '+str(year)+' Risk: '+str(riskValue))\n",
    "        plt.savefig('backtest_heatmaps/backtest_heatmaps-'+str(year)+'-r_'+str(riskValue*10).zfill(2)+'.png')        \n",
    "        plt.clf()"
   ]
  },
  {
   "cell_type": "code",
   "execution_count": 53,
   "metadata": {
    "ExecuteTime": {
     "end_time": "2018-01-30T15:48:38.297211Z",
     "start_time": "2018-01-30T15:48:37.685625Z"
    },
    "scrolled": false
   },
   "outputs": [
    {
     "data": {
      "image/png": "[encoded data removed]",
      "text/plain": [
       "<matplotlib.figure.Figure at 0x107e5c400>"
      ]
     },
     "metadata": {},
     "output_type": "display_data"
    }
   ],
   "source": [
    "for year in [2015]: #yearList:\n",
    "    for riskValue in [0.4]: #[0.2,0.4,0.6,0.8,1]:\n",
    "        norm=np.array(realrank[riskValue][year]).sum()\n",
    "        rankingArray=np.array(realrank[riskValue][year]).sum(axis=0)/norm\n",
    "#         plt.figure()\n",
    "        plt.imshow(rankingArray.T,origin='lower',cmap='coolwarm')\n",
    "        plt.colorbar()\n",
    "        plt.title('Back-testing '+str(year)+ ', risk = '+str(riskValue))\n",
    "        plt.xlabel('First bracket ranking')\n",
    "        plt.ylabel('Second bracket ranking')\n",
    "        plt.savefig('backtest_heatmaps/backtest_heatmaps-'+str(year)+'-r_'+str(riskValue*10).zfill(2)+'.png')\n",
    "#         plt.clf()"
   ]
  },
  {
   "cell_type": "markdown",
   "metadata": {},
   "source": [
    "Show stability of expected payout by iteration of pool simulation"
   ]
  },
  {
   "cell_type": "code",
   "execution_count": 12,
   "metadata": {
    "ExecuteTime": {
     "end_time": "2018-01-26T05:33:10.888473Z",
     "start_time": "2018-01-26T05:33:09.667690Z"
    }
   },
   "outputs": [
    {
     "data": {
      "image/png": "[encoded data removed]",
      "text/plain": [
       "<matplotlib.figure.Figure at 0x1a1ec21a58>"
      ]
     },
     "metadata": {},
     "output_type": "display_data"
    }
   ],
   "source": [
    "ymax=15\n",
    "xmax=20\n",
    "\n",
    "yearList=np.arange(2017,2003,-1)\n",
    "\n",
    "risk=0.4\n",
    "\n",
    "norm=(np.arange(nPools)+1)\n",
    "\n",
    "plt.subplot(2,2,1)\n",
    "dist=np.array([np.array(real[risk][year])[:,0].cumsum()/norm\n",
    "                   for year in yearList])\n",
    "plt.plot(dist.mean(axis=0),'b')\n",
    "plt.plot(np.percentile(dist,16,axis=0),'r--')\n",
    "plt.plot(np.percentile(dist,84,axis=0),'r--')\n",
    "plt.ylim(0,ymax)\n",
    "plt.xlim(0,xmax)\n",
    "plt.title('First bracket real')\n",
    "plt.ylabel('Expected return')\n",
    "plt.xlabel('Epoch')\n",
    "\n",
    "plt.subplot(2,2,2)\n",
    "dist=np.array([np.array(sim[risk][year])[:,0].cumsum()/norm\n",
    "                   for year in yearList])\n",
    "plt.plot(dist.mean(axis=0),'b')\n",
    "plt.plot(np.percentile(dist,16,axis=0),'r--')\n",
    "plt.plot(np.percentile(dist,84,axis=0),'r--')\n",
    "plt.ylim(0,ymax)\n",
    "plt.xlim(0,xmax)\n",
    "plt.title('First bracket sim')\n",
    "plt.ylabel('Expected return')\n",
    "plt.xlabel('Epoch')\n",
    "\n",
    "\n",
    "plt.subplot(2,2,3)\n",
    "dist=np.array([np.array(real[risk][year])[:,1].cumsum()/norm\n",
    "                   for year in yearList])\n",
    "plt.plot(dist.mean(axis=0),'b')\n",
    "plt.plot(np.percentile(dist,16,axis=0),'r--')\n",
    "plt.plot(np.percentile(dist,84,axis=0),'r--')\n",
    "plt.ylim(0,ymax)\n",
    "plt.xlim(0,xmax)\n",
    "plt.title('Second bracket real')\n",
    "plt.ylabel('Expected return')\n",
    "plt.xlabel('Epoch')\n",
    "\n",
    "plt.subplot(2,2,4)\n",
    "dist=np.array([np.array(sim[risk][year])[:,1].cumsum()/norm\n",
    "                   for year in yearList])\n",
    "plt.plot(dist.mean(axis=0),'b')\n",
    "plt.plot(np.percentile(dist,16,axis=0),'r--')\n",
    "plt.plot(np.percentile(dist,84,axis=0),'r--')\n",
    "plt.ylim(0,ymax)\n",
    "plt.xlim(0,xmax)\n",
    "plt.title('Second bracket sim')\n",
    "plt.ylabel('Expected return')\n",
    "plt.xlabel('Epoch')\n",
    "plt.tight_layout()\n"
   ]
  },
  {
   "cell_type": "code",
   "execution_count": 36,
   "metadata": {
    "ExecuteTime": {
     "end_time": "2018-01-23T22:06:32.559250Z",
     "start_time": "2018-01-23T22:06:32.042881Z"
    }
   },
   "outputs": [
    {
     "data": {
      "image/png": "[encoded data removed]",
      "text/plain": [
       "<matplotlib.figure.Figure at 0x1a17127f60>"
      ]
     },
     "metadata": {},
     "output_type": "display_data"
    }
   ],
   "source": [
    "plt.subplot(1,2,1)\n",
    "plt.hist(np.array([np.array(sim[year])[:,0] for year in np.arange(2017,2003,-1)]).flatten(),bins=range(20),color=[1,0,0,0.5]);\n",
    "plt.hist(np.array([np.array(sim[year])[:,1] for year in np.arange(2017,2003,-1)]).flatten(),bins=range(20),color=[0,0,1,0.5]);\n",
    "plt.subplot(1,2,2)\n",
    "\n",
    "plt.hist(np.array([np.array(real[year])[:,0] for year in np.arange(2017,2003,-1)]).flatten(),bins=range(20),color=[1,0,0,0.5]);\n",
    "plt.hist(np.array([np.array(real[year])[:,1] for year in np.arange(2017,2003,-1)]).flatten(),bins=range(20),color=[0,0,1,0.5]);"
   ]
  }
 ],
 "metadata": {
  "kernelspec": {
   "display_name": "Python 3",
   "language": "python",
   "name": "python3"
  },
  "language_info": {
   "codemirror_mode": {
    "name": "ipython",
    "version": 3
   },
   "file_extension": ".py",
   "mimetype": "text/x-python",
   "name": "python",
   "nbconvert_exporter": "python",
   "pygments_lexer": "ipython3",
   "version": "3.6.3"
  },
  "toc": {
   "nav_menu": {},
   "number_sections": true,
   "sideBar": true,
   "skip_h1_title": false,
   "toc_cell": false,
   "toc_position": {
    "height": "1219px",
    "left": "0px",
    "right": "1431.34px",
    "top": "107px",
    "width": "212px"
   },
   "toc_section_display": "none",
   "toc_window_display": true
  }
 },
 "nbformat": 4,
 "nbformat_minor": 2
}
