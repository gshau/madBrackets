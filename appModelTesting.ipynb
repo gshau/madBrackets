{
 "cells": [
  {
   "cell_type": "code",
   "execution_count": 1,
   "metadata": {
    "ExecuteTime": {
     "end_time": "2018-01-25T22:54:58.408968Z",
     "start_time": "2018-01-25T22:54:57.601994Z"
    }
   },
   "outputs": [],
   "source": [
    "%matplotlib inline\n",
    "import matplotlib\n",
    "import matplotlib.pyplot as plt\n",
    "matplotlib.rcParams['figure.figsize'] = (16.0, 12.0)\n",
    "matplotlib.rcParams['font.size']=18\n",
    "matplotlib.rcParams['xtick.labelsize']=18\n",
    "matplotlib.rcParams['ytick.labelsize']=18\n",
    "\n",
    "import numpy as np\n",
    "import pandas as pd\n",
    "\n",
    "from sqlalchemy import create_engine\n",
    "\n",
    "%load_ext line_profiler"
   ]
  },
  {
   "cell_type": "code",
   "execution_count": 2,
   "metadata": {
    "ExecuteTime": {
     "end_time": "2018-01-25T22:54:58.686841Z",
     "start_time": "2018-01-25T22:54:58.411496Z"
    },
    "collapsed": true
   },
   "outputs": [],
   "source": [
    "from app import model"
   ]
  },
  {
   "cell_type": "code",
   "execution_count": 3,
   "metadata": {
    "ExecuteTime": {
     "end_time": "2018-01-25T22:54:58.731389Z",
     "start_time": "2018-01-25T22:54:58.689330Z"
    }
   },
   "outputs": [],
   "source": [
    "user='gshau'\n",
    "host='localhost'\n",
    "dbname='birth_db'\n",
    "\n",
    "dbname = 'ncaabb'\n",
    "username = 'gshau' # change this to your username\n",
    "engine = create_engine('postgres://%s@localhost/%s'%(username,dbname))\n",
    "\n",
    "years = model.getYears()\n",
    "year=2017\n",
    "pointsByRound=[1,2,4,8,16,32]"
   ]
  },
  {
   "cell_type": "code",
   "execution_count": 4,
   "metadata": {
    "ExecuteTime": {
     "end_time": "2018-01-25T22:54:58.757052Z",
     "start_time": "2018-01-25T22:54:58.733862Z"
    },
    "collapsed": true
   },
   "outputs": [],
   "source": [
    "def runPoolSim(year=2017,risk=0.3):\n",
    "    t=model.Tournament(year)\n",
    "    pool=model.Pool(t,poolSize=25,pointSystem=dict([(i+2, pointsByRound[i]) for i in np.arange(6)]),risk=risk)\n",
    "    pool.loadTourneySets()\n",
    "    print('----', year, '----')\n",
    "    sim=[]\n",
    "    simrank=[]\n",
    "    real=[]\n",
    "    realrank=[]\n",
    "    poolList=[]\n",
    "    for rep in range(20):\n",
    "        pool.simulatePool(useRealBracket=False,verbose=False,nrep=20)\n",
    "        poolList.append(pool)\n",
    "    return poolList\n"
   ]
  },
  {
   "cell_type": "code",
   "execution_count": 6,
   "metadata": {
    "ExecuteTime": {
     "end_time": "2018-01-25T22:55:41.103734Z",
     "start_time": "2018-01-25T22:55:39.371206Z"
    }
   },
   "outputs": [
    {
     "name": "stdout",
     "output_type": "stream",
     "text": [
      "Load: Tournament length:  1000\n",
      "---- 2008 ----\n",
      "CPU times: user 1.69 s, sys: 25.1 ms, total: 1.72 s\n",
      "Wall time: 1.73 s\n"
     ]
    }
   ],
   "source": [
    "%time poolList=runPoolSim(year=2008)"
   ]
  },
  {
   "cell_type": "code",
   "execution_count": 8,
   "metadata": {
    "ExecuteTime": {
     "end_time": "2018-01-25T22:59:52.811939Z",
     "start_time": "2018-01-25T22:55:50.817829Z"
    }
   },
   "outputs": [
    {
     "name": "stdout",
     "output_type": "stream",
     "text": [
      "2017\n",
      "Save: Tournament length:  1000\n",
      "2016\n",
      "Save: Tournament length:  1000\n",
      "2015\n",
      "Save: Tournament length:  1000\n",
      "2014\n",
      "Save: Tournament length:  1000\n",
      "2013\n",
      "Save: Tournament length:  1000\n",
      "2012\n",
      "Save: Tournament length:  1000\n",
      "2011\n",
      "Save: Tournament length:  1000\n",
      "2010\n",
      "Save: Tournament length:  1000\n",
      "2009\n",
      "Save: Tournament length:  1000\n",
      "2008\n",
      "Save: Tournament length:  1000\n",
      "2007\n",
      "Save: Tournament length:  1000\n",
      "2006\n",
      "Save: Tournament length:  1000\n",
      "2005\n",
      "Save: Tournament length:  1000\n",
      "2004\n",
      "Save: Tournament length:  1000\n"
     ]
    }
   ],
   "source": [
    "yearList=np.arange(2017,2003,-1)\n",
    "for yr in yearList:\n",
    "    print(yr)\n",
    "    t=model.Tournament(yr)\n",
    "    pool=model.Pool(t,poolSize=25,pointSystem=dict([(i+2, pointsByRound[i]) for i in np.arange(6)]))\n",
    "    pool.getTourneySets(ntourney=1000,scaleFactor=0.481)  "
   ]
  },
  {
   "cell_type": "markdown",
   "metadata": {},
   "source": [
    "Check performance of function"
   ]
  },
  {
   "cell_type": "code",
   "execution_count": 9,
   "metadata": {
    "ExecuteTime": {
     "end_time": "2018-01-25T22:59:58.680863Z",
     "start_time": "2018-01-25T22:59:55.416927Z"
    }
   },
   "outputs": [
    {
     "name": "stdout",
     "output_type": "stream",
     "text": [
      "Load: Tournament length:  1000\n",
      "---- 2017 ----\n"
     ]
    }
   ],
   "source": [
    "%lprun -f p.simulatePool runPoolSim()"
   ]
  },
  {
   "cell_type": "markdown",
   "metadata": {},
   "source": [
    "Run back-testing vs. previous 13 years.  Vary the risk level to check against expected payouts and ranks."
   ]
  },
  {
   "cell_type": "code",
   "execution_count": 10,
   "metadata": {
    "ExecuteTime": {
     "end_time": "2018-01-25T23:11:29.132144Z",
     "start_time": "2018-01-25T23:00:00.592241Z"
    }
   },
   "outputs": [
    {
     "name": "stdout",
     "output_type": "stream",
     "text": [
      "Load: Tournament length:  1000\n",
      "---- 2017 ----\n",
      "Load: Tournament length:  1000\n",
      "---- 2016 ----\n",
      "Load: Tournament length:  1000\n",
      "---- 2015 ----\n",
      "Load: Tournament length:  1000\n",
      "---- 2014 ----\n",
      "Load: Tournament length:  1000\n",
      "---- 2013 ----\n",
      "Load: Tournament length:  1000\n",
      "---- 2012 ----\n",
      "Load: Tournament length:  1000\n",
      "---- 2011 ----\n",
      "Load: Tournament length:  1000\n",
      "---- 2010 ----\n",
      "Load: Tournament length:  1000\n",
      "---- 2009 ----\n",
      "Load: Tournament length:  1000\n",
      "---- 2008 ----\n",
      "Load: Tournament length:  1000\n",
      "---- 2007 ----\n",
      "Load: Tournament length:  1000\n",
      "---- 2006 ----\n",
      "Load: Tournament length:  1000\n",
      "---- 2005 ----\n",
      "Load: Tournament length:  1000\n",
      "---- 2004 ----\n",
      "Load: Tournament length:  1000\n",
      "---- 2017 ----\n",
      "Load: Tournament length:  1000\n",
      "---- 2016 ----\n",
      "Load: Tournament length:  1000\n",
      "---- 2015 ----\n",
      "Load: Tournament length:  1000\n",
      "---- 2014 ----\n",
      "Load: Tournament length:  1000\n",
      "---- 2013 ----\n",
      "Load: Tournament length:  1000\n",
      "---- 2012 ----\n",
      "Load: Tournament length:  1000\n",
      "---- 2011 ----\n",
      "Load: Tournament length:  1000\n",
      "---- 2010 ----\n",
      "Load: Tournament length:  1000\n",
      "---- 2009 ----\n",
      "Load: Tournament length:  1000\n",
      "---- 2008 ----\n",
      "Load: Tournament length:  1000\n",
      "---- 2007 ----\n",
      "Load: Tournament length:  1000\n",
      "---- 2006 ----\n",
      "Load: Tournament length:  1000\n",
      "---- 2005 ----\n",
      "Load: Tournament length:  1000\n",
      "---- 2004 ----\n",
      "Load: Tournament length:  1000\n",
      "---- 2017 ----\n",
      "Load: Tournament length:  1000\n",
      "---- 2016 ----\n",
      "Load: Tournament length:  1000\n",
      "---- 2015 ----\n",
      "Load: Tournament length:  1000\n",
      "---- 2014 ----\n",
      "Load: Tournament length:  1000\n",
      "---- 2013 ----\n",
      "Load: Tournament length:  1000\n",
      "---- 2012 ----\n",
      "Load: Tournament length:  1000\n",
      "---- 2011 ----\n",
      "Load: Tournament length:  1000\n",
      "---- 2010 ----\n",
      "Load: Tournament length:  1000\n",
      "---- 2009 ----\n",
      "Load: Tournament length:  1000\n",
      "---- 2008 ----\n",
      "Load: Tournament length:  1000\n",
      "---- 2007 ----\n",
      "Load: Tournament length:  1000\n",
      "---- 2006 ----\n",
      "Load: Tournament length:  1000\n",
      "---- 2005 ----\n",
      "Load: Tournament length:  1000\n",
      "---- 2004 ----\n",
      "Load: Tournament length:  1000\n",
      "---- 2017 ----\n",
      "Load: Tournament length:  1000\n",
      "---- 2016 ----\n",
      "Load: Tournament length:  1000\n",
      "---- 2015 ----\n",
      "Load: Tournament length:  1000\n",
      "---- 2014 ----\n",
      "Load: Tournament length:  1000\n",
      "---- 2013 ----\n",
      "Load: Tournament length:  1000\n",
      "---- 2012 ----\n",
      "Load: Tournament length:  1000\n",
      "---- 2011 ----\n",
      "Load: Tournament length:  1000\n",
      "---- 2010 ----\n",
      "Load: Tournament length:  1000\n",
      "---- 2009 ----\n",
      "Load: Tournament length:  1000\n",
      "---- 2008 ----\n",
      "Load: Tournament length:  1000\n",
      "---- 2007 ----\n",
      "Load: Tournament length:  1000\n",
      "---- 2006 ----\n",
      "Load: Tournament length:  1000\n",
      "---- 2005 ----\n",
      "Load: Tournament length:  1000\n",
      "---- 2004 ----\n",
      "Load: Tournament length:  1000\n",
      "---- 2017 ----\n",
      "Load: Tournament length:  1000\n",
      "---- 2016 ----\n",
      "Load: Tournament length:  1000\n",
      "---- 2015 ----\n",
      "Load: Tournament length:  1000\n",
      "---- 2014 ----\n",
      "Load: Tournament length:  1000\n",
      "---- 2013 ----\n",
      "Load: Tournament length:  1000\n",
      "---- 2012 ----\n",
      "Load: Tournament length:  1000\n",
      "---- 2011 ----\n",
      "Load: Tournament length:  1000\n",
      "---- 2010 ----\n",
      "Load: Tournament length:  1000\n",
      "---- 2009 ----\n",
      "Load: Tournament length:  1000\n",
      "---- 2008 ----\n",
      "Load: Tournament length:  1000\n",
      "---- 2007 ----\n",
      "Load: Tournament length:  1000\n",
      "---- 2006 ----\n",
      "Load: Tournament length:  1000\n",
      "---- 2005 ----\n",
      "Load: Tournament length:  1000\n",
      "---- 2004 ----\n"
     ]
    }
   ],
   "source": [
    "yearList=np.arange(2017,2003,-1)\n",
    "nPools=100\n",
    "real={}\n",
    "sim={}\n",
    "realrank={}\n",
    "simrank={}\n",
    "riskList=[0.2,0.4,0.6,0.8,1.]\n",
    "# riskList=[0.4]\n",
    "for risk in riskList:\n",
    "    real[risk]={}\n",
    "    sim[risk]={}\n",
    "    realrank[risk]={}\n",
    "    simrank[risk]={}\n",
    "    for year in yearList:\n",
    "        real[risk][year]=[]\n",
    "        sim[risk][year]=[]\n",
    "        realrank[risk][year]=[]\n",
    "        simrank[risk][year]=[]\n",
    "        t=model.Tournament(year)\n",
    "        pool=model.Pool(t,poolSize=25,pointSystem=dict([(i+2, pointsByRound[i]) for i in np.arange(6)]),risk=risk)\n",
    "        pool.loadTourneySets()\n",
    "        print('----', year, '----')\n",
    "\n",
    "        for rep in range(nPools):\n",
    "            pool.simulatePool(useRealBracket=False,verbose=False,nrep=20)\n",
    "            sim[risk][year].append(list(pool.summary['expPayout']))\n",
    "            simrank[risk][year].append(pool.summary['ranks'])\n",
    "            pool.simulatePool(useRealBracket=True,verbose=False,nrep=20)\n",
    "            real[risk][year].append(list(pool.summary['expPayout']))\n",
    "            realrank[risk][year].append(pool.summary['ranks'])\n",
    "\n",
    "            "
   ]
  },
  {
   "cell_type": "markdown",
   "metadata": {},
   "source": [
    "Output final rank heatmap from back-testing to images"
   ]
  },
  {
   "cell_type": "code",
   "execution_count": 9,
   "metadata": {
    "ExecuteTime": {
     "end_time": "2018-01-25T18:48:05.863755Z",
     "start_time": "2018-01-25T18:47:45.676691Z"
    },
    "scrolled": false
   },
   "outputs": [
    {
     "data": {
      "text/plain": [
       "<matplotlib.figure.Figure at 0x150ae0b5c0>"
      ]
     },
     "metadata": {},
     "output_type": "display_data"
    }
   ],
   "source": [
    "for year in yearList:\n",
    "    for riskValue in [0.2,0.4,0.6,0.8,1]:\n",
    "        rankingArray=np.array(realrank[riskValue][year]).sum(axis=0).T\n",
    "#         plt.figure()\n",
    "        plt.imshow(rankingArray,origin='lower')\n",
    "        plt.colorbar()\n",
    "        plt.title('Back-testing '+str(year)+ ', risk = '+str(riskValue))\n",
    "        plt.xlabel('First bracket ranking')\n",
    "        plt.ylabel('Second bracket ranking')\n",
    "        plt.savefig('backtest_heatmaps/backtest_heatmaps-'+str(year)+'-r_'+str(riskValue*10).zfill(2)+'.png')\n",
    "        plt.clf()"
   ]
  },
  {
   "cell_type": "markdown",
   "metadata": {},
   "source": [
    "Show stability of expected payout by iteration of pool simulation"
   ]
  },
  {
   "cell_type": "code",
   "execution_count": 10,
   "metadata": {
    "ExecuteTime": {
     "end_time": "2018-01-25T18:48:06.622840Z",
     "start_time": "2018-01-25T18:48:05.867556Z"
    }
   },
   "outputs": [
    {
     "data": {
      "image/png": "[encoded data removed]",
      "text/plain": [
       "<matplotlib.figure.Figure at 0x1a143a36a0>"
      ]
     },
     "metadata": {},
     "output_type": "display_data"
    }
   ],
   "source": [
    "ymax=15\n",
    "xmax=20\n",
    "\n",
    "yearList=np.arange(2017,2003,-1)\n",
    "\n",
    "risk=0.4\n",
    "\n",
    "norm=(np.arange(nPools)+1)\n",
    "\n",
    "plt.subplot(2,2,1)\n",
    "dist=np.array([np.array(real[risk][year])[:,0].cumsum()/norm\n",
    "                   for year in yearList])\n",
    "plt.plot(dist.mean(axis=0),'b')\n",
    "plt.plot(np.percentile(dist,16,axis=0),'r--')\n",
    "plt.plot(np.percentile(dist,84,axis=0),'r--')\n",
    "plt.ylim(0,ymax)\n",
    "plt.xlim(0,xmax)\n",
    "plt.title('First bracket real')\n",
    "plt.ylabel('Expected return')\n",
    "plt.xlabel('Epoch')\n",
    "\n",
    "plt.subplot(2,2,2)\n",
    "dist=np.array([np.array(sim[risk][year])[:,0].cumsum()/norm\n",
    "                   for year in yearList])\n",
    "plt.plot(dist.mean(axis=0),'b')\n",
    "plt.plot(np.percentile(dist,16,axis=0),'r--')\n",
    "plt.plot(np.percentile(dist,84,axis=0),'r--')\n",
    "plt.ylim(0,ymax)\n",
    "plt.xlim(0,xmax)\n",
    "plt.title('First bracket sim')\n",
    "plt.ylabel('Expected return')\n",
    "plt.xlabel('Epoch')\n",
    "\n",
    "\n",
    "plt.subplot(2,2,3)\n",
    "dist=np.array([np.array(real[risk][year])[:,1].cumsum()/norm\n",
    "                   for year in yearList])\n",
    "plt.plot(dist.mean(axis=0),'b')\n",
    "plt.plot(np.percentile(dist,16,axis=0),'r--')\n",
    "plt.plot(np.percentile(dist,84,axis=0),'r--')\n",
    "plt.ylim(0,ymax)\n",
    "plt.xlim(0,xmax)\n",
    "plt.title('Second bracket real')\n",
    "plt.ylabel('Expected return')\n",
    "plt.xlabel('Epoch')\n",
    "\n",
    "plt.subplot(2,2,4)\n",
    "dist=np.array([np.array(sim[risk][year])[:,1].cumsum()/norm\n",
    "                   for year in yearList])\n",
    "plt.plot(dist.mean(axis=0),'b')\n",
    "plt.plot(np.percentile(dist,16,axis=0),'r--')\n",
    "plt.plot(np.percentile(dist,84,axis=0),'r--')\n",
    "plt.ylim(0,ymax)\n",
    "plt.xlim(0,xmax)\n",
    "plt.title('Second bracket sim')\n",
    "plt.ylabel('Expected return')\n",
    "plt.xlabel('Epoch')\n",
    "plt.tight_layout()\n"
   ]
  },
  {
   "cell_type": "code",
   "execution_count": 36,
   "metadata": {
    "ExecuteTime": {
     "end_time": "2018-01-23T22:06:32.559250Z",
     "start_time": "2018-01-23T22:06:32.042881Z"
    }
   },
   "outputs": [
    {
     "data": {
      "image/png": "[encoded data removed]",
      "text/plain": [
       "<matplotlib.figure.Figure at 0x1a17127f60>"
      ]
     },
     "metadata": {},
     "output_type": "display_data"
    }
   ],
   "source": [
    "plt.subplot(1,2,1)\n",
    "plt.hist(np.array([np.array(sim[year])[:,0] for year in np.arange(2017,2003,-1)]).flatten(),bins=range(20),color=[1,0,0,0.5]);\n",
    "plt.hist(np.array([np.array(sim[year])[:,1] for year in np.arange(2017,2003,-1)]).flatten(),bins=range(20),color=[0,0,1,0.5]);\n",
    "plt.subplot(1,2,2)\n",
    "\n",
    "plt.hist(np.array([np.array(real[year])[:,0] for year in np.arange(2017,2003,-1)]).flatten(),bins=range(20),color=[1,0,0,0.5]);\n",
    "plt.hist(np.array([np.array(real[year])[:,1] for year in np.arange(2017,2003,-1)]).flatten(),bins=range(20),color=[0,0,1,0.5]);"
   ]
  }
 ],
 "metadata": {
  "kernelspec": {
   "display_name": "Python 3",
   "language": "python",
   "name": "python3"
  },
  "language_info": {
   "codemirror_mode": {
    "name": "ipython",
    "version": 3
   },
   "file_extension": ".py",
   "mimetype": "text/x-python",
   "name": "python",
   "nbconvert_exporter": "python",
   "pygments_lexer": "ipython3",
   "version": "3.6.3"
  },
  "toc": {
   "nav_menu": {},
   "number_sections": true,
   "sideBar": true,
   "skip_h1_title": false,
   "toc_cell": false,
   "toc_position": {
    "height": "1219px",
    "left": "0px",
    "right": "1431.34px",
    "top": "107px",
    "width": "212px"
   },
   "toc_section_display": "block",
   "toc_window_display": true
  }
 },
 "nbformat": 4,
 "nbformat_minor": 2
}
