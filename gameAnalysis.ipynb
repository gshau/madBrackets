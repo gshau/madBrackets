{
 "cells": [
  {
   "cell_type": "code",
   "execution_count": 1,
   "metadata": {
    "collapsed": true
   },
   "outputs": [],
   "source": [
    "%matplotlib inline\n",
    "import matplotlib\n",
    "import matplotlib.pyplot as plt\n",
    "\n",
    "import numpy as np\n",
    "import pandas as pd\n",
    "import requests\n",
    "import urllib.request\n",
    "from bs4 import BeautifulSoup\n",
    "from sklearn.preprocessing import MinMaxScaler\n",
    "from sklearn.model_selection import train_test_split\n",
    "from sklearn.ensemble import RandomForestClassifier\n",
    "from sklearn.linear_model import LogisticRegression\n",
    "from sklearn.svm import SVC\n",
    "import warnings\n",
    "from sklearn import metrics\n",
    "\n",
    "warnings.filterwarnings('ignore')\n",
    "\n",
    "\n",
    "from sklearn import model_selection\n",
    "from sklearn.model_selection import cross_val_score\n"
   ]
  },
  {
   "cell_type": "code",
   "execution_count": 2,
   "metadata": {
    "collapsed": true
   },
   "outputs": [],
   "source": [
    "def pythag(pf,pa,exp=11.5):\n",
    "    return (pf**exp)/(pa**exp+pf**exp)\n",
    "\n",
    "def pythagGame(df_game,exp=11.5):\n",
    "    p={}\n",
    "    for iteam in np.arange(1,3):\n",
    "        pf = df_game['AdjO_'+str(iteam)]\n",
    "        pa = df_game['AdjD_'+str(iteam)]\n",
    "        p[str(iteam)] = pythag(pf,pa,exp)\n",
    "    \n",
    "    return p['1']*(1.-p['2'])/(p['1']+p['2']-2.*p['1']*p['2'])\n",
    "    "
   ]
  },
  {
   "cell_type": "code",
   "execution_count": 3,
   "metadata": {
    "collapsed": true
   },
   "outputs": [],
   "source": [
    "teamType=pd.read_csv('data/team_type.csv')\n",
    "teamTypeDict={}\n",
    "for r in teamType.values:\n",
    "    teamTypeDict[r[0]]=r[1]"
   ]
  },
  {
   "cell_type": "code",
   "execution_count": 4,
   "metadata": {
    "collapsed": true
   },
   "outputs": [],
   "source": [
    "df=pd.read_csv('data/games/all_games_2017.csv',index_col=0)\n",
    "# df=pd.read_csv('data/games/tourn_games_2016.csv',index_col=0)\n",
    "# y=df['outcome']\n",
    "# dropLabels=['School_1','Conf_1','wpct_1','Rank_1','WL_1','sched_url_1', 'name_1',\\\n",
    "#             'School_2','Conf_2','wpct_2','Rank_2','WL_2','sched_url_2', 'name_2', 'outcome']\n",
    "\n",
    "# y=df['outcome']\n",
    "dropLabels=['School_1','Conf_1','wpct_1','Rank_1','WL_1','sched_url_1', 'wpct_1','TmPts_1', 'OppPts_1',\\\n",
    "            'School_2','Conf_2','wpct_2','Rank_2','WL_2','sched_url_2', 'wpct_2','TmPts_2', 'OppPts_2', 'outcome']\n",
    "# dropLabels.append('round')\n",
    "dfAll=df"
   ]
  },
  {
   "cell_type": "code",
   "execution_count": 5,
   "metadata": {
    "collapsed": true
   },
   "outputs": [],
   "source": [
    "types=[]\n",
    "for r in df.itertuples():\n",
    "    \n",
    "    t1=teamTypeDict[r.School_1]\n",
    "    t2=teamTypeDict[r.School_2]\n",
    "    \n",
    "    types.append(str(min(t1,t2))+str(max(t1,t2)))\n",
    "    \n",
    "df['types']=types"
   ]
  },
  {
   "cell_type": "code",
   "execution_count": 30,
   "metadata": {
    "collapsed": true
   },
   "outputs": [],
   "source": [
    "res=[]\n",
    "dfAll=pd.DataFrame()\n",
    "for year in np.arange(2017,2003,-1):\n",
    "    df=pd.read_csv('data/games/tourn_games_'+str(year)+'.csv',index_col=0)\n",
    "    dfAll=dfAll.append(df,ignore_index=True)\n"
   ]
  },
  {
   "cell_type": "code",
   "execution_count": 31,
   "metadata": {},
   "outputs": [
    {
     "data": {
      "text/plain": [
       "Index(['School_1', 'wpct_1', 'SRS_1', 'SOS_1', 'TmPts_1', 'OppPts_1', 'Pace_1',\n",
       "       'ORtg_1', 'FTr_1', '3PAr_1', 'TS%_1', 'TRB%_1', 'AST%_1', 'STL%_1',\n",
       "       'BLK%_1', 'eFG%_1', 'TOV%_1', 'ORB%_1', 'FT/FGA_1', 'sched_url_1',\n",
       "       'Rank_1', 'Conf_1', 'WL_1', 'AdjEM_1', 'AdjO_1', 'AdjD_1', 'AdjT_1',\n",
       "       'Luck_1', 'AdjEM.1_1', 'OppO_1', 'OppD_1', 'NCSOS_AdjEM_1', 'name_1',\n",
       "       'School_2', 'wpct_2', 'SRS_2', 'SOS_2', 'TmPts_2', 'OppPts_2', 'Pace_2',\n",
       "       'ORtg_2', 'FTr_2', '3PAr_2', 'TS%_2', 'TRB%_2', 'AST%_2', 'STL%_2',\n",
       "       'BLK%_2', 'eFG%_2', 'TOV%_2', 'ORB%_2', 'FT/FGA_2', 'sched_url_2',\n",
       "       'Rank_2', 'Conf_2', 'WL_2', 'AdjEM_2', 'AdjO_2', 'AdjD_2', 'AdjT_2',\n",
       "       'Luck_2', 'AdjEM.1_2', 'OppO_2', 'OppD_2', 'NCSOS_AdjEM_2', 'name_2',\n",
       "       'outcome', 'round', 'region'],\n",
       "      dtype='object')"
      ]
     },
     "execution_count": 31,
     "metadata": {},
     "output_type": "execute_result"
    }
   ],
   "source": [
    "dfAll.keys()"
   ]
  },
  {
   "cell_type": "code",
   "execution_count": 32,
   "metadata": {
    "collapsed": true
   },
   "outputs": [],
   "source": [
    "dropLabels=['School_1','Conf_1','wpct_1','Rank_1','WL_1','sched_url_1', 'name_1', 'wpct_1','TmPts_1', 'OppPts_1',\\\n",
    "            'School_2','Conf_2','wpct_2','Rank_2','WL_2','sched_url_2', 'name_2', 'wpct_2','TmPts_2', 'OppPts_2', 'outcome', 'region']\n",
    "dropLabels.append('round')"
   ]
  },
  {
   "cell_type": "markdown",
   "metadata": {},
   "source": [
    "## Regression on scaled inputs"
   ]
  },
  {
   "cell_type": "code",
   "execution_count": 17,
   "metadata": {},
   "outputs": [
    {
     "name": "stdout",
     "output_type": "stream",
     "text": [
      "10-fold cross validation average accuracy: 0.780\n"
     ]
    }
   ],
   "source": [
    "from sklearn.preprocessing import StandardScaler\n",
    "\n",
    "dfClean = dfAll.drop(dropLabels,axis=1).dropna(axis=1)\n",
    "scaler=StandardScaler().fit(dfClean)\n",
    "\n",
    "scaled=scaler.transform(dfClean)\n",
    "\n",
    "\n",
    "X=scaled\n",
    "y=dfAll['outcome']\n",
    "\n",
    "X_train, X_test, y_train, y_test = train_test_split(X, y, test_size=0.25, random_state=0)\n",
    "\n",
    "# model = LogisticRegression(C=0.001,multi_class='multinomial',solver='sag')\n",
    "model = LogisticRegression()\n",
    "# model=RandomForestClassifier(n_estimators=100, oob_score=True, random_state=123456)\n",
    "model.fit(X_train, y_train)\n",
    "\n",
    "y_pred=model.predict(X_test)\n",
    "\n",
    "kfold = model_selection.KFold(n_splits=5, random_state=0)\n",
    "scoring = 'accuracy'\n",
    "results = model_selection.cross_val_score(model, X, y, cv=kfold, scoring=scoring)\n",
    "print(\"10-fold cross validation average accuracy: %.3f\" % (results.mean())) \n",
    "\n",
    "# y_predPythag=pythagGame(X_test)\n",
    "\n",
    "# print('Accuracy using pythagorean win expectation: %.3f' % ((np.round(y_predPythag)==y_test).sum()/len(y_test)))\n",
    "\n",
    "# res.append([year,results.mean(),(np.round(y_predPythag)==y_test).sum()/len(y_test)])\n"
   ]
  },
  {
   "cell_type": "markdown",
   "metadata": {},
   "source": [
    "## Regression on non-scaled inputs"
   ]
  },
  {
   "cell_type": "code",
   "execution_count": 38,
   "metadata": {},
   "outputs": [
    {
     "data": {
      "text/plain": [
       "Index(['School_1', 'wpct_1', 'SRS_1', 'SOS_1', 'TmPts_1', 'OppPts_1', 'Pace_1',\n",
       "       'ORtg_1', 'FTr_1', '3PAr_1', 'TS%_1', 'TRB%_1', 'AST%_1', 'STL%_1',\n",
       "       'BLK%_1', 'eFG%_1', 'TOV%_1', 'ORB%_1', 'FT/FGA_1', 'sched_url_1',\n",
       "       'Rank_1', 'Conf_1', 'WL_1', 'AdjEM_1', 'AdjO_1', 'AdjD_1', 'AdjT_1',\n",
       "       'Luck_1', 'AdjEM.1_1', 'OppO_1', 'OppD_1', 'NCSOS_AdjEM_1', 'name_1',\n",
       "       'School_2', 'wpct_2', 'SRS_2', 'SOS_2', 'TmPts_2', 'OppPts_2', 'Pace_2',\n",
       "       'ORtg_2', 'FTr_2', '3PAr_2', 'TS%_2', 'TRB%_2', 'AST%_2', 'STL%_2',\n",
       "       'BLK%_2', 'eFG%_2', 'TOV%_2', 'ORB%_2', 'FT/FGA_2', 'sched_url_2',\n",
       "       'Rank_2', 'Conf_2', 'WL_2', 'AdjEM_2', 'AdjO_2', 'AdjD_2', 'AdjT_2',\n",
       "       'Luck_2', 'AdjEM.1_2', 'OppO_2', 'OppD_2', 'NCSOS_AdjEM_2', 'name_2',\n",
       "       'outcome', 'round', 'region'],\n",
       "      dtype='object')"
      ]
     },
     "execution_count": 38,
     "metadata": {},
     "output_type": "execute_result"
    }
   ],
   "source": [
    "dfAll.keys()"
   ]
  },
  {
   "cell_type": "code",
   "execution_count": 49,
   "metadata": {
    "collapsed": true
   },
   "outputs": [],
   "source": [
    "dropLabels=['outcome', 'region']\n",
    "dropLabels.append('round')\n",
    "for t12 in ['1', '2']:\n",
    "    dropLabels.append('School_'+t12)\n",
    "    dropLabels.append('Conf_'+t12)\n",
    "    dropLabels.append('wpct_'+t12)\n",
    "    dropLabels.append('Rank_'+t12)\n",
    "    dropLabels.append('WL_'+t12)\n",
    "    dropLabels.append('sched_url_'+t12)\n",
    "    dropLabels.append('name_'+t12)\n",
    "    dropLabels.append('TmPts_'+t12)\n",
    "    dropLabels.append('OppPts_'+t12)\n",
    "    dropLabels.append('SRS_'+t12)\n",
    "    dropLabels.append('SOS_'+t12)\n",
    "    dropLabels.append('AdjO_'+t12)\n",
    "    dropLabels.append('AdjD_'+t12)\n",
    "    dropLabels.append('AdjT_'+t12)\n",
    "    dropLabels.append('Luck_'+t12)\n",
    "    "
   ]
  },
  {
   "cell_type": "code",
   "execution_count": 50,
   "metadata": {},
   "outputs": [
    {
     "data": {
      "text/plain": [
       "Index(['FTr_1', '3PAr_1', 'TS%_1', 'TRB%_1', 'AST%_1', 'BLK%_1', 'eFG%_1',\n",
       "       'TOV%_1', 'FT/FGA_1', 'AdjEM_1', 'AdjEM.1_1', 'OppO_1', 'OppD_1',\n",
       "       'NCSOS_AdjEM_1', 'FTr_2', '3PAr_2', 'TS%_2', 'TRB%_2', 'AST%_2',\n",
       "       'BLK%_2', 'eFG%_2', 'TOV%_2', 'FT/FGA_2', 'AdjEM_2', 'AdjEM.1_2',\n",
       "       'OppO_2', 'OppD_2', 'NCSOS_AdjEM_2'],\n",
       "      dtype='object')"
      ]
     },
     "execution_count": 50,
     "metadata": {},
     "output_type": "execute_result"
    }
   ],
   "source": [
    "X=dfAll.drop(dropLabels,axis=1).dropna(axis=1)\n",
    "X.keys()"
   ]
  },
  {
   "cell_type": "code",
   "execution_count": 51,
   "metadata": {},
   "outputs": [
    {
     "name": "stdout",
     "output_type": "stream",
     "text": [
      "10-fold cross validation average accuracy: 0.768\n"
     ]
    }
   ],
   "source": [
    "n_fold = 5\n",
    "test_size = 0.3\n",
    "\n",
    "\n",
    "X=dfAll.drop(dropLabels,axis=1).dropna(axis=1)\n",
    "y=dfAll['outcome']\n",
    "\n",
    "X_train, X_test, y_train, y_test = train_test_split(X, y, test_size=test_size, random_state=0)\n",
    "\n",
    "# model = LogisticRegression(C=0.001,multi_class='multinomial',solver='sag')\n",
    "model = LogisticRegression(C=1,penalty='l2')\n",
    "# model=RandomForestClassifier(n_estimators=100, oob_score=True, random_state=123456)\n",
    "model.fit(X_train, y_train)\n",
    "\n",
    "y_pred=model.predict(X_test)\n",
    "kfold = model_selection.KFold(n_splits=n_fold, random_state=0)\n",
    "scoring = 'accuracy'\n",
    "results = model_selection.cross_val_score(model, X, y, cv=kfold, scoring=scoring)\n",
    "print(\"10-fold cross validation average accuracy: %.3f\" % (results.mean())) \n",
    "\n",
    "# y_predPythag=pythagGame(X_test)\n",
    "\n",
    "# print('Accuracy using pythagorean win expectation: %.3f' % ((np.round(y_predPythag)==y_test).sum()/len(y_test)))\n",
    "\n",
    "# res.append([year,results.mean(),(np.round(y_predPythag)==y_test).sum()/len(y_test)])\n"
   ]
  },
  {
   "cell_type": "markdown",
   "metadata": {},
   "source": [
    "# Write model to database"
   ]
  },
  {
   "cell_type": "code",
   "execution_count": 13,
   "metadata": {},
   "outputs": [
    {
     "name": "stdout",
     "output_type": "stream",
     "text": [
      "postgres://gshau@localhost/ncaabb\n",
      "True\n"
     ]
    }
   ],
   "source": [
    "\n",
    "from sqlalchemy import create_engine\n",
    "from sqlalchemy_utils import database_exists, create_database\n",
    "import psycopg2\n",
    "dbname = 'ncaabb'\n",
    "username = 'gshau' # change this to your username\n",
    "engine = create_engine('postgres://%s@localhost/%s'%(username,dbname))\n",
    "print(engine.url)\n",
    "if not database_exists(engine.url):\n",
    "    create_database(engine.url)\n",
    "print(database_exists(engine.url))\n",
    "\n"
   ]
  },
  {
   "cell_type": "code",
   "execution_count": 14,
   "metadata": {},
   "outputs": [],
   "source": [
    "coefs=pd.DataFrame(np.array((X_train.keys(),model.coef_[0])).T,columns=['Property','coef_'])\n",
    "coefs.to_sql('tourney_fit', engine, if_exists='replace')"
   ]
  },
  {
   "cell_type": "code",
   "execution_count": 15,
   "metadata": {},
   "outputs": [
    {
     "data": {
      "text/plain": [
       "array([[-0.38072274, -0.28572126, -0.11168409, -0.17369718, -0.10186226,\n",
       "         0.05378959, -0.04957427, -0.04668042, -0.07612363, -0.06950065,\n",
       "        -0.11168409,  0.36900107,  0.11268003, -0.08300416,  0.07224561,\n",
       "         1.102244  ,  0.27078436,  0.14377164, -0.15429889, -0.0061403 ,\n",
       "         0.50413497, -0.04508178, -0.12690649,  0.03024592, -0.03061636,\n",
       "         0.0054054 ,  0.00953418, -0.01104222, -0.0142538 ,  0.04171306,\n",
       "        -0.12690649, -0.23952509, -0.30277646,  0.37034542, -0.07609814,\n",
       "        -1.04638202, -0.02455535, -0.0550908 , -0.02879727, -0.00368181]])"
      ]
     },
     "execution_count": 15,
     "metadata": {},
     "output_type": "execute_result"
    }
   ],
   "source": [
    "model.coef_\n",
    "# model.get_params()"
   ]
  },
  {
   "cell_type": "code",
   "execution_count": 18,
   "metadata": {},
   "outputs": [
    {
     "data": {
      "image/png": "[encoded data removed]",
      "text/plain": [
       "<matplotlib.figure.Figure at 0x1a140b58d0>"
      ]
     },
     "metadata": {},
     "output_type": "display_data"
    }
   ],
   "source": [
    "ndata=int(len(model.coef_[0])/2)\n",
    "plt.bar(np.arange(ndata)-0.15, model.coef_[0][:ndata],width=0.3)\n",
    "plt.bar(np.arange(ndata)+.15, -model.coef_[0][ndata:],width=0.3)\n",
    "labels=dfClean.keys();\n",
    "plt.xticks(np.arange(ndata), labels, rotation='vertical');\n"
   ]
  },
  {
   "cell_type": "markdown",
   "metadata": {},
   "source": [
    "# Show logistic regression plot"
   ]
  },
  {
   "cell_type": "code",
   "execution_count": 19,
   "metadata": {},
   "outputs": [],
   "source": [
    "def logit(x):\n",
    "    return 1./(1.+np.exp(-x))\n",
    "# logit(X_test.dot(model.coef_.T)).values-model.predict_proba(X_test)[:,1,None]"
   ]
  },
  {
   "cell_type": "code",
   "execution_count": 26,
   "metadata": {},
   "outputs": [
    {
     "data": {
      "text/plain": [
       "(-5, 5)"
      ]
     },
     "execution_count": 26,
     "metadata": {},
     "output_type": "execute_result"
    },
    {
     "data": {
      "image/png": "[encoded data removed]",
      "text/plain": [
       "<matplotlib.figure.Figure at 0x1a1411ed68>"
      ]
     },
     "metadata": {},
     "output_type": "display_data"
    }
   ],
   "source": [
    "xcoord = X_test.dot(model.coef_.T)\n",
    "plt.scatter(xcoord, y_test,color=[1,0,1,.05])\n",
    "plt.scatter(-xcoord, 1-y_test,color=[1,0,1,.05])\n",
    "plt.xlabel('${\\cal Z}=\\sum \\\\beta_i {\\cal X}_i$')\n",
    "plt.ylabel('Outcome')\n",
    "x=np.linspace(-10,10,100)\n",
    "plt.plot(x,logit(x),'r--')\n",
    "plt.xlim(-5,5)"
   ]
  },
  {
   "cell_type": "markdown",
   "metadata": {},
   "source": [
    "## Confusion Matrix\n"
   ]
  },
  {
   "cell_type": "code",
   "execution_count": 27,
   "metadata": {
    "collapsed": true
   },
   "outputs": [],
   "source": [
    "from sklearn.metrics import confusion_matrix"
   ]
  },
  {
   "cell_type": "code",
   "execution_count": 28,
   "metadata": {},
   "outputs": [
    {
     "ename": "ValueError",
     "evalue": "Found input variables with inconsistent numbers of samples: [221, 265]",
     "output_type": "error",
     "traceback": [
      "\u001b[0;31m---------------------------------------------------------------------------\u001b[0m",
      "\u001b[0;31mValueError\u001b[0m                                Traceback (most recent call last)",
      "\u001b[0;32m<ipython-input-28-5dba9120e7b5>\u001b[0m in \u001b[0;36m<module>\u001b[0;34m()\u001b[0m\n\u001b[0;32m----> 1\u001b[0;31m \u001b[0mconfusion_matrix\u001b[0m\u001b[0;34m(\u001b[0m\u001b[0my_test\u001b[0m\u001b[0;34m,\u001b[0m\u001b[0mnp\u001b[0m\u001b[0;34m.\u001b[0m\u001b[0mround\u001b[0m\u001b[0;34m(\u001b[0m\u001b[0my_predPythag\u001b[0m\u001b[0;34m)\u001b[0m\u001b[0;34m)\u001b[0m\u001b[0;34m\u001b[0m\u001b[0m\n\u001b[0m",
      "\u001b[0;32m~/anaconda3/lib/python3.6/site-packages/sklearn/metrics/classification.py\u001b[0m in \u001b[0;36mconfusion_matrix\u001b[0;34m(y_true, y_pred, labels, sample_weight)\u001b[0m\n\u001b[1;32m    248\u001b[0m \u001b[0;34m\u001b[0m\u001b[0m\n\u001b[1;32m    249\u001b[0m     \"\"\"\n\u001b[0;32m--> 250\u001b[0;31m     \u001b[0my_type\u001b[0m\u001b[0;34m,\u001b[0m \u001b[0my_true\u001b[0m\u001b[0;34m,\u001b[0m \u001b[0my_pred\u001b[0m \u001b[0;34m=\u001b[0m \u001b[0m_check_targets\u001b[0m\u001b[0;34m(\u001b[0m\u001b[0my_true\u001b[0m\u001b[0;34m,\u001b[0m \u001b[0my_pred\u001b[0m\u001b[0;34m)\u001b[0m\u001b[0;34m\u001b[0m\u001b[0m\n\u001b[0m\u001b[1;32m    251\u001b[0m     \u001b[0;32mif\u001b[0m \u001b[0my_type\u001b[0m \u001b[0;32mnot\u001b[0m \u001b[0;32min\u001b[0m \u001b[0;34m(\u001b[0m\u001b[0;34m\"binary\"\u001b[0m\u001b[0;34m,\u001b[0m \u001b[0;34m\"multiclass\"\u001b[0m\u001b[0;34m)\u001b[0m\u001b[0;34m:\u001b[0m\u001b[0;34m\u001b[0m\u001b[0m\n\u001b[1;32m    252\u001b[0m         \u001b[0;32mraise\u001b[0m \u001b[0mValueError\u001b[0m\u001b[0;34m(\u001b[0m\u001b[0;34m\"%s is not supported\"\u001b[0m \u001b[0;34m%\u001b[0m \u001b[0my_type\u001b[0m\u001b[0;34m)\u001b[0m\u001b[0;34m\u001b[0m\u001b[0m\n",
      "\u001b[0;32m~/anaconda3/lib/python3.6/site-packages/sklearn/metrics/classification.py\u001b[0m in \u001b[0;36m_check_targets\u001b[0;34m(y_true, y_pred)\u001b[0m\n\u001b[1;32m     69\u001b[0m     \u001b[0my_pred\u001b[0m \u001b[0;34m:\u001b[0m \u001b[0marray\u001b[0m \u001b[0;32mor\u001b[0m \u001b[0mindicator\u001b[0m \u001b[0mmatrix\u001b[0m\u001b[0;34m\u001b[0m\u001b[0m\n\u001b[1;32m     70\u001b[0m     \"\"\"\n\u001b[0;32m---> 71\u001b[0;31m     \u001b[0mcheck_consistent_length\u001b[0m\u001b[0;34m(\u001b[0m\u001b[0my_true\u001b[0m\u001b[0;34m,\u001b[0m \u001b[0my_pred\u001b[0m\u001b[0;34m)\u001b[0m\u001b[0;34m\u001b[0m\u001b[0m\n\u001b[0m\u001b[1;32m     72\u001b[0m     \u001b[0mtype_true\u001b[0m \u001b[0;34m=\u001b[0m \u001b[0mtype_of_target\u001b[0m\u001b[0;34m(\u001b[0m\u001b[0my_true\u001b[0m\u001b[0;34m)\u001b[0m\u001b[0;34m\u001b[0m\u001b[0m\n\u001b[1;32m     73\u001b[0m     \u001b[0mtype_pred\u001b[0m \u001b[0;34m=\u001b[0m \u001b[0mtype_of_target\u001b[0m\u001b[0;34m(\u001b[0m\u001b[0my_pred\u001b[0m\u001b[0;34m)\u001b[0m\u001b[0;34m\u001b[0m\u001b[0m\n",
      "\u001b[0;32m~/anaconda3/lib/python3.6/site-packages/sklearn/utils/validation.py\u001b[0m in \u001b[0;36mcheck_consistent_length\u001b[0;34m(*arrays)\u001b[0m\n\u001b[1;32m    202\u001b[0m     \u001b[0;32mif\u001b[0m \u001b[0mlen\u001b[0m\u001b[0;34m(\u001b[0m\u001b[0muniques\u001b[0m\u001b[0;34m)\u001b[0m \u001b[0;34m>\u001b[0m \u001b[0;36m1\u001b[0m\u001b[0;34m:\u001b[0m\u001b[0;34m\u001b[0m\u001b[0m\n\u001b[1;32m    203\u001b[0m         raise ValueError(\"Found input variables with inconsistent numbers of\"\n\u001b[0;32m--> 204\u001b[0;31m                          \" samples: %r\" % [int(l) for l in lengths])\n\u001b[0m\u001b[1;32m    205\u001b[0m \u001b[0;34m\u001b[0m\u001b[0m\n\u001b[1;32m    206\u001b[0m \u001b[0;34m\u001b[0m\u001b[0m\n",
      "\u001b[0;31mValueError\u001b[0m: Found input variables with inconsistent numbers of samples: [221, 265]"
     ]
    }
   ],
   "source": [
    "confusion_matrix(y_test,np.round(y_predPythag))"
   ]
  },
  {
   "cell_type": "code",
   "execution_count": 29,
   "metadata": {},
   "outputs": [
    {
     "data": {
      "text/plain": [
       "array([[ 43,  37],\n",
       "       [ 23, 118]])"
      ]
     },
     "execution_count": 29,
     "metadata": {},
     "output_type": "execute_result"
    }
   ],
   "source": [
    "\n",
    "confusion_matrix(y_test,y_pred)"
   ]
  },
  {
   "cell_type": "code",
   "execution_count": 165,
   "metadata": {},
   "outputs": [
    {
     "data": {
      "text/plain": [
       "0.75113122171945701"
      ]
     },
     "execution_count": 165,
     "metadata": {},
     "output_type": "execute_result"
    }
   ],
   "source": [
    "rf=RandomForestClassifier(n_estimators=100, oob_score=True, random_state=123456)\n",
    "rf.fit(X_train,y_train)\n",
    "pred=rf.predict(X_test)\n",
    "from sklearn.metrics import accuracy_score\n",
    "accuracy_score(y_test,pred)"
   ]
  },
  {
   "cell_type": "code",
   "execution_count": 166,
   "metadata": {},
   "outputs": [
    {
     "ename": "NameError",
     "evalue": "name 'resDF' is not defined",
     "output_type": "error",
     "traceback": [
      "\u001b[0;31m---------------------------------------------------------------------------\u001b[0m",
      "\u001b[0;31mNameError\u001b[0m                                 Traceback (most recent call last)",
      "\u001b[0;32m<ipython-input-166-0636f2d161fc>\u001b[0m in \u001b[0;36m<module>\u001b[0;34m()\u001b[0m\n\u001b[0;32m----> 1\u001b[0;31m \u001b[0mresDF\u001b[0m\u001b[0;34m.\u001b[0m\u001b[0mplot\u001b[0m\u001b[0;34m(\u001b[0m\u001b[0mx\u001b[0m\u001b[0;34m=\u001b[0m\u001b[0;34m'Log reg'\u001b[0m\u001b[0;34m,\u001b[0m\u001b[0my\u001b[0m\u001b[0;34m=\u001b[0m\u001b[0;34m'Pythag'\u001b[0m\u001b[0;34m,\u001b[0m\u001b[0mkind\u001b[0m\u001b[0;34m=\u001b[0m\u001b[0;34m'scatter'\u001b[0m\u001b[0;34m)\u001b[0m\u001b[0;34m\u001b[0m\u001b[0m\n\u001b[0m\u001b[1;32m      2\u001b[0m \u001b[0mplt\u001b[0m\u001b[0;34m.\u001b[0m\u001b[0mxlim\u001b[0m\u001b[0;34m(\u001b[0m\u001b[0;36m0\u001b[0m\u001b[0;34m,\u001b[0m\u001b[0;36m1\u001b[0m\u001b[0;34m)\u001b[0m\u001b[0;34m\u001b[0m\u001b[0m\n\u001b[1;32m      3\u001b[0m \u001b[0mplt\u001b[0m\u001b[0;34m.\u001b[0m\u001b[0mylim\u001b[0m\u001b[0;34m(\u001b[0m\u001b[0;36m0\u001b[0m\u001b[0;34m,\u001b[0m\u001b[0;36m1\u001b[0m\u001b[0;34m)\u001b[0m\u001b[0;34m\u001b[0m\u001b[0m\n",
      "\u001b[0;31mNameError\u001b[0m: name 'resDF' is not defined"
     ]
    }
   ],
   "source": [
    "resDF.plot(x='Log reg',y='Pythag',kind='scatter')\n",
    "plt.xlim(0,1)\n",
    "plt.ylim(0,1)"
   ]
  },
  {
   "cell_type": "markdown",
   "metadata": {},
   "source": [
    "# Test with teams split by k-means and PCA"
   ]
  },
  {
   "cell_type": "code",
   "execution_count": 107,
   "metadata": {
    "scrolled": false
   },
   "outputs": [
    {
     "name": "stdout",
     "output_type": "stream",
     "text": [
      "00 613\n",
      "Accuracy of logistic regression classifier on test set: 0.67\n",
      "Accuracy using pythagorean win expectation:  0.68515497553\n",
      "10-fold cross validation average accuracy: 0.669\n",
      "01 281\n",
      "Accuracy of logistic regression classifier on test set: 0.84\n",
      "Accuracy using pythagorean win expectation:  0.79359430605\n",
      "10-fold cross validation average accuracy: 0.830\n",
      "02 940\n",
      "Accuracy of logistic regression classifier on test set: 0.77\n",
      "Accuracy using pythagorean win expectation:  0.76170212766\n",
      "10-fold cross validation average accuracy: 0.754\n",
      "11 388\n",
      "Accuracy of logistic regression classifier on test set: 0.65\n",
      "Accuracy using pythagorean win expectation:  0.682989690722\n",
      "10-fold cross validation average accuracy: 0.669\n",
      "12 287\n",
      "Accuracy of logistic regression classifier on test set: 0.92\n",
      "Accuracy using pythagorean win expectation:  0.91637630662\n",
      "10-fold cross validation average accuracy: 0.922\n",
      "22 530\n",
      "Accuracy of logistic regression classifier on test set: 0.70\n",
      "Accuracy using pythagorean win expectation:  0.694339622642\n",
      "10-fold cross validation average accuracy: 0.687\n",
      "\n",
      "0.737416863787\n",
      "0.742020401448\n",
      "00 573\n",
      "Accuracy of logistic regression classifier on test set: 0.72\n",
      "Accuracy using pythagorean win expectation:  0.713787085515\n",
      "10-fold cross validation average accuracy: 0.651\n",
      "01 282\n",
      "Accuracy of logistic regression classifier on test set: 0.81\n",
      "Accuracy using pythagorean win expectation:  0.808510638298\n",
      "10-fold cross validation average accuracy: 0.815\n",
      "02 863\n",
      "Accuracy of logistic regression classifier on test set: 0.78\n",
      "Accuracy using pythagorean win expectation:  0.800695249131\n",
      "10-fold cross validation average accuracy: 0.778\n",
      "11 408\n",
      "Accuracy of logistic regression classifier on test set: 0.65\n",
      "Accuracy using pythagorean win expectation:  0.671568627451\n",
      "10-fold cross validation average accuracy: 0.670\n",
      "12 380\n",
      "Accuracy of logistic regression classifier on test set: 0.91\n",
      "Accuracy using pythagorean win expectation:  0.910526315789\n",
      "10-fold cross validation average accuracy: 0.920\n",
      "22 526\n",
      "Accuracy of logistic regression classifier on test set: 0.63\n",
      "Accuracy using pythagorean win expectation:  0.665399239544\n",
      "10-fold cross validation average accuracy: 0.642\n",
      "\n",
      "0.737129063522\n",
      "0.757915567282\n",
      "00 309\n",
      "Accuracy of logistic regression classifier on test set: 0.65\n",
      "Accuracy using pythagorean win expectation:  0.669902912621\n",
      "10-fold cross validation average accuracy: 0.630\n",
      "01 840\n",
      "Accuracy of logistic regression classifier on test set: 0.77\n",
      "Accuracy using pythagorean win expectation:  0.789285714286\n",
      "10-fold cross validation average accuracy: 0.771\n",
      "02 282\n",
      "Accuracy of logistic regression classifier on test set: 0.91\n",
      "Accuracy using pythagorean win expectation:  0.918439716312\n",
      "10-fold cross validation average accuracy: 0.899\n",
      "11 644\n",
      "Accuracy of logistic regression classifier on test set: 0.67\n",
      "Accuracy using pythagorean win expectation:  0.680124223602\n",
      "10-fold cross validation average accuracy: 0.662\n",
      "12 390\n",
      "Accuracy of logistic regression classifier on test set: 0.79\n",
      "Accuracy using pythagorean win expectation:  0.776923076923\n",
      "10-fold cross validation average accuracy: 0.774\n",
      "22 536\n",
      "Accuracy of logistic regression classifier on test set: 0.68\n",
      "Accuracy using pythagorean win expectation:  0.67723880597\n",
      "10-fold cross validation average accuracy: 0.693\n",
      "\n",
      "0.731521485249\n",
      "0.744085304898\n",
      "00 586\n",
      "Accuracy of logistic regression classifier on test set: 0.69\n",
      "Accuracy using pythagorean win expectation:  0.692832764505\n",
      "10-fold cross validation average accuracy: 0.699\n",
      "01 287\n",
      "Accuracy of logistic regression classifier on test set: 0.82\n",
      "Accuracy using pythagorean win expectation:  0.794425087108\n",
      "10-fold cross validation average accuracy: 0.801\n",
      "02 442\n",
      "Accuracy of logistic regression classifier on test set: 0.85\n",
      "Accuracy using pythagorean win expectation:  0.864253393665\n",
      "10-fold cross validation average accuracy: 0.867\n",
      "11 345\n",
      "Accuracy of logistic regression classifier on test set: 0.64\n",
      "Accuracy using pythagorean win expectation:  0.649275362319\n",
      "10-fold cross validation average accuracy: 0.644\n",
      "12 802\n",
      "Accuracy of logistic regression classifier on test set: 0.79\n",
      "Accuracy using pythagorean win expectation:  0.779301745636\n",
      "10-fold cross validation average accuracy: 0.788\n",
      "22 543\n",
      "Accuracy of logistic regression classifier on test set: 0.69\n",
      "Accuracy using pythagorean win expectation:  0.664825046041\n",
      "10-fold cross validation average accuracy: 0.681\n",
      "\n",
      "0.74747637304\n",
      "0.740765391015\n",
      "00 532\n",
      "Accuracy of logistic regression classifier on test set: 0.66\n",
      "Accuracy using pythagorean win expectation:  0.65037593985\n",
      "10-fold cross validation average accuracy: 0.698\n",
      "01 341\n",
      "Accuracy of logistic regression classifier on test set: 0.91\n",
      "Accuracy using pythagorean win expectation:  0.91788856305\n",
      "10-fold cross validation average accuracy: 0.913\n",
      "02 296\n",
      "Accuracy of logistic regression classifier on test set: 0.77\n",
      "Accuracy using pythagorean win expectation:  0.787162162162\n",
      "10-fold cross validation average accuracy: 0.790\n",
      "11 532\n",
      "Accuracy of logistic regression classifier on test set: 0.66\n",
      "Accuracy using pythagorean win expectation:  0.646616541353\n",
      "10-fold cross validation average accuracy: 0.685\n",
      "12 810\n",
      "Accuracy of logistic regression classifier on test set: 0.80\n",
      "Accuracy using pythagorean win expectation:  0.802469135802\n",
      "10-fold cross validation average accuracy: 0.783\n",
      "22 471\n",
      "Accuracy of logistic regression classifier on test set: 0.70\n",
      "Accuracy using pythagorean win expectation:  0.709129511677\n",
      "10-fold cross validation average accuracy: 0.658\n",
      "\n",
      "0.746160913262\n",
      "0.744466800805\n",
      "00 536\n",
      "Accuracy of logistic regression classifier on test set: 0.73\n",
      "Accuracy using pythagorean win expectation:  0.722014925373\n",
      "10-fold cross validation average accuracy: 0.694\n",
      "01 715\n",
      "Accuracy of logistic regression classifier on test set: 0.75\n",
      "Accuracy using pythagorean win expectation:  0.74965034965\n",
      "10-fold cross validation average accuracy: 0.770\n",
      "02 513\n",
      "Accuracy of logistic regression classifier on test set: 0.90\n",
      "Accuracy using pythagorean win expectation:  0.906432748538\n",
      "10-fold cross validation average accuracy: 0.913\n",
      "11 293\n",
      "Accuracy of logistic regression classifier on test set: 0.69\n",
      "Accuracy using pythagorean win expectation:  0.686006825939\n",
      "10-fold cross validation average accuracy: 0.691\n",
      "12 322\n",
      "Accuracy of logistic regression classifier on test set: 0.74\n",
      "Accuracy using pythagorean win expectation:  0.754658385093\n",
      "10-fold cross validation average accuracy: 0.761\n",
      "22 557\n",
      "Accuracy of logistic regression classifier on test set: 0.68\n",
      "Accuracy using pythagorean win expectation:  0.678635547576\n",
      "10-fold cross validation average accuracy: 0.701\n",
      "\n",
      "0.759121806828\n",
      "0.75272479564\n",
      "00 411\n",
      "Accuracy of logistic regression classifier on test set: 0.67\n",
      "Accuracy using pythagorean win expectation:  0.698296836983\n",
      "10-fold cross validation average accuracy: 0.662\n",
      "01 787\n",
      "Accuracy of logistic regression classifier on test set: 0.79\n",
      "Accuracy using pythagorean win expectation:  0.790343074968\n",
      "10-fold cross validation average accuracy: 0.779\n",
      "02 237\n",
      "Accuracy of logistic regression classifier on test set: 0.94\n",
      "Accuracy using pythagorean win expectation:  0.940928270042\n",
      "10-fold cross validation average accuracy: 0.936\n",
      "11 663\n",
      "Accuracy of logistic regression classifier on test set: 0.64\n",
      "Accuracy using pythagorean win expectation:  0.613876319759\n",
      "10-fold cross validation average accuracy: 0.661\n",
      "12 468\n",
      "Accuracy of logistic regression classifier on test set: 0.80\n",
      "Accuracy using pythagorean win expectation:  0.801282051282\n",
      "10-fold cross validation average accuracy: 0.812\n",
      "22 357\n",
      "Accuracy of logistic regression classifier on test set: 0.63\n",
      "Accuracy using pythagorean win expectation:  0.627450980392\n",
      "10-fold cross validation average accuracy: 0.670\n",
      "\n",
      "0.740584422896\n",
      "0.731440301061\n",
      "00 360\n",
      "Accuracy of logistic regression classifier on test set: 0.67\n",
      "Accuracy using pythagorean win expectation:  0.716666666667\n",
      "10-fold cross validation average accuracy: 0.652\n",
      "01 184\n",
      "Accuracy of logistic regression classifier on test set: 0.98\n",
      "Accuracy using pythagorean win expectation:  0.994565217391\n",
      "10-fold cross validation average accuracy: 0.960\n",
      "02 501\n",
      "Accuracy of logistic regression classifier on test set: 0.84\n",
      "Accuracy using pythagorean win expectation:  0.834331337325\n",
      "10-fold cross validation average accuracy: 0.823\n",
      "11 368\n",
      "Accuracy of logistic regression classifier on test set: 0.67\n",
      "Accuracy using pythagorean win expectation:  0.6875\n"
     ]
    },
    {
     "name": "stdout",
     "output_type": "stream",
     "text": [
      "10-fold cross validation average accuracy: 0.627\n",
      "12 638\n",
      "Accuracy of logistic regression classifier on test set: 0.82\n",
      "Accuracy using pythagorean win expectation:  0.815047021944\n",
      "10-fold cross validation average accuracy: 0.799\n",
      "22 674\n",
      "Accuracy of logistic regression classifier on test set: 0.68\n",
      "Accuracy using pythagorean win expectation:  0.695845697329\n",
      "10-fold cross validation average accuracy: 0.650\n",
      "\n",
      "0.734948243054\n",
      "0.771009174312\n",
      "00 612\n",
      "Accuracy of logistic regression classifier on test set: 0.64\n",
      "Accuracy using pythagorean win expectation:  0.62091503268\n",
      "10-fold cross validation average accuracy: 0.644\n",
      "01 431\n",
      "Accuracy of logistic regression classifier on test set: 0.88\n",
      "Accuracy using pythagorean win expectation:  0.867749419954\n",
      "10-fold cross validation average accuracy: 0.845\n",
      "02 646\n",
      "Accuracy of logistic regression classifier on test set: 0.77\n",
      "Accuracy using pythagorean win expectation:  0.78173374613\n",
      "10-fold cross validation average accuracy: 0.764\n",
      "11 406\n",
      "Accuracy of logistic regression classifier on test set: 0.68\n",
      "Accuracy using pythagorean win expectation:  0.709359605911\n",
      "10-fold cross validation average accuracy: 0.654\n",
      "12 195\n",
      "Accuracy of logistic regression classifier on test set: 0.93\n",
      "Accuracy using pythagorean win expectation:  0.94358974359\n",
      "10-fold cross validation average accuracy: 0.960\n",
      "22 404\n",
      "Accuracy of logistic regression classifier on test set: 0.64\n",
      "Accuracy using pythagorean win expectation:  0.660891089109\n",
      "10-fold cross validation average accuracy: 0.656\n",
      "\n",
      "0.731065819635\n",
      "0.741648106904\n",
      "00 499\n",
      "Accuracy of logistic regression classifier on test set: 0.68\n",
      "Accuracy using pythagorean win expectation:  0.689378757515\n",
      "10-fold cross validation average accuracy: 0.688\n",
      "01 337\n",
      "Accuracy of logistic regression classifier on test set: 0.76\n",
      "Accuracy using pythagorean win expectation:  0.756676557864\n",
      "10-fold cross validation average accuracy: 0.761\n",
      "02 312\n",
      "Accuracy of logistic regression classifier on test set: 0.94\n",
      "Accuracy using pythagorean win expectation:  0.942307692308\n",
      "10-fold cross validation average accuracy: 0.937\n",
      "11 362\n",
      "Accuracy of logistic regression classifier on test set: 0.65\n",
      "Accuracy using pythagorean win expectation:  0.657458563536\n",
      "10-fold cross validation average accuracy: 0.610\n",
      "12 701\n",
      "Accuracy of logistic regression classifier on test set: 0.76\n",
      "Accuracy using pythagorean win expectation:  0.760342368046\n",
      "10-fold cross validation average accuracy: 0.757\n",
      "22 450\n",
      "Accuracy of logistic regression classifier on test set: 0.64\n",
      "Accuracy using pythagorean win expectation:  0.673333333333\n",
      "10-fold cross validation average accuracy: 0.656\n",
      "\n",
      "0.728378703589\n",
      "0.739195791056\n",
      "00 326\n",
      "Accuracy of logistic regression classifier on test set: 0.63\n",
      "Accuracy using pythagorean win expectation:  0.684049079755\n",
      "10-fold cross validation average accuracy: 0.612\n",
      "01 655\n",
      "Accuracy of logistic regression classifier on test set: 0.79\n",
      "Accuracy using pythagorean win expectation:  0.795419847328\n",
      "10-fold cross validation average accuracy: 0.757\n",
      "02 208\n",
      "Accuracy of logistic regression classifier on test set: 0.93\n",
      "Accuracy using pythagorean win expectation:  0.932692307692\n",
      "10-fold cross validation average accuracy: 0.928\n",
      "11 533\n",
      "Accuracy of logistic regression classifier on test set: 0.67\n",
      "Accuracy using pythagorean win expectation:  0.679174484053\n",
      "10-fold cross validation average accuracy: 0.683\n",
      "12 416\n",
      "Accuracy of logistic regression classifier on test set: 0.78\n",
      "Accuracy using pythagorean win expectation:  0.762019230769\n",
      "10-fold cross validation average accuracy: 0.803\n",
      "22 481\n",
      "Accuracy of logistic regression classifier on test set: 0.67\n",
      "Accuracy using pythagorean win expectation:  0.656964656965\n",
      "10-fold cross validation average accuracy: 0.703\n",
      "\n",
      "0.734598731354\n",
      "0.738067964872\n",
      "00 482\n",
      "Accuracy of logistic regression classifier on test set: 0.69\n",
      "Accuracy using pythagorean win expectation:  0.676348547718\n",
      "10-fold cross validation average accuracy: 0.661\n",
      "01 517\n",
      "Accuracy of logistic regression classifier on test set: 0.76\n",
      "Accuracy using pythagorean win expectation:  0.762088974855\n",
      "10-fold cross validation average accuracy: 0.779\n",
      "02 351\n",
      "Accuracy of logistic regression classifier on test set: 0.77\n",
      "Accuracy using pythagorean win expectation:  0.786324786325\n",
      "10-fold cross validation average accuracy: 0.766\n",
      "11 355\n",
      "Accuracy of logistic regression classifier on test set: 0.73\n",
      "Accuracy using pythagorean win expectation:  0.732394366197\n",
      "10-fold cross validation average accuracy: 0.683\n",
      "12 280\n",
      "Accuracy of logistic regression classifier on test set: 0.94\n",
      "Accuracy using pythagorean win expectation:  0.946428571429\n",
      "10-fold cross validation average accuracy: 0.925\n",
      "22 530\n",
      "Accuracy of logistic regression classifier on test set: 0.70\n",
      "Accuracy using pythagorean win expectation:  0.705660377358\n",
      "10-fold cross validation average accuracy: 0.670\n",
      "\n",
      "0.734261502166\n",
      "0.753479125249\n",
      "00 571\n",
      "Accuracy of logistic regression classifier on test set: 0.67\n",
      "Accuracy using pythagorean win expectation:  0.661996497373\n",
      "10-fold cross validation average accuracy: 0.625\n",
      "01 518\n",
      "Accuracy of logistic regression classifier on test set: 0.75\n",
      "Accuracy using pythagorean win expectation:  0.764478764479\n",
      "10-fold cross validation average accuracy: 0.774\n",
      "02 562\n",
      "Accuracy of logistic regression classifier on test set: 0.83\n",
      "Accuracy using pythagorean win expectation:  0.834519572954\n",
      "10-fold cross validation average accuracy: 0.825\n",
      "11 185\n",
      "Accuracy of logistic regression classifier on test set: 0.70\n",
      "Accuracy using pythagorean win expectation:  0.708108108108\n",
      "10-fold cross validation average accuracy: 0.674\n",
      "12 139\n",
      "Accuracy of logistic regression classifier on test set: 0.96\n",
      "Accuracy using pythagorean win expectation:  0.956834532374\n",
      "10-fold cross validation average accuracy: 0.932\n",
      "22 537\n",
      "Accuracy of logistic regression classifier on test set: 0.67\n",
      "Accuracy using pythagorean win expectation:  0.683426443203\n",
      "10-fold cross validation average accuracy: 0.673\n",
      "\n",
      "0.731158697519\n",
      "0.74601910828\n",
      "00 259\n",
      "Accuracy of logistic regression classifier on test set: 0.63\n",
      "Accuracy using pythagorean win expectation:  0.644787644788\n",
      "10-fold cross validation average accuracy: 0.669\n",
      "01 581\n",
      "Accuracy of logistic regression classifier on test set: 0.81\n",
      "Accuracy using pythagorean win expectation:  0.822719449225\n",
      "10-fold cross validation average accuracy: 0.837\n",
      "02 95\n",
      "Accuracy of logistic regression classifier on test set: 0.96\n",
      "Accuracy using pythagorean win expectation:  0.989473684211\n",
      "10-fold cross validation average accuracy: 0.918\n",
      "11 706\n",
      "Accuracy of logistic regression classifier on test set: 0.66\n",
      "Accuracy using pythagorean win expectation:  0.661473087819\n",
      "10-fold cross validation average accuracy: 0.687\n",
      "12 437\n",
      "Accuracy of logistic regression classifier on test set: 0.84\n",
      "Accuracy using pythagorean win expectation:  0.844393592677\n",
      "10-fold cross validation average accuracy: 0.815\n",
      "22 415\n",
      "Accuracy of logistic regression classifier on test set: 0.67\n",
      "Accuracy using pythagorean win expectation:  0.698795180723\n",
      "10-fold cross validation average accuracy: 0.707\n",
      "\n",
      "0.754569502728\n",
      "0.748094665062\n"
     ]
    }
   ],
   "source": [
    "resultList=[]\n",
    "for yr in np.arange(2017,2003,-1):\n",
    "    year=str(yr)\n",
    "    teamType=pd.read_csv('data/team_type_'+year+'.csv')\n",
    "    teamTypeDict={}\n",
    "    for r in teamType.values:\n",
    "        teamTypeDict[r[0]]=r[1]\n",
    "\n",
    "    df=pd.read_csv('data/games/all_games_'+year+'.csv',index_col=0).dropna(axis=1)\n",
    "    # df=pd.read_csv('data/games/tourn_games_2016.csv',index_col=0)\n",
    "    # y=df['outcome']\n",
    "    dropLabels=['School_1','Conf_1','wpct_1','Rank_1','WL_1','sched_url_1',\\\n",
    "                'School_2','Conf_2','wpct_2','Rank_2','WL_2','sched_url_2', 'outcome']\n",
    "\n",
    "    y=df['outcome']\n",
    "\n",
    "\n",
    "    types=[]\n",
    "    for r in df.itertuples():\n",
    "\n",
    "        t1=teamTypeDict[r.School_1]\n",
    "        t2=teamTypeDict[r.School_2]\n",
    "\n",
    "        types.append(str(min(t1,t2))+str(max(t1,t2)))\n",
    "\n",
    "    df['types']=types\n",
    "\n",
    "    runsum=0\n",
    "    numsum=0\n",
    "    pythsum=0\n",
    "\n",
    "    nlab=3\n",
    "    for t1lab in range(nlab):\n",
    "        for t2lab in np.arange(t1lab,nlab):\n",
    "            lab = str(t1lab)+str(t2lab)\n",
    "\n",
    "            dfSel = df[(df.types==lab)]\n",
    "            dropLabels.append('types')\n",
    "\n",
    "            X=dfSel.drop(dropLabels,axis=1)\n",
    "            y=dfSel['outcome']\n",
    "\n",
    "\n",
    "            X_train, X_test, y_train, y_test = train_test_split(X, y, test_size=0.3, random_state=0)\n",
    "            logreg = LogisticRegression()\n",
    "            logreg.fit(X_train, y_train)\n",
    "\n",
    "            y_pred=logreg.predict(X_test)\n",
    "            print(lab,len(y_pred))\n",
    "            print('Accuracy of logistic regression classifier on test set: {:.2f}'.format(logreg.score(X_test, y_test)))\n",
    "\n",
    "\n",
    "            y_predPythag=pythagGame(X_test)\n",
    "\n",
    "            print('Accuracy using pythagorean win expectation: ',(np.round(y_predPythag)==y_test).sum()/len(y_test))\n",
    "\n",
    "\n",
    "            kfold = model_selection.KFold(n_splits=10, random_state=7)\n",
    "            modelCV = LogisticRegression()\n",
    "            scoring = 'accuracy'\n",
    "            results = model_selection.cross_val_score(modelCV, X_train, y_train, cv=kfold, scoring=scoring)\n",
    "            print(\"10-fold cross validation average accuracy: %.3f\" % (results.mean()))    \n",
    "\n",
    "            runsum+= len(y_pred) * results.mean() #logreg.score(X_test, y_test)\n",
    "            numsum+= len(y_pred)\n",
    "            pythsum+= len(y_pred) *(np.round(y_predPythag)==y_test).sum()/len(y_test)\n",
    "\n",
    "\n",
    "\n",
    "    print ()\n",
    "    print (runsum/numsum)\n",
    "    print (pythsum/numsum)\n",
    "    \n",
    "    resultList.append([year,(runsum/numsum),pythsum/numsum])\n",
    "    \n",
    "resDFKM=pd.DataFrame(resultList,columns=['year','Log reg','Pythag'])\n"
   ]
  },
  {
   "cell_type": "code",
   "execution_count": 109,
   "metadata": {},
   "outputs": [
    {
     "data": {
      "text/plain": [
       "year       1.440858e+54\n",
       "Log reg    7.391709e-01\n",
       "Pythag     7.464952e-01\n",
       "dtype: float64"
      ]
     },
     "execution_count": 109,
     "metadata": {},
     "output_type": "execute_result"
    }
   ],
   "source": [
    "resDFKM.mean()"
   ]
  },
  {
   "cell_type": "code",
   "execution_count": 116,
   "metadata": {},
   "outputs": [
    {
     "name": "stdout",
     "output_type": "stream",
     "text": [
      "10-fold cross validation average accuracy: 0.578\n"
     ]
    }
   ],
   "source": [
    "\n",
    "kfold = model_selection.KFold(n_splits=10, random_state=7)\n",
    "modelCV = LogisticRegression()\n",
    "scoring = 'accuracy'\n",
    "results = model_selection.cross_val_score(modelCV, X_train, y_train, cv=kfold, scoring=scoring)\n",
    "print(\"10-fold cross validation average accuracy: %.3f\" % (results.mean()))"
   ]
  },
  {
   "cell_type": "code",
   "execution_count": 117,
   "metadata": {},
   "outputs": [
    {
     "name": "stdout",
     "output_type": "stream",
     "text": [
      "Accuracy of logistic regression classifier on test set: 0.70\n"
     ]
    }
   ],
   "source": [
    "X_train, X_test, y_train, y_test = train_test_split(X, y, test_size=0.3, random_state=0)\n",
    "logreg = LogisticRegression()\n",
    "# logreg = LogisticRegression(C=1,penalty='l1',tol=0.1)\n",
    "logreg.fit(X_train, y_train)\n",
    "y_pred=logreg.predict(X_test)\n",
    "print('Accuracy of logistic regression classifier on test set: {:.2f}'.format(logreg.score(X_test, y_test)))\n"
   ]
  },
  {
   "cell_type": "code",
   "execution_count": 11,
   "metadata": {
    "collapsed": true
   },
   "outputs": [],
   "source": [
    "df['pythag']=pythagGame(df)"
   ]
  },
  {
   "cell_type": "code",
   "execution_count": 15,
   "metadata": {},
   "outputs": [
    {
     "name": "stdout",
     "output_type": "stream",
     "text": [
      "Accuracy using pythagorean win expectation:  0.739459815547\n"
     ]
    }
   ],
   "source": [
    "y_predPythag=pythagGame(X_test)\n",
    "\n",
    "print('Accuracy using pythagorean win expectation: ',(np.round(y_predPythag)==y_test).sum()/len(y_test))\n",
    "# print(len(y_test))"
   ]
  },
  {
   "cell_type": "code",
   "execution_count": null,
   "metadata": {
    "collapsed": true
   },
   "outputs": [],
   "source": []
  }
 ],
 "metadata": {
  "kernelspec": {
   "display_name": "Python 3",
   "language": "python",
   "name": "python3"
  },
  "language_info": {
   "codemirror_mode": {
    "name": "ipython",
    "version": 3
   },
   "file_extension": ".py",
   "mimetype": "text/x-python",
   "name": "python",
   "nbconvert_exporter": "python",
   "pygments_lexer": "ipython3",
   "version": "3.6.3"
  }
 },
 "nbformat": 4,
 "nbformat_minor": 2
}
