{
 "cells": [
  {
   "cell_type": "code",
   "execution_count": 1,
   "metadata": {
    "ExecuteTime": {
     "end_time": "2018-01-25T00:30:33.662810Z",
     "start_time": "2018-01-25T00:30:32.153841Z"
    },
    "collapsed": true
   },
   "outputs": [],
   "source": [
    "%matplotlib inline\n",
    "import matplotlib\n",
    "import matplotlib.pyplot as plt\n",
    "matplotlib.rcParams['figure.figsize'] = (12.0, 8.0)\n",
    "matplotlib.rcParams['font.size']=18\n",
    "matplotlib.rcParams['xtick.labelsize']=18\n",
    "matplotlib.rcParams['ytick.labelsize']=18\n",
    "\n",
    "\n",
    "import numpy as np\n",
    "import pandas as pd\n",
    "import requests\n",
    "import urllib.request\n",
    "from bs4 import BeautifulSoup\n",
    "from sklearn.preprocessing import MinMaxScaler\n",
    "from sklearn.model_selection import train_test_split\n",
    "from sklearn.ensemble import RandomForestClassifier\n",
    "from sklearn.linear_model import LogisticRegression\n",
    "from sklearn.svm import SVC\n",
    "import warnings\n",
    "from sklearn import metrics\n",
    "\n",
    "warnings.filterwarnings('ignore')\n",
    "\n",
    "\n",
    "from sklearn import model_selection\n",
    "from sklearn.model_selection import cross_val_score\n",
    "from sklearn.preprocessing import StandardScaler\n",
    "from sklearn.metrics import confusion_matrix, roc_curve, roc_auc_score\n"
   ]
  },
  {
   "cell_type": "code",
   "execution_count": 2,
   "metadata": {
    "ExecuteTime": {
     "end_time": "2018-01-25T00:30:33.681752Z",
     "start_time": "2018-01-25T00:30:33.665306Z"
    },
    "collapsed": true
   },
   "outputs": [],
   "source": [
    "def pythag(pf,pa,exp=11.5):\n",
    "    return (pf**exp)/(pa**exp+pf**exp)\n",
    "\n",
    "def pythagGame(df_game,exp=11.5):\n",
    "    p={}\n",
    "    for iteam in np.arange(1,3):\n",
    "        pf = df_game['AdjO_'+str(iteam)]\n",
    "        pa = df_game['AdjD_'+str(iteam)]\n",
    "        p[str(iteam)] = pythag(pf,pa,exp)\n",
    "        \n",
    "    return p['1']*(1.-p['2'])/(p['1']+p['2']-2.*p['1']*p['2'])\n",
    "    "
   ]
  },
  {
   "cell_type": "code",
   "execution_count": 3,
   "metadata": {
    "ExecuteTime": {
     "end_time": "2018-01-25T00:30:33.698965Z",
     "start_time": "2018-01-25T00:30:33.689043Z"
    },
    "collapsed": true
   },
   "outputs": [],
   "source": [
    "teamType=pd.read_csv('data/team_type.csv')\n",
    "teamTypeDict={}\n",
    "for r in teamType.values:\n",
    "    teamTypeDict[r[0]]=r[1]"
   ]
  },
  {
   "cell_type": "code",
   "execution_count": 4,
   "metadata": {
    "ExecuteTime": {
     "end_time": "2018-01-25T00:30:33.962410Z",
     "start_time": "2018-01-25T00:30:33.701949Z"
    },
    "collapsed": true
   },
   "outputs": [],
   "source": [
    "res=[]\n",
    "dfAll=pd.DataFrame()\n",
    "for year in np.arange(2017,2003,-1):\n",
    "    df=pd.read_csv('data/games/tourn_games_'+str(year)+'.csv',index_col=0)\n",
    "    dfAll=dfAll.append(df,ignore_index=True)\n",
    "\n",
    "\n",
    "df2=dfAll.copy()\n",
    "index=df2.keys()\n",
    "index\n",
    "df2.columns=[indx.replace('_1','_xx').replace('_2','_1').replace('_xx','_2') for indx in index]\n",
    "df2.outcome=1-df2.outcome\n",
    "\n",
    "dfAll=(df2.append(dfAll))"
   ]
  },
  {
   "cell_type": "code",
   "execution_count": 5,
   "metadata": {
    "ExecuteTime": {
     "end_time": "2018-01-25T00:30:33.975913Z",
     "start_time": "2018-01-25T00:30:33.968467Z"
    },
    "collapsed": true
   },
   "outputs": [],
   "source": [
    "dropLabels=['School_1','Conf_1','wpct_1','Rank_1','WL_1','sched_url_1', 'name_1', 'wpct_1','TmPts_1', 'OppPts_1',\\\n",
    "            'School_2','Conf_2','wpct_2','Rank_2','WL_2','sched_url_2', 'name_2', 'wpct_2','TmPts_2', 'OppPts_2', 'outcome', 'region']\n",
    "dropLabels.append('round')"
   ]
  },
  {
   "cell_type": "markdown",
   "metadata": {},
   "source": [
    "## Regression on scaled inputs"
   ]
  },
  {
   "cell_type": "code",
   "execution_count": 6,
   "metadata": {
    "ExecuteTime": {
     "end_time": "2018-01-25T00:30:34.018243Z",
     "start_time": "2018-01-25T00:30:33.978575Z"
    },
    "collapsed": true
   },
   "outputs": [],
   "source": [
    "dropLabels=['outcome', 'region']\n",
    "dropLabels.append('round')\n",
    "for t12 in ['1', '2']:\n",
    "    dropLabels.append('School_'+t12)\n",
    "    dropLabels.append('name_'+t12)\n",
    "    dropLabels.append('fullName_'+t12)\n",
    "    dropLabels.append('Conf_'+t12)\n",
    "    dropLabels.append('wpct_'+t12)\n",
    "    dropLabels.append('Rank_'+t12)\n",
    "    dropLabels.append('WL_'+t12)\n",
    "    dropLabels.append('sched_url_'+t12)\n",
    "    dropLabels.append('name_'+t12)\n",
    "    dropLabels.append('TmPts_'+t12)\n",
    "    dropLabels.append('OppPts_'+t12)\n",
    "    dropLabels.append('SRS_'+t12)\n",
    "    dropLabels.append('SOS_'+t12)\n",
    "#     dropLabels.append('AdjO_'+t12)\n",
    "#     dropLabels.append('AdjD_'+t12)\n",
    "#     dropLabels.append('AdjT_'+t12)\n",
    "#     dropLabels.append('Luck_'+t12)\n",
    "    "
   ]
  },
  {
   "cell_type": "code",
   "execution_count": 7,
   "metadata": {
    "ExecuteTime": {
     "end_time": "2018-01-25T00:30:34.469305Z",
     "start_time": "2018-01-25T00:30:34.430672Z"
    },
    "collapsed": true
   },
   "outputs": [],
   "source": [
    "dfClean=dfAll.drop(dropLabels,axis=1).dropna(axis=1)\n",
    "\n",
    "\n",
    "features12=dfClean.keys()\n",
    "features=[l.replace('_1','') for l in features12[::2]]\n",
    "dfNew=pd.DataFrame()\n",
    "for lab in features:\n",
    "    dfNew[lab]=dfClean[lab+'_1']-dfClean[lab+'_2']\n",
    "\n",
    "\n",
    "dfClean=dfNew\n",
    "features=np.array(sorted(dfClean.columns))"
   ]
  },
  {
   "cell_type": "code",
   "execution_count": 18,
   "metadata": {
    "ExecuteTime": {
     "end_time": "2018-01-25T00:32:52.495978Z",
     "start_time": "2018-01-25T00:32:52.444082Z"
    },
    "collapsed": true
   },
   "outputs": [],
   "source": [
    "train_test_split?"
   ]
  },
  {
   "cell_type": "code",
   "execution_count": 29,
   "metadata": {
    "ExecuteTime": {
     "end_time": "2018-01-25T00:36:12.069032Z",
     "start_time": "2018-01-25T00:36:11.549372Z"
    }
   },
   "outputs": [
    {
     "name": "stdout",
     "output_type": "stream",
     "text": [
      "1\n",
      "10-fold cross validation average roc_auc: 0.856 0.032\n",
      "\n",
      "Pythac ROC AUC:  0.849305330598\n",
      "LogReg ROC AUC:  0.864874528413\n",
      "\n",
      "[['virginia-tech' 'wisconsin']\n",
      " ['wisconsin' 'virginia-tech']]\n",
      "[ 0.65124223  0.34875777]\n",
      "16\n"
     ]
    }
   ],
   "source": [
    "n_fold = 10\n",
    "test_size = 0.3\n",
    "\n",
    "\n",
    "dfClean=dfClean[features]\n",
    "\n",
    "scaler=StandardScaler().fit(dfClean)\n",
    "scaled=scaler.transform(dfClean)\n",
    "X=scaled\n",
    "# X=dfClean\n",
    "\n",
    "y=dfAll['outcome']\n",
    "\n",
    "X_train, X_test, y_train, y_test = train_test_split(X, y, test_size=test_size, random_state=0)\n",
    "# X_train, X_test, y_train, y_test = train_test_split(X, y, test_size=test_size, random_state=0)\n",
    "\n",
    "\n",
    "X=X_train\n",
    "y=y_train\n",
    "\n",
    "# for c in np.logspace(-4,0,20):\n",
    "c=0.1\n",
    "# model = LogisticRegression(C=c,penalty='l2',fit_intercept=True)\n",
    "c=1\n",
    "model = LogisticRegression(C=c,penalty='l1',fit_intercept=True)\n",
    "# model=RandomForestClassifier(n_estimators=100, oob_score=True, random_state=123456)\n",
    "model.fit(X_train, y_train)\n",
    "\n",
    "# y_pred=model.predict(X_test)\n",
    "kfold = model_selection.KFold(n_splits=n_fold, random_state=10)\n",
    "scoring = 'roc_auc' #['accuracy','precision']\n",
    "results = model_selection.cross_val_score(model, X, y, cv=kfold, scoring=scoring)\n",
    "print (c)\n",
    "print(\"10-fold cross validation average \"+scoring+\": %.3f %.3f\" % (results.mean(),results.std())) \n",
    "\n",
    "y_predPythag=pythagGame(dfAll,exp=13.5)\n",
    "\n",
    "# print('Accuracy using pythagorean win expectation: %.3f' % ((np.round(y_predPythag)==y_test).sum()/len(y_test)))\n",
    "print()\n",
    "print('Pythac ROC AUC: ',roc_auc_score(dfAll['outcome'],y_predPythag))\n",
    "print('LogReg ROC AUC: ',roc_auc_score(y,model.predict_proba(X)[:,1]))\n",
    "print()\n",
    "\n",
    "# res.append([year,results.mean(),(np.round(y_predPythag)==y_test).sum()/len(y_test)])\n",
    "row=1\n",
    "print(dfAll.loc[row][['name_1','name_2']].values)\n",
    "print(model.predict_proba(X)[row,:])\n",
    "print((model.coef_!=0).sum())"
   ]
  },
  {
   "cell_type": "code",
   "execution_count": 239,
   "metadata": {
    "ExecuteTime": {
     "end_time": "2018-01-23T16:56:59.321512Z",
     "start_time": "2018-01-23T16:56:59.318328Z"
    },
    "collapsed": true
   },
   "outputs": [],
   "source": [
    "# features=features[np.where(model.coef_!=0)[1]]\n",
    "# features"
   ]
  },
  {
   "cell_type": "code",
   "execution_count": 30,
   "metadata": {
    "ExecuteTime": {
     "end_time": "2018-01-25T00:36:21.564244Z",
     "start_time": "2018-01-25T00:36:21.313266Z"
    }
   },
   "outputs": [
    {
     "name": "stdout",
     "output_type": "stream",
     "text": [
      "[[227  56]\n",
      " [ 52 195]]\n"
     ]
    },
    {
     "data": {
      "image/png": "[encoded data removed]",
      "text/plain": [
       "<matplotlib.figure.Figure at 0x1a23885ac8>"
      ]
     },
     "metadata": {},
     "output_type": "display_data"
    }
   ],
   "source": [
    "# X_train, X_test, y_train, y_test\n",
    "\n",
    "print(confusion_matrix(y_test,model.predict(X_test)))\n",
    "\n",
    "fpr,tpr,thr=roc_curve(dfAll['outcome'],y_predPythag)\n",
    "plt.plot(fpr,tpr,'r--',label='Pythagorean Win Pct, AUC = '+str(round(roc_auc_score(dfAll['outcome'],y_predPythag),2)))\n",
    "\n",
    "fpr,tpr,thr=roc_curve(y_test,model.predict_proba(X_test)[:,1])\n",
    "plt.plot(fpr,tpr,'b',label='Logistic Regression, AUC = '+str(round(roc_auc_score(y_test,model.predict_proba(X_test)[:,1]),2)))\n",
    "plt.legend()\n",
    "plt.xlabel('False positive rate')\n",
    "plt.ylabel('True positive rate')\n",
    "plt.title('ROC')\n",
    "\n",
    "roc_auc_score(y_test,model.predict_proba(X_test)[:,1])\n",
    "ax=plt.gca()\n",
    "ax.set_aspect(1)"
   ]
  },
  {
   "cell_type": "code",
   "execution_count": null,
   "metadata": {
    "collapsed": true
   },
   "outputs": [],
   "source": [
    "plt.cm."
   ]
  },
  {
   "cell_type": "code",
   "execution_count": 49,
   "metadata": {
    "ExecuteTime": {
     "end_time": "2018-01-25T00:42:24.417922Z",
     "start_time": "2018-01-25T00:42:24.196127Z"
    }
   },
   "outputs": [
    {
     "data": {
      "text/plain": [
       "Text(0,0.5,'Predicted')"
      ]
     },
     "execution_count": 49,
     "metadata": {},
     "output_type": "execute_result"
    },
    {
     "data": {
      "image/png": "[encoded data removed]",
      "text/plain": [
       "<matplotlib.figure.Figure at 0x1a236e4f28>"
      ]
     },
     "metadata": {},
     "output_type": "display_data"
    }
   ],
   "source": [
    "fig = plt.figure()\n",
    "plt.clf()\n",
    "ax = fig.add_subplot(111)\n",
    "ax.set_aspect(1)\n",
    "conf_arr=confusion_matrix(y_test,model.predict(X_test))\n",
    "res = plt.imshow(conf_arr,cmap='Greens')\n",
    "\n",
    "width, height = conf_arr.shape\n",
    "\n",
    "for x in range(width):\n",
    "    for y in range(height):\n",
    "        ax.annotate(str(conf_arr[x][y]), xy=(y, x), \n",
    "                    horizontalalignment='center',\n",
    "                    verticalalignment='center')\n",
    "\n",
    "# cb = fig.colorbar(res)\n",
    "alphabet = 'WL'\n",
    "plt.xticks(range(width), alphabet[:width])\n",
    "plt.yticks(range(height), alphabet[:height])\n",
    "plt.xlabel('Actual')\n",
    "plt.ylabel('Predicted')\n"
   ]
  },
  {
   "cell_type": "code",
   "execution_count": 241,
   "metadata": {
    "ExecuteTime": {
     "end_time": "2018-01-23T16:57:05.419335Z",
     "start_time": "2018-01-23T16:57:05.171738Z"
    }
   },
   "outputs": [
    {
     "name": "stdout",
     "output_type": "stream",
     "text": [
      "[[685 197]\n",
      " [197 685]]\n"
     ]
    },
    {
     "data": {
      "image/png": "[encoded data removed]",
      "text/plain": [
       "<matplotlib.figure.Figure at 0x1a2309ca20>"
      ]
     },
     "metadata": {},
     "output_type": "display_data"
    }
   ],
   "source": [
    "from sklearn.metrics import confusion_matrix, roc_curve, roc_auc_score,precision_recall_curve, precision_score\n",
    "print(confusion_matrix(y,model.predict(X)))\n",
    "\n",
    "precision,recall,thr=precision_recall_curve(y,y_predPythag)\n",
    "plt.plot(recall,precision,'r--',label='Pythagorean Win Pct, PR AUC = '+str(round(precision_score(y,y_predPythag>0.5),2)))\n",
    "\n",
    "precision,recall,thr=precision_recall_curve(y,model.predict_proba(X)[:,1])\n",
    "plt.plot(recall,precision,'b',label='Logistic Regression, PR AUC = '+str(round(precision_score(y,model.predict_proba(X)[:,1]>0.5),2)))\n",
    "plt.legend()\n",
    "plt.xlabel('Recall')\n",
    "plt.ylabel('Precision')\n",
    "plt.title('Precision-Recall Curve')\n",
    "\n",
    "roc_auc_score(y,model.predict_proba(X)[:,1])\n",
    "plt.ylim(0,1)\n",
    "ax=plt.gca()\n",
    "ax.set_aspect(1)"
   ]
  },
  {
   "cell_type": "code",
   "execution_count": 242,
   "metadata": {
    "ExecuteTime": {
     "end_time": "2018-01-23T16:57:12.212640Z",
     "start_time": "2018-01-23T16:57:12.188293Z"
    },
    "collapsed": true
   },
   "outputs": [],
   "source": [
    "import pickle\n",
    "from sklearn.externals import joblib\n",
    "joblib.dump(model, 'app/model.pkl') \n",
    "joblib.dump(model, './model.pkl') \n",
    "\n",
    "features=dfClean.columns\n",
    "joblib.dump(features,'app/features.pkl')\n",
    "joblib.dump(features,'./features.pkl')\n",
    "\n",
    "clf = joblib.load('app/model.pkl') \n",
    "featuresX=joblib.load('app/features.pkl')\n",
    "\n",
    "# joblib.dump(scaler,'app/scaler.pkl')\n",
    "pickle.dump(scaler, open('app/scaler.pkl', 'wb'))\n",
    "pickle.dump(scaler, open('./scaler.pkl', 'wb'))\n",
    "\n"
   ]
  },
  {
   "cell_type": "code",
   "execution_count": 57,
   "metadata": {
    "ExecuteTime": {
     "end_time": "2018-01-23T02:41:00.825066Z",
     "start_time": "2018-01-23T02:41:00.819429Z"
    }
   },
   "outputs": [
    {
     "data": {
      "text/plain": [
       "Index(['3PAr_1', '3PAr_2', 'AST%_1', 'AST%_2', 'AdjD_1', 'AdjD_2', 'AdjEM.1_1',\n",
       "       'AdjEM.1_2', 'AdjEM_1', 'AdjEM_2', 'AdjO_1', 'AdjO_2', 'AdjT_1',\n",
       "       'AdjT_2', 'BLK%_1', 'BLK%_2', 'Conf_1', 'Conf_2', 'FT/FGA_1',\n",
       "       'FT/FGA_2', 'FTr_1', 'FTr_2', 'Luck_1', 'Luck_2', 'NCSOS_AdjEM_1',\n",
       "       'NCSOS_AdjEM_2', 'ORB%_1', 'ORB%_2', 'ORtg_1', 'ORtg_2', 'OppD_1',\n",
       "       'OppD_2', 'OppO_1', 'OppO_2', 'OppPts_1', 'OppPts_2', 'Pace_1',\n",
       "       'Pace_2', 'Rank_1', 'Rank_2', 'SOS_1', 'SOS_2', 'SRS_1', 'SRS_2',\n",
       "       'STL%_1', 'STL%_2', 'School_1', 'School_2', 'TOV%_1', 'TOV%_2',\n",
       "       'TRB%_1', 'TRB%_2', 'TS%_1', 'TS%_2', 'TmPts_1', 'TmPts_2', 'WL_1',\n",
       "       'WL_2', 'eFG%_1', 'eFG%_2', 'fullName_1', 'fullName_2', 'name_1',\n",
       "       'name_2', 'outcome', 'region', 'round', 'sched_url_1', 'sched_url_2',\n",
       "       'wpct_1', 'wpct_2'],\n",
       "      dtype='object')"
      ]
     },
     "execution_count": 57,
     "metadata": {},
     "output_type": "execute_result"
    }
   ],
   "source": [
    "dfAll.keys()"
   ]
  },
  {
   "cell_type": "code",
   "execution_count": 58,
   "metadata": {
    "ExecuteTime": {
     "end_time": "2018-01-23T02:41:03.029209Z",
     "start_time": "2018-01-23T02:41:03.024526Z"
    },
    "collapsed": true
   },
   "outputs": [],
   "source": [
    "scaler=pickle.load(open('./scaler.pkl','rb'))\n",
    "scaleX=scaler.transform(dfClean.values)"
   ]
  },
  {
   "cell_type": "code",
   "execution_count": 59,
   "metadata": {
    "ExecuteTime": {
     "end_time": "2018-01-23T02:41:03.233569Z",
     "start_time": "2018-01-23T02:41:03.227026Z"
    }
   },
   "outputs": [
    {
     "data": {
      "text/plain": [
       "0.0"
      ]
     },
     "execution_count": 59,
     "metadata": {},
     "output_type": "execute_result"
    }
   ],
   "source": [
    "((scaleX-scaled)**2).sum()"
   ]
  },
  {
   "cell_type": "code",
   "execution_count": 60,
   "metadata": {
    "ExecuteTime": {
     "end_time": "2018-01-23T02:41:03.977804Z",
     "start_time": "2018-01-23T02:41:03.969777Z"
    }
   },
   "outputs": [
    {
     "name": "stdout",
     "output_type": "stream",
     "text": [
      "[['virginia-tech' 'wisconsin']\n",
      " ['wisconsin' 'virginia-tech']]\n",
      "[ 0.70819576  0.29180424]\n"
     ]
    }
   ],
   "source": [
    "row=1\n",
    "print(dfAll.loc[row][['name_1','name_2']].values)\n",
    "print(clf.predict_proba(X)[row,:])"
   ]
  },
  {
   "cell_type": "markdown",
   "metadata": {},
   "source": [
    "# Write model to database"
   ]
  },
  {
   "cell_type": "code",
   "execution_count": 20,
   "metadata": {
    "ExecuteTime": {
     "end_time": "2018-01-19T02:07:06.805850Z",
     "start_time": "2018-01-19T02:07:06.521606Z"
    }
   },
   "outputs": [
    {
     "name": "stdout",
     "output_type": "stream",
     "text": [
      "postgres://gshau@localhost/ncaabb\n",
      "True\n"
     ]
    }
   ],
   "source": [
    "\n",
    "from sqlalchemy import create_engine\n",
    "from sqlalchemy_utils import database_exists, create_database\n",
    "import psycopg2\n",
    "dbname = 'ncaabb'\n",
    "username = 'gshau' # change this to your username\n",
    "engine = create_engine('postgres://%s@localhost/%s'%(username,dbname))\n",
    "print(engine.url)\n",
    "if not database_exists(engine.url):\n",
    "    create_database(engine.url)\n",
    "print(database_exists(engine.url))\n",
    "\n"
   ]
  },
  {
   "cell_type": "code",
   "execution_count": 21,
   "metadata": {
    "ExecuteTime": {
     "end_time": "2018-01-19T02:07:07.602177Z",
     "start_time": "2018-01-19T02:07:07.592773Z"
    }
   },
   "outputs": [
    {
     "data": {
      "text/plain": [
       "array([[-1.23569616,  1.23729166,  0.        , ..., -0.02843159,\n",
       "         0.32134405,  0.46208259],\n",
       "       [-0.06864979,  0.08632267,  0.05494102, ..., -1.56373771,\n",
       "        -2.0157036 , -2.09296234],\n",
       "       [ 0.56292825,  0.10070979,  0.26096983, ..., -1.42157973,\n",
       "        -0.73032739, -0.81543987],\n",
       "       ..., \n",
       "       [-0.17848945, -1.19413032, -0.60435119, ..., -0.34117914,\n",
       "        -1.54829407, -1.54933576],\n",
       "       [-0.57665821, -0.34529069, -0.38458712, ...,  2.53041192,\n",
       "         0.7011143 ,  0.46208259],\n",
       "       [ 0.23340927, -0.53232315, -0.26096983, ..., -0.45490551,\n",
       "        -0.37977024, -0.48926392]])"
      ]
     },
     "execution_count": 21,
     "metadata": {},
     "output_type": "execute_result"
    }
   ],
   "source": [
    "X_test"
   ]
  },
  {
   "cell_type": "code",
   "execution_count": 22,
   "metadata": {
    "ExecuteTime": {
     "end_time": "2018-01-19T02:07:08.531777Z",
     "start_time": "2018-01-19T02:07:08.513856Z"
    }
   },
   "outputs": [
    {
     "data": {
      "text/plain": [
       "array([ 0.55300082,  0.79560781,  0.73665817,  0.4291253 ,  0.06508519,\n",
       "        0.00837023,  0.16178584,  0.73614042,  0.19288455,  0.40986058,\n",
       "        0.99620873,  0.55329998,  0.07741981,  0.36577805,  0.52688125,\n",
       "        0.23194668,  0.23457642,  0.38250594,  0.9263721 ,  0.19138322,\n",
       "        0.11049344,  0.62386343,  0.68695647,  0.00868081,  0.4211126 ,\n",
       "        0.45357028,  0.79638075,  0.21090521,  0.81749427,  0.79563636,\n",
       "        0.37108807,  0.70992241,  0.42359774,  0.72076205,  0.6793976 ,\n",
       "        0.3397064 ,  0.62043478,  0.18879672,  0.76009191,  0.3991867 ,\n",
       "        0.67552541,  0.2461435 ,  0.23301726,  0.41123813,  0.52525601,\n",
       "        0.3001031 ,  0.49458383,  0.64212651,  0.53017399,  0.50979055,\n",
       "        0.37602569,  0.54508026,  0.19980471,  0.32966183,  0.54821106,\n",
       "        0.35454395,  0.65107242,  0.73171716,  0.28830026,  0.52933306,\n",
       "        0.46732733,  0.52751084,  0.57876711,  0.7082819 ,  0.72828662,\n",
       "        0.76758174,  0.657624  ,  0.41239428,  0.08320211,  0.37468504,\n",
       "        0.75090667,  0.76013812,  0.27313846,  0.73007109,  0.24383552,\n",
       "        0.84129596,  0.18946751,  0.4740938 ,  0.89078318,  0.28560004,\n",
       "        0.20573817,  0.95267923,  0.35226619,  0.55290438,  0.91935697,\n",
       "        0.24800376,  0.18918084,  0.78187949,  0.03904119,  0.89015485,\n",
       "        0.14278195,  0.6172564 ,  0.04296362,  0.50623091,  0.34954814,\n",
       "        0.56363389,  0.5610247 ,  0.69963922,  0.38724273,  0.76830767,\n",
       "        0.94409705,  0.73930599,  0.42979492,  0.44054998,  0.54358657,\n",
       "        0.30481849,  0.59894774,  0.01588113,  0.78344462,  0.76590735,\n",
       "        0.48289821,  0.47236185,  0.9558147 ,  0.04626179,  0.56260342,\n",
       "        0.07198584,  0.27851566,  0.22396628,  0.48948095,  0.36436754,\n",
       "        0.3622332 ,  0.10654003,  0.96104809,  0.04154455,  0.79075894,\n",
       "        0.6376108 ,  0.24537101,  0.23114561,  0.01658285,  0.49200633,\n",
       "        0.97894865,  0.44339043,  0.98355378,  0.61383138,  0.70140488,\n",
       "        0.35842405,  0.07315907,  0.44812928,  0.25808263,  0.46205076,\n",
       "        0.15327444,  0.45119953,  0.26780143,  0.91321491,  0.36378569,\n",
       "        0.60281296,  0.29621352,  0.25665021,  0.66491017,  0.24220246,\n",
       "        0.57261201,  0.43347806,  0.40983773,  0.93894592,  0.22793637,\n",
       "        0.14339493,  0.45778865,  0.8539164 ,  0.90804993,  0.04581256,\n",
       "        0.92686651,  0.3601257 ,  0.86652221,  0.84199119,  0.18271204,\n",
       "        0.75900444,  0.29976979,  0.17307478,  0.02421768,  0.53058085,\n",
       "        0.4503163 ,  0.63729601,  0.87169828,  0.09255215,  0.47911846,\n",
       "        0.82536106,  0.72760779,  0.16169714,  0.96245113,  0.80134233,\n",
       "        0.82555715,  0.58221332,  0.48970311,  0.16961526,  0.69929836,\n",
       "        0.66420641,  0.24180382,  0.63501531,  0.43039668,  0.09514076,\n",
       "        0.16270005,  0.19043878,  0.41537788,  0.77818838,  0.81230156,\n",
       "        0.45856926,  0.91588812,  0.02664896,  0.62126332,  0.81230195,\n",
       "        0.56843137,  0.09380445,  0.43333327,  0.48951603,  0.38563761,\n",
       "        0.79028886,  0.34025936,  0.99138085,  0.27934212,  0.76385087,\n",
       "        0.61329563,  0.87174402,  0.97371577,  0.0439769 ,  0.52941791,\n",
       "        0.71698998,  0.40114764,  0.83550541,  0.06106802,  0.69108771,\n",
       "        0.47653717,  0.77207161,  0.35234498,  0.25857057,  0.62972522,\n",
       "        0.83748326,  0.65032501,  0.55916851,  0.77566687,  0.94546052,\n",
       "        0.03780957,  0.95116982,  0.70212549,  0.21672302,  0.01173064,\n",
       "        0.2346797 ,  0.64152941,  0.37377537,  0.98958621,  0.59187731,\n",
       "        0.81702741,  0.81744983,  0.96556926,  0.87487858,  0.65191371,\n",
       "        0.45976102,  0.83452057,  0.11047422,  0.03722274,  0.19514637,\n",
       "        0.96122766,  0.95819769,  0.50317586,  0.85071037,  0.63588825,\n",
       "        0.49556633,  0.85326495,  0.69347894,  0.58842979,  0.97222738,\n",
       "        0.57925505,  0.31454212,  0.52267557,  0.15966636,  0.67207503,\n",
       "        0.42045469,  0.0602678 ,  0.76122202,  0.33669364,  0.23297466,\n",
       "        0.66451482,  0.76232431,  0.98771882,  0.56348137,  0.6604998 ,\n",
       "        0.98353399,  0.97531248,  0.98002043,  0.7902285 ,  0.95450071,\n",
       "        0.70468652,  0.63411634,  0.44639081,  0.73462078,  0.7353516 ,\n",
       "        0.60057831,  0.75951187,  0.55838325,  0.28306147,  0.81871756,\n",
       "        0.31959452,  0.43916663,  0.57867019,  0.52598784,  0.6121354 ,\n",
       "        0.13753921,  0.41264006,  0.02967587,  0.71984667,  0.81066721,\n",
       "        0.42570101,  0.20997829,  0.18235199,  0.27340156,  0.70084162,\n",
       "        0.47135355,  0.39274622,  0.53390837,  0.208973  ,  0.04247706,\n",
       "        0.26600416,  0.60253642,  0.70290543,  0.0893821 ,  0.41188285,\n",
       "        0.26507319,  0.67289793,  0.5760558 ,  0.66451432,  0.36285937,\n",
       "        0.81528096,  0.59490883,  0.59597412,  0.98654414,  0.28010787,\n",
       "        0.51564454,  0.75409196,  0.78197396,  0.97266782,  0.22785003,\n",
       "        0.29981365,  0.65682355,  0.72002132,  0.57882594,  0.90626815,\n",
       "        0.52942974,  0.97595164,  0.12906199,  0.91120138,  0.81163415,\n",
       "        0.21933221,  0.53899631,  0.07362235,  0.75181997,  0.81809162,\n",
       "        0.67082685,  0.32824653,  0.94013811,  0.45682842,  0.72735582,\n",
       "        0.83139499,  0.05191707,  0.28720926])"
      ]
     },
     "execution_count": 22,
     "metadata": {},
     "output_type": "execute_result"
    }
   ],
   "source": [
    "clf.predict_proba(X_test)[:,0]"
   ]
  },
  {
   "cell_type": "code",
   "execution_count": 23,
   "metadata": {
    "ExecuteTime": {
     "end_time": "2018-01-19T02:07:09.067882Z",
     "start_time": "2018-01-19T02:07:09.057688Z"
    },
    "collapsed": true
   },
   "outputs": [],
   "source": [
    "import pickle\n",
    "from sklearn.externals import joblib\n",
    "joblib.dump(model, 'model.pkl') \n",
    "\n",
    "clf = joblib.load('model.pkl') \n",
    "\n",
    "# s = pickle.dumps(clf)\n",
    "# clf2 = pickle.loads(s)"
   ]
  },
  {
   "cell_type": "code",
   "execution_count": 34,
   "metadata": {
    "ExecuteTime": {
     "end_time": "2018-01-23T02:38:30.753811Z",
     "start_time": "2018-01-23T02:38:30.698878Z"
    }
   },
   "outputs": [
    {
     "name": "stdout",
     "output_type": "stream",
     "text": [
      "10-fold cross validation average accuracy: 0.770\n"
     ]
    }
   ],
   "source": [
    "kfold = model_selection.KFold(n_splits=n_fold, random_state=0)\n",
    "scoring = 'accuracy'\n",
    "results = model_selection.cross_val_score(clf, X, y, cv=kfold, scoring=scoring)\n",
    "print(\"10-fold cross validation average accuracy: %.3f\" % (results.mean())) \n"
   ]
  },
  {
   "cell_type": "code",
   "execution_count": 61,
   "metadata": {
    "ExecuteTime": {
     "end_time": "2018-01-23T02:41:10.425126Z",
     "start_time": "2018-01-23T02:41:10.157659Z"
    }
   },
   "outputs": [
    {
     "data": {
      "image/png": "[encoded data removed]",
      "text/plain": [
       "<matplotlib.figure.Figure at 0x1a1a863828>"
      ]
     },
     "metadata": {},
     "output_type": "display_data"
    }
   ],
   "source": [
    "ndata=int(len(model.coef_[0]))\n",
    "plt.bar(np.arange(ndata), model.coef_[0],width=0.5)\n",
    "# plt.bar(np.arange(ndata)+.15, -model.coef_[0][ndata:],width=0.3)\n",
    "labels=dfClean.keys();\n",
    "plt.xticks(np.arange(ndata), labels, rotation='vertical');\n",
    "plt.gca().tick_params(labelsize=18)\n",
    "plt.title('Logistic Regression parameters',size=18);\n",
    "plt.ylabel('$\\\\beta_i$',size=18);\n",
    "\n",
    "# plt.x"
   ]
  },
  {
   "cell_type": "markdown",
   "metadata": {},
   "source": [
    "# Show logistic regression plot"
   ]
  },
  {
   "cell_type": "code",
   "execution_count": 35,
   "metadata": {
    "ExecuteTime": {
     "end_time": "2018-01-19T02:09:31.489429Z",
     "start_time": "2018-01-19T02:09:31.484949Z"
    },
    "collapsed": true
   },
   "outputs": [],
   "source": [
    "def logit(x):\n",
    "    return 1./(1.+np.exp(-x))\n",
    "# logit(X_test.dot(model.coef_.T)).values-model.predict_proba(X_test)[:,1,None]"
   ]
  },
  {
   "cell_type": "code",
   "execution_count": 41,
   "metadata": {
    "ExecuteTime": {
     "end_time": "2018-01-19T02:11:48.732289Z",
     "start_time": "2018-01-19T02:11:48.727533Z"
    }
   },
   "outputs": [
    {
     "data": {
      "text/plain": [
       "(353, 18)"
      ]
     },
     "execution_count": 41,
     "metadata": {},
     "output_type": "execute_result"
    }
   ],
   "source": [
    "X_test.shape"
   ]
  },
  {
   "cell_type": "code",
   "execution_count": 39,
   "metadata": {
    "ExecuteTime": {
     "end_time": "2018-01-19T02:10:59.471847Z",
     "start_time": "2018-01-19T02:10:59.150028Z"
    }
   },
   "outputs": [
    {
     "data": {
      "text/plain": [
       "(-5, 5)"
      ]
     },
     "execution_count": 39,
     "metadata": {},
     "output_type": "execute_result"
    },
    {
     "data": {
      "image/png": "[encoded data removed]",
      "text/plain": [
       "<matplotlib.figure.Figure at 0x1a208d5748>"
      ]
     },
     "metadata": {},
     "output_type": "display_data"
    }
   ],
   "source": [
    "xcoord = X_test.dot(model.coef_.T)\n",
    "plt.scatter(xcoord, y_test,color=[0,0,1,.05])\n",
    "plt.scatter(-xcoord, 1-y_test,color=[0,0,1,.05])\n",
    "plt.xlabel('${\\cal Z}=\\sum \\\\beta_i {\\cal X}_i$',size=18)\n",
    "plt.ylabel('Outcome',size=18)\n",
    "plt.gca().tick_params(labelsize=18)\n",
    "\n",
    "x=np.linspace(-10,10,100)\n",
    "plt.plot(x,logit(x),'r--')\n",
    "plt.xlim(-5,5)"
   ]
  },
  {
   "cell_type": "markdown",
   "metadata": {},
   "source": [
    "## Confusion Matrix\n"
   ]
  },
  {
   "cell_type": "code",
   "execution_count": 27,
   "metadata": {
    "collapsed": true
   },
   "outputs": [],
   "source": [
    "from sklearn.metrics import confusion_matrix"
   ]
  },
  {
   "cell_type": "code",
   "execution_count": 28,
   "metadata": {},
   "outputs": [
    {
     "ename": "ValueError",
     "evalue": "Found input variables with inconsistent numbers of samples: [221, 265]",
     "output_type": "error",
     "traceback": [
      "\u001b[0;31m---------------------------------------------------------------------------\u001b[0m",
      "\u001b[0;31mValueError\u001b[0m                                Traceback (most recent call last)",
      "\u001b[0;32m<ipython-input-28-5dba9120e7b5>\u001b[0m in \u001b[0;36m<module>\u001b[0;34m()\u001b[0m\n\u001b[0;32m----> 1\u001b[0;31m \u001b[0mconfusion_matrix\u001b[0m\u001b[0;34m(\u001b[0m\u001b[0my_test\u001b[0m\u001b[0;34m,\u001b[0m\u001b[0mnp\u001b[0m\u001b[0;34m.\u001b[0m\u001b[0mround\u001b[0m\u001b[0;34m(\u001b[0m\u001b[0my_predPythag\u001b[0m\u001b[0;34m)\u001b[0m\u001b[0;34m)\u001b[0m\u001b[0;34m\u001b[0m\u001b[0m\n\u001b[0m",
      "\u001b[0;32m~/anaconda3/lib/python3.6/site-packages/sklearn/metrics/classification.py\u001b[0m in \u001b[0;36mconfusion_matrix\u001b[0;34m(y_true, y_pred, labels, sample_weight)\u001b[0m\n\u001b[1;32m    248\u001b[0m \u001b[0;34m\u001b[0m\u001b[0m\n\u001b[1;32m    249\u001b[0m     \"\"\"\n\u001b[0;32m--> 250\u001b[0;31m     \u001b[0my_type\u001b[0m\u001b[0;34m,\u001b[0m \u001b[0my_true\u001b[0m\u001b[0;34m,\u001b[0m \u001b[0my_pred\u001b[0m \u001b[0;34m=\u001b[0m \u001b[0m_check_targets\u001b[0m\u001b[0;34m(\u001b[0m\u001b[0my_true\u001b[0m\u001b[0;34m,\u001b[0m \u001b[0my_pred\u001b[0m\u001b[0;34m)\u001b[0m\u001b[0;34m\u001b[0m\u001b[0m\n\u001b[0m\u001b[1;32m    251\u001b[0m     \u001b[0;32mif\u001b[0m \u001b[0my_type\u001b[0m \u001b[0;32mnot\u001b[0m \u001b[0;32min\u001b[0m \u001b[0;34m(\u001b[0m\u001b[0;34m\"binary\"\u001b[0m\u001b[0;34m,\u001b[0m \u001b[0;34m\"multiclass\"\u001b[0m\u001b[0;34m)\u001b[0m\u001b[0;34m:\u001b[0m\u001b[0;34m\u001b[0m\u001b[0m\n\u001b[1;32m    252\u001b[0m         \u001b[0;32mraise\u001b[0m \u001b[0mValueError\u001b[0m\u001b[0;34m(\u001b[0m\u001b[0;34m\"%s is not supported\"\u001b[0m \u001b[0;34m%\u001b[0m \u001b[0my_type\u001b[0m\u001b[0;34m)\u001b[0m\u001b[0;34m\u001b[0m\u001b[0m\n",
      "\u001b[0;32m~/anaconda3/lib/python3.6/site-packages/sklearn/metrics/classification.py\u001b[0m in \u001b[0;36m_check_targets\u001b[0;34m(y_true, y_pred)\u001b[0m\n\u001b[1;32m     69\u001b[0m     \u001b[0my_pred\u001b[0m \u001b[0;34m:\u001b[0m \u001b[0marray\u001b[0m \u001b[0;32mor\u001b[0m \u001b[0mindicator\u001b[0m \u001b[0mmatrix\u001b[0m\u001b[0;34m\u001b[0m\u001b[0m\n\u001b[1;32m     70\u001b[0m     \"\"\"\n\u001b[0;32m---> 71\u001b[0;31m     \u001b[0mcheck_consistent_length\u001b[0m\u001b[0;34m(\u001b[0m\u001b[0my_true\u001b[0m\u001b[0;34m,\u001b[0m \u001b[0my_pred\u001b[0m\u001b[0;34m)\u001b[0m\u001b[0;34m\u001b[0m\u001b[0m\n\u001b[0m\u001b[1;32m     72\u001b[0m     \u001b[0mtype_true\u001b[0m \u001b[0;34m=\u001b[0m \u001b[0mtype_of_target\u001b[0m\u001b[0;34m(\u001b[0m\u001b[0my_true\u001b[0m\u001b[0;34m)\u001b[0m\u001b[0;34m\u001b[0m\u001b[0m\n\u001b[1;32m     73\u001b[0m     \u001b[0mtype_pred\u001b[0m \u001b[0;34m=\u001b[0m \u001b[0mtype_of_target\u001b[0m\u001b[0;34m(\u001b[0m\u001b[0my_pred\u001b[0m\u001b[0;34m)\u001b[0m\u001b[0;34m\u001b[0m\u001b[0m\n",
      "\u001b[0;32m~/anaconda3/lib/python3.6/site-packages/sklearn/utils/validation.py\u001b[0m in \u001b[0;36mcheck_consistent_length\u001b[0;34m(*arrays)\u001b[0m\n\u001b[1;32m    202\u001b[0m     \u001b[0;32mif\u001b[0m \u001b[0mlen\u001b[0m\u001b[0;34m(\u001b[0m\u001b[0muniques\u001b[0m\u001b[0;34m)\u001b[0m \u001b[0;34m>\u001b[0m \u001b[0;36m1\u001b[0m\u001b[0;34m:\u001b[0m\u001b[0;34m\u001b[0m\u001b[0m\n\u001b[1;32m    203\u001b[0m         raise ValueError(\"Found input variables with inconsistent numbers of\"\n\u001b[0;32m--> 204\u001b[0;31m                          \" samples: %r\" % [int(l) for l in lengths])\n\u001b[0m\u001b[1;32m    205\u001b[0m \u001b[0;34m\u001b[0m\u001b[0m\n\u001b[1;32m    206\u001b[0m \u001b[0;34m\u001b[0m\u001b[0m\n",
      "\u001b[0;31mValueError\u001b[0m: Found input variables with inconsistent numbers of samples: [221, 265]"
     ]
    }
   ],
   "source": [
    "confusion_matrix(y_test,np.round(y_predPythag))"
   ]
  },
  {
   "cell_type": "code",
   "execution_count": 29,
   "metadata": {},
   "outputs": [
    {
     "data": {
      "text/plain": [
       "array([[ 43,  37],\n",
       "       [ 23, 118]])"
      ]
     },
     "execution_count": 29,
     "metadata": {},
     "output_type": "execute_result"
    }
   ],
   "source": [
    "\n",
    "confusion_matrix(y_test,y_pred)"
   ]
  },
  {
   "cell_type": "code",
   "execution_count": 165,
   "metadata": {},
   "outputs": [
    {
     "data": {
      "text/plain": [
       "0.75113122171945701"
      ]
     },
     "execution_count": 165,
     "metadata": {},
     "output_type": "execute_result"
    }
   ],
   "source": [
    "rf=RandomForestClassifier(n_estimators=100, oob_score=True, random_state=123456)\n",
    "rf.fit(X_train,y_train)\n",
    "pred=rf.predict(X_test)\n",
    "from sklearn.metrics import accuracy_score\n",
    "accuracy_score(y_test,pred)"
   ]
  },
  {
   "cell_type": "code",
   "execution_count": 166,
   "metadata": {},
   "outputs": [
    {
     "ename": "NameError",
     "evalue": "name 'resDF' is not defined",
     "output_type": "error",
     "traceback": [
      "\u001b[0;31m---------------------------------------------------------------------------\u001b[0m",
      "\u001b[0;31mNameError\u001b[0m                                 Traceback (most recent call last)",
      "\u001b[0;32m<ipython-input-166-0636f2d161fc>\u001b[0m in \u001b[0;36m<module>\u001b[0;34m()\u001b[0m\n\u001b[0;32m----> 1\u001b[0;31m \u001b[0mresDF\u001b[0m\u001b[0;34m.\u001b[0m\u001b[0mplot\u001b[0m\u001b[0;34m(\u001b[0m\u001b[0mx\u001b[0m\u001b[0;34m=\u001b[0m\u001b[0;34m'Log reg'\u001b[0m\u001b[0;34m,\u001b[0m\u001b[0my\u001b[0m\u001b[0;34m=\u001b[0m\u001b[0;34m'Pythag'\u001b[0m\u001b[0;34m,\u001b[0m\u001b[0mkind\u001b[0m\u001b[0;34m=\u001b[0m\u001b[0;34m'scatter'\u001b[0m\u001b[0;34m)\u001b[0m\u001b[0;34m\u001b[0m\u001b[0m\n\u001b[0m\u001b[1;32m      2\u001b[0m \u001b[0mplt\u001b[0m\u001b[0;34m.\u001b[0m\u001b[0mxlim\u001b[0m\u001b[0;34m(\u001b[0m\u001b[0;36m0\u001b[0m\u001b[0;34m,\u001b[0m\u001b[0;36m1\u001b[0m\u001b[0;34m)\u001b[0m\u001b[0;34m\u001b[0m\u001b[0m\n\u001b[1;32m      3\u001b[0m \u001b[0mplt\u001b[0m\u001b[0;34m.\u001b[0m\u001b[0mylim\u001b[0m\u001b[0;34m(\u001b[0m\u001b[0;36m0\u001b[0m\u001b[0;34m,\u001b[0m\u001b[0;36m1\u001b[0m\u001b[0;34m)\u001b[0m\u001b[0;34m\u001b[0m\u001b[0m\n",
      "\u001b[0;31mNameError\u001b[0m: name 'resDF' is not defined"
     ]
    }
   ],
   "source": [
    "resDF.plot(x='Log reg',y='Pythag',kind='scatter')\n",
    "plt.xlim(0,1)\n",
    "plt.ylim(0,1)"
   ]
  },
  {
   "cell_type": "markdown",
   "metadata": {},
   "source": [
    "# Test with teams split by k-means and PCA"
   ]
  },
  {
   "cell_type": "code",
   "execution_count": 107,
   "metadata": {
    "scrolled": false
   },
   "outputs": [
    {
     "name": "stdout",
     "output_type": "stream",
     "text": [
      "00 613\n",
      "Accuracy of logistic regression classifier on test set: 0.67\n",
      "Accuracy using pythagorean win expectation:  0.68515497553\n",
      "10-fold cross validation average accuracy: 0.669\n",
      "01 281\n",
      "Accuracy of logistic regression classifier on test set: 0.84\n",
      "Accuracy using pythagorean win expectation:  0.79359430605\n",
      "10-fold cross validation average accuracy: 0.830\n",
      "02 940\n",
      "Accuracy of logistic regression classifier on test set: 0.77\n",
      "Accuracy using pythagorean win expectation:  0.76170212766\n",
      "10-fold cross validation average accuracy: 0.754\n",
      "11 388\n",
      "Accuracy of logistic regression classifier on test set: 0.65\n",
      "Accuracy using pythagorean win expectation:  0.682989690722\n",
      "10-fold cross validation average accuracy: 0.669\n",
      "12 287\n",
      "Accuracy of logistic regression classifier on test set: 0.92\n",
      "Accuracy using pythagorean win expectation:  0.91637630662\n",
      "10-fold cross validation average accuracy: 0.922\n",
      "22 530\n",
      "Accuracy of logistic regression classifier on test set: 0.70\n",
      "Accuracy using pythagorean win expectation:  0.694339622642\n",
      "10-fold cross validation average accuracy: 0.687\n",
      "\n",
      "0.737416863787\n",
      "0.742020401448\n",
      "00 573\n",
      "Accuracy of logistic regression classifier on test set: 0.72\n",
      "Accuracy using pythagorean win expectation:  0.713787085515\n",
      "10-fold cross validation average accuracy: 0.651\n",
      "01 282\n",
      "Accuracy of logistic regression classifier on test set: 0.81\n",
      "Accuracy using pythagorean win expectation:  0.808510638298\n",
      "10-fold cross validation average accuracy: 0.815\n",
      "02 863\n",
      "Accuracy of logistic regression classifier on test set: 0.78\n",
      "Accuracy using pythagorean win expectation:  0.800695249131\n",
      "10-fold cross validation average accuracy: 0.778\n",
      "11 408\n",
      "Accuracy of logistic regression classifier on test set: 0.65\n",
      "Accuracy using pythagorean win expectation:  0.671568627451\n",
      "10-fold cross validation average accuracy: 0.670\n",
      "12 380\n",
      "Accuracy of logistic regression classifier on test set: 0.91\n",
      "Accuracy using pythagorean win expectation:  0.910526315789\n",
      "10-fold cross validation average accuracy: 0.920\n",
      "22 526\n",
      "Accuracy of logistic regression classifier on test set: 0.63\n",
      "Accuracy using pythagorean win expectation:  0.665399239544\n",
      "10-fold cross validation average accuracy: 0.642\n",
      "\n",
      "0.737129063522\n",
      "0.757915567282\n",
      "00 309\n",
      "Accuracy of logistic regression classifier on test set: 0.65\n",
      "Accuracy using pythagorean win expectation:  0.669902912621\n",
      "10-fold cross validation average accuracy: 0.630\n",
      "01 840\n",
      "Accuracy of logistic regression classifier on test set: 0.77\n",
      "Accuracy using pythagorean win expectation:  0.789285714286\n",
      "10-fold cross validation average accuracy: 0.771\n",
      "02 282\n",
      "Accuracy of logistic regression classifier on test set: 0.91\n",
      "Accuracy using pythagorean win expectation:  0.918439716312\n",
      "10-fold cross validation average accuracy: 0.899\n",
      "11 644\n",
      "Accuracy of logistic regression classifier on test set: 0.67\n",
      "Accuracy using pythagorean win expectation:  0.680124223602\n",
      "10-fold cross validation average accuracy: 0.662\n",
      "12 390\n",
      "Accuracy of logistic regression classifier on test set: 0.79\n",
      "Accuracy using pythagorean win expectation:  0.776923076923\n",
      "10-fold cross validation average accuracy: 0.774\n",
      "22 536\n",
      "Accuracy of logistic regression classifier on test set: 0.68\n",
      "Accuracy using pythagorean win expectation:  0.67723880597\n",
      "10-fold cross validation average accuracy: 0.693\n",
      "\n",
      "0.731521485249\n",
      "0.744085304898\n",
      "00 586\n",
      "Accuracy of logistic regression classifier on test set: 0.69\n",
      "Accuracy using pythagorean win expectation:  0.692832764505\n",
      "10-fold cross validation average accuracy: 0.699\n",
      "01 287\n",
      "Accuracy of logistic regression classifier on test set: 0.82\n",
      "Accuracy using pythagorean win expectation:  0.794425087108\n",
      "10-fold cross validation average accuracy: 0.801\n",
      "02 442\n",
      "Accuracy of logistic regression classifier on test set: 0.85\n",
      "Accuracy using pythagorean win expectation:  0.864253393665\n",
      "10-fold cross validation average accuracy: 0.867\n",
      "11 345\n",
      "Accuracy of logistic regression classifier on test set: 0.64\n",
      "Accuracy using pythagorean win expectation:  0.649275362319\n",
      "10-fold cross validation average accuracy: 0.644\n",
      "12 802\n",
      "Accuracy of logistic regression classifier on test set: 0.79\n",
      "Accuracy using pythagorean win expectation:  0.779301745636\n",
      "10-fold cross validation average accuracy: 0.788\n",
      "22 543\n",
      "Accuracy of logistic regression classifier on test set: 0.69\n",
      "Accuracy using pythagorean win expectation:  0.664825046041\n",
      "10-fold cross validation average accuracy: 0.681\n",
      "\n",
      "0.74747637304\n",
      "0.740765391015\n",
      "00 532\n",
      "Accuracy of logistic regression classifier on test set: 0.66\n",
      "Accuracy using pythagorean win expectation:  0.65037593985\n",
      "10-fold cross validation average accuracy: 0.698\n",
      "01 341\n",
      "Accuracy of logistic regression classifier on test set: 0.91\n",
      "Accuracy using pythagorean win expectation:  0.91788856305\n",
      "10-fold cross validation average accuracy: 0.913\n",
      "02 296\n",
      "Accuracy of logistic regression classifier on test set: 0.77\n",
      "Accuracy using pythagorean win expectation:  0.787162162162\n",
      "10-fold cross validation average accuracy: 0.790\n",
      "11 532\n",
      "Accuracy of logistic regression classifier on test set: 0.66\n",
      "Accuracy using pythagorean win expectation:  0.646616541353\n",
      "10-fold cross validation average accuracy: 0.685\n",
      "12 810\n",
      "Accuracy of logistic regression classifier on test set: 0.80\n",
      "Accuracy using pythagorean win expectation:  0.802469135802\n",
      "10-fold cross validation average accuracy: 0.783\n",
      "22 471\n",
      "Accuracy of logistic regression classifier on test set: 0.70\n",
      "Accuracy using pythagorean win expectation:  0.709129511677\n",
      "10-fold cross validation average accuracy: 0.658\n",
      "\n",
      "0.746160913262\n",
      "0.744466800805\n",
      "00 536\n",
      "Accuracy of logistic regression classifier on test set: 0.73\n",
      "Accuracy using pythagorean win expectation:  0.722014925373\n",
      "10-fold cross validation average accuracy: 0.694\n",
      "01 715\n",
      "Accuracy of logistic regression classifier on test set: 0.75\n",
      "Accuracy using pythagorean win expectation:  0.74965034965\n",
      "10-fold cross validation average accuracy: 0.770\n",
      "02 513\n",
      "Accuracy of logistic regression classifier on test set: 0.90\n",
      "Accuracy using pythagorean win expectation:  0.906432748538\n",
      "10-fold cross validation average accuracy: 0.913\n",
      "11 293\n",
      "Accuracy of logistic regression classifier on test set: 0.69\n",
      "Accuracy using pythagorean win expectation:  0.686006825939\n",
      "10-fold cross validation average accuracy: 0.691\n",
      "12 322\n",
      "Accuracy of logistic regression classifier on test set: 0.74\n",
      "Accuracy using pythagorean win expectation:  0.754658385093\n",
      "10-fold cross validation average accuracy: 0.761\n",
      "22 557\n",
      "Accuracy of logistic regression classifier on test set: 0.68\n",
      "Accuracy using pythagorean win expectation:  0.678635547576\n",
      "10-fold cross validation average accuracy: 0.701\n",
      "\n",
      "0.759121806828\n",
      "0.75272479564\n",
      "00 411\n",
      "Accuracy of logistic regression classifier on test set: 0.67\n",
      "Accuracy using pythagorean win expectation:  0.698296836983\n",
      "10-fold cross validation average accuracy: 0.662\n",
      "01 787\n",
      "Accuracy of logistic regression classifier on test set: 0.79\n",
      "Accuracy using pythagorean win expectation:  0.790343074968\n",
      "10-fold cross validation average accuracy: 0.779\n",
      "02 237\n",
      "Accuracy of logistic regression classifier on test set: 0.94\n",
      "Accuracy using pythagorean win expectation:  0.940928270042\n",
      "10-fold cross validation average accuracy: 0.936\n",
      "11 663\n",
      "Accuracy of logistic regression classifier on test set: 0.64\n",
      "Accuracy using pythagorean win expectation:  0.613876319759\n",
      "10-fold cross validation average accuracy: 0.661\n",
      "12 468\n",
      "Accuracy of logistic regression classifier on test set: 0.80\n",
      "Accuracy using pythagorean win expectation:  0.801282051282\n",
      "10-fold cross validation average accuracy: 0.812\n",
      "22 357\n",
      "Accuracy of logistic regression classifier on test set: 0.63\n",
      "Accuracy using pythagorean win expectation:  0.627450980392\n",
      "10-fold cross validation average accuracy: 0.670\n",
      "\n",
      "0.740584422896\n",
      "0.731440301061\n",
      "00 360\n",
      "Accuracy of logistic regression classifier on test set: 0.67\n",
      "Accuracy using pythagorean win expectation:  0.716666666667\n",
      "10-fold cross validation average accuracy: 0.652\n",
      "01 184\n",
      "Accuracy of logistic regression classifier on test set: 0.98\n",
      "Accuracy using pythagorean win expectation:  0.994565217391\n",
      "10-fold cross validation average accuracy: 0.960\n",
      "02 501\n",
      "Accuracy of logistic regression classifier on test set: 0.84\n",
      "Accuracy using pythagorean win expectation:  0.834331337325\n",
      "10-fold cross validation average accuracy: 0.823\n",
      "11 368\n",
      "Accuracy of logistic regression classifier on test set: 0.67\n",
      "Accuracy using pythagorean win expectation:  0.6875\n"
     ]
    },
    {
     "name": "stdout",
     "output_type": "stream",
     "text": [
      "10-fold cross validation average accuracy: 0.627\n",
      "12 638\n",
      "Accuracy of logistic regression classifier on test set: 0.82\n",
      "Accuracy using pythagorean win expectation:  0.815047021944\n",
      "10-fold cross validation average accuracy: 0.799\n",
      "22 674\n",
      "Accuracy of logistic regression classifier on test set: 0.68\n",
      "Accuracy using pythagorean win expectation:  0.695845697329\n",
      "10-fold cross validation average accuracy: 0.650\n",
      "\n",
      "0.734948243054\n",
      "0.771009174312\n",
      "00 612\n",
      "Accuracy of logistic regression classifier on test set: 0.64\n",
      "Accuracy using pythagorean win expectation:  0.62091503268\n",
      "10-fold cross validation average accuracy: 0.644\n",
      "01 431\n",
      "Accuracy of logistic regression classifier on test set: 0.88\n",
      "Accuracy using pythagorean win expectation:  0.867749419954\n",
      "10-fold cross validation average accuracy: 0.845\n",
      "02 646\n",
      "Accuracy of logistic regression classifier on test set: 0.77\n",
      "Accuracy using pythagorean win expectation:  0.78173374613\n",
      "10-fold cross validation average accuracy: 0.764\n",
      "11 406\n",
      "Accuracy of logistic regression classifier on test set: 0.68\n",
      "Accuracy using pythagorean win expectation:  0.709359605911\n",
      "10-fold cross validation average accuracy: 0.654\n",
      "12 195\n",
      "Accuracy of logistic regression classifier on test set: 0.93\n",
      "Accuracy using pythagorean win expectation:  0.94358974359\n",
      "10-fold cross validation average accuracy: 0.960\n",
      "22 404\n",
      "Accuracy of logistic regression classifier on test set: 0.64\n",
      "Accuracy using pythagorean win expectation:  0.660891089109\n",
      "10-fold cross validation average accuracy: 0.656\n",
      "\n",
      "0.731065819635\n",
      "0.741648106904\n",
      "00 499\n",
      "Accuracy of logistic regression classifier on test set: 0.68\n",
      "Accuracy using pythagorean win expectation:  0.689378757515\n",
      "10-fold cross validation average accuracy: 0.688\n",
      "01 337\n",
      "Accuracy of logistic regression classifier on test set: 0.76\n",
      "Accuracy using pythagorean win expectation:  0.756676557864\n",
      "10-fold cross validation average accuracy: 0.761\n",
      "02 312\n",
      "Accuracy of logistic regression classifier on test set: 0.94\n",
      "Accuracy using pythagorean win expectation:  0.942307692308\n",
      "10-fold cross validation average accuracy: 0.937\n",
      "11 362\n",
      "Accuracy of logistic regression classifier on test set: 0.65\n",
      "Accuracy using pythagorean win expectation:  0.657458563536\n",
      "10-fold cross validation average accuracy: 0.610\n",
      "12 701\n",
      "Accuracy of logistic regression classifier on test set: 0.76\n",
      "Accuracy using pythagorean win expectation:  0.760342368046\n",
      "10-fold cross validation average accuracy: 0.757\n",
      "22 450\n",
      "Accuracy of logistic regression classifier on test set: 0.64\n",
      "Accuracy using pythagorean win expectation:  0.673333333333\n",
      "10-fold cross validation average accuracy: 0.656\n",
      "\n",
      "0.728378703589\n",
      "0.739195791056\n",
      "00 326\n",
      "Accuracy of logistic regression classifier on test set: 0.63\n",
      "Accuracy using pythagorean win expectation:  0.684049079755\n",
      "10-fold cross validation average accuracy: 0.612\n",
      "01 655\n",
      "Accuracy of logistic regression classifier on test set: 0.79\n",
      "Accuracy using pythagorean win expectation:  0.795419847328\n",
      "10-fold cross validation average accuracy: 0.757\n",
      "02 208\n",
      "Accuracy of logistic regression classifier on test set: 0.93\n",
      "Accuracy using pythagorean win expectation:  0.932692307692\n",
      "10-fold cross validation average accuracy: 0.928\n",
      "11 533\n",
      "Accuracy of logistic regression classifier on test set: 0.67\n",
      "Accuracy using pythagorean win expectation:  0.679174484053\n",
      "10-fold cross validation average accuracy: 0.683\n",
      "12 416\n",
      "Accuracy of logistic regression classifier on test set: 0.78\n",
      "Accuracy using pythagorean win expectation:  0.762019230769\n",
      "10-fold cross validation average accuracy: 0.803\n",
      "22 481\n",
      "Accuracy of logistic regression classifier on test set: 0.67\n",
      "Accuracy using pythagorean win expectation:  0.656964656965\n",
      "10-fold cross validation average accuracy: 0.703\n",
      "\n",
      "0.734598731354\n",
      "0.738067964872\n",
      "00 482\n",
      "Accuracy of logistic regression classifier on test set: 0.69\n",
      "Accuracy using pythagorean win expectation:  0.676348547718\n",
      "10-fold cross validation average accuracy: 0.661\n",
      "01 517\n",
      "Accuracy of logistic regression classifier on test set: 0.76\n",
      "Accuracy using pythagorean win expectation:  0.762088974855\n",
      "10-fold cross validation average accuracy: 0.779\n",
      "02 351\n",
      "Accuracy of logistic regression classifier on test set: 0.77\n",
      "Accuracy using pythagorean win expectation:  0.786324786325\n",
      "10-fold cross validation average accuracy: 0.766\n",
      "11 355\n",
      "Accuracy of logistic regression classifier on test set: 0.73\n",
      "Accuracy using pythagorean win expectation:  0.732394366197\n",
      "10-fold cross validation average accuracy: 0.683\n",
      "12 280\n",
      "Accuracy of logistic regression classifier on test set: 0.94\n",
      "Accuracy using pythagorean win expectation:  0.946428571429\n",
      "10-fold cross validation average accuracy: 0.925\n",
      "22 530\n",
      "Accuracy of logistic regression classifier on test set: 0.70\n",
      "Accuracy using pythagorean win expectation:  0.705660377358\n",
      "10-fold cross validation average accuracy: 0.670\n",
      "\n",
      "0.734261502166\n",
      "0.753479125249\n",
      "00 571\n",
      "Accuracy of logistic regression classifier on test set: 0.67\n",
      "Accuracy using pythagorean win expectation:  0.661996497373\n",
      "10-fold cross validation average accuracy: 0.625\n",
      "01 518\n",
      "Accuracy of logistic regression classifier on test set: 0.75\n",
      "Accuracy using pythagorean win expectation:  0.764478764479\n",
      "10-fold cross validation average accuracy: 0.774\n",
      "02 562\n",
      "Accuracy of logistic regression classifier on test set: 0.83\n",
      "Accuracy using pythagorean win expectation:  0.834519572954\n",
      "10-fold cross validation average accuracy: 0.825\n",
      "11 185\n",
      "Accuracy of logistic regression classifier on test set: 0.70\n",
      "Accuracy using pythagorean win expectation:  0.708108108108\n",
      "10-fold cross validation average accuracy: 0.674\n",
      "12 139\n",
      "Accuracy of logistic regression classifier on test set: 0.96\n",
      "Accuracy using pythagorean win expectation:  0.956834532374\n",
      "10-fold cross validation average accuracy: 0.932\n",
      "22 537\n",
      "Accuracy of logistic regression classifier on test set: 0.67\n",
      "Accuracy using pythagorean win expectation:  0.683426443203\n",
      "10-fold cross validation average accuracy: 0.673\n",
      "\n",
      "0.731158697519\n",
      "0.74601910828\n",
      "00 259\n",
      "Accuracy of logistic regression classifier on test set: 0.63\n",
      "Accuracy using pythagorean win expectation:  0.644787644788\n",
      "10-fold cross validation average accuracy: 0.669\n",
      "01 581\n",
      "Accuracy of logistic regression classifier on test set: 0.81\n",
      "Accuracy using pythagorean win expectation:  0.822719449225\n",
      "10-fold cross validation average accuracy: 0.837\n",
      "02 95\n",
      "Accuracy of logistic regression classifier on test set: 0.96\n",
      "Accuracy using pythagorean win expectation:  0.989473684211\n",
      "10-fold cross validation average accuracy: 0.918\n",
      "11 706\n",
      "Accuracy of logistic regression classifier on test set: 0.66\n",
      "Accuracy using pythagorean win expectation:  0.661473087819\n",
      "10-fold cross validation average accuracy: 0.687\n",
      "12 437\n",
      "Accuracy of logistic regression classifier on test set: 0.84\n",
      "Accuracy using pythagorean win expectation:  0.844393592677\n",
      "10-fold cross validation average accuracy: 0.815\n",
      "22 415\n",
      "Accuracy of logistic regression classifier on test set: 0.67\n",
      "Accuracy using pythagorean win expectation:  0.698795180723\n",
      "10-fold cross validation average accuracy: 0.707\n",
      "\n",
      "0.754569502728\n",
      "0.748094665062\n"
     ]
    }
   ],
   "source": [
    "resultList=[]\n",
    "for yr in np.arange(2017,2003,-1):\n",
    "    year=str(yr)\n",
    "    teamType=pd.read_csv('data/team_type_'+year+'.csv')\n",
    "    teamTypeDict={}\n",
    "    for r in teamType.values:\n",
    "        teamTypeDict[r[0]]=r[1]\n",
    "\n",
    "    df=pd.read_csv('data/games/all_games_'+year+'.csv',index_col=0).dropna(axis=1)\n",
    "    # df=pd.read_csv('data/games/tourn_games_2016.csv',index_col=0)\n",
    "    # y=df['outcome']\n",
    "    dropLabels=['School_1','Conf_1','wpct_1','Rank_1','WL_1','sched_url_1',\\\n",
    "                'School_2','Conf_2','wpct_2','Rank_2','WL_2','sched_url_2', 'outcome']\n",
    "\n",
    "    y=df['outcome']\n",
    "\n",
    "\n",
    "    types=[]\n",
    "    for r in df.itertuples():\n",
    "\n",
    "        t1=teamTypeDict[r.School_1]\n",
    "        t2=teamTypeDict[r.School_2]\n",
    "\n",
    "        types.append(str(min(t1,t2))+str(max(t1,t2)))\n",
    "\n",
    "    df['types']=types\n",
    "\n",
    "    runsum=0\n",
    "    numsum=0\n",
    "    pythsum=0\n",
    "\n",
    "    nlab=3\n",
    "    for t1lab in range(nlab):\n",
    "        for t2lab in np.arange(t1lab,nlab):\n",
    "            lab = str(t1lab)+str(t2lab)\n",
    "\n",
    "            dfSel = df[(df.types==lab)]\n",
    "            dropLabels.append('types')\n",
    "\n",
    "            X=dfSel.drop(dropLabels,axis=1)\n",
    "            y=dfSel['outcome']\n",
    "\n",
    "\n",
    "            X_train, X_test, y_train, y_test = train_test_split(X, y, test_size=0.3, random_state=0)\n",
    "            logreg = LogisticRegression()\n",
    "            logreg.fit(X_train, y_train)\n",
    "\n",
    "            y_pred=logreg.predict(X_test)\n",
    "            print(lab,len(y_pred))\n",
    "            print('Accuracy of logistic regression classifier on test set: {:.2f}'.format(logreg.score(X_test, y_test)))\n",
    "\n",
    "\n",
    "            y_predPythag=pythagGame(X_test)\n",
    "\n",
    "            print('Accuracy using pythagorean win expectation: ',(np.round(y_predPythag)==y_test).sum()/len(y_test))\n",
    "\n",
    "\n",
    "            kfold = model_selection.KFold(n_splits=10, random_state=7)\n",
    "            modelCV = LogisticRegression()\n",
    "            scoring = 'accuracy'\n",
    "            results = model_selection.cross_val_score(modelCV, X_train, y_train, cv=kfold, scoring=scoring)\n",
    "            print(\"10-fold cross validation average accuracy: %.3f\" % (results.mean()))    \n",
    "\n",
    "            runsum+= len(y_pred) * results.mean() #logreg.score(X_test, y_test)\n",
    "            numsum+= len(y_pred)\n",
    "            pythsum+= len(y_pred) *(np.round(y_predPythag)==y_test).sum()/len(y_test)\n",
    "\n",
    "\n",
    "\n",
    "    print ()\n",
    "    print (runsum/numsum)\n",
    "    print (pythsum/numsum)\n",
    "    \n",
    "    resultList.append([year,(runsum/numsum),pythsum/numsum])\n",
    "    \n",
    "resDFKM=pd.DataFrame(resultList,columns=['year','Log reg','Pythag'])\n"
   ]
  },
  {
   "cell_type": "code",
   "execution_count": 109,
   "metadata": {},
   "outputs": [
    {
     "data": {
      "text/plain": [
       "year       1.440858e+54\n",
       "Log reg    7.391709e-01\n",
       "Pythag     7.464952e-01\n",
       "dtype: float64"
      ]
     },
     "execution_count": 109,
     "metadata": {},
     "output_type": "execute_result"
    }
   ],
   "source": [
    "resDFKM.mean()"
   ]
  },
  {
   "cell_type": "code",
   "execution_count": 116,
   "metadata": {},
   "outputs": [
    {
     "name": "stdout",
     "output_type": "stream",
     "text": [
      "10-fold cross validation average accuracy: 0.578\n"
     ]
    }
   ],
   "source": [
    "\n",
    "kfold = model_selection.KFold(n_splits=10, random_state=7)\n",
    "modelCV = LogisticRegression()\n",
    "scoring = 'accuracy'\n",
    "results = model_selection.cross_val_score(modelCV, X_train, y_train, cv=kfold, scoring=scoring)\n",
    "print(\"10-fold cross validation average accuracy: %.3f\" % (results.mean()))"
   ]
  },
  {
   "cell_type": "code",
   "execution_count": 117,
   "metadata": {},
   "outputs": [
    {
     "name": "stdout",
     "output_type": "stream",
     "text": [
      "Accuracy of logistic regression classifier on test set: 0.70\n"
     ]
    }
   ],
   "source": [
    "X_train, X_test, y_train, y_test = train_test_split(X, y, test_size=0.3, random_state=0)\n",
    "logreg = LogisticRegression()\n",
    "# logreg = LogisticRegression(C=1,penalty='l1',tol=0.1)\n",
    "logreg.fit(X_train, y_train)\n",
    "y_pred=logreg.predict(X_test)\n",
    "print('Accuracy of logistic regression classifier on test set: {:.2f}'.format(logreg.score(X_test, y_test)))\n"
   ]
  },
  {
   "cell_type": "code",
   "execution_count": 11,
   "metadata": {
    "collapsed": true
   },
   "outputs": [],
   "source": [
    "df['pythag']=pythagGame(df)"
   ]
  },
  {
   "cell_type": "code",
   "execution_count": 15,
   "metadata": {},
   "outputs": [
    {
     "name": "stdout",
     "output_type": "stream",
     "text": [
      "Accuracy using pythagorean win expectation:  0.739459815547\n"
     ]
    }
   ],
   "source": [
    "y_predPythag=pythagGame(X_test)\n",
    "\n",
    "print('Accuracy using pythagorean win expectation: ',(np.round(y_predPythag)==y_test).sum()/len(y_test))\n",
    "# print(len(y_test))"
   ]
  },
  {
   "cell_type": "code",
   "execution_count": null,
   "metadata": {
    "collapsed": true
   },
   "outputs": [],
   "source": []
  }
 ],
 "metadata": {
  "kernelspec": {
   "display_name": "Python 3",
   "language": "python",
   "name": "python3"
  },
  "language_info": {
   "codemirror_mode": {
    "name": "ipython",
    "version": 3
   },
   "file_extension": ".py",
   "mimetype": "text/x-python",
   "name": "python",
   "nbconvert_exporter": "python",
   "pygments_lexer": "ipython3",
   "version": "3.6.3"
  },
  "toc": {
   "nav_menu": {},
   "number_sections": true,
   "sideBar": true,
   "skip_h1_title": false,
   "toc_cell": false,
   "toc_position": {},
   "toc_section_display": "block",
   "toc_window_display": false
  }
 },
 "nbformat": 4,
 "nbformat_minor": 2
}
