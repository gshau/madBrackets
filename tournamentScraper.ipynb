{
 "cells": [
  {
   "cell_type": "markdown",
   "metadata": {},
   "source": [
    "Purpose: Scrape past tournaments and get new matchups for current tournament"
   ]
  },
  {
   "cell_type": "code",
   "execution_count": 1,
   "metadata": {
    "collapsed": true
   },
   "outputs": [],
   "source": [
    "import numpy as np\n",
    "import pandas as pd\n",
    "import requests\n",
    "from bs4 import BeautifulSoup\n",
    "import warnings\n",
    "warnings.filterwarnings('ignore')\n"
   ]
  },
  {
   "cell_type": "code",
   "execution_count": 2,
   "metadata": {
    "collapsed": true
   },
   "outputs": [],
   "source": [
    "year='2017'\n",
    "\n",
    "regionNames1=['east','west','midwest','south','national']\n",
    "regionNames2=['east','southeast','southwest','west','national']"
   ]
  },
  {
   "cell_type": "markdown",
   "metadata": {},
   "source": [
    "Get Seeds and initial matchups"
   ]
  },
  {
   "cell_type": "code",
   "execution_count": null,
   "metadata": {
    "collapsed": true
   },
   "outputs": [],
   "source": []
  },
  {
   "cell_type": "code",
   "execution_count": 7,
   "metadata": {},
   "outputs": [
    {
     "name": "stdout",
     "output_type": "stream",
     "text": [
      "East\n",
      "Midwest\n",
      "South\n",
      "West\n",
      "Final Four\n",
      "Looping over games in  2017\n",
      "East\n",
      "South\n",
      "West\n",
      "Midwest\n",
      "Final Four\n",
      "Looping over games in  2016\n",
      "East\n",
      "Midwest\n",
      "South\n",
      "West\n",
      "Final Four\n",
      "Looping over games in  2015\n",
      "Midwest\n",
      "South\n",
      "East\n",
      "West\n",
      "Final Four\n",
      "Looping over games in  2014\n",
      "East\n",
      "Midwest\n",
      "West\n",
      "South\n",
      "Final Four\n",
      "Looping over games in  2013\n",
      "Midwest\n",
      "South\n",
      "West\n",
      "East\n",
      "Final Four\n",
      "Looping over games in  2012\n",
      "East\n",
      "Southeast\n",
      "Southwest\n",
      "West\n",
      "Final Four\n",
      "Looping over games in  2011\n",
      "South\n",
      "East\n",
      "Midwest\n",
      "West\n",
      "Final Four\n",
      "Looping over games in  2010\n",
      "Midwest\n",
      "East\n",
      "South\n",
      "West\n",
      "Final Four\n",
      "Looping over games in  2009\n",
      "East\n",
      "Midwest\n",
      "South\n",
      "West\n",
      "Final Four\n",
      "Looping over games in  2008\n",
      "West\n",
      "East\n",
      "Midwest\n",
      "South\n",
      "Final Four\n",
      "Looping over games in  2007\n",
      "Minneapolis\n",
      "Atlanta\n",
      "Oakland\n",
      "Washington\n",
      "Final Four\n",
      "Looping over games in  2006\n",
      "Syracuse\n",
      "Albuquerque\n",
      "Austin\n",
      "Chicago\n",
      "Final Four\n",
      "Looping over games in  2005\n",
      "St. Louis\n",
      "Atlanta\n",
      "East Rutherford\n",
      "Phoenix\n",
      "Final Four\n",
      "Looping over games in  2004\n"
     ]
    }
   ],
   "source": [
    "for year in [str(yr) for yr in np.arange(2017,2003,-1)]:\n",
    "\n",
    "    url='https://www.sports-reference.com/cbb/postseason/'+year+'-ncaa.html'\n",
    "    r = requests.get(url)\n",
    "    data = r.text\n",
    "    soup = BeautifulSoup(data, \"html5lib\")\n",
    "\n",
    "    region={}\n",
    "    \n",
    "    regionNames=[]\n",
    "    divs=soup.findAll(\"div\", {\"data-controls\": '#brackets'})\n",
    "    for reg in divs[0].find_all('div'):\n",
    "        print(reg.find('a').text)\n",
    "        regionNames.append(reg.find('a').text.lower().replace(' ','').replace('.',''))\n",
    "    regionNames[-1]='national'\n",
    "    \n",
    "    for regionName in regionNames:\n",
    "        divs=soup.findAll(\"div\", {\"id\": regionName})[0]\n",
    "        divround=divs.find_all('div',{'class': 'round'})[0]\n",
    "\n",
    "        teamNames=[]\n",
    "        for t in divround.find_all('div'):\n",
    "            tname=t.find('a').text.lower().replace(' ','-')\n",
    "            if tname not in teamNames:\n",
    "                teamNames.append(tname)\n",
    "        teamNames\n",
    "#         region[regionName]=dict(zip(seedList,teamNames))\n",
    "\n",
    "    # regionNames=['east']\n",
    "    region={}\n",
    "\n",
    "    for regionName in regionNames:\n",
    "        divs=soup.findAll(\"div\", {\"id\": regionName})[0]\n",
    "        rounds=divs.find_all('div',{'class': 'round'})\n",
    "        region[regionName]={}\n",
    "        for iround in range(len(rounds)-1):\n",
    "            region[regionName][iround]=[]\n",
    "            divround=rounds[iround]\n",
    "\n",
    "            teamNames=[]\n",
    "            for t in divround.find_all('div'):\n",
    "                tname=t.find('a').text.lower().replace(' ','-')\n",
    "                tname=t.find('a')['href'].split('/')[3].lower().replace(' ','-')#.replace('-st-','-st.-')\n",
    "                if tname not in teamNames:\n",
    "                    teamNames.append(tname)\n",
    "\n",
    "            winnerNames=[]\n",
    "            for t in divround.find_all('div', {'class': 'winner'}):\n",
    "                tname=t.find('a').text.lower().replace(' ','-')\n",
    "                tname=t.find('a')['href'].split('/')[3].lower().replace(' ','-')#.replace('-st-','-st.-')\n",
    "                if tname not in winnerNames:\n",
    "                    winnerNames.append(tname)\n",
    "\n",
    "                    \n",
    "            if regionName=='national':\n",
    "                roundNumber = iround + 1 + 4\n",
    "            else:\n",
    "                roundNumber = iround + 1\n",
    "            gameList=[]\n",
    "            for t1,t2 in zip(teamNames[0::2],teamNames[1::2]):\n",
    "                if t1 in winnerNames:\n",
    "                    result = 1\n",
    "                if t2 in winnerNames: \n",
    "                    result = 0\n",
    "\n",
    "                gameList.append([t1,t2,result,roundNumber,regionName])\n",
    "\n",
    "            region[regionName][iround] = gameList\n",
    "\n",
    "    gameList=[]\n",
    "    for regionName in region.keys():\n",
    "        for iround in region[regionName].keys():\n",
    "            for gameOutcome in region[regionName][iround]:\n",
    "                gameList.append(gameOutcome)\n",
    "\n",
    "    all_games=gameList\n",
    "\n",
    "    team_data=pd.read_csv('data/combined_team_stats_'+year+'.csv')\n",
    "\n",
    "    \n",
    "    \n",
    "    name=[]\n",
    "    for r in team_data.itertuples():\n",
    "        name.append(r.sched_url.split('/')[3])\n",
    "    team_data['name']=name\n",
    "\n",
    "    combinedDF=[]\n",
    "    print('Looping over games in ',year)\n",
    "    for game in all_games:\n",
    "        team_one = team_data[team_data['name'] == game[0]]\n",
    "        column1 = team_one.columns[1:]    \n",
    "        team_one[column1].values[0]\n",
    "\n",
    "        team_two = team_data[team_data['name'] == game[1]]\n",
    "        column2 = team_two.columns[1:]    \n",
    "        team_two[column2].values[0]\n",
    "\n",
    "        combinedDF.append(list(team_one[column1].values[0])+list(team_two[column2].values[0])+[game[2],game[3],game[4]])\n",
    "    combinedColumns=[c+'_1' for c in column1]+[c+'_2' for c in column2]+['outcome','round','region']\n",
    "\n",
    "    game_data=pd.DataFrame(combinedDF,columns=combinedColumns)\n",
    "    game_data.to_csv(\"data/games/tourn_games_\" + year + \".csv\")\n",
    "    # game_data\n",
    "\n"
   ]
  },
  {
   "cell_type": "code",
   "execution_count": 98,
   "metadata": {},
   "outputs": [
    {
     "data": {
      "text/plain": [
       "[<div class=\"switcher filter\" data-controls=\"#brackets\">\n",
       " <div class=\"current\"><a>Minneapolis</a></div>\n",
       " <div class=\"\"><a>Atlanta</a></div>\n",
       " <div class=\"\"><a>Oakland</a></div>\n",
       " <div class=\"\"><a>Washington</a></div>\n",
       " <div class=\"\"><a>Final Four</a></div>\n",
       " </div>]"
      ]
     },
     "execution_count": 98,
     "metadata": {},
     "output_type": "execute_result"
    }
   ],
   "source": [
    "divs=soup.findAll(\"div\", {\"data-controls\": '#brackets'})\n",
    "# div[]\n",
    "divs"
   ]
  },
  {
   "cell_type": "code",
   "execution_count": 110,
   "metadata": {},
   "outputs": [
    {
     "name": "stdout",
     "output_type": "stream",
     "text": [
      "Minneapolis\n",
      "Atlanta\n",
      "Oakland\n",
      "Washington\n",
      "Final Four\n"
     ]
    }
   ],
   "source": [
    "for reg in divs[0].find_all('div'):\n",
    "    print(reg.find('a').text)"
   ]
  },
  {
   "cell_type": "code",
   "execution_count": 106,
   "metadata": {},
   "outputs": [
    {
     "data": {
      "text/plain": [
       "<div class=\"\"><a>Final Four</a></div>"
      ]
     },
     "execution_count": 106,
     "metadata": {},
     "output_type": "execute_result"
    }
   ],
   "source": [
    "reg"
   ]
  },
  {
   "cell_type": "code",
   "execution_count": 6,
   "metadata": {},
   "outputs": [
    {
     "data": {
      "text/plain": [
       "[['kentucky', 'florida-am', 1, 1],\n",
       " ['washington', 'alabama-birmingham', 0, 1],\n",
       " ['providence', 'pacific', 0, 1],\n",
       " ['kansas', 'illinois-chicago', 1, 1],\n",
       " ['boston-college', 'utah', 1, 1],\n",
       " ['georgia-tech', 'northern-iowa', 1, 1],\n",
       " ['michigan-state', 'nevada', 0, 1],\n",
       " ['gonzaga', 'valparaiso', 1, 1],\n",
       " ['kentucky', 'alabama-birmingham', 0, 2],\n",
       " ['pacific', 'kansas', 0, 2],\n",
       " ['boston-college', 'georgia-tech', 0, 2],\n",
       " ['nevada', 'gonzaga', 1, 2],\n",
       " ['alabama-birmingham', 'kansas', 0, 3],\n",
       " ['georgia-tech', 'nevada', 1, 3],\n",
       " ['kansas', 'georgia-tech', 0, 4],\n",
       " ['duke', 'alabama-state', 1, 1],\n",
       " ['seton-hall', 'arizona', 1, 1],\n",
       " ['illinois', 'murray-state', 1, 1],\n",
       " ['cincinnati', 'east-tennessee-state', 1, 1],\n",
       " ['north-carolina', 'air-force', 1, 1],\n",
       " ['texas', 'princeton', 1, 1],\n",
       " ['xavier', 'louisville', 1, 1],\n",
       " ['mississippi-state', 'monmouth', 1, 1],\n",
       " ['duke', 'seton-hall', 1, 2],\n",
       " ['illinois', 'cincinnati', 1, 2],\n",
       " ['north-carolina', 'texas', 0, 2],\n",
       " ['xavier', 'mississippi-state', 1, 2],\n",
       " ['duke', 'illinois', 1, 3],\n",
       " ['texas', 'xavier', 0, 3],\n",
       " ['duke', 'xavier', 1, 4],\n",
       " ['saint-josephs', 'liberty', 1, 1],\n",
       " ['texas-tech', 'charlotte', 1, 1],\n",
       " ['florida', 'manhattan', 0, 1],\n",
       " ['wake-forest', 'virginia-commonwealth', 1, 1],\n",
       " ['wisconsin', 'richmond', 1, 1],\n",
       " ['pittsburgh', 'central-florida', 1, 1],\n",
       " ['memphis', 'south-carolina', 1, 1],\n",
       " ['oklahoma-state', 'eastern-washington', 1, 1],\n",
       " ['saint-josephs', 'texas-tech', 1, 2],\n",
       " ['manhattan', 'wake-forest', 0, 2],\n",
       " ['wisconsin', 'pittsburgh', 0, 2],\n",
       " ['memphis', 'oklahoma-state', 0, 2],\n",
       " ['saint-josephs', 'wake-forest', 1, 3],\n",
       " ['pittsburgh', 'oklahoma-state', 0, 3],\n",
       " ['saint-josephs', 'oklahoma-state', 0, 4],\n",
       " ['stanford', 'texas-san-antonio', 1, 1],\n",
       " ['alabama', 'southern-illinois', 1, 1],\n",
       " ['syracuse', 'brigham-young', 1, 1],\n",
       " ['maryland', 'texas-el-paso', 1, 1],\n",
       " ['vanderbilt', 'western-michigan', 1, 1],\n",
       " ['north-carolina-state', 'louisiana-lafayette', 1, 1],\n",
       " ['depaul', 'dayton', 1, 1],\n",
       " ['connecticut', 'vermont', 1, 1],\n",
       " ['stanford', 'alabama', 0, 2],\n",
       " ['syracuse', 'maryland', 1, 2],\n",
       " ['vanderbilt', 'north-carolina-state', 1, 2],\n",
       " ['depaul', 'connecticut', 0, 2],\n",
       " ['alabama', 'syracuse', 1, 3],\n",
       " ['vanderbilt', 'connecticut', 0, 3],\n",
       " ['alabama', 'connecticut', 0, 4],\n",
       " ['connecticut', 'duke', 1, 5],\n",
       " ['oklahoma-state', 'georgia-tech', 0, 5],\n",
       " ['connecticut', 'georgia-tech', 1, 6]]"
      ]
     },
     "execution_count": 6,
     "metadata": {},
     "output_type": "execute_result"
    }
   ],
   "source": [
    "gameList"
   ]
  },
  {
   "cell_type": "code",
   "execution_count": null,
   "metadata": {
    "collapsed": true
   },
   "outputs": [],
   "source": []
  }
 ],
 "metadata": {
  "kernelspec": {
   "display_name": "Python 3",
   "language": "python",
   "name": "python3"
  },
  "language_info": {
   "codemirror_mode": {
    "name": "ipython",
    "version": 3
   },
   "file_extension": ".py",
   "mimetype": "text/x-python",
   "name": "python",
   "nbconvert_exporter": "python",
   "pygments_lexer": "ipython3",
   "version": "3.6.3"
  }
 },
 "nbformat": 4,
 "nbformat_minor": 2
}
