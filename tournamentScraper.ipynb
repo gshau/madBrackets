{
 "cells": [
  {
   "cell_type": "markdown",
   "metadata": {},
   "source": [
    "Purpose: Scrape past tournaments and get new matchups for current tournament"
   ]
  },
  {
   "cell_type": "code",
   "execution_count": 2,
   "metadata": {
    "ExecuteTime": {
     "end_time": "2018-01-17T18:49:29.987824Z",
     "start_time": "2018-01-17T18:49:29.335192Z"
    },
    "collapsed": true
   },
   "outputs": [],
   "source": [
    "import numpy as np\n",
    "import pandas as pd\n",
    "import requests\n",
    "from bs4 import BeautifulSoup\n",
    "import warnings\n",
    "warnings.filterwarnings('ignore')\n"
   ]
  },
  {
   "cell_type": "code",
   "execution_count": 3,
   "metadata": {
    "ExecuteTime": {
     "end_time": "2018-01-17T18:49:29.995683Z",
     "start_time": "2018-01-17T18:49:29.990407Z"
    },
    "collapsed": true
   },
   "outputs": [],
   "source": [
    "year='2017'\n",
    "\n",
    "regionNames1=['east','west','midwest','south','national']\n",
    "regionNames2=['east','southeast','southwest','west','national']"
   ]
  },
  {
   "cell_type": "markdown",
   "metadata": {},
   "source": [
    "Get Seeds and initial matchups"
   ]
  },
  {
   "cell_type": "code",
   "execution_count": 4,
   "metadata": {
    "ExecuteTime": {
     "end_time": "2018-01-17T18:49:37.989455Z",
     "start_time": "2018-01-17T18:49:36.064904Z"
    }
   },
   "outputs": [
    {
     "name": "stdout",
     "output_type": "stream",
     "text": [
      "East\n",
      "Midwest\n",
      "South\n",
      "West\n",
      "Final Four\n",
      "Looping over games in  2017\n"
     ]
    }
   ],
   "source": [
    "for year in [str(yr) for yr in np.arange(2017,2016,-1)]:\n",
    "\n",
    "    url='https://www.sports-reference.com/cbb/postseason/'+year+'-ncaa.html'\n",
    "    r = requests.get(url)\n",
    "    data = r.text\n",
    "    soup = BeautifulSoup(data, \"html5lib\")\n",
    "\n",
    "    region={}\n",
    "    \n",
    "    regionNames=[]\n",
    "    divs=soup.findAll(\"div\", {\"data-controls\": '#brackets'})\n",
    "    for reg in divs[0].find_all('div'):\n",
    "        print(reg.find('a').text)\n",
    "        regionNames.append(reg.find('a').text.lower().replace(' ','').replace('.',''))\n",
    "    regionNames[-1]='national'\n",
    "    \n",
    "    for regionName in regionNames:\n",
    "        divs=soup.findAll(\"div\", {\"id\": regionName})[0]\n",
    "        divround=divs.find_all('div',{'class': 'round'})[0]\n",
    "\n",
    "        teamNames=[]\n",
    "        for t in divround.find_all('div'):\n",
    "            tname=t.find('a').text.lower().replace(' ','-')\n",
    "            if tname not in teamNames:\n",
    "                teamNames.append(tname)\n",
    "        teamNames\n",
    "#         region[regionName]=dict(zip(seedList,teamNames))\n",
    "\n",
    "    # regionNames=['east']\n",
    "    region={}\n",
    "    initRound={}\n",
    "    for regionName in regionNames:\n",
    "        initRound[regionName]={}\n",
    "        divs=soup.findAll(\"div\", {\"id\": regionName})[0]\n",
    "        rounds=divs.find_all('div',{'class': 'round'})\n",
    "        region[regionName]={}\n",
    "        for iround in range(len(rounds)-1):\n",
    "            region[regionName][iround]=[]\n",
    "            divround=rounds[iround]\n",
    "\n",
    "            teamNames=[]\n",
    "            seedList=[]\n",
    "            for t in divround.find_all('div'):\n",
    "                tname=t.find('a').text.lower().replace(' ','-')\n",
    "                tname=t.find('a')['href'].split('/')[3].lower().replace(' ','-')#.replace('-st-','-st.-')\n",
    "                if tname not in teamNames:\n",
    "                    seedList.append(t.find('span').text)\n",
    "                    teamNames.append(tname)\n",
    "\n",
    "            winnerNames=[]\n",
    "            for t in divround.find_all('div', {'class': 'winner'}):\n",
    "                tname=t.find('a').text.lower().replace(' ','-')\n",
    "                tname=t.find('a')['href'].split('/')[3].lower().replace(' ','-')#.replace('-st-','-st.-')\n",
    "                if tname not in winnerNames:\n",
    "                    winnerNames.append(tname)\n",
    "\n",
    "                    \n",
    "            if regionName=='national':\n",
    "                roundNumber = iround + 1 + 4\n",
    "            else:\n",
    "                roundNumber = iround + 1\n",
    "            gameList=[]\n",
    "            # fill list for games\n",
    "            for t1,t2,s1,s2 in zip(teamNames[0::2],teamNames[1::2],seedList[0::2],seedList[1::2]):\n",
    "                if t1 in winnerNames:\n",
    "                    result = 1\n",
    "                if t2 in winnerNames: \n",
    "                    result = 0\n",
    "\n",
    "                gameList.append([t1,t2,result,roundNumber,regionName])\n",
    "                # fill list for only initial teams\n",
    "                if iround==0:\n",
    "                    initRound[regionName][s1]=t1\n",
    "                    initRound[regionName][s2]=t2\n",
    "#                     initRound.append([s1,t1])\n",
    "#                     initRound.append([s2,t2])\n",
    "                \n",
    "            region[regionName][iround] = gameList\n",
    "\n",
    "    gameList=[]\n",
    "    for regionName in region.keys():\n",
    "        for iround in region[regionName].keys():\n",
    "            for gameOutcome in region[regionName][iround]:\n",
    "                gameList.append(gameOutcome)\n",
    "\n",
    "    all_games=gameList\n",
    "\n",
    "    team_data=pd.read_csv('data/combined_team_stats_'+year+'.csv')\n",
    "\n",
    "    \n",
    "    \n",
    "    name=[]\n",
    "    for r in team_data.itertuples():\n",
    "        name.append(r.sched_url.split('/')[3])\n",
    "    team_data['name']=name\n",
    "\n",
    "    combinedDF=[]\n",
    "    print('Looping over games in ',year)\n",
    "    for game in all_games:\n",
    "        team_one = team_data[team_data['name'] == game[0]]\n",
    "        column1 = team_one.columns[1:]    \n",
    "        team_one[column1].values[0]\n",
    "\n",
    "        team_two = team_data[team_data['name'] == game[1]]\n",
    "        column2 = team_two.columns[1:]    \n",
    "        team_two[column2].values[0]\n",
    "\n",
    "        combinedDF.append(list(team_one[column1].values[0])+list(team_two[column2].values[0])+[game[2],game[3],game[4]])\n",
    "    combinedColumns=[c+'_1' for c in column1]+[c+'_2' for c in column2]+['outcome','round','region']\n",
    "\n",
    "    game_data=pd.DataFrame(combinedDF,columns=combinedColumns)\n",
    "    game_data.to_csv(\"data/games/tourn_games_\" + year + \".csv\")\n",
    "    # game_data\n",
    "    teamList=[]\n",
    "    for regionName in initRound.keys():\n",
    "        region=initRound[regionName]\n",
    "        if regionName=='national':\n",
    "            continue\n",
    "        for iseed in region.keys():\n",
    "            teamList.append([regionName,iseed,region[iseed]])\n",
    "    tourneyTeams = pd.DataFrame(teamList,columns=['regionName','seed','teamName'])\n",
    "    tourneyTeams.to_csv(\"data/team/tourn_teams_\" + year + \".csv\")\n"
   ]
  },
  {
   "cell_type": "code",
   "execution_count": 5,
   "metadata": {
    "ExecuteTime": {
     "end_time": "2018-01-17T18:49:40.985477Z",
     "start_time": "2018-01-17T18:49:40.967645Z"
    }
   },
   "outputs": [
    {
     "data": {
      "text/plain": [
       "<div class=\"round\"><div> <!-- game -->\n",
       "\t<div class=\"winner\"> <!-- team -->\n",
       "\t\t\n",
       "\t\t<span>1</span>\n",
       "               <a href=\"/cbb/schools/north-carolina/2017.html\">UNC</a>\n",
       "\t\t<a href=\"/cbb/boxscores/2017-04-03-north-carolina.html\">71</a>\n",
       "\t\t\n",
       "\t</div>\n",
       "\t\n",
       "\t<div> <!-- team -->\n",
       "\t\t\n",
       "\t\t<span>1</span>\n",
       "               <a href=\"/cbb/schools/gonzaga/2017.html\">Gonzaga</a>\n",
       "\t\t<a href=\"/cbb/boxscores/2017-04-03-north-carolina.html\">65</a>\n",
       "\t\t\n",
       "\t</div>\n",
       "\t<span><a href=\"/cbb/boxscores/2017-04-03-north-carolina.html\">at Glendale, AZ</a></span>\n",
       "\t\n",
       "</div>\n",
       "</div>"
      ]
     },
     "execution_count": 5,
     "metadata": {},
     "output_type": "execute_result"
    }
   ],
   "source": [
    "divround"
   ]
  },
  {
   "cell_type": "code",
   "execution_count": null,
   "metadata": {
    "collapsed": true
   },
   "outputs": [],
   "source": []
  }
 ],
 "metadata": {
  "kernelspec": {
   "display_name": "Python 3",
   "language": "python",
   "name": "python3"
  },
  "language_info": {
   "codemirror_mode": {
    "name": "ipython",
    "version": 3
   },
   "file_extension": ".py",
   "mimetype": "text/x-python",
   "name": "python",
   "nbconvert_exporter": "python",
   "pygments_lexer": "ipython3",
   "version": "3.6.3"
  },
  "toc": {
   "nav_menu": {},
   "number_sections": true,
   "sideBar": true,
   "skip_h1_title": false,
   "toc_cell": false,
   "toc_position": {},
   "toc_section_display": "block",
   "toc_window_display": false
  }
 },
 "nbformat": 4,
 "nbformat_minor": 2
}
