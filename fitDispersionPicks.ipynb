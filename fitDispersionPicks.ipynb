{
 "cells": [
  {
   "cell_type": "code",
   "execution_count": 1,
   "metadata": {
    "ExecuteTime": {
     "end_time": "2018-01-23T19:18:59.935265Z",
     "start_time": "2018-01-23T19:18:58.413834Z"
    },
    "collapsed": true
   },
   "outputs": [],
   "source": [
    "%matplotlib inline\n",
    "import matplotlib\n",
    "import matplotlib.pyplot as plt\n",
    "matplotlib.rcParams['figure.figsize'] = (12.0, 8.0)\n",
    "\n",
    "import numpy as np\n",
    "import pandas as pd\n",
    "import requests\n",
    "import urllib.request\n",
    "from bs4 import BeautifulSoup\n",
    "from sklearn.preprocessing import MinMaxScaler\n",
    "from sklearn.model_selection import train_test_split\n",
    "from sklearn.ensemble import RandomForestClassifier\n",
    "from sklearn.linear_model import LogisticRegression\n",
    "from sklearn.svm import SVC\n",
    "import warnings\n",
    "from sklearn import metrics\n",
    "\n",
    "warnings.filterwarnings('ignore')\n",
    "\n",
    "\n",
    "from sklearn import model_selection\n",
    "from sklearn.model_selection import cross_val_score\n",
    "\n",
    "\n",
    "from sqlalchemy import create_engine\n",
    "from sqlalchemy_utils import database_exists, create_database\n",
    "import psycopg2\n",
    "\n",
    "import pickle\n",
    "from sklearn.externals import joblib\n",
    "\n",
    "%load_ext line_profiler\n",
    "from bs4 import BeautifulSoup\n",
    "import warnings\n",
    "warnings.filterwarnings('ignore')\n"
   ]
  },
  {
   "cell_type": "code",
   "execution_count": 2,
   "metadata": {
    "ExecuteTime": {
     "end_time": "2018-01-23T19:18:59.946885Z",
     "start_time": "2018-01-23T19:18:59.937825Z"
    },
    "collapsed": true
   },
   "outputs": [],
   "source": [
    "from app import model"
   ]
  },
  {
   "cell_type": "code",
   "execution_count": 3,
   "metadata": {
    "ExecuteTime": {
     "end_time": "2018-01-23T19:19:00.741001Z",
     "start_time": "2018-01-23T19:18:59.949777Z"
    },
    "collapsed": true
   },
   "outputs": [],
   "source": [
    "url='http://games.espn.com/tournament-challenge-bracket/2017/en/whopickedwhom'\n",
    "r = requests.get(url)\n",
    "data = r.text\n",
    "soup = BeautifulSoup(data, \"html5lib\")\n",
    "\n",
    "\n",
    "tbody=soup.find_all('tbody')\n",
    "rowList=[]\n",
    "teamList={1: [], 2:[], 3:[], 4:[], 5:[], 6: []}\n",
    "teamPct={1: [], 2:[], 3:[], 4:[], 5:[], 6: []}\n",
    "for i,row in enumerate(soup.find_all('tr')):\n",
    "    if i==0:\n",
    "        continue\n",
    "    for irnd,rnd in enumerate(row.find_all('td')):\n",
    "        teamList[irnd+1].append(rnd.find('span',{'class': 'teamName'}).text)\n",
    "        teamPct[irnd+1].append(float(rnd.find('span',{'class': 'percentage'}).text.replace('%',''))/100.)\n",
    "\n",
    "\n",
    "dfpool=pd.DataFrame([[t,p] for t,p in zip(teamList[1],teamPct[1])],columns=['teamName','prob'])"
   ]
  },
  {
   "cell_type": "code",
   "execution_count": 4,
   "metadata": {
    "ExecuteTime": {
     "end_time": "2018-01-23T19:19:02.949612Z",
     "start_time": "2018-01-23T19:19:02.915437Z"
    },
    "collapsed": true
   },
   "outputs": [],
   "source": [
    "user='gshau'\n",
    "host='localhost'\n",
    "dbname='birth_db'\n",
    "\n",
    "dbname = 'ncaabb'\n",
    "username = 'gshau' # change this to your username\n",
    "engine = create_engine('postgres://%s@localhost/%s'%(username,dbname))\n",
    "\n",
    "years = model.getYears()\n",
    "year=2017\n",
    "pointsByRound=[1,2,4,8,16,32]\n",
    "pointsByRound=[1,2,4,8,12,16]\n"
   ]
  },
  {
   "cell_type": "code",
   "execution_count": 5,
   "metadata": {
    "ExecuteTime": {
     "end_time": "2018-01-23T19:19:05.310269Z",
     "start_time": "2018-01-23T19:19:04.963083Z"
    },
    "collapsed": true
   },
   "outputs": [],
   "source": [
    "t=model.Tournament(2017)\n",
    "t.simulate();\n",
    "# t.bracketOutcome\n",
    "\n",
    "\n",
    "\n",
    "\n",
    "pairs = t.getPairings(t.teamList)\n",
    "teamList=[]\n",
    "teamNameList=[]\n",
    "entropyList=[]\n",
    "probDict={}\n",
    "for p in pairs:\n",
    "    \n",
    "    prob = t.predictGame(p)\n",
    "    probDict[p[0].name]=prob\n",
    "    probDict[p[1].name]=1-prob\n",
    "    \n",
    "x=np.array([[t,p] for t,p in probDict.items()])\n",
    "\n",
    "df=pd.DataFrame(x,columns=['teamName','prob'])\n",
    "df.prob=df.prob.astype('float')\n",
    "dfprob=df.sort_values(by='prob',ascending=False)\n",
    "dfprob[dfprob.teamName=='virginia']\n",
    "t2names=dfprob.teamName.values"
   ]
  },
  {
   "cell_type": "code",
   "execution_count": 6,
   "metadata": {
    "ExecuteTime": {
     "end_time": "2018-01-23T19:19:07.015896Z",
     "start_time": "2018-01-23T19:19:07.011271Z"
    },
    "collapsed": true
   },
   "outputs": [],
   "source": [
    "t1names=[t.lower().replace(\" \",\"-\") for t in dfpool.teamName]"
   ]
  },
  {
   "cell_type": "code",
   "execution_count": 7,
   "metadata": {
    "ExecuteTime": {
     "end_time": "2018-01-23T19:19:07.378641Z",
     "start_time": "2018-01-23T19:19:07.371558Z"
    }
   },
   "outputs": [
    {
     "data": {
      "text/plain": [
       "44"
      ]
     },
     "execution_count": 7,
     "metadata": {},
     "output_type": "execute_result"
    }
   ],
   "source": [
    "len(set(t2names) & set(t1names))"
   ]
  },
  {
   "cell_type": "code",
   "execution_count": 8,
   "metadata": {
    "ExecuteTime": {
     "end_time": "2018-01-23T19:19:07.827845Z",
     "start_time": "2018-01-23T19:19:07.821982Z"
    }
   },
   "outputs": [
    {
     "data": {
      "text/plain": [
       "{'california-davis',\n",
       " 'east-tennessee-state',\n",
       " 'florida-gulf-coast',\n",
       " 'florida-state',\n",
       " 'jacksonville-state',\n",
       " 'kansas-state',\n",
       " 'miami-fl',\n",
       " 'middle-tennessee',\n",
       " 'mount-st-marys',\n",
       " 'new-mexico-state',\n",
       " 'north-carolina',\n",
       " 'north-carolina-wilmington',\n",
       " 'northern-kentucky',\n",
       " 'rhode-island',\n",
       " 'saint-marys-ca',\n",
       " 'south-dakota-state',\n",
       " 'southern-california',\n",
       " 'southern-methodist',\n",
       " 'virginia',\n",
       " 'virginia-commonwealth'}"
      ]
     },
     "execution_count": 8,
     "metadata": {},
     "output_type": "execute_result"
    }
   ],
   "source": [
    "set(t2names)-set(t1names)"
   ]
  },
  {
   "cell_type": "code",
   "execution_count": 9,
   "metadata": {
    "ExecuteTime": {
     "end_time": "2018-01-23T19:19:08.503924Z",
     "start_time": "2018-01-23T19:19:08.474819Z"
    },
    "collapsed": true
   },
   "outputs": [],
   "source": [
    "set(t1names)-set(t2names)\n",
    "\n",
    "nameReplace={}\n",
    "nameReplace['etsu']='east-tennessee-state'\n",
    "\n",
    "\n",
    "nameReplace['uc-davis']='california-davis'\n",
    "nameReplace['fgcu']= 'florida-gulf-coast'\n",
    "nameReplace['fsu']= 'florida-state'\n",
    "nameReplace['jacksonville-st']= 'jacksonville-state'\n",
    "nameReplace['ksu']= 'kansas-state'\n",
    "nameReplace['miami']= 'miami-fl'\n",
    "nameReplace['mid-tennessee']= 'middle-tennessee'\n",
    "nameReplace['msm']= 'mount-st-marys'\n",
    "nameReplace['new-mexico-st']= 'new-mexico-state'\n",
    "nameReplace['unc']= 'north-carolina'\n",
    "nameReplace['unc-wilmington']= 'north-carolina-wilmington'\n",
    "nameReplace['n-kentucky']= 'northern-kentucky'\n",
    "nameReplace['uri']= 'rhode-island'\n",
    "nameReplace[\"saint-mary's\"]= 'saint-marys-ca'\n",
    "nameReplace['south-dakota-st']= 'south-dakota-state'\n",
    "nameReplace['usc']= 'southern-california'\n",
    "nameReplace['smu']= 'southern-methodist'\n",
    "nameReplace['uva']= 'virginia'\n",
    "nameReplace['vcu']= 'virginia-commonwealth'"
   ]
  },
  {
   "cell_type": "code",
   "execution_count": 10,
   "metadata": {
    "ExecuteTime": {
     "end_time": "2018-01-23T19:19:09.022328Z",
     "start_time": "2018-01-23T19:19:09.013481Z"
    },
    "collapsed": true
   },
   "outputs": [],
   "source": [
    "x=[]\n",
    "for i,name in enumerate(t1names):\n",
    "    if name in nameReplace.keys():\n",
    "        x.append(nameReplace[name])\n",
    "    else:\n",
    "        x.append(name)\n",
    "dfpool.teamName = x\n",
    "# dfpool\n"
   ]
  },
  {
   "cell_type": "code",
   "execution_count": 11,
   "metadata": {
    "ExecuteTime": {
     "end_time": "2018-01-23T19:19:09.310822Z",
     "start_time": "2018-01-23T19:19:09.305027Z"
    },
    "collapsed": true
   },
   "outputs": [],
   "source": [
    "df=dfpool.sort_values(by='teamName')\n",
    "df['probSim']=dfprob.sort_values(by='teamName').prob.values\n"
   ]
  },
  {
   "cell_type": "code",
   "execution_count": 12,
   "metadata": {
    "ExecuteTime": {
     "end_time": "2018-01-23T19:19:09.581938Z",
     "start_time": "2018-01-23T19:19:09.575150Z"
    }
   },
   "outputs": [
    {
     "data": {
      "text/plain": [
       "0.84585163388388618"
      ]
     },
     "execution_count": 12,
     "metadata": {},
     "output_type": "execute_result"
    }
   ],
   "source": [
    "from sklearn.metrics import r2_score\n",
    "r2_score(df.prob,df.probSim)"
   ]
  },
  {
   "cell_type": "code",
   "execution_count": 13,
   "metadata": {
    "ExecuteTime": {
     "end_time": "2018-01-23T19:19:10.129418Z",
     "start_time": "2018-01-23T19:19:10.115931Z"
    }
   },
   "outputs": [
    {
     "data": {
      "text/html": [
       "<div>\n",
       "<style>\n",
       "    .dataframe thead tr:only-child th {\n",
       "        text-align: right;\n",
       "    }\n",
       "\n",
       "    .dataframe thead th {\n",
       "        text-align: left;\n",
       "    }\n",
       "\n",
       "    .dataframe tbody tr th {\n",
       "        vertical-align: top;\n",
       "    }\n",
       "</style>\n",
       "<table border=\"1\" class=\"dataframe\">\n",
       "  <thead>\n",
       "    <tr style=\"text-align: right;\">\n",
       "      <th></th>\n",
       "      <th>teamName</th>\n",
       "      <th>prob</th>\n",
       "      <th>probSim</th>\n",
       "    </tr>\n",
       "  </thead>\n",
       "  <tbody>\n",
       "    <tr>\n",
       "      <th>28</th>\n",
       "      <td>marquette</td>\n",
       "      <td>0.559</td>\n",
       "      <td>0.153708</td>\n",
       "    </tr>\n",
       "  </tbody>\n",
       "</table>\n",
       "</div>"
      ],
      "text/plain": [
       "     teamName   prob   probSim\n",
       "28  marquette  0.559  0.153708"
      ]
     },
     "execution_count": 13,
     "metadata": {},
     "output_type": "execute_result"
    }
   ],
   "source": [
    "df[df.teamName=='marquette']"
   ]
  },
  {
   "cell_type": "code",
   "execution_count": 14,
   "metadata": {
    "ExecuteTime": {
     "end_time": "2018-01-23T19:19:17.885525Z",
     "start_time": "2018-01-23T19:19:17.877419Z"
    },
    "collapsed": true
   },
   "outputs": [],
   "source": [
    "x=[]\n",
    "for tname in df.teamName:\n",
    "    if tname in t.bracketOutcome[2]:\n",
    "        x.append(1)\n",
    "    else:\n",
    "        x.append(0)\n",
    "df['actual']=x\n",
    "# df"
   ]
  },
  {
   "cell_type": "code",
   "execution_count": 24,
   "metadata": {
    "ExecuteTime": {
     "end_time": "2018-01-23T19:20:47.660858Z",
     "start_time": "2018-01-23T19:20:47.655042Z"
    }
   },
   "outputs": [
    {
     "data": {
      "text/plain": [
       "0.89999999999999991"
      ]
     },
     "execution_count": 24,
     "metadata": {},
     "output_type": "execute_result"
    }
   ],
   "source": [
    "model.logit(2*model.logitInv(.75))"
   ]
  },
  {
   "cell_type": "code",
   "execution_count": 65,
   "metadata": {
    "ExecuteTime": {
     "end_time": "2018-01-23T19:38:51.850637Z",
     "start_time": "2018-01-23T19:38:51.845277Z"
    }
   },
   "outputs": [
    {
     "data": {
      "text/plain": [
       "0.73225006582616148"
      ]
     },
     "execution_count": 65,
     "metadata": {},
     "output_type": "execute_result"
    }
   ],
   "source": [
    "model.logit(0.58*model.logitInv(0.85))"
   ]
  },
  {
   "cell_type": "code",
   "execution_count": 62,
   "metadata": {
    "ExecuteTime": {
     "end_time": "2018-01-23T19:36:15.736328Z",
     "start_time": "2018-01-23T19:36:15.064697Z"
    }
   },
   "outputs": [
    {
     "name": "stdout",
     "output_type": "stream",
     "text": [
      "Best scale factor:  0.579797979798\n"
     ]
    },
    {
     "data": {
      "text/plain": [
       "Text(0.5,1,'')"
      ]
     },
     "execution_count": 62,
     "metadata": {},
     "output_type": "execute_result"
    },
    {
     "data": {
      "image/png": "[encoded data removed]",
      "text/plain": [
       "<matplotlib.figure.Figure at 0x1a256ca080>"
      ]
     },
     "metadata": {},
     "output_type": "display_data"
    }
   ],
   "source": [
    "from sklearn.metrics import r2_score\n",
    "\n",
    "scaleF=np.array([[scaleFactor,r2_score(df.prob,model.logit(scaleFactor*model.logitInv(df.probSim)))] for scaleFactor in np.linspace(0.1,2,100)])\n",
    "# scaleF=np.array([[scaleFactor,r2_score(model.logit(scaleFactor*model.logitInv(df.prob)),df.probSim)] for scaleFactor in np.linspace(1,5,100)])\n",
    "indxMax=np.argmax(scaleF[:,1])\n",
    "scaleBest=scaleF[indxMax,0]\n",
    "plt.subplot(1,2,1)\n",
    "# scaleBest=1\n",
    "plt.scatter(df.prob,model.logit(scaleBest*model.logitInv(df.probSim)),label='Model $\\\\beta = \\\\beta_{max}$')\n",
    "# plt.scatter(model.logit(scaleBest*model.logitInv(df.prob)),df.probSim,label='Model $\\\\beta = \\\\beta_{max}$')\n",
    "# plt.scatter(df.prob,model.logit(0.5*model.logitInv(df.probSim)),label='Model $\\\\beta = 0.5$')\n",
    "# plt.scatter(df.prob,model.logit(1*model.logitInv(df.probSim)),label='Model $\\\\beta = 1$')\n",
    "plt.xlabel('ESPN pool')\n",
    "plt.ylabel('Simulated Pool')\n",
    "plt.title('NCAA team selection')\n",
    "plt.legend()\n",
    "plt.subplot(1,2,2)\n",
    "print('Best scale factor: ',scaleBest)\n",
    "\n",
    "plt.plot(scaleF[:,0],scaleF[:,1],'r')\n",
    "plt.xlabel('Scale Factor')\n",
    "plt.ylabel('Pearson $r^2$');\n",
    "plt.title('')"
   ]
  },
  {
   "cell_type": "code",
   "execution_count": 25,
   "metadata": {
    "ExecuteTime": {
     "end_time": "2018-01-23T19:21:04.929698Z",
     "start_time": "2018-01-23T19:21:04.709038Z"
    }
   },
   "outputs": [
    {
     "data": {
      "text/plain": [
       "Text(0,0.5,'First round predictions')"
      ]
     },
     "execution_count": 25,
     "metadata": {},
     "output_type": "execute_result"
    },
    {
     "data": {
      "image/png": "[encoded data removed]",
      "text/plain": [
       "<matplotlib.figure.Figure at 0x1a1ffd6080>"
      ]
     },
     "metadata": {},
     "output_type": "display_data"
    }
   ],
   "source": [
    "plt.scatter(df.prob,df.probSim)\n",
    "# plt.scatter(df.prob,df.actual,color='r')\n",
    "# plt.scatter(df.actual,df.probSim,color='b')\n",
    "plt.xlabel('First round pick distribution (ESPN)')\n",
    "plt.ylabel('First round predictions')\n"
   ]
  },
  {
   "cell_type": "code",
   "execution_count": 16,
   "metadata": {
    "ExecuteTime": {
     "end_time": "2018-01-23T19:19:20.833351Z",
     "start_time": "2018-01-23T19:19:20.824988Z"
    }
   },
   "outputs": [
    {
     "data": {
      "text/plain": [
       "array([[26,  6],\n",
       "       [ 7, 25]])"
      ]
     },
     "execution_count": 16,
     "metadata": {},
     "output_type": "execute_result"
    }
   ],
   "source": [
    "from sklearn.metrics import confusion_matrix\n",
    "\n",
    "confusion_matrix(df.actual.values>.5,df.prob.values>0.5)"
   ]
  },
  {
   "cell_type": "code",
   "execution_count": 17,
   "metadata": {
    "ExecuteTime": {
     "end_time": "2018-01-23T19:19:21.574168Z",
     "start_time": "2018-01-23T19:19:21.567413Z"
    }
   },
   "outputs": [
    {
     "data": {
      "text/plain": [
       "array([[29,  3],\n",
       "       [ 3, 29]])"
      ]
     },
     "execution_count": 17,
     "metadata": {},
     "output_type": "execute_result"
    }
   ],
   "source": [
    "confusion_matrix(df.actual.values>.5,df.probSim.values>0.5)"
   ]
  },
  {
   "cell_type": "code",
   "execution_count": 18,
   "metadata": {
    "ExecuteTime": {
     "end_time": "2018-01-23T19:19:24.937611Z",
     "start_time": "2018-01-23T19:19:24.923456Z"
    }
   },
   "outputs": [
    {
     "data": {
      "text/html": [
       "<div>\n",
       "<style>\n",
       "    .dataframe thead tr:only-child th {\n",
       "        text-align: right;\n",
       "    }\n",
       "\n",
       "    .dataframe thead th {\n",
       "        text-align: left;\n",
       "    }\n",
       "\n",
       "    .dataframe tbody tr th {\n",
       "        vertical-align: top;\n",
       "    }\n",
       "</style>\n",
       "<table border=\"1\" class=\"dataframe\">\n",
       "  <thead>\n",
       "    <tr style=\"text-align: right;\">\n",
       "      <th></th>\n",
       "      <th>teamName</th>\n",
       "      <th>prob</th>\n",
       "      <th>probSim</th>\n",
       "      <th>actual</th>\n",
       "    </tr>\n",
       "  </thead>\n",
       "  <tbody>\n",
       "    <tr>\n",
       "      <th>28</th>\n",
       "      <td>marquette</td>\n",
       "      <td>0.559</td>\n",
       "      <td>0.153708</td>\n",
       "      <td>0</td>\n",
       "    </tr>\n",
       "    <tr>\n",
       "      <th>27</th>\n",
       "      <td>maryland</td>\n",
       "      <td>0.565</td>\n",
       "      <td>0.365377</td>\n",
       "      <td>0</td>\n",
       "    </tr>\n",
       "    <tr>\n",
       "      <th>29</th>\n",
       "      <td>michigan-state</td>\n",
       "      <td>0.514</td>\n",
       "      <td>0.312980</td>\n",
       "      <td>1</td>\n",
       "    </tr>\n",
       "    <tr>\n",
       "      <th>26</th>\n",
       "      <td>minnesota</td>\n",
       "      <td>0.571</td>\n",
       "      <td>0.472525</td>\n",
       "      <td>0</td>\n",
       "    </tr>\n",
       "    <tr>\n",
       "      <th>30</th>\n",
       "      <td>seton-hall</td>\n",
       "      <td>0.504</td>\n",
       "      <td>0.406144</td>\n",
       "      <td>0</td>\n",
       "    </tr>\n",
       "  </tbody>\n",
       "</table>\n",
       "</div>"
      ],
      "text/plain": [
       "          teamName   prob   probSim  actual\n",
       "28       marquette  0.559  0.153708       0\n",
       "27        maryland  0.565  0.365377       0\n",
       "29  michigan-state  0.514  0.312980       1\n",
       "26       minnesota  0.571  0.472525       0\n",
       "30      seton-hall  0.504  0.406144       0"
      ]
     },
     "execution_count": 18,
     "metadata": {},
     "output_type": "execute_result"
    }
   ],
   "source": [
    "df[(df.prob>.5) & (df.probSim<0.5)]"
   ]
  },
  {
   "cell_type": "code",
   "execution_count": null,
   "metadata": {
    "collapsed": true
   },
   "outputs": [],
   "source": []
  }
 ],
 "metadata": {
  "kernelspec": {
   "display_name": "Python 3",
   "language": "python",
   "name": "python3"
  },
  "language_info": {
   "codemirror_mode": {
    "name": "ipython",
    "version": 3
   },
   "file_extension": ".py",
   "mimetype": "text/x-python",
   "name": "python",
   "nbconvert_exporter": "python",
   "pygments_lexer": "ipython3",
   "version": "3.6.3"
  },
  "toc": {
   "nav_menu": {},
   "number_sections": true,
   "sideBar": true,
   "skip_h1_title": false,
   "toc_cell": false,
   "toc_position": {},
   "toc_section_display": "block",
   "toc_window_display": false
  }
 },
 "nbformat": 4,
 "nbformat_minor": 2
}
