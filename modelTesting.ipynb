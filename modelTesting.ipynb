{
 "cells": [
  {
   "cell_type": "code",
   "execution_count": 1,
   "metadata": {
    "ExecuteTime": {
     "end_time": "2018-01-17T18:51:08.626774Z",
     "start_time": "2018-01-17T18:51:07.186922Z"
    },
    "collapsed": true
   },
   "outputs": [],
   "source": [
    "%matplotlib inline\n",
    "import matplotlib\n",
    "import matplotlib.pyplot as plt\n",
    "\n",
    "import numpy as np\n",
    "import pandas as pd\n",
    "import requests\n",
    "import urllib.request\n",
    "from bs4 import BeautifulSoup\n",
    "from sklearn.preprocessing import MinMaxScaler\n",
    "from sklearn.model_selection import train_test_split\n",
    "from sklearn.ensemble import RandomForestClassifier\n",
    "from sklearn.linear_model import LogisticRegression\n",
    "from sklearn.svm import SVC\n",
    "import warnings\n",
    "from sklearn import metrics\n",
    "\n",
    "warnings.filterwarnings('ignore')\n",
    "\n",
    "\n",
    "from sklearn import model_selection\n",
    "from sklearn.model_selection import cross_val_score\n",
    "\n",
    "\n",
    "from sqlalchemy import create_engine\n",
    "from sqlalchemy_utils import database_exists, create_database\n",
    "import psycopg2"
   ]
  },
  {
   "cell_type": "code",
   "execution_count": 2,
   "metadata": {
    "ExecuteTime": {
     "end_time": "2018-01-17T18:51:08.673784Z",
     "start_time": "2018-01-17T18:51:08.629420Z"
    }
   },
   "outputs": [
    {
     "name": "stdout",
     "output_type": "stream",
     "text": [
      "postgres://gshau@localhost/ncaabb\n",
      "True\n"
     ]
    }
   ],
   "source": [
    "dbname = 'ncaabb'\n",
    "username = 'gshau' # change this to your username\n",
    "engine = create_engine('postgres://%s@localhost/%s'%(username,dbname))\n",
    "print(engine.url)\n",
    "if not database_exists(engine.url):\n",
    "    create_database(engine.url)\n",
    "print(database_exists(engine.url))\n"
   ]
  },
  {
   "cell_type": "code",
   "execution_count": 14,
   "metadata": {
    "ExecuteTime": {
     "end_time": "2018-01-17T18:56:42.781952Z",
     "start_time": "2018-01-17T18:56:42.665402Z"
    },
    "collapsed": true
   },
   "outputs": [],
   "source": [
    "\n",
    "class Tournament:\n",
    "    def __init__(self,teamList):\n",
    "        '''Tournament class, takes as arguments:\\\n",
    "          teamList - list of teams in bracket order'''\n",
    "        self.teamList = np.array(teamList)\n",
    "        self.nTeams = len(teamList)\n",
    "#         self.teamDict =\n",
    "\n",
    "\n",
    "    def getPairings(self,teamList):\n",
    "        pairings=[]\n",
    "        for iteam in range(len(teamList)/2):\n",
    "            pairings.append([teamList[2*iteam],teamList[2*iteam+1]])\n",
    "        return pairings\n",
    "\n",
    "    def setModel(self,model):\n",
    "        self.model = model\n",
    "\n",
    "    def predictGame(self,game):        \n",
    "        outcome = model(game[0].properties,game[1].properties)\n",
    "        return outcome\n",
    "\n",
    "    def simulate(self,probThr):\n",
    "\n",
    "        teamList = self.teamList\n",
    "        nTeamRemain = len(teamList)\n",
    "        nRound = 1\n",
    "        teamLists={}\n",
    "        teamLists[nRound]=teamList\n",
    "        while nTeamRemain > 1:\n",
    "            pairs = self.getPairings(teamList)\n",
    "            teamList=[]\n",
    "            for p in pairs:\n",
    "                print('Pair: ',p[0].name, p[1].name,nTeamRemain)\n",
    "                prob = self.predictGame(p)\n",
    "                if prob > probThr():\n",
    "                    teamList.append(p[0])\n",
    "                else:\n",
    "                    teamList.append(p[1])\n",
    "            nRound+=1\n",
    "            teamLists[nRound]=teamList\n",
    "            nTeamRemain = len(teamList)\n",
    "\n",
    "        return teamLists\n",
    "\n",
    "\n",
    "class Team:\n",
    "    def __init__(self,name,properties):\n",
    "        self.name=name\n",
    "        self.properties=properties\n"
   ]
  },
  {
   "cell_type": "code",
   "execution_count": 4,
   "metadata": {
    "ExecuteTime": {
     "end_time": "2018-01-17T18:51:11.672406Z",
     "start_time": "2018-01-17T18:51:11.598471Z"
    },
    "collapsed": true
   },
   "outputs": [],
   "source": [
    "\n",
    "dbname = 'ncaabb'\n",
    "username = 'gshau' # change this to your username\n",
    "engine = create_engine('postgres://%s@localhost/%s'%(username,dbname))\n",
    "\n",
    "\n",
    "def loadTourney(year):\n",
    "    df=pd.read_sql('SELECT * FROM tourney_team_'+str(year), engine,index_col='index')\n",
    "    return df\n",
    "\n",
    "def loadTeamData(year):\n",
    "    df=pd.read_sql('SELECT * FROM team_data_'+str(year), engine,index_col='index')\n",
    "    return df\n",
    "    teamList={}\n",
    "    for r in df.itertuples():\n",
    "        teamList[r.School]=Team(r.School,dict(r))\n",
    "    \n",
    "    return teamList\n",
    "\n",
    "def getYears():\n",
    "    df=pd.read_sql(\"SELECT table_name FROM information_schema.tables WHERE table_schema='public' AND table_type='BASE TABLE';\", engine)\n",
    "    yearList=sorted(np.unique(np.array([int(tn.split('_')[-1]) if 'team' in tn else 0 for tn in df.table_name.values])),reverse=True)[:-1]\n",
    "    return yearList\n",
    "\n",
    "def initializeTourney(year=2017):\n",
    "    teamData=loadTeamData(year)\n",
    "    teamNamesInTourney = loadTourney(year)\n",
    "    teamNames=teamNamesInTourney.teamName.values\n",
    "    teamList=[]\n",
    "    for teamName in teamNames:\n",
    "        properties=teamData[teamData.School==teamName]\n",
    "        teamList.append(Team(teamName,dict(properties)))\n",
    "    \n",
    "    \n",
    "    tourney=Tournament(teamList)\n",
    "    return tourney\n"
   ]
  },
  {
   "cell_type": "code",
   "execution_count": 9,
   "metadata": {
    "ExecuteTime": {
     "end_time": "2018-01-17T18:54:04.699960Z",
     "start_time": "2018-01-17T18:54:04.693622Z"
    }
   },
   "outputs": [
    {
     "data": {
      "text/plain": [
       "Index(['School', 'wpct', 'SRS', 'SOS', 'TmPts', 'OppPts', 'Pace', 'ORtg',\n",
       "       'FTr', '3PAr', 'TS', 'TRB', 'AST', 'STL', 'BLK', 'eFG', 'TOV', 'ORB',\n",
       "       'FT/FGA', 'sched_url', 'name', 'fullName', 'Rank', 'Conf', 'WL',\n",
       "       'AdjEM', 'AdjO', 'AdjD', 'AdjT', 'Luck', 'AdjEM.1', 'OppO', 'OppD',\n",
       "       'NCSOS_AdjEM'],\n",
       "      dtype='object')"
      ]
     },
     "execution_count": 9,
     "metadata": {},
     "output_type": "execute_result"
    }
   ],
   "source": [
    "teamData.keys()"
   ]
  },
  {
   "cell_type": "code",
   "execution_count": 13,
   "metadata": {
    "ExecuteTime": {
     "end_time": "2018-01-17T18:55:12.620748Z",
     "start_time": "2018-01-17T18:55:12.034694Z"
    }
   },
   "outputs": [],
   "source": [
    "year=2016\n",
    "teamData=loadTeamData(year)\n",
    "teamNamesInTourney = loadTourney(year)\n",
    "teamNames=teamNamesInTourney.teamName.values\n",
    "teamList=[]\n",
    "for teamName in teamNames:\n",
    "    properties = teamData[teamData.name==teamName]\n",
    "    propertyDict = dict([(key,properties.iloc[0][key]) for key in properties.keys()])\n",
    "    teamList.append(Team(teamName,propertyDict))\n",
    "\n",
    "\n",
    "tourney=Tournament(teamList)\n",
    "# return tourney\n"
   ]
  },
  {
   "cell_type": "code",
   "execution_count": null,
   "metadata": {
    "collapsed": true
   },
   "outputs": [],
   "source": [
    "tourney.simulate"
   ]
  },
  {
   "cell_type": "code",
   "execution_count": 111,
   "metadata": {
    "ExecuteTime": {
     "end_time": "2018-01-17T18:35:22.571733Z",
     "start_time": "2018-01-17T18:35:22.545284Z"
    }
   },
   "outputs": [
    {
     "ename": "ValueError",
     "evalue": "Location based indexing can only have [integer, integer slice (START point is INCLUDED, END point is EXCLUDED), listlike of integers, boolean array] types",
     "output_type": "error",
     "traceback": [
      "\u001b[0;31m---------------------------------------------------------------------------\u001b[0m",
      "\u001b[0;31mValueError\u001b[0m                                Traceback (most recent call last)",
      "\u001b[0;32m<ipython-input-111-5a75154e2acb>\u001b[0m in \u001b[0;36m<module>\u001b[0;34m()\u001b[0m\n\u001b[0;32m----> 1\u001b[0;31m \u001b[0mdict\u001b[0m\u001b[0;34m(\u001b[0m\u001b[0;34m[\u001b[0m\u001b[0;34m(\u001b[0m\u001b[0mkey\u001b[0m\u001b[0;34m,\u001b[0m\u001b[0mproperties\u001b[0m\u001b[0;34m.\u001b[0m\u001b[0miloc\u001b[0m\u001b[0;34m[\u001b[0m\u001b[0;36m0\u001b[0m\u001b[0;34m,\u001b[0m\u001b[0mkey\u001b[0m\u001b[0;34m]\u001b[0m\u001b[0;34m)\u001b[0m \u001b[0;32mfor\u001b[0m \u001b[0mkey\u001b[0m \u001b[0;32min\u001b[0m \u001b[0mproperties\u001b[0m\u001b[0;34m.\u001b[0m\u001b[0mkeys\u001b[0m\u001b[0;34m(\u001b[0m\u001b[0;34m)\u001b[0m\u001b[0;34m]\u001b[0m\u001b[0;34m)\u001b[0m\u001b[0;34m\u001b[0m\u001b[0m\n\u001b[0m",
      "\u001b[0;32m<ipython-input-111-5a75154e2acb>\u001b[0m in \u001b[0;36m<listcomp>\u001b[0;34m(.0)\u001b[0m\n\u001b[0;32m----> 1\u001b[0;31m \u001b[0mdict\u001b[0m\u001b[0;34m(\u001b[0m\u001b[0;34m[\u001b[0m\u001b[0;34m(\u001b[0m\u001b[0mkey\u001b[0m\u001b[0;34m,\u001b[0m\u001b[0mproperties\u001b[0m\u001b[0;34m.\u001b[0m\u001b[0miloc\u001b[0m\u001b[0;34m[\u001b[0m\u001b[0;36m0\u001b[0m\u001b[0;34m,\u001b[0m\u001b[0mkey\u001b[0m\u001b[0;34m]\u001b[0m\u001b[0;34m)\u001b[0m \u001b[0;32mfor\u001b[0m \u001b[0mkey\u001b[0m \u001b[0;32min\u001b[0m \u001b[0mproperties\u001b[0m\u001b[0;34m.\u001b[0m\u001b[0mkeys\u001b[0m\u001b[0;34m(\u001b[0m\u001b[0;34m)\u001b[0m\u001b[0;34m]\u001b[0m\u001b[0;34m)\u001b[0m\u001b[0;34m\u001b[0m\u001b[0m\n\u001b[0m",
      "\u001b[0;32m~/anaconda3/lib/python3.6/site-packages/pandas/core/indexing.py\u001b[0m in \u001b[0;36m__getitem__\u001b[0;34m(self, key)\u001b[0m\n\u001b[1;32m   1323\u001b[0m             \u001b[0;32mexcept\u001b[0m \u001b[0;34m(\u001b[0m\u001b[0mKeyError\u001b[0m\u001b[0;34m,\u001b[0m \u001b[0mIndexError\u001b[0m\u001b[0;34m)\u001b[0m\u001b[0;34m:\u001b[0m\u001b[0;34m\u001b[0m\u001b[0m\n\u001b[1;32m   1324\u001b[0m                 \u001b[0;32mpass\u001b[0m\u001b[0;34m\u001b[0m\u001b[0m\n\u001b[0;32m-> 1325\u001b[0;31m             \u001b[0;32mreturn\u001b[0m \u001b[0mself\u001b[0m\u001b[0;34m.\u001b[0m\u001b[0m_getitem_tuple\u001b[0m\u001b[0;34m(\u001b[0m\u001b[0mkey\u001b[0m\u001b[0;34m)\u001b[0m\u001b[0;34m\u001b[0m\u001b[0m\n\u001b[0m\u001b[1;32m   1326\u001b[0m         \u001b[0;32melse\u001b[0m\u001b[0;34m:\u001b[0m\u001b[0;34m\u001b[0m\u001b[0m\n\u001b[1;32m   1327\u001b[0m             \u001b[0mkey\u001b[0m \u001b[0;34m=\u001b[0m \u001b[0mcom\u001b[0m\u001b[0;34m.\u001b[0m\u001b[0m_apply_if_callable\u001b[0m\u001b[0;34m(\u001b[0m\u001b[0mkey\u001b[0m\u001b[0;34m,\u001b[0m \u001b[0mself\u001b[0m\u001b[0;34m.\u001b[0m\u001b[0mobj\u001b[0m\u001b[0;34m)\u001b[0m\u001b[0;34m\u001b[0m\u001b[0m\n",
      "\u001b[0;32m~/anaconda3/lib/python3.6/site-packages/pandas/core/indexing.py\u001b[0m in \u001b[0;36m_getitem_tuple\u001b[0;34m(self, tup)\u001b[0m\n\u001b[1;32m   1660\u001b[0m     \u001b[0;32mdef\u001b[0m \u001b[0m_getitem_tuple\u001b[0m\u001b[0;34m(\u001b[0m\u001b[0mself\u001b[0m\u001b[0;34m,\u001b[0m \u001b[0mtup\u001b[0m\u001b[0;34m)\u001b[0m\u001b[0;34m:\u001b[0m\u001b[0;34m\u001b[0m\u001b[0m\n\u001b[1;32m   1661\u001b[0m \u001b[0;34m\u001b[0m\u001b[0m\n\u001b[0;32m-> 1662\u001b[0;31m         \u001b[0mself\u001b[0m\u001b[0;34m.\u001b[0m\u001b[0m_has_valid_tuple\u001b[0m\u001b[0;34m(\u001b[0m\u001b[0mtup\u001b[0m\u001b[0;34m)\u001b[0m\u001b[0;34m\u001b[0m\u001b[0m\n\u001b[0m\u001b[1;32m   1663\u001b[0m         \u001b[0;32mtry\u001b[0m\u001b[0;34m:\u001b[0m\u001b[0;34m\u001b[0m\u001b[0m\n\u001b[1;32m   1664\u001b[0m             \u001b[0;32mreturn\u001b[0m \u001b[0mself\u001b[0m\u001b[0;34m.\u001b[0m\u001b[0m_getitem_lowerdim\u001b[0m\u001b[0;34m(\u001b[0m\u001b[0mtup\u001b[0m\u001b[0;34m)\u001b[0m\u001b[0;34m\u001b[0m\u001b[0m\n",
      "\u001b[0;32m~/anaconda3/lib/python3.6/site-packages/pandas/core/indexing.py\u001b[0m in \u001b[0;36m_has_valid_tuple\u001b[0;34m(self, key)\u001b[0m\n\u001b[1;32m    189\u001b[0m             \u001b[0;32mif\u001b[0m \u001b[0;32mnot\u001b[0m \u001b[0mself\u001b[0m\u001b[0;34m.\u001b[0m\u001b[0m_has_valid_type\u001b[0m\u001b[0;34m(\u001b[0m\u001b[0mk\u001b[0m\u001b[0;34m,\u001b[0m \u001b[0mi\u001b[0m\u001b[0;34m)\u001b[0m\u001b[0;34m:\u001b[0m\u001b[0;34m\u001b[0m\u001b[0m\n\u001b[1;32m    190\u001b[0m                 raise ValueError(\"Location based indexing can only have [%s] \"\n\u001b[0;32m--> 191\u001b[0;31m                                  \"types\" % self._valid_types)\n\u001b[0m\u001b[1;32m    192\u001b[0m \u001b[0;34m\u001b[0m\u001b[0m\n\u001b[1;32m    193\u001b[0m     \u001b[0;32mdef\u001b[0m \u001b[0m_should_validate_iterable\u001b[0m\u001b[0;34m(\u001b[0m\u001b[0mself\u001b[0m\u001b[0;34m,\u001b[0m \u001b[0maxis\u001b[0m\u001b[0;34m=\u001b[0m\u001b[0;36m0\u001b[0m\u001b[0;34m)\u001b[0m\u001b[0;34m:\u001b[0m\u001b[0;34m\u001b[0m\u001b[0m\n",
      "\u001b[0;31mValueError\u001b[0m: Location based indexing can only have [integer, integer slice (START point is INCLUDED, END point is EXCLUDED), listlike of integers, boolean array] types"
     ]
    }
   ],
   "source": [
    "dict([(key,properties.iloc[0,key]) for key in properties.keys()])"
   ]
  },
  {
   "cell_type": "code",
   "execution_count": 77,
   "metadata": {
    "ExecuteTime": {
     "end_time": "2018-01-17T18:28:09.895543Z",
     "start_time": "2018-01-17T18:28:09.887986Z"
    }
   },
   "outputs": [
    {
     "data": {
      "text/plain": [
       "{215: School                                         north-dakota\n",
       " wpct                                                  0.688\n",
       " SRS                                                   -1.83\n",
       " SOS                                                   -5.45\n",
       " TmPts                                                  2578\n",
       " OppPts                                                 2357\n",
       " Pace                                                   72.9\n",
       " ORtg                                                  108.8\n",
       " FTr                                                    0.26\n",
       " 3PAr                                                  0.305\n",
       " TS                                                    0.573\n",
       " TRB                                                    50.5\n",
       " AST                                                    52.6\n",
       " STL                                                    10.6\n",
       " BLK                                                     7.5\n",
       " eFG                                                   0.542\n",
       " TOV                                                    15.7\n",
       " ORB                                                    26.8\n",
       " FT/FGA                                                 0.26\n",
       " sched_url      /cbb/schools/north-dakota/2017-schedule.html\n",
       " Rank                                                    168\n",
       " Conf                                                   BSky\n",
       " WL                                                    22-10\n",
       " AdjEM                                                  0.04\n",
       " AdjO                                                  103.6\n",
       " AdjD                                                  103.5\n",
       " AdjT                                                   71.5\n",
       " Luck                                                  0.048\n",
       " AdjEM.1                                               -5.66\n",
       " OppO                                                    103\n",
       " OppD                                                  108.6\n",
       " NCSOS_AdjEM                                            3.24\n",
       " Name: 215, dtype: object}"
      ]
     },
     "execution_count": 77,
     "metadata": {},
     "output_type": "execute_result"
    }
   ],
   "source": [
    "d=dict(properties.T)\n",
    "d"
   ]
  },
  {
   "cell_type": "code",
   "execution_count": 59,
   "metadata": {
    "ExecuteTime": {
     "end_time": "2018-01-17T18:26:00.858744Z",
     "start_time": "2018-01-17T18:26:00.780997Z"
    }
   },
   "outputs": [
    {
     "ename": "ValueError",
     "evalue": "dictionary update sequence element #0 has length 32; 2 is required",
     "output_type": "error",
     "traceback": [
      "\u001b[0;31m---------------------------------------------------------------------------\u001b[0m",
      "\u001b[0;31mValueError\u001b[0m                                Traceback (most recent call last)",
      "\u001b[0;32m<ipython-input-59-f2a3be88bff2>\u001b[0m in \u001b[0;36m<module>\u001b[0;34m()\u001b[0m\n\u001b[0;32m----> 1\u001b[0;31m \u001b[0mtourney\u001b[0m\u001b[0;34m=\u001b[0m\u001b[0minitializeTourney\u001b[0m\u001b[0;34m(\u001b[0m\u001b[0;36m2017\u001b[0m\u001b[0;34m)\u001b[0m\u001b[0;34m\u001b[0m\u001b[0m\n\u001b[0m\u001b[1;32m      2\u001b[0m \u001b[0mteam\u001b[0m\u001b[0;34m=\u001b[0m\u001b[0mtourney\u001b[0m\u001b[0;34m.\u001b[0m\u001b[0mteamList\u001b[0m\u001b[0;34m[\u001b[0m\u001b[0;36m2\u001b[0m\u001b[0;34m]\u001b[0m\u001b[0;34m\u001b[0m\u001b[0m\n\u001b[1;32m      3\u001b[0m \u001b[0mteam\u001b[0m\u001b[0;34m.\u001b[0m\u001b[0mproperties\u001b[0m\u001b[0;34m\u001b[0m\u001b[0m\n",
      "\u001b[0;32m<ipython-input-58-78d3b18a8462>\u001b[0m in \u001b[0;36minitializeTourney\u001b[0;34m(year)\u001b[0m\n\u001b[1;32m     30\u001b[0m     \u001b[0;32mfor\u001b[0m \u001b[0mteamName\u001b[0m \u001b[0;32min\u001b[0m \u001b[0mteamNames\u001b[0m\u001b[0;34m:\u001b[0m\u001b[0;34m\u001b[0m\u001b[0m\n\u001b[1;32m     31\u001b[0m         \u001b[0mproperties\u001b[0m\u001b[0;34m=\u001b[0m\u001b[0mteamData\u001b[0m\u001b[0;34m[\u001b[0m\u001b[0mteamData\u001b[0m\u001b[0;34m.\u001b[0m\u001b[0mSchool\u001b[0m\u001b[0;34m==\u001b[0m\u001b[0mteamName\u001b[0m\u001b[0;34m]\u001b[0m\u001b[0;34m.\u001b[0m\u001b[0mvalues\u001b[0m\u001b[0;34m\u001b[0m\u001b[0m\n\u001b[0;32m---> 32\u001b[0;31m         \u001b[0mteamList\u001b[0m\u001b[0;34m.\u001b[0m\u001b[0mappend\u001b[0m\u001b[0;34m(\u001b[0m\u001b[0mTeam\u001b[0m\u001b[0;34m(\u001b[0m\u001b[0mteamName\u001b[0m\u001b[0;34m,\u001b[0m\u001b[0mdict\u001b[0m\u001b[0;34m(\u001b[0m\u001b[0mproperties\u001b[0m\u001b[0;34m)\u001b[0m\u001b[0;34m)\u001b[0m\u001b[0;34m)\u001b[0m\u001b[0;34m\u001b[0m\u001b[0m\n\u001b[0m\u001b[1;32m     33\u001b[0m \u001b[0;34m\u001b[0m\u001b[0m\n\u001b[1;32m     34\u001b[0m \u001b[0;34m\u001b[0m\u001b[0m\n",
      "\u001b[0;31mValueError\u001b[0m: dictionary update sequence element #0 has length 32; 2 is required"
     ]
    }
   ],
   "source": [
    "tourney=initializeTourney(2017)\n",
    "team=tourney.teamList[2]\n",
    "team.properties"
   ]
  },
  {
   "cell_type": "code",
   "execution_count": null,
   "metadata": {
    "collapsed": true
   },
   "outputs": [],
   "source": []
  }
 ],
 "metadata": {
  "kernelspec": {
   "display_name": "Python 3",
   "language": "python",
   "name": "python3"
  },
  "language_info": {
   "codemirror_mode": {
    "name": "ipython",
    "version": 3
   },
   "file_extension": ".py",
   "mimetype": "text/x-python",
   "name": "python",
   "nbconvert_exporter": "python",
   "pygments_lexer": "ipython3",
   "version": "3.6.3"
  },
  "toc": {
   "nav_menu": {},
   "number_sections": true,
   "sideBar": true,
   "skip_h1_title": false,
   "toc_cell": false,
   "toc_position": {
    "height": "1219px",
    "left": "0px",
    "right": "1431.34px",
    "top": "107px",
    "width": "212px"
   },
   "toc_section_display": "block",
   "toc_window_display": true
  }
 },
 "nbformat": 4,
 "nbformat_minor": 2
}
