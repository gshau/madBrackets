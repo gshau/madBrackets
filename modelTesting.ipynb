{
 "cells": [
  {
   "cell_type": "code",
   "execution_count": 1,
   "metadata": {
    "ExecuteTime": {
     "end_time": "2018-01-19T16:37:36.478254Z",
     "start_time": "2018-01-19T16:37:34.880183Z"
    }
   },
   "outputs": [],
   "source": [
    "%matplotlib inline\n",
    "import matplotlib\n",
    "import matplotlib.pyplot as plt\n",
    "matplotlib.rcParams['figure.figsize'] = (12.0, 8.0)\n",
    "\n",
    "import numpy as np\n",
    "import pandas as pd\n",
    "import requests\n",
    "import urllib.request\n",
    "from bs4 import BeautifulSoup\n",
    "from sklearn.preprocessing import MinMaxScaler\n",
    "from sklearn.model_selection import train_test_split\n",
    "from sklearn.ensemble import RandomForestClassifier\n",
    "from sklearn.linear_model import LogisticRegression\n",
    "from sklearn.svm import SVC\n",
    "import warnings\n",
    "from sklearn import metrics\n",
    "\n",
    "warnings.filterwarnings('ignore')\n",
    "\n",
    "\n",
    "from sklearn import model_selection\n",
    "from sklearn.model_selection import cross_val_score\n",
    "\n",
    "\n",
    "from sqlalchemy import create_engine\n",
    "from sqlalchemy_utils import database_exists, create_database\n",
    "import psycopg2\n",
    "\n",
    "import pickle\n",
    "from sklearn.externals import joblib\n",
    "\n",
    "%load_ext line_profiler"
   ]
  },
  {
   "cell_type": "code",
   "execution_count": null,
   "metadata": {
    "collapsed": true
   },
   "outputs": [],
   "source": []
  },
  {
   "cell_type": "code",
   "execution_count": 2,
   "metadata": {
    "ExecuteTime": {
     "end_time": "2018-01-18T21:54:45.452718Z",
     "start_time": "2018-01-18T21:54:45.374055Z"
    },
    "collapsed": true
   },
   "outputs": [],
   "source": [
    "\n",
    "dbname = 'ncaabb'\n",
    "username = 'gshau' \n",
    "engine = create_engine('postgres://%s@localhost/%s'%(username,dbname))\n",
    "\n",
    "# clf = joblib.load('model.pkl')\n",
    "features = joblib.load('features.pkl')\n",
    "features = [f.replace('%','') for f in features]\n",
    "\n",
    "featuresNamed = features+['name','fullName']\n",
    "\n",
    "def loadTourney(year):\n",
    "    df=pd.read_sql('SELECT * FROM tourney_team_'+str(year), engine,index_col='index')\n",
    "    return df\n",
    "\n",
    "def loadTeamData(year):\n",
    "    df=pd.read_sql('SELECT * FROM team_data_'+str(year), engine,index_col='index')\n",
    "    df[featuresNamed]\n",
    "    return df[featuresNamed]\n",
    "\n",
    "def getYears():\n",
    "    df=pd.read_sql(\"SELECT table_name FROM information_schema.tables WHERE table_schema='public' AND table_type='BASE TABLE';\", engine)\n",
    "    yearList=sorted(np.unique(np.array([int(tn.split('_')[-1]) if 'team' in tn else 0 for tn in df.table_name.values])),reverse=True)[:-1]\n",
    "    return yearList\n",
    "\n",
    "def initializeTourney(year=2017):\n",
    "\n",
    "    teamData=loadTeamData(year)\n",
    "    teamNamesInTourney = loadTourney(year)\n",
    "    teamNames=teamNamesInTourney.teamName.values\n",
    "    teamList=[]\n",
    "    for teamName in teamNames:\n",
    "        properties = teamData[teamData.name==teamName][features]\n",
    "        teamList.append(Team(teamName,properties))\n",
    "\n",
    "    tourney=Tournament(teamList)\n",
    "    clf = joblib.load('model.pkl')\n",
    "#     scaler = pickle.load(open('scaler.pkl', 'rb'))\n",
    "    tourney.setModel(clf)\n",
    "    return tourney\n"
   ]
  },
  {
   "cell_type": "code",
   "execution_count": 3,
   "metadata": {
    "ExecuteTime": {
     "end_time": "2018-01-18T21:54:46.380414Z",
     "start_time": "2018-01-18T21:54:46.150053Z"
    },
    "collapsed": true
   },
   "outputs": [],
   "source": [
    "def logit(x):\n",
    "    return 1./(1.+np.exp(-x))\n",
    "\n",
    "def logitInv(x):\n",
    "    return -np.log((1.-x)/x)\n",
    "\n",
    "\n",
    "class Tournament:\n",
    "    def __init__(self,teamList):\n",
    "        self.teamList = np.array(teamList)\n",
    "        self.nTeams = len(teamList)\n",
    "#         self.teamDict =\n",
    "\n",
    "\n",
    "    def getPairings(self,teamList):\n",
    "        pairings=[]\n",
    "        if len(teamList)==0:\n",
    "            return pairings\n",
    "        for iteam in np.arange(int(len(teamList)/2)):\n",
    "            pairings.append([teamList[2*iteam],teamList[2*iteam+1]])\n",
    "        return pairings\n",
    "\n",
    "    def setModel(self,model):\n",
    "        self.model = model\n",
    "#         self.scaler = scaler\n",
    "\n",
    "    def predictGame(self,game):\n",
    "\n",
    "        teamA=game[0].properties\n",
    "        teamB=game[1].properties\n",
    "#         teamA.index=[0]\n",
    "#         teamB.index=[0]\n",
    "        \n",
    "        vec = teamA.values-teamB.values\n",
    "        outcome=logit(self.model.coef_.dot(vec.T))\n",
    "        \n",
    "        return outcome\n",
    "\n",
    "    def simulate(self,simLevel='favorite',scaleFactor=1):\n",
    "\n",
    "        teamList = self.teamList\n",
    "        nTeamRemain = len(teamList)\n",
    "        nRound = 1\n",
    "        teamLists={}\n",
    "        teamNameLists={}\n",
    "        teamLists[nRound]=teamList\n",
    "        while nTeamRemain > 1:\n",
    "            pairs = self.getPairings(teamList)\n",
    "            teamList=[]\n",
    "            teamNameList=[]\n",
    "            for p in pairs:\n",
    "                prob = self.predictGame(p)\n",
    "                if simLevel=='favorite':\n",
    "                    probThr = 0.5\n",
    "                else:\n",
    "                    probThr = np.random.rand()\n",
    "                if scaleFactor != 1:\n",
    "                    probThr = logit(scaleFactor*logitInv(probThr))\n",
    "                if prob > probThr:\n",
    "                    teamList.append(p[0])\n",
    "                    teamNameList.append(p[0].name)\n",
    "                else:\n",
    "                    teamList.append(p[1])\n",
    "                    teamNameList.append(p[1].name)\n",
    "            nRound+=1\n",
    "            teamLists[nRound]=teamList\n",
    "            teamNameLists[nRound]=teamNameList\n",
    "            nTeamRemain = len(teamList)\n",
    "\n",
    "        return teamNameLists\n",
    "\n",
    "\n",
    "class Team:\n",
    "    def __init__(self,name,properties):\n",
    "        self.name=name\n",
    "        self.properties=properties\n",
    "\n",
    "\n",
    "# class Game:\n",
    "#     def __init__(self,team1,team2):\n"
   ]
  },
  {
   "cell_type": "code",
   "execution_count": 4,
   "metadata": {
    "ExecuteTime": {
     "end_time": "2018-01-18T21:54:46.986915Z",
     "start_time": "2018-01-18T21:54:46.981329Z"
    },
    "collapsed": true
   },
   "outputs": [],
   "source": [
    "def compareBrackets(refBracket,newBracket,pointsByRound):\n",
    "    points=0\n",
    "    for iround in refBracket.keys():\n",
    "        points+=len(set(newBracket[iround]) & set(refBracket[iround]))*pointsByRound[iround]\n",
    "    return points"
   ]
  },
  {
   "cell_type": "code",
   "execution_count": 6,
   "metadata": {
    "ExecuteTime": {
     "end_time": "2018-01-18T21:54:48.963087Z",
     "start_time": "2018-01-18T21:54:48.957434Z"
    }
   },
   "outputs": [
    {
     "data": {
      "text/plain": [
       "0.83505154639175261"
      ]
     },
     "execution_count": 6,
     "metadata": {},
     "output_type": "execute_result"
    }
   ],
   "source": [
    "x=0.6\n",
    "logit(4*logitInv(x))"
   ]
  },
  {
   "cell_type": "code",
   "execution_count": 7,
   "metadata": {
    "ExecuteTime": {
     "end_time": "2018-01-18T21:54:49.852058Z",
     "start_time": "2018-01-18T21:54:49.732839Z"
    },
    "collapsed": true
   },
   "outputs": [],
   "source": [
    "tourney=initializeTourney(year=2017)\n",
    "# %timeit bracket=tourn.simulate(simLevel='random');"
   ]
  },
  {
   "cell_type": "code",
   "execution_count": 8,
   "metadata": {
    "ExecuteTime": {
     "end_time": "2018-01-18T21:54:52.559379Z",
     "start_time": "2018-01-18T21:54:50.485869Z"
    }
   },
   "outputs": [
    {
     "name": "stdout",
     "output_type": "stream",
     "text": [
      "2.36 ms ± 16.5 µs per loop (mean ± std. dev. of 7 runs, 100 loops each)\n"
     ]
    }
   ],
   "source": [
    "%timeit tourney.simulate(simLevel='random')"
   ]
  },
  {
   "cell_type": "code",
   "execution_count": 9,
   "metadata": {
    "ExecuteTime": {
     "end_time": "2018-01-18T21:54:58.967793Z",
     "start_time": "2018-01-18T21:54:53.493141Z"
    }
   },
   "outputs": [
    {
     "data": {
      "text/plain": [
       "['tourneys.pkl']"
      ]
     },
     "execution_count": 9,
     "metadata": {},
     "output_type": "execute_result"
    }
   ],
   "source": [
    "tourneys=[tourney.simulate(simLevel='random') for ntourney in range(2000)]\n",
    "joblib.dump(tourneys,'tourneys.pkl')"
   ]
  },
  {
   "cell_type": "code",
   "execution_count": 10,
   "metadata": {
    "ExecuteTime": {
     "end_time": "2018-01-18T22:04:57.184994Z",
     "start_time": "2018-01-18T22:04:57.090407Z"
    },
    "collapsed": true
   },
   "outputs": [],
   "source": [
    "import seaborn as sns"
   ]
  },
  {
   "cell_type": "code",
   "execution_count": 207,
   "metadata": {
    "ExecuteTime": {
     "end_time": "2018-01-19T03:04:37.605824Z",
     "start_time": "2018-01-19T03:04:37.175110Z"
    },
    "collapsed": true
   },
   "outputs": [],
   "source": [
    "def simulatePool(poolSize=15,entry=1,scaleFactor=0.1,payoutPct=[.7,.2,.1],verbose=True):\n",
    "\n",
    "    pointsByRound=dict([(i+2, 2**i) for i in np.arange(6)])\n",
    "    placement1=[]\n",
    "    placement2=[]\n",
    "    favBracket=tourney.simulate()\n",
    "    newBracket=tourney.simulate(simLevel='random',scaleFactor=scaleFactor)\n",
    "    ranks=np.zeros((poolSize+2,poolSize+2))\n",
    "    \n",
    "    \n",
    "    bracketPool=[np.random.choice(tourneys,replace=False) for rep in range(10000)]\n",
    "    \n",
    "    for rep in range(poolSize*50):\n",
    "        refBracket=np.random.choice(tourneys,replace=True)\n",
    "        poolPoints=[]\n",
    "        for poolBracket in range(poolSize):\n",
    "            bracket=np.random.choice(bracketPool)\n",
    "#             bracket=np.random.choice(tourneys,replace=True)\n",
    "            points=compareBrackets(refBracket,bracket,pointsByRound)\n",
    "            poolPoints.append(points)\n",
    "        poolPoints=np.array(poolPoints)\n",
    "        points1=compareBrackets(refBracket,favBracket,pointsByRound)\n",
    "\n",
    "        points2=compareBrackets(refBracket,newBracket,pointsByRound)\n",
    "\n",
    "        poolPoints1=np.append(poolPoints,points2)\n",
    "        poolPoints2=np.append(poolPoints,points1)\n",
    "        \n",
    "        placement1.append((poolPoints1>points1).sum())\n",
    "        placement2.append((poolPoints2>points2).sum())\n",
    "        ranks[placement1,placement2]+=1\n",
    "    placement1=np.array(placement1)\n",
    "    placement2=np.array(placement2)\n",
    "    \n",
    "    df=pd.DataFrame()\n",
    "    df['bracket1']=placement1\n",
    "    df['bracket2']=placement2\n",
    "    if verbose:\n",
    "        vals1,bins,patch=plt.hist(placement1,bins=range(max(placement1)),normed=True,stacked=True,color=[0,0,1,.5]);\n",
    "        vals2,bins,patch=plt.hist(placement2,bins=range(max(placement2)),normed=True,stacked=True,color=[1,0,0,.5]);\n",
    "        # vals1,bins,patch=plt.hist(np.array([placement1,placement2]).T,bins=range(max(placement1)),normed=False,stacked=True);\n",
    "        plt.xlabel('Placement in pool',size=18)\n",
    "        plt.ylabel('Probability ',size=18)\n",
    "        plt.legend(['Favorite bracket','Secondary bracket'],fontsize=18)\n",
    "        plt.gca().tick_params(labelsize=18)\n",
    "    else:\n",
    "        vals1,bins=np.histogram(placement1,bins=range(max(placement1)),normed=True);\n",
    "        vals2,bins=np.histogram(placement2,bins=range(max(placement2)),normed=True);\n",
    "    payout=np.zeros(poolSize)\n",
    "    payout[:len(payoutPct)]=payoutPct   \n",
    "    placePCT = len(df[(df.bracket1<3) | (df.bracket2<3)])/len(df)\n",
    "    bustPCT = 1-placePCT\n",
    "    if verbose:\n",
    "        print('Bracket 1:')\n",
    "        print('Placement odds: ',vals1[:5].cumsum())\n",
    "        print('Expected payout: ',(vals1*payout[:max(placement1)-1]*entry*poolSize).sum()    )\n",
    "        print('Bracket 2:')\n",
    "        print('Placement odds: ',vals2[:5].cumsum())\n",
    "        print('Expected payout: ',(vals2*payout[:max(placement2)-1]*entry*poolSize).sum()    )\n",
    "        print('Bust percentage: ',bustPCT)\n",
    "    \n",
    "        plt.figure()\n",
    "        sns.jointplot(x='bracket1',y='bracket2',data=df,stat_func=None,color=[1,0,0,.5])\n",
    "#     plt.xlabel(size=18)\n",
    "#     plt.ylabel(size=18)\n",
    "#     plt.imshow(ranks,origin='lower')\n",
    "#     return placement1,placement2\n",
    "#     return df\n",
    "\n",
    "    payout1 = (vals1*payout[:max(placement1)-1]*entry*poolSize).sum()\n",
    "    prob1 = vals1[:3].sum()\n",
    "    payout2 = (vals2*payout[:max(placement2)-1]*entry*poolSize).sum()\n",
    "    prob2 = vals2[:3].sum()\n",
    "\n",
    "    return(favBracket,newBracket,df,[payout1,payout2],[prob1,prob2],bustPCT)\n",
    "#     print(ranks)\n",
    "#     plt.hist(poolPoints,bins=np.arange(0,192,5));\n",
    "#     return (vals1*payout[:max(placement1)-1]*entry*poolSize).sum()   ,vals1[:3].sum()"
   ]
  },
  {
   "cell_type": "code",
   "execution_count": 208,
   "metadata": {
    "ExecuteTime": {
     "end_time": "2018-01-19T03:04:52.489512Z",
     "start_time": "2018-01-19T03:04:39.395016Z"
    }
   },
   "outputs": [
    {
     "name": "stdout",
     "output_type": "stream",
     "text": [
      "Bracket 1:\n",
      "Placement odds:  [ 0.16421896  0.33778371  0.4753004   0.60480641  0.71161549]\n",
      "Expected payout:  2.45126835781\n",
      "Bracket 2:\n",
      "Placement odds:  [ 0.07392473  0.2016129   0.33064516  0.45295699  0.55241935]\n",
      "Expected payout:  1.35282258065\n",
      "Bust percentage:  0.42400000000000004\n"
     ]
    },
    {
     "data": {
      "image/png": "[encoded data removed]",
      "text/plain": [
       "<matplotlib.figure.Figure at 0x1a23f1bc88>"
      ]
     },
     "metadata": {},
     "output_type": "display_data"
    },
    {
     "data": {
      "text/plain": [
       "<matplotlib.figure.Figure at 0x1a25e8cc18>"
      ]
     },
     "metadata": {},
     "output_type": "display_data"
    },
    {
     "data": {
      "image/png": "[encoded data removed]",
      "text/plain": [
       "<matplotlib.figure.Figure at 0x1a25e8cd68>"
      ]
     },
     "metadata": {},
     "output_type": "display_data"
    }
   ],
   "source": [
    "favBracket,newBracket,df,payout,prob,bustPCT=simulatePool(poolSize=15,scaleFactor=0.3);"
   ]
  },
  {
   "cell_type": "code",
   "execution_count": 209,
   "metadata": {
    "ExecuteTime": {
     "end_time": "2018-01-19T03:08:31.154610Z",
     "start_time": "2018-01-19T03:05:03.238812Z"
    },
    "scrolled": false
   },
   "outputs": [
    {
     "name": "stdout",
     "output_type": "stream",
     "text": [
      "5\n",
      "7\n",
      "9\n",
      "11\n",
      "13\n",
      "15\n",
      "17\n",
      "19\n",
      "21\n",
      "23\n",
      "25\n",
      "27\n",
      "29\n"
     ]
    }
   ],
   "source": [
    "x={}\n",
    "x['indx']= []\n",
    "x['pay1']= []\n",
    "x['pay2']= []\n",
    "x['prob1']= []\n",
    "x['prob2']= []\n",
    "x['bust']= []\n",
    "for i in np.arange(5,30,2):\n",
    "    print(i)\n",
    "    br1,br2,df,pay,prob,bustPCT=simulatePool(poolSize=i,scaleFactor=0.3,verbose=False);\n",
    "#     x.append([i,pay[0],pay[1],prob[0],prob[1],bustPCT])\n",
    "    x['indx'].append(i)\n",
    "    x['pay1'].append(pay[0])\n",
    "    x['pay2'].append(pay[1])\n",
    "    x['prob1'].append(prob[0])\n",
    "    x['prob2'].append(prob[1])\n",
    "    x['bust'].append(bustPCT)\n"
   ]
  },
  {
   "cell_type": "code",
   "execution_count": 220,
   "metadata": {
    "ExecuteTime": {
     "end_time": "2018-01-19T03:12:58.971489Z",
     "start_time": "2018-01-19T03:12:58.465683Z"
    },
    "scrolled": false
   },
   "outputs": [
    {
     "data": {
      "image/png": "[encoded data removed]",
      "text/plain": [
       "<matplotlib.figure.Figure at 0x1a23a9a128>"
      ]
     },
     "metadata": {},
     "output_type": "display_data"
    }
   ],
   "source": [
    "plt.subplot(1,2,1)\n",
    "plt.plot(x['indx'],x['bust'],'r')\n",
    "plt.xlabel('Pool Size',size=18)\n",
    "plt.ylabel('Bust percentage',size=18)\n",
    "plt.gca().tick_params(labelsize=18)\n",
    "plt.subplot(2,2,2)\n",
    "plt.plot(x['indx'],x['pay1'],'r')\n",
    "plt.plot(x['indx'],x['pay2'],'b')\n",
    "plt.xlabel('Pool Size',size=18)\n",
    "plt.ylabel('Expected payout per $1',size=18)\n",
    "plt.legend(['Favorite Bracket','Secondary Bracket'],fontsize=18)\n",
    "plt.gca().tick_params(labelsize=18)\n",
    "plt.subplot(2,2,4)\n",
    "plt.plot(x['indx'],x['prob1'],'r')\n",
    "plt.plot(x['indx'],x['prob2'],'b')\n",
    "plt.xlabel('Pool Size',size=18)\n",
    "plt.ylabel('Prob. of getting \\$\\$ back',size=18)\n",
    "plt.legend(['Favorite Bracket','Secondary Bracket'],fontsize=18)\n",
    "plt.gca().tick_params(labelsize=18)\n",
    "plt.tight_layout()"
   ]
  },
  {
   "cell_type": "code",
   "execution_count": 117,
   "metadata": {
    "ExecuteTime": {
     "end_time": "2018-01-18T18:31:02.830782Z",
     "start_time": "2018-01-18T18:31:02.284027Z"
    },
    "collapsed": true
   },
   "outputs": [],
   "source": [
    "pointsByRound=dict([(i+2, 2**i) for i in np.arange(6)])\n",
    "# pointsByRound\n",
    "poolSize=30\n",
    "placement=[]\n",
    "for rep in range(100):\n",
    "    refBracket=np.random.choice(tourneys)\n",
    "    poolPoints=[]\n",
    "    for poolBracket in range(poolSize):\n",
    "        bracket=np.random.choice(tourneys)\n",
    "        points=compareBrackets(refBracket,bracket,pointsByRound)\n",
    "        poolPoints.append(points)\n",
    "    \n",
    "    favBracket=tourney.simulate()\n",
    "    points=compareBrackets(refBracket,favBracket,pointsByRound)\n",
    "    placement.append((np.array(poolPoints)>points).sum())\n",
    "# plt.hist(poolPoints,bins=np.arange(0,192,5));"
   ]
  },
  {
   "cell_type": "code",
   "execution_count": 118,
   "metadata": {
    "ExecuteTime": {
     "end_time": "2018-01-18T18:31:04.037995Z",
     "start_time": "2018-01-18T18:31:03.815220Z"
    }
   },
   "outputs": [
    {
     "data": {
      "text/plain": [
       "0.29292929292929293"
      ]
     },
     "execution_count": 118,
     "metadata": {},
     "output_type": "execute_result"
    },
    {
     "data": {
      "image/png": "[encoded data removed]",
      "text/plain": [
       "<matplotlib.figure.Figure at 0x1a16d8e5f8>"
      ]
     },
     "metadata": {},
     "output_type": "display_data"
    }
   ],
   "source": [
    "vals,bins,patch=plt.hist(placement,bins=range(max(placement)),normed=True);\n",
    "vals[:3].sum()"
   ]
  },
  {
   "cell_type": "code",
   "execution_count": 245,
   "metadata": {
    "ExecuteTime": {
     "end_time": "2018-01-18T17:22:49.566209Z",
     "start_time": "2018-01-18T17:22:42.649188Z"
    }
   },
   "outputs": [
    {
     "data": {
      "text/plain": [
       "(0, 192)"
      ]
     },
     "execution_count": 245,
     "metadata": {},
     "output_type": "execute_result"
    },
    {
     "data": {
      "image/png": "[encoded data removed]",
      "text/plain": [
       "<matplotlib.figure.Figure at 0x1a1b56d9b0>"
      ]
     },
     "metadata": {},
     "output_type": "display_data"
    },
    {
     "data": {
      "image/png": "[encoded data removed]",
      "text/plain": [
       "<matplotlib.figure.Figure at 0x1a1e838f28>"
      ]
     },
     "metadata": {},
     "output_type": "display_data"
    }
   ],
   "source": [
    "pointsByRound=dict([(i+2, 2**i) for i in np.arange(6)])\n",
    "# pointsByRound\n",
    "pointList1=[]\n",
    "pointList2=[]\n",
    "favBracket=tourney.simulate()\n",
    "newBracket2=tourney.simulate(simLevel='random')\n",
    "for rep in range(500):\n",
    "    refBracket=tourney.simulate(simLevel='random')\n",
    "    points=compareBrackets(refBracket,favBracket,pointsByRound)\n",
    "    pointList1.append(points)\n",
    "\n",
    "    points=compareBrackets(refBracket,newBracket2,pointsByRound)\n",
    "    pointList2.append(points)\n",
    "\n",
    "plt.subplot(1,2,1)\n",
    "plt.hist(pointList1);\n",
    "plt.subplot(1,2,2)\n",
    "plt.hist(pointList2);\n",
    "plt.figure()\n",
    "plt.scatter(pointList1,pointList2)\n",
    "plt.xlim(0,32*6)\n",
    "plt.ylim(0,32*6)"
   ]
  },
  {
   "cell_type": "markdown",
   "metadata": {},
   "source": [
    "# Simulate tournament"
   ]
  },
  {
   "cell_type": "code",
   "execution_count": 177,
   "metadata": {
    "ExecuteTime": {
     "end_time": "2018-01-18T15:25:27.567862Z",
     "start_time": "2018-01-18T15:25:25.478970Z"
    }
   },
   "outputs": [
    {
     "name": "stdout",
     "output_type": "stream",
     "text": [
      "2.43 ms ± 38.8 µs per loop (mean ± std. dev. of 7 runs, 100 loops each)\n"
     ]
    }
   ],
   "source": [
    "tourn=initializeTourney(year=2017)\n",
    "%timeit bracket=tourn.simulate(simLevel='random');"
   ]
  },
  {
   "cell_type": "code",
   "execution_count": 179,
   "metadata": {
    "ExecuteTime": {
     "end_time": "2018-01-18T15:26:03.449951Z",
     "start_time": "2018-01-18T15:26:03.279199Z"
    },
    "collapsed": true
   },
   "outputs": [],
   "source": [
    "%lprun -f initializeTourney initializeTourney()"
   ]
  },
  {
   "cell_type": "code",
   "execution_count": 131,
   "metadata": {
    "ExecuteTime": {
     "end_time": "2018-01-18T15:14:06.749193Z",
     "start_time": "2018-01-18T15:14:06.697775Z"
    }
   },
   "outputs": [
    {
     "data": {
      "text/html": [
       "<div>\n",
       "<style>\n",
       "    .dataframe thead tr:only-child th {\n",
       "        text-align: right;\n",
       "    }\n",
       "\n",
       "    .dataframe thead th {\n",
       "        text-align: left;\n",
       "    }\n",
       "\n",
       "    .dataframe tbody tr th {\n",
       "        vertical-align: top;\n",
       "    }\n",
       "</style>\n",
       "<table border=\"1\" class=\"dataframe\">\n",
       "  <thead>\n",
       "    <tr style=\"text-align: right;\">\n",
       "      <th></th>\n",
       "      <th>3PAr</th>\n",
       "      <th>AST</th>\n",
       "      <th>AdjD</th>\n",
       "      <th>AdjEM</th>\n",
       "      <th>AdjEM.1</th>\n",
       "      <th>AdjO</th>\n",
       "      <th>AdjT</th>\n",
       "      <th>BLK</th>\n",
       "      <th>FT/FGA</th>\n",
       "      <th>FTr</th>\n",
       "      <th>Luck</th>\n",
       "      <th>NCSOS_AdjEM</th>\n",
       "      <th>OppD</th>\n",
       "      <th>OppO</th>\n",
       "      <th>TOV</th>\n",
       "      <th>TRB</th>\n",
       "      <th>TS</th>\n",
       "      <th>eFG</th>\n",
       "    </tr>\n",
       "  </thead>\n",
       "  <tbody>\n",
       "    <tr>\n",
       "      <th>0</th>\n",
       "      <td>0.009</td>\n",
       "      <td>-5.0</td>\n",
       "      <td>10.4</td>\n",
       "      <td>-18.45</td>\n",
       "      <td>-11.8</td>\n",
       "      <td>-8.0</td>\n",
       "      <td>-3.5</td>\n",
       "      <td>1.6</td>\n",
       "      <td>0.096</td>\n",
       "      <td>0.096</td>\n",
       "      <td>-0.026</td>\n",
       "      <td>-0.6</td>\n",
       "      <td>5.7</td>\n",
       "      <td>-6.1</td>\n",
       "      <td>1.5</td>\n",
       "      <td>-4.1</td>\n",
       "      <td>0.006</td>\n",
       "      <td>-0.016</td>\n",
       "    </tr>\n",
       "  </tbody>\n",
       "</table>\n",
       "</div>"
      ],
      "text/plain": [
       "    3PAr  AST  AdjD  AdjEM  AdjEM.1  AdjO  AdjT  BLK  FT/FGA    FTr   Luck  \\\n",
       "0  0.009 -5.0  10.4 -18.45    -11.8  -8.0  -3.5  1.6   0.096  0.096 -0.026   \n",
       "\n",
       "   NCSOS_AdjEM  OppD  OppO  TOV  TRB     TS    eFG  \n",
       "0         -0.6   5.7  -6.1  1.5 -4.1  0.006 -0.016  "
      ]
     },
     "execution_count": 131,
     "metadata": {},
     "output_type": "execute_result"
    }
   ],
   "source": [
    "df=pd.DataFrame(columns=features)\n",
    "df\n",
    "\n",
    "teamAName='toledo'\n",
    "teamBName='north-carolina'\n",
    "\n",
    "\n",
    "teamA=teamData[teamData.name==teamAName]\n",
    "teamB=teamData[teamData.name==teamBName]\n",
    "teamA.index=[0]\n",
    "teamB.index=[0]\n",
    "\n",
    "df[features]=teamA[features]-teamB[features]\n",
    "\n",
    "df"
   ]
  },
  {
   "cell_type": "code",
   "execution_count": 132,
   "metadata": {
    "ExecuteTime": {
     "end_time": "2018-01-18T15:14:07.668972Z",
     "start_time": "2018-01-18T15:14:07.662427Z"
    }
   },
   "outputs": [
    {
     "data": {
      "text/plain": [
       "array([[ 0.96230603,  0.03769397]])"
      ]
     },
     "execution_count": 132,
     "metadata": {},
     "output_type": "execute_result"
    }
   ],
   "source": [
    "clf.predict_proba(df)"
   ]
  },
  {
   "cell_type": "code",
   "execution_count": 134,
   "metadata": {
    "ExecuteTime": {
     "end_time": "2018-01-18T15:15:28.217649Z",
     "start_time": "2018-01-18T15:15:28.191670Z"
    }
   },
   "outputs": [
    {
     "data": {
      "text/html": [
       "<div>\n",
       "<style>\n",
       "    .dataframe thead tr:only-child th {\n",
       "        text-align: right;\n",
       "    }\n",
       "\n",
       "    .dataframe thead th {\n",
       "        text-align: left;\n",
       "    }\n",
       "\n",
       "    .dataframe tbody tr th {\n",
       "        vertical-align: top;\n",
       "    }\n",
       "</style>\n",
       "<table border=\"1\" class=\"dataframe\">\n",
       "  <thead>\n",
       "    <tr style=\"text-align: right;\">\n",
       "      <th></th>\n",
       "      <th>3PAr</th>\n",
       "      <th>AST</th>\n",
       "      <th>AdjD</th>\n",
       "      <th>AdjEM</th>\n",
       "      <th>AdjEM.1</th>\n",
       "      <th>AdjO</th>\n",
       "      <th>AdjT</th>\n",
       "      <th>BLK</th>\n",
       "      <th>FT/FGA</th>\n",
       "      <th>FTr</th>\n",
       "      <th>Luck</th>\n",
       "      <th>NCSOS_AdjEM</th>\n",
       "      <th>OppD</th>\n",
       "      <th>OppO</th>\n",
       "      <th>TOV</th>\n",
       "      <th>TRB</th>\n",
       "      <th>TS</th>\n",
       "      <th>eFG</th>\n",
       "      <th>name</th>\n",
       "      <th>fullName</th>\n",
       "    </tr>\n",
       "  </thead>\n",
       "  <tbody>\n",
       "    <tr>\n",
       "      <th>0</th>\n",
       "      <td>0.321</td>\n",
       "      <td>55.2</td>\n",
       "      <td>105.5</td>\n",
       "      <td>-1.31</td>\n",
       "      <td>-3.23</td>\n",
       "      <td>104.2</td>\n",
       "      <td>66.1</td>\n",
       "      <td>9.7</td>\n",
       "      <td>0.286</td>\n",
       "      <td>0.286</td>\n",
       "      <td>0.012</td>\n",
       "      <td>-1.55</td>\n",
       "      <td>103.7</td>\n",
       "      <td>100.5</td>\n",
       "      <td>15.6</td>\n",
       "      <td>44.5</td>\n",
       "      <td>0.531</td>\n",
       "      <td>0.483</td>\n",
       "      <td>toledo</td>\n",
       "      <td>Toledo</td>\n",
       "    </tr>\n",
       "  </tbody>\n",
       "</table>\n",
       "</div>"
      ],
      "text/plain": [
       "    3PAr   AST   AdjD  AdjEM  AdjEM.1   AdjO  AdjT  BLK  FT/FGA    FTr   Luck  \\\n",
       "0  0.321  55.2  105.5  -1.31    -3.23  104.2  66.1  9.7   0.286  0.286  0.012   \n",
       "\n",
       "   NCSOS_AdjEM   OppD   OppO   TOV   TRB     TS    eFG    name fullName  \n",
       "0        -1.55  103.7  100.5  15.6  44.5  0.531  0.483  toledo   Toledo  "
      ]
     },
     "execution_count": 134,
     "metadata": {},
     "output_type": "execute_result"
    }
   ],
   "source": [
    "teamA"
   ]
  },
  {
   "cell_type": "code",
   "execution_count": null,
   "metadata": {
    "collapsed": true
   },
   "outputs": [],
   "source": []
  }
 ],
 "metadata": {
  "kernelspec": {
   "display_name": "Python 3",
   "language": "python",
   "name": "python3"
  },
  "language_info": {
   "codemirror_mode": {
    "name": "ipython",
    "version": 3
   },
   "file_extension": ".py",
   "mimetype": "text/x-python",
   "name": "python",
   "nbconvert_exporter": "python",
   "pygments_lexer": "ipython3",
   "version": "3.6.3"
  },
  "toc": {
   "nav_menu": {},
   "number_sections": true,
   "sideBar": true,
   "skip_h1_title": false,
   "toc_cell": false,
   "toc_position": {
    "height": "1219px",
    "left": "0px",
    "right": "1431.34px",
    "top": "107px",
    "width": "212px"
   },
   "toc_section_display": "block",
   "toc_window_display": true
  }
 },
 "nbformat": 4,
 "nbformat_minor": 2
}
