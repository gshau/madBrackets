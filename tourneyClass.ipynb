{
 "cells": [
  {
   "cell_type": "code",
   "execution_count": 1,
   "metadata": {
    "collapsed": true
   },
   "outputs": [],
   "source": [
    "import numpy as np"
   ]
  },
  {
   "cell_type": "code",
   "execution_count": 17,
   "metadata": {
    "collapsed": true
   },
   "outputs": [],
   "source": [
    "class Tournament:\n",
    "    def __init__(self,teamList):\n",
    "        self.teamList = np.array(teamList)\n",
    "        self.nTeams = len(teamList)\n",
    "#         self.teamDict = \n",
    "        \n",
    "        \n",
    "    def getPairings(self,teamList):\n",
    "        pairings=[]\n",
    "        for iteam in range(len(teamList)/2):\n",
    "            pairings.append([teamList[2*iteam],teamList[2*iteam+1]])\n",
    "        return pairings\n",
    "    \n",
    "    def setModel(self,model):\n",
    "        self.model = model\n",
    "        \n",
    "    def predictGame(self,game):\n",
    "        outcome = model(game[0].properties,game[1].properties)\n",
    "        return outcome\n",
    "    \n",
    "    def simulate(self,probThr):\n",
    "        \n",
    "        teamList = self.teamList\n",
    "        nTeamRemain = len(teamList)\n",
    "        nRound = 1\n",
    "        teamLists={}\n",
    "        teamLists[nRound]=teamList\n",
    "        while nTeamRemain > 1:\n",
    "            pairs = self.getPairings(teamList)\n",
    "            teamList=[]\n",
    "            for p in pairs:\n",
    "#                 print('Pair: ',p[0].name, p[1].name,nTeamRemain)\n",
    "                prob = self.predictGame(p)\n",
    "                if prob > probThr():\n",
    "                    teamList.append(p[0])\n",
    "                else:\n",
    "                    teamList.append(p[1])\n",
    "            nRound+=1\n",
    "            teamLists[nRound]=teamList\n",
    "            nTeamRemain = len(teamList)\n",
    "                    \n",
    "        return teamLists\n",
    "        \n",
    "\n",
    "class Team:\n",
    "    def __init__(self,name,properties):\n",
    "        self.name=name\n",
    "        self.properties=properties\n",
    "        \n",
    "        \n",
    "    "
   ]
  },
  {
   "cell_type": "code",
   "execution_count": 3,
   "metadata": {
    "collapsed": true
   },
   "outputs": [],
   "source": [
    "def pythag(pf,pa):\n",
    "    exp=13.5\n",
    "    return pf**exp/(pf**exp+pa**exp)\n",
    "def model(prop1,prop2):\n",
    "    p1 = pythag(prop1['adjo'],prop1['adjd'])\n",
    "    p2 = pythag(prop2['adjo'],prop2['adjd'])\n",
    "    \n",
    "    return (p1*(1.-p2))/(p1+p2-2*p1*p2)\n",
    "    "
   ]
  },
  {
   "cell_type": "code",
   "execution_count": 19,
   "metadata": {
    "collapsed": true
   },
   "outputs": [],
   "source": [
    "teamList=[Team('t1',{'adjo': 140,'adjd': 100}), \n",
    "          Team('t4',{'adjo': 100,'adjd': 100}), \n",
    "          Team('t2',{'adjo': 120,'adjd': 100}), \n",
    "          Team('t3',{'adjo': 110,'adjd': 100})]\n",
    "\n",
    "teamList = [Team('t'+str(i), {'adjo': 100+np.random.randn()*5 - i, 'adjd': 100+np.random.randn()*5 + i}) for i in range(16)]\n",
    "\n",
    "tourney=Tournament(teamList)"
   ]
  },
  {
   "cell_type": "code",
   "execution_count": 21,
   "metadata": {},
   "outputs": [
    {
     "name": "stdout",
     "output_type": "stream",
     "text": [
      "t1\n",
      "t1\n",
      "t6\n",
      "t2\n",
      "t2\n",
      "t6\n",
      "t6\n",
      "t2\n",
      "t2\n",
      "t6\n",
      "t2\n",
      "t2\n",
      "t6\n",
      "t6\n",
      "t6\n",
      "t1\n",
      "t2\n",
      "t1\n",
      "t1\n",
      "t2\n"
     ]
    }
   ],
   "source": [
    "tourney.setModel(model)\n",
    "for rep in range(20):\n",
    "    teamLists=tourney.simulate(probThr=np.random.rand)\n",
    "    print(teamLists[5][0].name)"
   ]
  },
  {
   "cell_type": "code",
   "execution_count": 14,
   "metadata": {},
   "outputs": [
    {
     "data": {
      "text/plain": [
       "[<__main__.Team instance at 0x10303b680>]"
      ]
     },
     "execution_count": 14,
     "metadata": {},
     "output_type": "execute_result"
    }
   ],
   "source": [
    "teamLists[5]"
   ]
  },
  {
   "cell_type": "code",
   "execution_count": null,
   "metadata": {
    "collapsed": true
   },
   "outputs": [],
   "source": []
  }
 ],
 "metadata": {
  "kernelspec": {
   "display_name": "Python 3",
   "language": "python",
   "name": "python3"
  },
  "language_info": {
   "codemirror_mode": {
    "name": "ipython",
    "version": 3
   },
   "file_extension": ".py",
   "mimetype": "text/x-python",
   "name": "python",
   "nbconvert_exporter": "python",
   "pygments_lexer": "ipython3",
   "version": "3.6.3"
  }
 },
 "nbformat": 4,
 "nbformat_minor": 2
}
