{
 "cells": [
  {
   "cell_type": "markdown",
   "metadata": {},
   "source": [
    "The purpose of this notebook is to create the code needed to create the databases, etc. in one self-contained package from the output of the web-scrape\n"
   ]
  },
  {
   "cell_type": "code",
   "execution_count": null,
   "metadata": {
    "collapsed": true
   },
   "outputs": [],
   "source": [
    "import numpy as np\n",
    "import pandas as pd\n",
    "\n",
    "from sqlalchemy import create_engine\n",
    "from sqlalchemy_utils import database_exists, create_database\n"
   ]
  },
  {
   "cell_type": "code",
   "execution_count": 10,
   "metadata": {
    "ExecuteTime": {
     "end_time": "2018-01-29T18:39:50.594294Z",
     "start_time": "2018-01-29T18:39:50.559624Z"
    }
   },
   "outputs": [
    {
     "name": "stdout",
     "output_type": "stream",
     "text": [
      "postgres://gshau@localhost/ncaabb\n",
      "True\n"
     ]
    }
   ],
   "source": [
    "dbname = 'ncaabb'\n",
    "username = 'gshau' # change this to your username\n",
    "passwd = 'insecure'\n",
    "engine = create_engine('postgres://%s:%s@localhost/%s'%(username,passwd, dbname))\n",
    "print(engine.url)\n",
    "if not database_exists(engine.url):\n",
    "    create_database(engine.url)\n",
    "print(database_exists(engine.url))\n"
   ]
  },
  {
   "cell_type": "code",
   "execution_count": 11,
   "metadata": {
    "ExecuteTime": {
     "end_time": "2018-01-29T18:39:57.707126Z",
     "start_time": "2018-01-29T18:39:50.966085Z"
    }
   },
   "outputs": [
    {
     "name": "stdout",
     "output_type": "stream",
     "text": [
      "Passing  2017\n",
      "Passing  2016\n",
      "Passing  2015\n",
      "Passing  2014\n",
      "Passing  2013\n",
      "Passing  2012\n",
      "Passing  2011\n",
      "Passing  2010\n",
      "Passing  2009\n",
      "Passing  2008\n",
      "Passing  2007\n",
      "Passing  2006\n",
      "Passing  2005\n",
      "Passing  2004\n"
     ]
    }
   ],
   "source": [
    "df=pd.read_csv('data/games/tourn_games_2017.csv',index_col=0)\n",
    "for yr in np.arange(2017,2003,-1):\n",
    "    print('Passing ',yr)\n",
    "    year = str(yr)\n",
    "    df=pd.read_csv('data/combined_team_stats_'+year+'.csv',index_col=0)\n",
    "    df.columns = [d.replace('%','') for d in df.columns]    \n",
    "    df.to_sql('team_data_'+year, engine, if_exists='replace')\n",
    "    \n",
    "    df=pd.read_csv('data/team/tourn_teams_'+year+'.csv',index_col=0)\n",
    "    df.columns = [d.replace('%','') for d in df.columns]    \n",
    "    df.to_sql('tourney_team_'+year, engine, if_exists='replace')    \n",
    "    \n",
    "    df=pd.read_csv('data/games/tourn_games_'+year+'.csv',index_col=0)\n",
    "    df.columns = [d.replace('%','') for d in df.columns]    \n",
    "    df.to_sql('tourney_games_'+year, engine, if_exists='replace')        "
   ]
  },
  {
   "cell_type": "code",
   "execution_count": null,
   "metadata": {
    "collapsed": true
   },
   "outputs": [],
   "source": []
  }
 ],
 "metadata": {
  "kernelspec": {
   "display_name": "Python 3",
   "language": "python",
   "name": "python3"
  },
  "language_info": {
   "codemirror_mode": {
    "name": "ipython",
    "version": 3
   },
   "file_extension": ".py",
   "mimetype": "text/x-python",
   "name": "python",
   "nbconvert_exporter": "python",
   "pygments_lexer": "ipython3",
   "version": "3.6.3"
  },
  "toc": {
   "nav_menu": {},
   "number_sections": true,
   "sideBar": true,
   "skip_h1_title": false,
   "toc_cell": false,
   "toc_position": {},
   "toc_section_display": "block",
   "toc_window_display": false
  }
 },
 "nbformat": 4,
 "nbformat_minor": 2
}
